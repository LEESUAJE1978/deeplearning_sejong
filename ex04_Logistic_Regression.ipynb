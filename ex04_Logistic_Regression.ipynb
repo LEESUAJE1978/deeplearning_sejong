{
  "nbformat": 4,
  "nbformat_minor": 0,
  "metadata": {
    "colab": {
      "name": "ex04_Logistic Regression.ipynb",
      "provenance": [],
      "authorship_tag": "ABX9TyO4PlewaEABEbuOMUy0iuth",
      "include_colab_link": true
    },
    "kernelspec": {
      "name": "python3",
      "display_name": "Python 3"
    }
  },
  "cells": [
    {
      "cell_type": "markdown",
      "metadata": {
        "id": "view-in-github",
        "colab_type": "text"
      },
      "source": [
        "<a href=\"https://colab.research.google.com/github/LEESUAJE1978/deeplearning_sejong/blob/master/ex04_Logistic_Regression.ipynb\" target=\"_parent\"><img src=\"https://colab.research.google.com/assets/colab-badge.svg\" alt=\"Open In Colab\"/></a>"
      ]
    },
    {
      "cell_type": "code",
      "metadata": {
        "id": "AqhOwCCi2uON",
        "colab_type": "code",
        "colab": {
          "base_uri": "https://localhost:8080/",
          "height": 52
        },
        "outputId": "3e752033-fb74-4e98-b782-b28b0d72e9e3"
      },
      "source": [
        "#0. 텐서플로우 버전 선택\n",
        "try:\n",
        "    # %tensorflow_version only exists in Colab.\n",
        "    %tensorflow_version 1.x\n",
        "except Exception:\n",
        "    pass\n",
        "import tensorflow as tf\n",
        "import numpy as np\n",
        "\n",
        "print(tf.__version__)"
      ],
      "execution_count": null,
      "outputs": [
        {
          "output_type": "stream",
          "text": [
            "TensorFlow 1.x selected.\n",
            "1.15.2\n"
          ],
          "name": "stdout"
        }
      ]
    },
    {
      "cell_type": "markdown",
      "metadata": {
        "id": "fg85HfOJNAGu",
        "colab_type": "text"
      },
      "source": [
        "공지: 본 강의 예제 코드는 김성훈 교수님의 모두의 딥러닝 코드를 교수님의 허락하에 활용했음을 알려드립니다. "
      ]
    },
    {
      "cell_type": "code",
      "metadata": {
        "id": "21rv9y5X2x5x",
        "colab_type": "code",
        "colab": {}
      },
      "source": [
        "x_data = [[1,2],[2,3],[3,1],[4,3],[5,3],[6,2]]\n",
        "y_data = [[0],[0],[0],[1],[1],[1]]"
      ],
      "execution_count": null,
      "outputs": []
    },
    {
      "cell_type": "code",
      "metadata": {
        "id": "6Jel77_x3azF",
        "colab_type": "code",
        "colab": {}
      },
      "source": [
        "X = tf.placeholder(tf.float32, shape=[None, 2])\n",
        "Y = tf.placeholder(tf.float32, shape =[None,1])"
      ],
      "execution_count": null,
      "outputs": []
    },
    {
      "cell_type": "code",
      "metadata": {
        "id": "k-k3yvC63xM8",
        "colab_type": "code",
        "colab": {}
      },
      "source": [
        "W = tf.Variable(tf.random_normal([2,1]), name = 'weight')\n",
        "b = tf.Variable(tf.random_normal([1]), name = 'bias')"
      ],
      "execution_count": null,
      "outputs": []
    },
    {
      "cell_type": "code",
      "metadata": {
        "id": "0LHD6tEx3yBe",
        "colab_type": "code",
        "colab": {}
      },
      "source": [
        "hypothesis = tf.sigmoid(tf.matmul(X, W) + b)"
      ],
      "execution_count": null,
      "outputs": []
    },
    {
      "cell_type": "code",
      "metadata": {
        "id": "-MxSrigu4dLK",
        "colab_type": "code",
        "colab": {}
      },
      "source": [
        "cost = -tf.reduce_mean(Y * tf.log(hypothesis) + (1-Y) * tf.log(1 - hypothesis))"
      ],
      "execution_count": null,
      "outputs": []
    },
    {
      "cell_type": "code",
      "metadata": {
        "id": "L0-T1zpwe5QQ",
        "colab_type": "code",
        "colab": {}
      },
      "source": [
        "train = tf.train.GradientDescentOptimizer(learning_rate = 0.01).minimize(cost)"
      ],
      "execution_count": null,
      "outputs": []
    },
    {
      "cell_type": "code",
      "metadata": {
        "id": "0MjL7F_ZfEUT",
        "colab_type": "code",
        "colab": {}
      },
      "source": [
        "predicted = tf.cast(hypothesis > 0.5, dtype=tf.float32)"
      ],
      "execution_count": null,
      "outputs": []
    },
    {
      "cell_type": "code",
      "metadata": {
        "id": "1cAk01KHfPzR",
        "colab_type": "code",
        "colab": {}
      },
      "source": [
        "accuracy = tf.reduce_mean(tf.cast(tf.equal(predicted, Y), dtype = tf.float32))"
      ],
      "execution_count": null,
      "outputs": []
    },
    {
      "cell_type": "code",
      "metadata": {
        "id": "s42iSg3_gO1Z",
        "colab_type": "code",
        "colab": {
          "base_uri": "https://localhost:8080/",
          "height": 1000
        },
        "outputId": "45accfea-1e10-4505-a23e-733d5a53fc2b"
      },
      "source": [
        "with tf.Session() as sess:\n",
        "  sess.run(tf.global_variables_initializer())\n",
        "\n",
        "  for step in range(10001):\n",
        "    cost_val, _ = sess.run([cost, train], feed_dict = {X: x_data, Y: y_data})\n",
        "    if step % 200 == 0:\n",
        "      print(step, cost_val)\n",
        "      h, c, a = sess.run([hypothesis, predicted, accuracy],\n",
        "                   feed_dict = {X: x_data, Y: y_data})\n",
        "print(\"\\n Hypothesis: \", h , \"\\n Correct(Y): \",c, \"\\n Accuracy: \", a)"
      ],
      "execution_count": null,
      "outputs": [
        {
          "output_type": "stream",
          "text": [
            "0 4.883507\n",
            "200 0.50118554\n",
            "400 0.45640656\n",
            "600 0.4291931\n",
            "800 0.40945283\n",
            "1000 0.39337516\n",
            "1200 0.37935102\n",
            "1400 0.36663663\n",
            "1600 0.3548604\n",
            "1800 0.34382272\n",
            "2000 0.3334079\n",
            "2200 0.32354265\n",
            "2400 0.31417635\n",
            "2600 0.3052705\n",
            "2800 0.29679364\n",
            "3000 0.2887191\n",
            "3200 0.2810226\n",
            "3400 0.2736819\n",
            "3600 0.26667657\n",
            "3800 0.25998744\n",
            "4000 0.25359648\n",
            "4200 0.24748673\n",
            "4400 0.24164253\n",
            "4600 0.23604898\n",
            "4800 0.23069195\n",
            "5000 0.22555846\n",
            "5200 0.22063611\n",
            "5400 0.21591343\n",
            "5600 0.21137953\n",
            "5800 0.20702423\n",
            "6000 0.202838\n",
            "6200 0.19881205\n",
            "6400 0.19493783\n",
            "6600 0.19120757\n",
            "6800 0.18761384\n",
            "7000 0.18414976\n",
            "7200 0.18080886\n",
            "7400 0.17758502\n",
            "7600 0.17447247\n",
            "7800 0.17146575\n",
            "8000 0.16855998\n",
            "8200 0.16575022\n",
            "8400 0.1630321\n",
            "8600 0.16040125\n",
            "8800 0.15785381\n",
            "9000 0.1553858\n",
            "9200 0.15299393\n",
            "9400 0.15067475\n",
            "9600 0.14842501\n",
            "9800 0.14624177\n",
            "10000 0.14412226\n",
            "\n",
            " Hypothesis:  [[0.02851269]\n",
            " [0.1557137 ]\n",
            " [0.2940245 ]\n",
            " [0.7863797 ]\n",
            " [0.942681  ]\n",
            " [0.98121625]] \n",
            " Correct(Y):  [[0.]\n",
            " [0.]\n",
            " [0.]\n",
            " [1.]\n",
            " [1.]\n",
            " [1.]] \n",
            " Accuracy:  1.0\n"
          ],
          "name": "stdout"
        }
      ]
    },
    {
      "cell_type": "code",
      "metadata": {
        "id": "89j_ecR6FV9I",
        "colab_type": "code",
        "colab": {
          "base_uri": "https://localhost:8080/",
          "height": 34
        },
        "outputId": "1590b460-9b27-4586-f1b3-163af8b1a671"
      },
      "source": [
        "from google.colab import drive\n",
        "drive.mount('/content/drive')"
      ],
      "execution_count": null,
      "outputs": [
        {
          "output_type": "stream",
          "text": [
            "Drive already mounted at /content/drive; to attempt to forcibly remount, call drive.mount(\"/content/drive\", force_remount=True).\n"
          ],
          "name": "stdout"
        }
      ]
    },
    {
      "cell_type": "code",
      "metadata": {
        "id": "IS80dPK_Fec_",
        "colab_type": "code",
        "colab": {
          "base_uri": "https://localhost:8080/",
          "height": 210
        },
        "outputId": "11333f7b-9ec9-42e2-909b-652f0ca0857a"
      },
      "source": [
        "import os\n",
        "os.chdir(\"/content/drive/My Drive/Colab Notebooks\")\n",
        "%ls"
      ],
      "execution_count": null,
      "outputs": [
        {
          "output_type": "stream",
          "text": [
            " 01.linear_regression.ipynb               EDA_excercise.ipynb\n",
            " class01.ipynb                            EDA.ipynb\n",
            " class02.ipynb                            ex01_hello\n",
            " class03.ipynb                           'ex02_data type.ipynb'\n",
            " class04.ipynb                           'ex03_Linear Regression.ipynb'\n",
            " class05.ipynb                           'ex04_Logistic Regression.ipynb'\n",
            "'Copy of ex01_hello'                      statistics.ipynb\n",
            " \u001b[0m\u001b[01;34mcovid19-countries-statistical-dataset\u001b[0m/   Untitled0.ipynb\n",
            " \u001b[01;34mdata\u001b[0m/                                    Untitled1.ipynb\n",
            " data-03-diabetes.csv                     Untitled2.ipynb\n",
            " \u001b[01;34mdata1\u001b[0m/\n"
          ],
          "name": "stdout"
        }
      ]
    },
    {
      "cell_type": "code",
      "metadata": {
        "id": "tvW-MRgFgrrZ",
        "colab_type": "code",
        "colab": {}
      },
      "source": [
        "xy = np.loadtxt('data-03-diabetes.csv', delimiter = ',',dtype=np.float32)"
      ],
      "execution_count": null,
      "outputs": []
    },
    {
      "cell_type": "code",
      "metadata": {
        "id": "-sYiQViGhEey",
        "colab_type": "code",
        "colab": {}
      },
      "source": [
        "x_data = xy[:,0:-1]\n",
        "y_data = xy[:,[-1]]"
      ],
      "execution_count": null,
      "outputs": []
    },
    {
      "cell_type": "code",
      "metadata": {
        "id": "Md4SpLNHFATl",
        "colab_type": "code",
        "colab": {}
      },
      "source": [
        "X = tf.placeholder(tf.float32, shape = [None,8])\n",
        "Y = tf.placeholder(tf.float32, shape = [None,1])"
      ],
      "execution_count": null,
      "outputs": []
    },
    {
      "cell_type": "code",
      "metadata": {
        "id": "rizEomOWJQJY",
        "colab_type": "code",
        "colab": {}
      },
      "source": [
        "W = tf.Variable(tf.random_normal([8,1]), name = 'weight')\n",
        "b = tf.Variable(tf.random_normal([1]), name = 'bias')"
      ],
      "execution_count": null,
      "outputs": []
    },
    {
      "cell_type": "code",
      "metadata": {
        "id": "cJlt1sVbI1Wk",
        "colab_type": "code",
        "colab": {}
      },
      "source": [
        "hypothesis = tf.sigmoid(tf.matmul(X,W) +b)"
      ],
      "execution_count": null,
      "outputs": []
    },
    {
      "cell_type": "code",
      "metadata": {
        "id": "bokAk6W9JHOU",
        "colab_type": "code",
        "colab": {}
      },
      "source": [
        "cost = -tf.reduce_mean(Y *tf.log(hypothesis) + (1- Y) *tf.log(1 -hypothesis))\n",
        "train = tf.train.GradientDescentOptimizer(learning_rate=0.01).minimize(cost)"
      ],
      "execution_count": null,
      "outputs": []
    },
    {
      "cell_type": "code",
      "metadata": {
        "id": "3axZtJPJJMlY",
        "colab_type": "code",
        "colab": {}
      },
      "source": [
        "predicted = tf.cast(hypothesis > 0.5, dtype = tf.float32)\n",
        "accuracy = tf.reduce_mean(tf.cast(tf.equal(predicted, Y), dtype = tf.float32))"
      ],
      "execution_count": null,
      "outputs": []
    },
    {
      "cell_type": "code",
      "metadata": {
        "id": "zFleZAokJ5gV",
        "colab_type": "code",
        "colab": {}
      },
      "source": [
        "with tf.Session() as sess:\n",
        "  sess.run(tf.global_variables_initializer())\n",
        "  feed = {X: x_data, Y:y_data}\n",
        "  for step in range(10001):\n",
        "    sess.run(train, feed_dict =feed)\n",
        "    if step % 200 ==0:\n",
        "      print(step, sess.run(cost, feed_dict = feed))\n",
        "  h, c, a = sess.run([hypothesis, predicted, accuracy], feed_dict= feed)\n",
        "  print(\"\\nHypothesis: \", h, \"\\nCorrect(Y):\", c, \"\\nAccuracy: \",a )"
      ],
      "execution_count": null,
      "outputs": []
    },
    {
      "cell_type": "code",
      "metadata": {
        "id": "IZA9bu7UKR82",
        "colab_type": "code",
        "colab": {}
      },
      "source": [
        ""
      ],
      "execution_count": null,
      "outputs": []
    }
  ]
}