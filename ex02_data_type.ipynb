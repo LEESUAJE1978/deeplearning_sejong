{
  "nbformat": 4,
  "nbformat_minor": 0,
  "metadata": {
    "colab": {
      "name": "ex02_data type.ipynb",
      "provenance": [],
      "collapsed_sections": [],
      "authorship_tag": "ABX9TyO3KFBM72srh2LaVXrtWXPT",
      "include_colab_link": true
    },
    "kernelspec": {
      "name": "python3",
      "display_name": "Python 3"
    }
  },
  "cells": [
    {
      "cell_type": "markdown",
      "metadata": {
        "id": "view-in-github",
        "colab_type": "text"
      },
      "source": [
        "<a href=\"https://colab.research.google.com/github/LEESUAJE1978/deeplearning_sejong/blob/master/ex02_data_type.ipynb\" target=\"_parent\"><img src=\"https://colab.research.google.com/assets/colab-badge.svg\" alt=\"Open In Colab\"/></a>"
      ]
    },
    {
      "cell_type": "markdown",
      "metadata": {
        "id": "3WhYbRIT8W05",
        "colab_type": "text"
      },
      "source": [
        "0.텐서플로우 버전 선택"
      ]
    },
    {
      "cell_type": "code",
      "metadata": {
        "id": "2ZoxVw1TlSld",
        "colab_type": "code",
        "colab": {
          "base_uri": "https://localhost:8080/",
          "height": 52
        },
        "outputId": "47a014ad-ba00-4b10-cda8-c0fc103e1d54"
      },
      "source": [
        "#0. 텐서플로우 버전 선택\n",
        "try:\n",
        "    # %tensorflow_version only exists in Colab.\n",
        "    %tensorflow_version 1.x\n",
        "except Exception:\n",
        "    pass\n",
        "import tensorflow as tf\n",
        "import numpy as np\n",
        "\n",
        "print(tf.__version__)"
      ],
      "execution_count": 1,
      "outputs": [
        {
          "output_type": "stream",
          "text": [
            "TensorFlow 1.x selected.\n",
            "1.15.2\n"
          ],
          "name": "stdout"
        }
      ]
    },
    {
      "cell_type": "markdown",
      "metadata": {
        "id": "l4gyssQW8UoS",
        "colab_type": "text"
      },
      "source": [
        "1. 텐서플로우 구조와 자료형"
      ]
    },
    {
      "cell_type": "markdown",
      "metadata": {
        "id": "x6D7kqAh9n6l",
        "colab_type": "text"
      },
      "source": [
        "1.1. Rank & Shape"
      ]
    },
    {
      "cell_type": "code",
      "metadata": {
        "id": "1GSYNaSp8idT",
        "colab_type": "code",
        "colab": {}
      },
      "source": [
        "constant_scalar = tf.constant(1)\n",
        "constant_vector = tf.constant([1,2])\n",
        "constant_matrix = tf.constant([[1,2,3], [4,5,6]])\n",
        "constant_narray = tf.constant([[[2],[4]], [[3],[7]], [[8],[9]]])"
      ],
      "execution_count": null,
      "outputs": []
    },
    {
      "cell_type": "code",
      "metadata": {
        "id": "flg09a1H6EP3",
        "colab_type": "code",
        "colab": {
          "base_uri": "https://localhost:8080/",
          "height": 34
        },
        "outputId": "df79a9cd-75ec-4bfe-d409-b4e0e63d3bf8"
      },
      "source": [
        "print(constant_matrix)"
      ],
      "execution_count": null,
      "outputs": [
        {
          "output_type": "stream",
          "text": [
            "Tensor(\"Const_25:0\", shape=(2, 3), dtype=int32)\n"
          ],
          "name": "stdout"
        }
      ]
    },
    {
      "cell_type": "code",
      "metadata": {
        "id": "_-xPdx_b95gY",
        "colab_type": "code",
        "colab": {
          "base_uri": "https://localhost:8080/",
          "height": 34
        },
        "outputId": "0947651b-3cbc-4b3c-e7b7-138e40c9dd95"
      },
      "source": [
        "sess = tf.Session() #tf.v1에서는 Session을 실행해 주어야 함\n",
        "print(\"OPEN SESSION\")"
      ],
      "execution_count": null,
      "outputs": [
        {
          "output_type": "stream",
          "text": [
            "OPEN SESSION\n"
          ],
          "name": "stdout"
        }
      ]
    },
    {
      "cell_type": "code",
      "metadata": {
        "id": "pKjBkrFZ9p7s",
        "colab_type": "code",
        "colab": {
          "base_uri": "https://localhost:8080/",
          "height": 87
        },
        "outputId": "5610a49d-01cf-41c9-90bc-d89cdfa26ee9"
      },
      "source": [
        "print(f\"rank는: {sess.run(tf.rank(constant_scalar))}, shape은 {sess.run(tf.shape(constant_scalar))}\")\n",
        "print(f\"rank는: {sess.run(tf.rank(constant_vector))}, shape은 {sess.run(tf.shape(constant_vector))}\")\n",
        "print(f\"rank는: {sess.run(tf.rank(constant_matrix))}, shape은 {sess.run(tf.shape(constant_matrix))}\")\n",
        "print(f\"rank는: {sess.run(tf.rank(constant_narray))}, shape은 {sess.run(tf.shape(constant_narray))}\")"
      ],
      "execution_count": null,
      "outputs": [
        {
          "output_type": "stream",
          "text": [
            "rank는: 0, shape은 []\n",
            "rank는: 1, shape은 [2]\n",
            "rank는: 2, shape은 [2 3]\n",
            "rank는: 3, shape은 [3 2 1]\n"
          ],
          "name": "stdout"
        }
      ]
    },
    {
      "cell_type": "markdown",
      "metadata": {
        "id": "R2gx-R53Z6RL",
        "colab_type": "text"
      },
      "source": [
        "1.2 상수(Constant)"
      ]
    },
    {
      "cell_type": "code",
      "metadata": {
        "id": "EaAQmGLCZ-LS",
        "colab_type": "code",
        "colab": {
          "base_uri": "https://localhost:8080/",
          "height": 35
        },
        "outputId": "51508ea9-0b5a-4703-e2c0-ea0dfcb4a672"
      },
      "source": [
        "a = tf.constant([5],dtype=tf.float32)\n",
        "b = tf.constant([10],dtype=tf.float32)\n",
        "c = tf.constant([2],dtype=tf.float32)\n",
        "d = a*b+c\n",
        "\n",
        "print(d)\n",
        "\n"
      ],
      "execution_count": null,
      "outputs": [
        {
          "output_type": "stream",
          "text": [
            "Tensor(\"add_3:0\", shape=(1,), dtype=float32)\n"
          ],
          "name": "stdout"
        }
      ]
    },
    {
      "cell_type": "markdown",
      "metadata": {
        "id": "nJ8TEeLjG541",
        "colab_type": "text"
      },
      "source": [
        "1.3. 그래프(Graph)"
      ]
    },
    {
      "cell_type": "code",
      "metadata": {
        "id": "14Q33eG5G-WU",
        "colab_type": "code",
        "colab": {}
      },
      "source": [
        "matrix1 = tf.constant([[3,3]]) #1 X 2 행렬을 만드는 constant op 생성\n",
        "matrix2 = tf.constant([[2],[2]]) #2 X 1행렬을 만드는 constant op 생성\n",
        "product = tf.matmul(matrix1, matrix2) "
      ],
      "execution_count": null,
      "outputs": []
    },
    {
      "cell_type": "markdown",
      "metadata": {
        "id": "bMJlsBzlIG-e",
        "colab_type": "text"
      },
      "source": [
        "1.4. 세션(Session)"
      ]
    },
    {
      "cell_type": "code",
      "metadata": {
        "id": "ppj30baQIJ55",
        "colab_type": "code",
        "colab": {
          "base_uri": "https://localhost:8080/",
          "height": 34
        },
        "outputId": "cb00d3f3-c1a0-45fd-d4fe-420e577e19ae"
      },
      "source": [
        "sess = tf.Session() #세션 오픈\n",
        "result = sess.run(product) \n",
        "print(result) #1 X 1 행렬이 생성됨\n",
        "sess.close() #세션 클로징"
      ],
      "execution_count": null,
      "outputs": [
        {
          "output_type": "stream",
          "text": [
            "[[12]]\n"
          ],
          "name": "stdout"
        }
      ]
    },
    {
      "cell_type": "code",
      "metadata": {
        "id": "SkUSnhQvKHCp",
        "colab_type": "code",
        "colab": {
          "base_uri": "https://localhost:8080/",
          "height": 34
        },
        "outputId": "c6449b7a-9ccb-4aac-8a9a-be9879b11079"
      },
      "source": [
        "with tf.Session() as sess: #container\n",
        "  result = sess.run([product])\n",
        "  print(result)"
      ],
      "execution_count": null,
      "outputs": [
        {
          "output_type": "stream",
          "text": [
            "[array([[12]], dtype=int32)]\n"
          ],
          "name": "stdout"
        }
      ]
    },
    {
      "cell_type": "code",
      "metadata": {
        "id": "8jEdeek4XEbF",
        "colab_type": "code",
        "colab": {}
      },
      "source": [
        "sess.close()"
      ],
      "execution_count": null,
      "outputs": []
    },
    {
      "cell_type": "markdown",
      "metadata": {
        "id": "CFOn8h_XdAXf",
        "colab_type": "text"
      },
      "source": [
        "1.5. 플레이스홀더(placeholder)"
      ]
    },
    {
      "cell_type": "code",
      "metadata": {
        "id": "jl-JDewJc_pd",
        "colab_type": "code",
        "colab": {
          "base_uri": "https://localhost:8080/",
          "height": 34
        },
        "outputId": "757f117d-a06b-44cd-8af3-5756c3243311"
      },
      "source": [
        "input_data = [1,3,5,7,9]\n",
        "\n",
        "x = tf.placeholder(dtype=tf.float32)\n",
        "y = x * 2\n",
        "\n",
        "sess = tf.Session()\n",
        "result = sess.run(y,feed_dict={x:input_data})\n",
        "\n",
        "\n",
        "print(result)\n"
      ],
      "execution_count": null,
      "outputs": [
        {
          "output_type": "stream",
          "text": [
            "[ 2.  6. 10. 14. 18.]\n"
          ],
          "name": "stdout"
        }
      ]
    },
    {
      "cell_type": "markdown",
      "metadata": {
        "id": "phcQa2QoRiqf",
        "colab_type": "text"
      },
      "source": [
        "1.6. 변수(Variable)"
      ]
    },
    {
      "cell_type": "code",
      "metadata": {
        "id": "Dn1jK6d0fb8o",
        "colab_type": "code",
        "colab": {
          "base_uri": "https://localhost:8080/",
          "height": 34
        },
        "outputId": "e1865b01-9a5c-4ad7-91cd-3b7441b7b6fd"
      },
      "source": [
        "input_data = [1,3,5,7,9]\n",
        "x = tf.placeholder(dtype=tf.float32)\n",
        "W = tf.Variable([2],dtype=tf.float32)\n",
        "\n",
        "y = W*x\n",
        "\n",
        "sess = tf.Session() #세션 오픈\n",
        "init = tf.global_variables_initializer() #변수 초기화\n",
        "sess.run(init)\n",
        "\n",
        "result = sess.run(y,feed_dict={x:input_data})\n",
        "\n",
        "print(result)\n",
        "\n",
        "\n"
      ],
      "execution_count": null,
      "outputs": [
        {
          "output_type": "stream",
          "text": [
            "[ 2.  6. 10. 14. 18.]\n"
          ],
          "name": "stdout"
        }
      ]
    },
    {
      "cell_type": "code",
      "metadata": {
        "id": "5sDRMI-VQlcE",
        "colab_type": "code",
        "colab": {}
      },
      "source": [
        "state = tf.Variable(0, name = 'counter') #optional-name 설정 가능\n"
      ],
      "execution_count": null,
      "outputs": []
    },
    {
      "cell_type": "code",
      "metadata": {
        "id": "wH8SqoW78STx",
        "colab_type": "code",
        "colab": {}
      },
      "source": [
        "tf.sigmoid?"
      ],
      "execution_count": null,
      "outputs": []
    },
    {
      "cell_type": "markdown",
      "metadata": {
        "id": "n3Y2ghOjR1UY",
        "colab_type": "text"
      },
      "source": [
        "1.6.1. 변수 더하기 및 바꾸기"
      ]
    },
    {
      "cell_type": "code",
      "metadata": {
        "id": "VRpZ0CeRR7-Q",
        "colab_type": "code",
        "colab": {}
      },
      "source": [
        "one = tf.constant(1) # 상수 선언\n",
        "#new_value = tf.add(state, one) # 변수에 상수 더하기 \n",
        "new_value = tf.subtract(state, one)# 변수에 상수 빼기 \n",
        "#new_value = tf.multiply(state, one)# 변수에 상수 곱하기 \n",
        "#new_value = tf.div(state, one)# 변수에 상수 나누기 \n",
        "update = tf.assign(state, new_value) # 새로 생성된 상수로 변수 변경하기"
      ],
      "execution_count": null,
      "outputs": []
    },
    {
      "cell_type": "code",
      "metadata": {
        "id": "bbFn9d9f8zfR",
        "colab_type": "code",
        "colab": {
          "base_uri": "https://localhost:8080/",
          "height": 34
        },
        "outputId": "bec4df4a-c7ee-4423-f377-982ee8f1149a"
      },
      "source": [
        "print(update)"
      ],
      "execution_count": null,
      "outputs": [
        {
          "output_type": "stream",
          "text": [
            "Tensor(\"Assign_4:0\", shape=(), dtype=int32_ref)\n"
          ],
          "name": "stdout"
        }
      ]
    },
    {
      "cell_type": "code",
      "metadata": {
        "id": "ThHaa3DpUOoJ",
        "colab_type": "code",
        "colab": {}
      },
      "source": [
        "init_op = tf.global_variables_initializer()"
      ],
      "execution_count": null,
      "outputs": []
    },
    {
      "cell_type": "code",
      "metadata": {
        "id": "OFLe-d25TzoI",
        "colab_type": "code",
        "colab": {
          "base_uri": "https://localhost:8080/",
          "height": 69
        },
        "outputId": "4f231175-3238-43ff-a38e-d3b8eefe7ca7"
      },
      "source": [
        "with tf.Session() as sess:\n",
        "  # 'init' 작업(op)을 실행합니다.\n",
        "  # Run the 'init' op\n",
        "  sess.run(init_op)\n",
        "  # 'state'의 시작값을 출력합니다.\n",
        "  # Print the initial value of 'state'\n",
        "  print(sess.run(state)) #초기 값 출력\n",
        "  print(sess.run(new_value)) #연산 값 출력\n",
        "  print(sess.run(update)) #업데이터 값 출력"
      ],
      "execution_count": null,
      "outputs": [
        {
          "output_type": "stream",
          "text": [
            "0\n",
            "-1\n",
            "-1\n"
          ],
          "name": "stdout"
        }
      ]
    },
    {
      "cell_type": "code",
      "metadata": {
        "id": "VwIxZzmHSWAH",
        "colab_type": "code",
        "colab": {
          "base_uri": "https://localhost:8080/",
          "height": 86
        },
        "outputId": "78285778-f3f8-40f8-ea62-bb1a8e7b5dc1"
      },
      "source": [
        "with tf.Session() as sess:\n",
        "  # 'init' 작업(op)을 실행합니다.\n",
        "  # Run the 'init' op\n",
        "  sess.run(init_op)\n",
        "  # 'state'의 시작값을 출력합니다.\n",
        "  # Print the initial value of 'state'\n",
        "  print(sess.run(state))\n",
        "  # 'state'값을 업데이트하고 출력하는 작업(op)을 실행합니다.\n",
        "  for _ in range(3):\n",
        "    sess.run(update)\n",
        "    print(sess.run(state))"
      ],
      "execution_count": null,
      "outputs": [
        {
          "output_type": "stream",
          "text": [
            "0\n",
            "1\n",
            "2\n",
            "3\n"
          ],
          "name": "stdout"
        }
      ]
    },
    {
      "cell_type": "code",
      "metadata": {
        "id": "d9TI5wcAXXEo",
        "colab_type": "code",
        "colab": {}
      },
      "source": [
        "sess.close()"
      ],
      "execution_count": null,
      "outputs": []
    },
    {
      "cell_type": "markdown",
      "metadata": {
        "id": "OqgrrRrenRov",
        "colab_type": "text"
      },
      "source": [
        "1.7. Defining Tensor\n",
        "\n",
        "\n"
      ]
    },
    {
      "cell_type": "code",
      "metadata": {
        "id": "xACLhgfllnNC",
        "colab_type": "code",
        "colab": {}
      },
      "source": [
        "m1 = [[1.0, 2.0],\n",
        "      [3.0,4.0]]\n",
        "m2 = np.array([[1.0, 2.0],\n",
        "      [3.0,4.0]])\n",
        "m3 = tf.constant([[1.0, 2.0],\n",
        "      [3.0,4.0]])    "
      ],
      "execution_count": null,
      "outputs": []
    },
    {
      "cell_type": "code",
      "metadata": {
        "id": "Enmt-7gOmFQ5",
        "colab_type": "code",
        "colab": {
          "base_uri": "https://localhost:8080/",
          "height": 69
        },
        "outputId": "deab4ba9-7183-48f6-adc7-164f64e49ade"
      },
      "source": [
        "print(type(m1))\n",
        "print(type(m2))\n",
        "print(type(m3))"
      ],
      "execution_count": null,
      "outputs": [
        {
          "output_type": "stream",
          "text": [
            "<class 'list'>\n",
            "<class 'numpy.ndarray'>\n",
            "<class 'tensorflow.python.framework.ops.Tensor'>\n"
          ],
          "name": "stdout"
        }
      ]
    },
    {
      "cell_type": "code",
      "metadata": {
        "id": "fUwRALxkmnvk",
        "colab_type": "code",
        "colab": {
          "base_uri": "https://localhost:8080/",
          "height": 87
        },
        "outputId": "62ed9e0d-3718-4157-bfc5-f640ac894aea"
      },
      "source": [
        "print(m1)\n",
        "print(m2)\n",
        "print(m3)"
      ],
      "execution_count": null,
      "outputs": [
        {
          "output_type": "stream",
          "text": [
            "[[1.0, 2.0], [3.0, 4.0]]\n",
            "[[1. 2.]\n",
            " [3. 4.]]\n",
            "Tensor(\"Const_34:0\", shape=(2, 2), dtype=float32)\n"
          ],
          "name": "stdout"
        }
      ]
    },
    {
      "cell_type": "markdown",
      "metadata": {
        "id": "dFlA3jaZnVNz",
        "colab_type": "text"
      },
      "source": [
        "1.8. 텐서로 변환하기(Tensor transformation)"
      ]
    },
    {
      "cell_type": "code",
      "metadata": {
        "id": "xuwUdcAZmpzE",
        "colab_type": "code",
        "colab": {}
      },
      "source": [
        "t1 = tf.convert_to_tensor(m1, dtype=tf.float32)\n",
        "t2 = tf.convert_to_tensor(m2, dtype=tf.float32)\n",
        "t3 = tf.convert_to_tensor(m3, dtype=tf.float32)"
      ],
      "execution_count": null,
      "outputs": []
    },
    {
      "cell_type": "code",
      "metadata": {
        "id": "e2ikUoONnlhq",
        "colab_type": "code",
        "colab": {
          "base_uri": "https://localhost:8080/",
          "height": 69
        },
        "outputId": "1845c79a-3ecf-4bf2-fc07-870dfda802d1"
      },
      "source": [
        "print(type(t1))\n",
        "print(type(t2))\n",
        "print(type(t3))"
      ],
      "execution_count": null,
      "outputs": [
        {
          "output_type": "stream",
          "text": [
            "<class 'tensorflow.python.framework.ops.Tensor'>\n",
            "<class 'tensorflow.python.framework.ops.Tensor'>\n",
            "<class 'tensorflow.python.framework.ops.Tensor'>\n"
          ],
          "name": "stdout"
        }
      ]
    },
    {
      "cell_type": "markdown",
      "metadata": {
        "id": "RLs1UrYH7FPD",
        "colab_type": "text"
      },
      "source": [
        "2. 행렬(Matrix)"
      ]
    },
    {
      "cell_type": "markdown",
      "metadata": {
        "id": "fZY3W8Rl7moJ",
        "colab_type": "text"
      },
      "source": [
        "2.1. Input Node 설계  2 X 4 행렬"
      ]
    },
    {
      "cell_type": "code",
      "metadata": {
        "id": "F2jGN6Yu7EiV",
        "colab_type": "code",
        "colab": {}
      },
      "source": [
        "I = tf.placeholder(tf.float32, [2,4])\n",
        "i = [[1,2,3,4,],[5,6,7,8]]"
      ],
      "execution_count": 2,
      "outputs": []
    },
    {
      "cell_type": "markdown",
      "metadata": {
        "id": "hlTMl5kU7vU8",
        "colab_type": "text"
      },
      "source": [
        "2.2. 가중치(Weight) 설계 4 X 2행렬 "
      ]
    },
    {
      "cell_type": "code",
      "metadata": {
        "id": "vGyj4n7HtTA2",
        "colab_type": "code",
        "colab": {}
      },
      "source": [
        "W = tf.placeholder(tf.float32, [4,2])\n",
        "w = [[1,1],[2,2],[3,3],[4,4]]"
      ],
      "execution_count": 3,
      "outputs": []
    },
    {
      "cell_type": "markdown",
      "metadata": {
        "id": "dOFmlClT9UcP",
        "colab_type": "text"
      },
      "source": [
        "2.3. Output node"
      ]
    },
    {
      "cell_type": "code",
      "metadata": {
        "id": "OZDpQItJ8W-g",
        "colab_type": "code",
        "colab": {}
      },
      "source": [
        "node = tf.matmul(I, W)"
      ],
      "execution_count": 5,
      "outputs": []
    },
    {
      "cell_type": "markdown",
      "metadata": {
        "id": "BV5OYcha9hGb",
        "colab_type": "text"
      },
      "source": [
        "2.4. Session 활성화"
      ]
    },
    {
      "cell_type": "code",
      "metadata": {
        "id": "Yt3WFCCN9N_q",
        "colab_type": "code",
        "colab": {}
      },
      "source": [
        "sess = tf.Session()\n",
        "sess.run(tf.global_variables_initializer())"
      ],
      "execution_count": 8,
      "outputs": []
    },
    {
      "cell_type": "code",
      "metadata": {
        "id": "bI9QrYOe9aoC",
        "colab_type": "code",
        "colab": {
          "base_uri": "https://localhost:8080/",
          "height": 52
        },
        "outputId": "33bcbba6-d0e3-4af0-fc9a-0b49ed0860dd"
      },
      "source": [
        "print(sess.run(node, feed_dict={I:i, W:w}))"
      ],
      "execution_count": 9,
      "outputs": [
        {
          "output_type": "stream",
          "text": [
            "[[30. 30.]\n",
            " [70. 70.]]\n"
          ],
          "name": "stdout"
        }
      ]
    },
    {
      "cell_type": "markdown",
      "metadata": {
        "id": "ybXYoHjU-MFE",
        "colab_type": "text"
      },
      "source": [
        "2.5. Session close"
      ]
    },
    {
      "cell_type": "code",
      "metadata": {
        "id": "PULQfAUX9qwW",
        "colab_type": "code",
        "colab": {}
      },
      "source": [
        "sess.close()"
      ],
      "execution_count": 11,
      "outputs": []
    },
    {
      "cell_type": "code",
      "metadata": {
        "id": "OVmeUz2S-LL-",
        "colab_type": "code",
        "colab": {}
      },
      "source": [
        ""
      ],
      "execution_count": null,
      "outputs": []
    }
  ]
}