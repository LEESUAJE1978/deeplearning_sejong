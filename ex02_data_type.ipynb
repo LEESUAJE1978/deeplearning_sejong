{
  "nbformat": 4,
  "nbformat_minor": 0,
  "metadata": {
    "colab": {
      "name": "ex02_data type.ipynb",
      "provenance": [],
      "authorship_tag": "ABX9TyMki4MKkZb/zMj2l6mFtA7K",
      "include_colab_link": true
    },
    "kernelspec": {
      "name": "python3",
      "display_name": "Python 3"
    }
  },
  "cells": [
    {
      "cell_type": "markdown",
      "metadata": {
        "id": "view-in-github",
        "colab_type": "text"
      },
      "source": [
        "<a href=\"https://colab.research.google.com/github/LEESUAJE1978/deeplearning_sejong/blob/master/ex02_data_type.ipynb\" target=\"_parent\"><img src=\"https://colab.research.google.com/assets/colab-badge.svg\" alt=\"Open In Colab\"/></a>"
      ]
    },
    {
      "cell_type": "markdown",
      "metadata": {
        "id": "3WhYbRIT8W05",
        "colab_type": "text"
      },
      "source": [
        "0.텐서플로우 버전 선택"
      ]
    },
    {
      "cell_type": "code",
      "metadata": {
        "id": "2ZoxVw1TlSld",
        "colab_type": "code",
        "colab": {
          "base_uri": "https://localhost:8080/",
          "height": 52
        },
        "outputId": "e0a47d53-e8c2-49f8-d7f3-5a285be8bd49"
      },
      "source": [
        "#0. 텐서플로우 버전 선택\n",
        "try:\n",
        "    # %tensorflow_version only exists in Colab.\n",
        "    %tensorflow_version 1.x\n",
        "except Exception:\n",
        "    pass\n",
        "import tensorflow as tf\n",
        "import numpy as np\n",
        "\n",
        "print(tf.__version__)"
      ],
      "execution_count": 1,
      "outputs": [
        {
          "output_type": "stream",
          "text": [
            "TensorFlow 1.x selected.\n",
            "1.15.2\n"
          ],
          "name": "stdout"
        }
      ]
    },
    {
      "cell_type": "markdown",
      "metadata": {
        "id": "l4gyssQW8UoS",
        "colab_type": "text"
      },
      "source": [
        "1. 텐서플로우 구조와 자료형"
      ]
    },
    {
      "cell_type": "markdown",
      "metadata": {
        "id": "x6D7kqAh9n6l",
        "colab_type": "text"
      },
      "source": [
        "1.1. Rank & Shape"
      ]
    },
    {
      "cell_type": "code",
      "metadata": {
        "id": "1GSYNaSp8idT",
        "colab_type": "code",
        "colab": {}
      },
      "source": [
        "constant_scalar = tf.constant(1)\n",
        "constant_vector = tf.constant([1,2])\n",
        "constant_matrix = tf.constant([[1,2,3], [4,5,6]])\n",
        "constant_narray = tf.constant([[[2],[4]], [[3],[7]], [[8],[9]]])"
      ],
      "execution_count": 6,
      "outputs": []
    },
    {
      "cell_type": "code",
      "metadata": {
        "id": "_-xPdx_b95gY",
        "colab_type": "code",
        "colab": {
          "base_uri": "https://localhost:8080/",
          "height": 34
        },
        "outputId": "85439aa7-2b85-4933-f97d-270d39f4b31c"
      },
      "source": [
        "sess = tf.Session() #tf.v1에서는 Session을 실행해 주어야 함\n",
        "print(\"OPEN SESSION\")"
      ],
      "execution_count": 9,
      "outputs": [
        {
          "output_type": "stream",
          "text": [
            "OPEN SESSION\n"
          ],
          "name": "stdout"
        }
      ]
    },
    {
      "cell_type": "code",
      "metadata": {
        "id": "pKjBkrFZ9p7s",
        "colab_type": "code",
        "colab": {
          "base_uri": "https://localhost:8080/",
          "height": 86
        },
        "outputId": "60520557-0734-4865-bf40-c258a7683a28"
      },
      "source": [
        "print(f\"rank는: {sess.run(tf.rank(constant_scalar))}, shape은 {sess.run(tf.shape(constant_scalar))}\")\n",
        "print(f\"rank는: {sess.run(tf.rank(constant_vector))}, shape은 {sess.run(tf.shape(constant_vector))}\")\n",
        "print(f\"rank는: {sess.run(tf.rank(constant_matrix))}, shape은 {sess.run(tf.shape(constant_matrix))}\")\n",
        "print(f\"rank는: {sess.run(tf.rank(constant_narray))}, shape은 {sess.run(tf.shape(constant_narray))}\")"
      ],
      "execution_count": 30,
      "outputs": [
        {
          "output_type": "stream",
          "text": [
            "rank는: 0, shape은 []\n",
            "rank는: 1, shape은 [2]\n",
            "rank는: 2, shape은 [2 3]\n",
            "rank는: 3, shape은 [3 2 1]\n"
          ],
          "name": "stdout"
        }
      ]
    },
    {
      "cell_type": "markdown",
      "metadata": {
        "id": "R2gx-R53Z6RL",
        "colab_type": "text"
      },
      "source": [
        "1.2 상수(Constant)"
      ]
    },
    {
      "cell_type": "code",
      "metadata": {
        "id": "EaAQmGLCZ-LS",
        "colab_type": "code",
        "colab": {
          "base_uri": "https://localhost:8080/",
          "height": 34
        },
        "outputId": "9fa142d2-3ac1-4381-a59a-c5967ef45d59"
      },
      "source": [
        "a = tf.constant([5],dtype=tf.float32)\n",
        "b = tf.constant([10],dtype=tf.float32)\n",
        "c = tf.constant([2],dtype=tf.float32)\n",
        "d = a*b+c\n",
        "\n",
        "print(d)\n",
        "\n"
      ],
      "execution_count": 64,
      "outputs": [
        {
          "output_type": "stream",
          "text": [
            "Tensor(\"add_7:0\", shape=(1,), dtype=float32)\n"
          ],
          "name": "stdout"
        }
      ]
    },
    {
      "cell_type": "markdown",
      "metadata": {
        "id": "nJ8TEeLjG541",
        "colab_type": "text"
      },
      "source": [
        "1.3. 그래프(Graph)"
      ]
    },
    {
      "cell_type": "code",
      "metadata": {
        "id": "14Q33eG5G-WU",
        "colab_type": "code",
        "colab": {}
      },
      "source": [
        "matrix1 = tf.constant([[3,3]]) #1 X 2 행렬을 만드는 constant op 생성\n",
        "matrix2 = tf.constant([[2],[2]]) #2 X 1행렬을 만드는 constant op 생성\n",
        "product = tf.matmul(matrix1, matrix2) "
      ],
      "execution_count": 2,
      "outputs": []
    },
    {
      "cell_type": "markdown",
      "metadata": {
        "id": "bMJlsBzlIG-e",
        "colab_type": "text"
      },
      "source": [
        "1.4. 세션(Session)"
      ]
    },
    {
      "cell_type": "code",
      "metadata": {
        "id": "ppj30baQIJ55",
        "colab_type": "code",
        "colab": {
          "base_uri": "https://localhost:8080/",
          "height": 34
        },
        "outputId": "f50e80cb-ca62-4745-ec8d-e305e6b51eff"
      },
      "source": [
        "sess = tf.Session() #세션 오픈\n",
        "result = sess.run(product) \n",
        "print(result) #1 X 1 행렬이 생성됨\n",
        "sess.close() #세션 클로징"
      ],
      "execution_count": 3,
      "outputs": [
        {
          "output_type": "stream",
          "text": [
            "[[12]]\n"
          ],
          "name": "stdout"
        }
      ]
    },
    {
      "cell_type": "code",
      "metadata": {
        "id": "SkUSnhQvKHCp",
        "colab_type": "code",
        "colab": {
          "base_uri": "https://localhost:8080/",
          "height": 34
        },
        "outputId": "26efedbb-ba12-4e66-9d72-9f2aa6f8e182"
      },
      "source": [
        "with tf.Session() as sess:\n",
        "  result = sess.run([product])\n",
        "  print(result)"
      ],
      "execution_count": 40,
      "outputs": [
        {
          "output_type": "stream",
          "text": [
            "[array([[12]], dtype=int32)]\n"
          ],
          "name": "stdout"
        }
      ]
    },
    {
      "cell_type": "code",
      "metadata": {
        "id": "8jEdeek4XEbF",
        "colab_type": "code",
        "colab": {}
      },
      "source": [
        "sess.close()"
      ],
      "execution_count": 65,
      "outputs": []
    },
    {
      "cell_type": "markdown",
      "metadata": {
        "id": "CFOn8h_XdAXf",
        "colab_type": "text"
      },
      "source": [
        "1.5. 플레이스홀더(placeholder)"
      ]
    },
    {
      "cell_type": "code",
      "metadata": {
        "id": "jl-JDewJc_pd",
        "colab_type": "code",
        "colab": {
          "base_uri": "https://localhost:8080/",
          "height": 34
        },
        "outputId": "22a41632-0e99-4ce9-ef12-05d86af325a7"
      },
      "source": [
        "input_data = [1,3,5,7,9]\n",
        "\n",
        "x = tf.placeholder(dtype=tf.float32)\n",
        "y = x * 2\n",
        "\n",
        "sess = tf.Session()\n",
        "result = sess.run(y,feed_dict={x:input_data})\n",
        "\n",
        "\n",
        "print(result)\n"
      ],
      "execution_count": 68,
      "outputs": [
        {
          "output_type": "stream",
          "text": [
            "[ 2.  6. 10. 14. 18.]\n"
          ],
          "name": "stdout"
        }
      ]
    },
    {
      "cell_type": "markdown",
      "metadata": {
        "id": "phcQa2QoRiqf",
        "colab_type": "text"
      },
      "source": [
        "1.6. 변수(Variable)"
      ]
    },
    {
      "cell_type": "code",
      "metadata": {
        "id": "Dn1jK6d0fb8o",
        "colab_type": "code",
        "colab": {
          "base_uri": "https://localhost:8080/",
          "height": 34
        },
        "outputId": "59019440-d26d-43ac-dd86-b32253e20696"
      },
      "source": [
        "input_data = [1,3,5,7,9]\n",
        "x = tf.placeholder(dtype=tf.float32)\n",
        "W = tf.Variable([2],dtype=tf.float32)\n",
        "\n",
        "y = W*x\n",
        "\n",
        "sess = tf.Session() #세션 오픈\n",
        "init = tf.global_variables_initializer() #변수 초기화\n",
        "sess.run(init)\n",
        "\n",
        "result = sess.run(y,feed_dict={x:input_data})\n",
        "\n",
        "print(result)\n",
        "\n",
        "\n"
      ],
      "execution_count": 69,
      "outputs": [
        {
          "output_type": "stream",
          "text": [
            "[ 2.  6. 10. 14. 18.]\n"
          ],
          "name": "stdout"
        }
      ]
    },
    {
      "cell_type": "code",
      "metadata": {
        "id": "5sDRMI-VQlcE",
        "colab_type": "code",
        "colab": {}
      },
      "source": [
        "state = tf.Variable(0, name = 'counter') #optional-name 설정 가능"
      ],
      "execution_count": 58,
      "outputs": []
    },
    {
      "cell_type": "markdown",
      "metadata": {
        "id": "n3Y2ghOjR1UY",
        "colab_type": "text"
      },
      "source": [
        "1.6.1. 변수 더하기 및 바꾸기"
      ]
    },
    {
      "cell_type": "code",
      "metadata": {
        "id": "VRpZ0CeRR7-Q",
        "colab_type": "code",
        "colab": {}
      },
      "source": [
        "one = tf.constant(1) # 상수 선언\n",
        "new_value = tf.add(state, one) # 변수에 상수 더하기 \n",
        "#new_value = tf.subtract(state, one)# 변수에 상수 빼기 \n",
        "#new_value = tf.multiply(state, one)# 변수에 상수 곱하기 \n",
        "#new_value = tf.div(state, one)# 변수에 상수 나누기 \n",
        "update = tf.assign(state, new_value) # 새로 생성된 상수로 변수 변경하기"
      ],
      "execution_count": 59,
      "outputs": []
    },
    {
      "cell_type": "code",
      "metadata": {
        "id": "ThHaa3DpUOoJ",
        "colab_type": "code",
        "colab": {}
      },
      "source": [
        "init_op = tf.global_variables_initializer()"
      ],
      "execution_count": 60,
      "outputs": []
    },
    {
      "cell_type": "code",
      "metadata": {
        "id": "OFLe-d25TzoI",
        "colab_type": "code",
        "colab": {
          "base_uri": "https://localhost:8080/",
          "height": 69
        },
        "outputId": "d97a9ebc-72b7-4ee7-e68c-40d144f2269e"
      },
      "source": [
        "with tf.Session() as sess:\n",
        "  # 'init' 작업(op)을 실행합니다.\n",
        "  # Run the 'init' op\n",
        "  sess.run(init_op)\n",
        "  # 'state'의 시작값을 출력합니다.\n",
        "  # Print the initial value of 'state'\n",
        "  print(sess.run(state)) #초기 값 출력\n",
        "  print(sess.run(new_value)) #연산 값 출력\n",
        "  print(sess.run(update)) #업데이터 값 출력"
      ],
      "execution_count": 55,
      "outputs": [
        {
          "output_type": "stream",
          "text": [
            "0\n",
            "1\n",
            "1\n"
          ],
          "name": "stdout"
        }
      ]
    },
    {
      "cell_type": "code",
      "metadata": {
        "id": "VwIxZzmHSWAH",
        "colab_type": "code",
        "colab": {
          "base_uri": "https://localhost:8080/",
          "height": 86
        },
        "outputId": "78285778-f3f8-40f8-ea62-bb1a8e7b5dc1"
      },
      "source": [
        "with tf.Session() as sess:\n",
        "  # 'init' 작업(op)을 실행합니다.\n",
        "  # Run the 'init' op\n",
        "  sess.run(init_op)\n",
        "  # 'state'의 시작값을 출력합니다.\n",
        "  # Print the initial value of 'state'\n",
        "  print(sess.run(state))\n",
        "  # 'state'값을 업데이트하고 출력하는 작업(op)을 실행합니다.\n",
        "  for _ in range(3):\n",
        "    sess.run(update)\n",
        "    print(sess.run(state))"
      ],
      "execution_count": 63,
      "outputs": [
        {
          "output_type": "stream",
          "text": [
            "0\n",
            "1\n",
            "2\n",
            "3\n"
          ],
          "name": "stdout"
        }
      ]
    },
    {
      "cell_type": "code",
      "metadata": {
        "id": "d9TI5wcAXXEo",
        "colab_type": "code",
        "colab": {}
      },
      "source": [
        "sess.close()"
      ],
      "execution_count": 57,
      "outputs": []
    },
    {
      "cell_type": "markdown",
      "metadata": {
        "id": "1p2fjKR_RF3S",
        "colab_type": "text"
      },
      "source": [
        " "
      ]
    },
    {
      "cell_type": "markdown",
      "metadata": {
        "id": "OqgrrRrenRov",
        "colab_type": "text"
      },
      "source": [
        "Defining Tensor"
      ]
    },
    {
      "cell_type": "code",
      "metadata": {
        "id": "xACLhgfllnNC",
        "colab_type": "code",
        "colab": {}
      },
      "source": [
        "m1 = [[1.0, 2.0],\n",
        "      [3.0,4.0]]\n",
        "m2 = np.array([[1.0, 2.0],\n",
        "      [3.0,4.0]])\n",
        "m3 = tf.constant([[1.0, 2.0],\n",
        "      [3.0,4.0]])    "
      ],
      "execution_count": null,
      "outputs": []
    },
    {
      "cell_type": "code",
      "metadata": {
        "id": "Enmt-7gOmFQ5",
        "colab_type": "code",
        "colab": {
          "base_uri": "https://localhost:8080/",
          "height": 73
        },
        "outputId": "52ecf43e-a514-4cf8-d87d-20eadf7ddf01"
      },
      "source": [
        "print(type(m1))\n",
        "print(type(m2))\n",
        "print(type(m3))"
      ],
      "execution_count": null,
      "outputs": [
        {
          "output_type": "stream",
          "text": [
            "<class 'list'>\n",
            "<class 'numpy.ndarray'>\n",
            "<class 'tensorflow.python.framework.ops.Tensor'>\n"
          ],
          "name": "stdout"
        }
      ]
    },
    {
      "cell_type": "code",
      "metadata": {
        "id": "fUwRALxkmnvk",
        "colab_type": "code",
        "colab": {
          "base_uri": "https://localhost:8080/",
          "height": 91
        },
        "outputId": "4bcdfe45-1622-4c15-ce9d-7554fcd77f81"
      },
      "source": [
        "print(m1)\n",
        "print(m2)\n",
        "print(m3)"
      ],
      "execution_count": null,
      "outputs": [
        {
          "output_type": "stream",
          "text": [
            "[[1.0, 2.0], [3.0, 4.0]]\n",
            "[[1. 2.]\n",
            " [3. 4.]]\n",
            "Tensor(\"Const:0\", shape=(2, 2), dtype=float32)\n"
          ],
          "name": "stdout"
        }
      ]
    },
    {
      "cell_type": "markdown",
      "metadata": {
        "id": "dFlA3jaZnVNz",
        "colab_type": "text"
      },
      "source": [
        "텐서로 변환하기(Tensor transformation)"
      ]
    },
    {
      "cell_type": "code",
      "metadata": {
        "id": "xuwUdcAZmpzE",
        "colab_type": "code",
        "colab": {}
      },
      "source": [
        "t1 = tf.convert_to_tensor(m1, dtype=tf.float32)\n",
        "t2 = tf.convert_to_tensor(m2, dtype=tf.float32)\n",
        "t3 = tf.convert_to_tensor(m3, dtype=tf.float32)"
      ],
      "execution_count": null,
      "outputs": []
    },
    {
      "cell_type": "code",
      "metadata": {
        "id": "e2ikUoONnlhq",
        "colab_type": "code",
        "colab": {
          "base_uri": "https://localhost:8080/",
          "height": 73
        },
        "outputId": "97f0aa42-7fa2-40c0-a8ac-02a6f04a3f55"
      },
      "source": [
        "print(type(t1))\n",
        "print(type(t2))\n",
        "print(type(t3))"
      ],
      "execution_count": null,
      "outputs": [
        {
          "output_type": "stream",
          "text": [
            "<class 'tensorflow.python.framework.ops.Tensor'>\n",
            "<class 'tensorflow.python.framework.ops.Tensor'>\n",
            "<class 'tensorflow.python.framework.ops.Tensor'>\n"
          ],
          "name": "stdout"
        }
      ]
    },
    {
      "cell_type": "code",
      "metadata": {
        "id": "ecaGYTRBnpxH",
        "colab_type": "code",
        "colab": {
          "base_uri": "https://localhost:8080/",
          "height": 73
        },
        "outputId": "6dcbca50-d42f-46ba-8dc4-50fe1a50bc2e"
      },
      "source": [
        "print(t1)\n",
        "print(t2)\n",
        "print(t3)"
      ],
      "execution_count": null,
      "outputs": [
        {
          "output_type": "stream",
          "text": [
            "Tensor(\"Const_1:0\", shape=(2, 2), dtype=float32)\n",
            "Tensor(\"Const_2:0\", shape=(2, 2), dtype=float32)\n",
            "Tensor(\"Const:0\", shape=(2, 2), dtype=float32)\n"
          ],
          "name": "stdout"
        }
      ]
    },
    {
      "cell_type": "code",
      "metadata": {
        "id": "yyYxmgzfnuYI",
        "colab_type": "code",
        "colab": {
          "base_uri": "https://localhost:8080/",
          "height": 36
        },
        "outputId": "7d3699e8-baf2-4e5e-f539-78b93250d1a0"
      },
      "source": [
        "sess = tf.Session()\n",
        "print(\"OPEN SESSION\")"
      ],
      "execution_count": null,
      "outputs": [
        {
          "output_type": "stream",
          "text": [
            "OPEN SESSION\n"
          ],
          "name": "stdout"
        }
      ]
    },
    {
      "cell_type": "code",
      "metadata": {
        "id": "nKq5YHUAoAtr",
        "colab_type": "code",
        "colab": {}
      },
      "source": [
        "def print_tf(x):\n",
        "  print(\"Type IS\\n %s\" % (type(x)))\n",
        "  print(\"VALUE IS \\n %s\" % (x))"
      ],
      "execution_count": null,
      "outputs": []
    },
    {
      "cell_type": "markdown",
      "metadata": {
        "id": "tJOSTsQ_oWYY",
        "colab_type": "text"
      },
      "source": [
        "Constant"
      ]
    },
    {
      "cell_type": "code",
      "metadata": {
        "id": "VrfiwtInoQ1n",
        "colab_type": "code",
        "colab": {
          "base_uri": "https://localhost:8080/",
          "height": 110
        },
        "outputId": "154843a8-8ecb-45d5-bb2e-d653ef2f6d8f"
      },
      "source": [
        "hello = tf.constant(\"Hello World!\")\n",
        "print(hello)\n",
        "print_tf(hello)"
      ],
      "execution_count": null,
      "outputs": [
        {
          "output_type": "stream",
          "text": [
            "Tensor(\"Const_5:0\", shape=(), dtype=string)\n",
            "Type IS\n",
            " <class 'tensorflow.python.framework.ops.Tensor'>\n",
            "VALUE IS \n",
            " Tensor(\"Const_5:0\", shape=(), dtype=string)\n"
          ],
          "name": "stdout"
        }
      ]
    },
    {
      "cell_type": "code",
      "metadata": {
        "id": "UaWFw3_gobl6",
        "colab_type": "code",
        "colab": {
          "base_uri": "https://localhost:8080/",
          "height": 54
        },
        "outputId": "982833e3-e66c-41fa-a0f9-5b84d0839c32"
      },
      "source": [
        "print(sess.run(hello))\n",
        "sess.run(hello)"
      ],
      "execution_count": null,
      "outputs": [
        {
          "output_type": "stream",
          "text": [
            "b'Hello World!'\n"
          ],
          "name": "stdout"
        },
        {
          "output_type": "execute_result",
          "data": {
            "text/plain": [
              "b'Hello World!'"
            ]
          },
          "metadata": {
            "tags": []
          },
          "execution_count": 25
        }
      ]
    },
    {
      "cell_type": "code",
      "metadata": {
        "id": "_aGq30dro6c1",
        "colab_type": "code",
        "colab": {
          "base_uri": "https://localhost:8080/",
          "height": 91
        },
        "outputId": "4dcf43d8-0a45-4085-9bdb-fe16c2c73403"
      },
      "source": [
        "print_tf(sess.run(hello))"
      ],
      "execution_count": null,
      "outputs": [
        {
          "output_type": "stream",
          "text": [
            "Type IS\n",
            " <class 'bytes'>\n",
            "VALUE IS \n",
            " b'Hello World!'\n"
          ],
          "name": "stdout"
        }
      ]
    },
    {
      "cell_type": "code",
      "metadata": {
        "id": "xBj16gg6pH_Q",
        "colab_type": "code",
        "colab": {}
      },
      "source": [
        "a = tf.constant(1.5)\n",
        "b = tf.constant(2.5)"
      ],
      "execution_count": null,
      "outputs": []
    },
    {
      "cell_type": "code",
      "metadata": {
        "id": "7KcPaasBpWsX",
        "colab_type": "code",
        "colab": {
          "base_uri": "https://localhost:8080/",
          "height": 110
        },
        "outputId": "145499c1-5680-4faf-9094-3efff3579e78"
      },
      "source": [
        "print(a)\n",
        "print_tf(b)"
      ],
      "execution_count": null,
      "outputs": [
        {
          "output_type": "stream",
          "text": [
            "Tensor(\"Const_6:0\", shape=(), dtype=float32)\n",
            "Type IS\n",
            " <class 'tensorflow.python.framework.ops.Tensor'>\n",
            "VALUE IS \n",
            " Tensor(\"Const_7:0\", shape=(), dtype=float32)\n"
          ],
          "name": "stdout"
        }
      ]
    },
    {
      "cell_type": "code",
      "metadata": {
        "id": "umhuEeWLpZgW",
        "colab_type": "code",
        "colab": {
          "base_uri": "https://localhost:8080/",
          "height": 166
        },
        "outputId": "0c566888-0179-4a88-cafc-6ae2be1effe8"
      },
      "source": [
        "print_tf(sess.run(a))\n",
        "print_tf(sess.run(b))"
      ],
      "execution_count": null,
      "outputs": [
        {
          "output_type": "stream",
          "text": [
            "Type IS\n",
            " <class 'numpy.float32'>\n",
            "VALUE IS \n",
            " 1.5\n",
            "Type IS\n",
            " <class 'numpy.float32'>\n",
            "VALUE IS \n",
            " 2.5\n"
          ],
          "name": "stdout"
        }
      ]
    },
    {
      "cell_type": "markdown",
      "metadata": {
        "id": "nhAF1Zd7qP1S",
        "colab_type": "text"
      },
      "source": [
        "Variable"
      ]
    },
    {
      "cell_type": "code",
      "metadata": {
        "id": "0pbsd_c2p5F-",
        "colab_type": "code",
        "colab": {
          "base_uri": "https://localhost:8080/",
          "height": 91
        },
        "outputId": "902b9edc-bd23-4c21-c8ff-8799fb07d89d"
      },
      "source": [
        "weight1 = tf.Variable(tf.random_normal([5,2], stddev=0.1))\n",
        "print_tf(weight1)"
      ],
      "execution_count": null,
      "outputs": [
        {
          "output_type": "stream",
          "text": [
            "Type IS\n",
            " <class 'tensorflow.python.ops.variables.RefVariable'>\n",
            "VALUE IS \n",
            " <tf.Variable 'Variable_2:0' shape=(5, 2) dtype=float32_ref>\n"
          ],
          "name": "stdout"
        }
      ]
    },
    {
      "cell_type": "code",
      "metadata": {
        "id": "nHSQR_OLr4hx",
        "colab_type": "code",
        "colab": {
          "base_uri": "https://localhost:8080/",
          "height": 533
        },
        "outputId": "3f9f5081-1c1e-4adf-d12a-5677aa1f9f68"
      },
      "source": [
        "print(sess.run(weight1))"
      ],
      "execution_count": null,
      "outputs": [
        {
          "output_type": "error",
          "ename": "FailedPreconditionError",
          "evalue": "ignored",
          "traceback": [
            "\u001b[0;31m---------------------------------------------------------------------------\u001b[0m",
            "\u001b[0;31mFailedPreconditionError\u001b[0m                   Traceback (most recent call last)",
            "\u001b[0;32m/tensorflow-1.15.2/python3.6/tensorflow_core/python/client/session.py\u001b[0m in \u001b[0;36m_do_call\u001b[0;34m(self, fn, *args)\u001b[0m\n\u001b[1;32m   1364\u001b[0m     \u001b[0;32mtry\u001b[0m\u001b[0;34m:\u001b[0m\u001b[0;34m\u001b[0m\u001b[0;34m\u001b[0m\u001b[0m\n\u001b[0;32m-> 1365\u001b[0;31m       \u001b[0;32mreturn\u001b[0m \u001b[0mfn\u001b[0m\u001b[0;34m(\u001b[0m\u001b[0;34m*\u001b[0m\u001b[0margs\u001b[0m\u001b[0;34m)\u001b[0m\u001b[0;34m\u001b[0m\u001b[0;34m\u001b[0m\u001b[0m\n\u001b[0m\u001b[1;32m   1366\u001b[0m     \u001b[0;32mexcept\u001b[0m \u001b[0merrors\u001b[0m\u001b[0;34m.\u001b[0m\u001b[0mOpError\u001b[0m \u001b[0;32mas\u001b[0m \u001b[0me\u001b[0m\u001b[0;34m:\u001b[0m\u001b[0;34m\u001b[0m\u001b[0;34m\u001b[0m\u001b[0m\n",
            "\u001b[0;32m/tensorflow-1.15.2/python3.6/tensorflow_core/python/client/session.py\u001b[0m in \u001b[0;36m_run_fn\u001b[0;34m(feed_dict, fetch_list, target_list, options, run_metadata)\u001b[0m\n\u001b[1;32m   1349\u001b[0m       return self._call_tf_sessionrun(options, feed_dict, fetch_list,\n\u001b[0;32m-> 1350\u001b[0;31m                                       target_list, run_metadata)\n\u001b[0m\u001b[1;32m   1351\u001b[0m \u001b[0;34m\u001b[0m\u001b[0m\n",
            "\u001b[0;32m/tensorflow-1.15.2/python3.6/tensorflow_core/python/client/session.py\u001b[0m in \u001b[0;36m_call_tf_sessionrun\u001b[0;34m(self, options, feed_dict, fetch_list, target_list, run_metadata)\u001b[0m\n\u001b[1;32m   1442\u001b[0m                                             \u001b[0mfetch_list\u001b[0m\u001b[0;34m,\u001b[0m \u001b[0mtarget_list\u001b[0m\u001b[0;34m,\u001b[0m\u001b[0;34m\u001b[0m\u001b[0;34m\u001b[0m\u001b[0m\n\u001b[0;32m-> 1443\u001b[0;31m                                             run_metadata)\n\u001b[0m\u001b[1;32m   1444\u001b[0m \u001b[0;34m\u001b[0m\u001b[0m\n",
            "\u001b[0;31mFailedPreconditionError\u001b[0m: Attempting to use uninitialized value Variable_2\n\t [[{{node _retval_Variable_2_0_0}}]]",
            "\nDuring handling of the above exception, another exception occurred:\n",
            "\u001b[0;31mFailedPreconditionError\u001b[0m                   Traceback (most recent call last)",
            "\u001b[0;32m<ipython-input-45-d5c1f80f8cc2>\u001b[0m in \u001b[0;36m<module>\u001b[0;34m()\u001b[0m\n\u001b[0;32m----> 1\u001b[0;31m \u001b[0mprint\u001b[0m\u001b[0;34m(\u001b[0m\u001b[0msess\u001b[0m\u001b[0;34m.\u001b[0m\u001b[0mrun\u001b[0m\u001b[0;34m(\u001b[0m\u001b[0mweight\u001b[0m\u001b[0;34m)\u001b[0m\u001b[0;34m)\u001b[0m\u001b[0;34m\u001b[0m\u001b[0;34m\u001b[0m\u001b[0m\n\u001b[0m",
            "\u001b[0;32m/tensorflow-1.15.2/python3.6/tensorflow_core/python/client/session.py\u001b[0m in \u001b[0;36mrun\u001b[0;34m(self, fetches, feed_dict, options, run_metadata)\u001b[0m\n\u001b[1;32m    954\u001b[0m     \u001b[0;32mtry\u001b[0m\u001b[0;34m:\u001b[0m\u001b[0;34m\u001b[0m\u001b[0;34m\u001b[0m\u001b[0m\n\u001b[1;32m    955\u001b[0m       result = self._run(None, fetches, feed_dict, options_ptr,\n\u001b[0;32m--> 956\u001b[0;31m                          run_metadata_ptr)\n\u001b[0m\u001b[1;32m    957\u001b[0m       \u001b[0;32mif\u001b[0m \u001b[0mrun_metadata\u001b[0m\u001b[0;34m:\u001b[0m\u001b[0;34m\u001b[0m\u001b[0;34m\u001b[0m\u001b[0m\n\u001b[1;32m    958\u001b[0m         \u001b[0mproto_data\u001b[0m \u001b[0;34m=\u001b[0m \u001b[0mtf_session\u001b[0m\u001b[0;34m.\u001b[0m\u001b[0mTF_GetBuffer\u001b[0m\u001b[0;34m(\u001b[0m\u001b[0mrun_metadata_ptr\u001b[0m\u001b[0;34m)\u001b[0m\u001b[0;34m\u001b[0m\u001b[0;34m\u001b[0m\u001b[0m\n",
            "\u001b[0;32m/tensorflow-1.15.2/python3.6/tensorflow_core/python/client/session.py\u001b[0m in \u001b[0;36m_run\u001b[0;34m(self, handle, fetches, feed_dict, options, run_metadata)\u001b[0m\n\u001b[1;32m   1178\u001b[0m     \u001b[0;32mif\u001b[0m \u001b[0mfinal_fetches\u001b[0m \u001b[0;32mor\u001b[0m \u001b[0mfinal_targets\u001b[0m \u001b[0;32mor\u001b[0m \u001b[0;34m(\u001b[0m\u001b[0mhandle\u001b[0m \u001b[0;32mand\u001b[0m \u001b[0mfeed_dict_tensor\u001b[0m\u001b[0;34m)\u001b[0m\u001b[0;34m:\u001b[0m\u001b[0;34m\u001b[0m\u001b[0;34m\u001b[0m\u001b[0m\n\u001b[1;32m   1179\u001b[0m       results = self._do_run(handle, final_targets, final_fetches,\n\u001b[0;32m-> 1180\u001b[0;31m                              feed_dict_tensor, options, run_metadata)\n\u001b[0m\u001b[1;32m   1181\u001b[0m     \u001b[0;32melse\u001b[0m\u001b[0;34m:\u001b[0m\u001b[0;34m\u001b[0m\u001b[0;34m\u001b[0m\u001b[0m\n\u001b[1;32m   1182\u001b[0m       \u001b[0mresults\u001b[0m \u001b[0;34m=\u001b[0m \u001b[0;34m[\u001b[0m\u001b[0;34m]\u001b[0m\u001b[0;34m\u001b[0m\u001b[0;34m\u001b[0m\u001b[0m\n",
            "\u001b[0;32m/tensorflow-1.15.2/python3.6/tensorflow_core/python/client/session.py\u001b[0m in \u001b[0;36m_do_run\u001b[0;34m(self, handle, target_list, fetch_list, feed_dict, options, run_metadata)\u001b[0m\n\u001b[1;32m   1357\u001b[0m     \u001b[0;32mif\u001b[0m \u001b[0mhandle\u001b[0m \u001b[0;32mis\u001b[0m \u001b[0;32mNone\u001b[0m\u001b[0;34m:\u001b[0m\u001b[0;34m\u001b[0m\u001b[0;34m\u001b[0m\u001b[0m\n\u001b[1;32m   1358\u001b[0m       return self._do_call(_run_fn, feeds, fetches, targets, options,\n\u001b[0;32m-> 1359\u001b[0;31m                            run_metadata)\n\u001b[0m\u001b[1;32m   1360\u001b[0m     \u001b[0;32melse\u001b[0m\u001b[0;34m:\u001b[0m\u001b[0;34m\u001b[0m\u001b[0;34m\u001b[0m\u001b[0m\n\u001b[1;32m   1361\u001b[0m       \u001b[0;32mreturn\u001b[0m \u001b[0mself\u001b[0m\u001b[0;34m.\u001b[0m\u001b[0m_do_call\u001b[0m\u001b[0;34m(\u001b[0m\u001b[0m_prun_fn\u001b[0m\u001b[0;34m,\u001b[0m \u001b[0mhandle\u001b[0m\u001b[0;34m,\u001b[0m \u001b[0mfeeds\u001b[0m\u001b[0;34m,\u001b[0m \u001b[0mfetches\u001b[0m\u001b[0;34m)\u001b[0m\u001b[0;34m\u001b[0m\u001b[0;34m\u001b[0m\u001b[0m\n",
            "\u001b[0;32m/tensorflow-1.15.2/python3.6/tensorflow_core/python/client/session.py\u001b[0m in \u001b[0;36m_do_call\u001b[0;34m(self, fn, *args)\u001b[0m\n\u001b[1;32m   1382\u001b[0m                     \u001b[0;34m'\\nsession_config.graph_options.rewrite_options.'\u001b[0m\u001b[0;34m\u001b[0m\u001b[0;34m\u001b[0m\u001b[0m\n\u001b[1;32m   1383\u001b[0m                     'disable_meta_optimizer = True')\n\u001b[0;32m-> 1384\u001b[0;31m       \u001b[0;32mraise\u001b[0m \u001b[0mtype\u001b[0m\u001b[0;34m(\u001b[0m\u001b[0me\u001b[0m\u001b[0;34m)\u001b[0m\u001b[0;34m(\u001b[0m\u001b[0mnode_def\u001b[0m\u001b[0;34m,\u001b[0m \u001b[0mop\u001b[0m\u001b[0;34m,\u001b[0m \u001b[0mmessage\u001b[0m\u001b[0;34m)\u001b[0m\u001b[0;34m\u001b[0m\u001b[0;34m\u001b[0m\u001b[0m\n\u001b[0m\u001b[1;32m   1385\u001b[0m \u001b[0;34m\u001b[0m\u001b[0m\n\u001b[1;32m   1386\u001b[0m   \u001b[0;32mdef\u001b[0m \u001b[0m_extend_graph\u001b[0m\u001b[0;34m(\u001b[0m\u001b[0mself\u001b[0m\u001b[0;34m)\u001b[0m\u001b[0;34m:\u001b[0m\u001b[0;34m\u001b[0m\u001b[0;34m\u001b[0m\u001b[0m\n",
            "\u001b[0;31mFailedPreconditionError\u001b[0m: Attempting to use uninitialized value Variable_2\n\t [[{{node _retval_Variable_2_0_0}}]]"
          ]
        }
      ]
    },
    {
      "cell_type": "code",
      "metadata": {
        "id": "dnHm2UQBqhM5",
        "colab_type": "code",
        "colab": {}
      },
      "source": [
        "sess.run(weight1.initializer)"
      ],
      "execution_count": null,
      "outputs": []
    },
    {
      "cell_type": "code",
      "metadata": {
        "id": "pTheqVzSrOtx",
        "colab_type": "code",
        "colab": {
          "base_uri": "https://localhost:8080/",
          "height": 166
        },
        "outputId": "9af7b513-ba04-4793-e3f3-922354972e02"
      },
      "source": [
        "print_tf(sess.run(weight1))"
      ],
      "execution_count": null,
      "outputs": [
        {
          "output_type": "stream",
          "text": [
            "Type IS\n",
            " <class 'numpy.ndarray'>\n",
            "VALUE IS \n",
            " [[-0.10471616 -0.07511031]\n",
            " [-0.05308089  0.05742311]\n",
            " [-0.0376507   0.07981583]\n",
            " [-0.01369468 -0.02734861]\n",
            " [-0.0876407   0.08783571]]\n"
          ],
          "name": "stdout"
        }
      ]
    },
    {
      "cell_type": "code",
      "metadata": {
        "id": "0IAHOxKNrjhD",
        "colab_type": "code",
        "colab": {
          "base_uri": "https://localhost:8080/",
          "height": 166
        },
        "outputId": "d6f5d34e-c286-482a-8454-e350c6b9db13"
      },
      "source": [
        "weight2 = tf.Variable(tf.random_normal([5,2], stddev=0.1))\n",
        "weight3 = tf.Variable(tf.random_normal([5,2], stddev=0.1))\n",
        "print_tf(weight2)\n",
        "print_tf(weight3)\n"
      ],
      "execution_count": null,
      "outputs": [
        {
          "output_type": "stream",
          "text": [
            "Type IS\n",
            " <class 'tensorflow.python.ops.variables.RefVariable'>\n",
            "VALUE IS \n",
            " <tf.Variable 'Variable_5:0' shape=(5, 2) dtype=float32_ref>\n",
            "Type IS\n",
            " <class 'tensorflow.python.ops.variables.RefVariable'>\n",
            "VALUE IS \n",
            " <tf.Variable 'Variable_6:0' shape=(5, 2) dtype=float32_ref>\n"
          ],
          "name": "stdout"
        }
      ]
    },
    {
      "cell_type": "code",
      "metadata": {
        "id": "gWtNmP3Isewu",
        "colab_type": "code",
        "colab": {}
      },
      "source": [
        "sess.run(weight2.initializer)\n",
        "sess.run(weight3.initializer)"
      ],
      "execution_count": null,
      "outputs": []
    },
    {
      "cell_type": "markdown",
      "metadata": {
        "id": "B1ZKlfYRtT6M",
        "colab_type": "text"
      },
      "source": [
        "global initializer"
      ]
    },
    {
      "cell_type": "code",
      "metadata": {
        "id": "xCGA6UefsxBw",
        "colab_type": "code",
        "colab": {}
      },
      "source": [
        "init = tf.global_variables_initializer()\n",
        "sess.run(init)"
      ],
      "execution_count": null,
      "outputs": []
    },
    {
      "cell_type": "code",
      "metadata": {
        "id": "vGyj4n7HtTA2",
        "colab_type": "code",
        "colab": {}
      },
      "source": [
        ""
      ],
      "execution_count": null,
      "outputs": []
    }
  ]
}