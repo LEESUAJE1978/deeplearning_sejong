{
  "nbformat": 4,
  "nbformat_minor": 0,
  "metadata": {
    "colab": {
      "name": "ex09_optimazation.ipynb",
      "provenance": [],
      "collapsed_sections": [],
      "authorship_tag": "ABX9TyMMIPucOyDVTWgKp2RP1oX4",
      "include_colab_link": true
    },
    "kernelspec": {
      "name": "python3",
      "display_name": "Python 3"
    }
  },
  "cells": [
    {
      "cell_type": "markdown",
      "metadata": {
        "id": "view-in-github",
        "colab_type": "text"
      },
      "source": [
        "<a href=\"https://colab.research.google.com/github/LEESUAJE1978/deeplearning_sejong/blob/master/ex09_optimazation.ipynb\" target=\"_parent\"><img src=\"https://colab.research.google.com/assets/colab-badge.svg\" alt=\"Open In Colab\"/></a>"
      ]
    },
    {
      "cell_type": "markdown",
      "metadata": {
        "id": "HEYAOAeU_bvJ"
      },
      "source": [
        "0.텐서플로우 버전"
      ]
    },
    {
      "cell_type": "code",
      "metadata": {
        "id": "sZ7dxb-6ckDw",
        "outputId": "29ad775a-1eb7-47bb-bea4-33250a164525",
        "colab": {
          "base_uri": "https://localhost:8080/",
          "height": 35
        }
      },
      "source": [
        "#0. 텐서플로우 버전 선택\n",
        "try:\n",
        "    # %tensorflow_version only exists in Colab.\n",
        "    %tensorflow_version 1.x\n",
        "except Exception:\n",
        "    pass"
      ],
      "execution_count": 1,
      "outputs": [
        {
          "output_type": "stream",
          "text": [
            "TensorFlow 1.x selected.\n"
          ],
          "name": "stdout"
        }
      ]
    },
    {
      "cell_type": "markdown",
      "metadata": {
        "id": "1yQHa2-V_gJu"
      },
      "source": [
        "1. 패키지 불러오기"
      ]
    },
    {
      "cell_type": "code",
      "metadata": {
        "id": "yuAD_QhG_fAm"
      },
      "source": [
        "import tensorflow as tf\n",
        "import matplotlib.pyplot as plt\n",
        "import random"
      ],
      "execution_count": 2,
      "outputs": []
    },
    {
      "cell_type": "code",
      "metadata": {
        "id": "FSIZ_133_rvz"
      },
      "source": [
        "tf.set_random_seed(777) #for reproducibility(재생산성)"
      ],
      "execution_count": 3,
      "outputs": []
    },
    {
      "cell_type": "code",
      "metadata": {
        "id": "8yRnU3Dj_yWQ"
      },
      "source": [
        "from tensorflow.examples.tutorials.mnist import input_data"
      ],
      "execution_count": 4,
      "outputs": []
    },
    {
      "cell_type": "code",
      "metadata": {
        "id": "t53YQ1iv_702",
        "outputId": "961546b2-cf66-480f-d4f4-1563c6f932a9",
        "colab": {
          "base_uri": "https://localhost:8080/",
          "height": 559
        }
      },
      "source": [
        "mnist = input_data.read_data_sets(\"MNIST_data/\", one_hot=True)"
      ],
      "execution_count": 5,
      "outputs": [
        {
          "output_type": "stream",
          "text": [
            "WARNING:tensorflow:From <ipython-input-5-a839aeb82f4b>:1: read_data_sets (from tensorflow.contrib.learn.python.learn.datasets.mnist) is deprecated and will be removed in a future version.\n",
            "Instructions for updating:\n",
            "Please use alternatives such as official/mnist/dataset.py from tensorflow/models.\n",
            "WARNING:tensorflow:From /tensorflow-1.15.2/python3.6/tensorflow_core/contrib/learn/python/learn/datasets/mnist.py:260: maybe_download (from tensorflow.contrib.learn.python.learn.datasets.base) is deprecated and will be removed in a future version.\n",
            "Instructions for updating:\n",
            "Please write your own downloading logic.\n",
            "WARNING:tensorflow:From /tensorflow-1.15.2/python3.6/tensorflow_core/contrib/learn/python/learn/datasets/base.py:252: _internal_retry.<locals>.wrap.<locals>.wrapped_fn (from tensorflow.contrib.learn.python.learn.datasets.base) is deprecated and will be removed in a future version.\n",
            "Instructions for updating:\n",
            "Please use urllib or similar directly.\n",
            "Successfully downloaded train-images-idx3-ubyte.gz 9912422 bytes.\n",
            "WARNING:tensorflow:From /tensorflow-1.15.2/python3.6/tensorflow_core/contrib/learn/python/learn/datasets/mnist.py:262: extract_images (from tensorflow.contrib.learn.python.learn.datasets.mnist) is deprecated and will be removed in a future version.\n",
            "Instructions for updating:\n",
            "Please use tf.data to implement this functionality.\n",
            "Extracting MNIST_data/train-images-idx3-ubyte.gz\n",
            "Successfully downloaded train-labels-idx1-ubyte.gz 28881 bytes.\n",
            "WARNING:tensorflow:From /tensorflow-1.15.2/python3.6/tensorflow_core/contrib/learn/python/learn/datasets/mnist.py:267: extract_labels (from tensorflow.contrib.learn.python.learn.datasets.mnist) is deprecated and will be removed in a future version.\n",
            "Instructions for updating:\n",
            "Please use tf.data to implement this functionality.\n",
            "Extracting MNIST_data/train-labels-idx1-ubyte.gz\n",
            "WARNING:tensorflow:From /tensorflow-1.15.2/python3.6/tensorflow_core/contrib/learn/python/learn/datasets/mnist.py:110: dense_to_one_hot (from tensorflow.contrib.learn.python.learn.datasets.mnist) is deprecated and will be removed in a future version.\n",
            "Instructions for updating:\n",
            "Please use tf.one_hot on tensors.\n",
            "Successfully downloaded t10k-images-idx3-ubyte.gz 1648877 bytes.\n",
            "Extracting MNIST_data/t10k-images-idx3-ubyte.gz\n",
            "Successfully downloaded t10k-labels-idx1-ubyte.gz 4542 bytes.\n",
            "Extracting MNIST_data/t10k-labels-idx1-ubyte.gz\n",
            "WARNING:tensorflow:From /tensorflow-1.15.2/python3.6/tensorflow_core/contrib/learn/python/learn/datasets/mnist.py:290: DataSet.__init__ (from tensorflow.contrib.learn.python.learn.datasets.mnist) is deprecated and will be removed in a future version.\n",
            "Instructions for updating:\n",
            "Please use alternatives such as official/mnist/dataset.py from tensorflow/models.\n"
          ],
          "name": "stdout"
        }
      ]
    },
    {
      "cell_type": "code",
      "metadata": {
        "id": "WtrFYMZQVKRa",
        "outputId": "3f261e20-4964-4681-c223-36304fe0f9c0",
        "colab": {
          "base_uri": "https://localhost:8080/",
          "height": 55
        }
      },
      "source": [
        "mnist"
      ],
      "execution_count": 6,
      "outputs": [
        {
          "output_type": "execute_result",
          "data": {
            "text/plain": [
              "Datasets(train=<tensorflow.contrib.learn.python.learn.datasets.mnist.DataSet object at 0x7f37434691d0>, validation=<tensorflow.contrib.learn.python.learn.datasets.mnist.DataSet object at 0x7f37365007b8>, test=<tensorflow.contrib.learn.python.learn.datasets.mnist.DataSet object at 0x7f3736500828>)"
            ]
          },
          "metadata": {
            "tags": []
          },
          "execution_count": 6
        }
      ]
    },
    {
      "cell_type": "code",
      "metadata": {
        "id": "VCBpRu9SAGv1"
      },
      "source": [
        "nb_classes = 10"
      ],
      "execution_count": 7,
      "outputs": []
    },
    {
      "cell_type": "code",
      "metadata": {
        "id": "PTTW6bBTAZnk"
      },
      "source": [
        "X = tf.placeholder(tf.float32, [None, 784])\n",
        "Y = tf.placeholder(tf.float32, [None, nb_classes])"
      ],
      "execution_count": 8,
      "outputs": []
    },
    {
      "cell_type": "code",
      "metadata": {
        "id": "-QRMNc5HAj72"
      },
      "source": [
        "W= tf.Variable(tf.random_normal([784, nb_classes]))\n",
        "b = tf.Variable(tf.random_normal([nb_classes]))\n"
      ],
      "execution_count": 9,
      "outputs": []
    },
    {
      "cell_type": "code",
      "metadata": {
        "id": "3plgH36CM45r"
      },
      "source": [
        "hypothesis = tf.nn.softmax(tf.matmul(X,W) + b)"
      ],
      "execution_count": 10,
      "outputs": []
    },
    {
      "cell_type": "code",
      "metadata": {
        "id": "4vcUW7P5M-uI"
      },
      "source": [
        "cost = tf.reduce_mean(-tf.reduce_sum(Y *tf.log(hypothesis), axis=1))\n",
        "train = tf.train.GradientDescentOptimizer(learning_rate= 0.1).minimize(cost)"
      ],
      "execution_count": 11,
      "outputs": []
    },
    {
      "cell_type": "code",
      "metadata": {
        "id": "NmQCRQgQNP9w"
      },
      "source": [
        "is_correct = tf.equal(tf.argmax(hypothesis,1), tf.argmax(Y,1))\n",
        "accuracy = tf.reduce_mean(tf.cast(is_correct, tf.float32))"
      ],
      "execution_count": 12,
      "outputs": []
    },
    {
      "cell_type": "code",
      "metadata": {
        "id": "QJ6svNnSNhY6"
      },
      "source": [
        "num_epochs = 15 #epoch는 각 데이터의 size가 100인 batch가 들어간 550의 iteration으로 나누어집니다.\n",
        "batch_size = 100\n",
        "num_iterations = int(mnist.train.num_examples / batch_size) "
      ],
      "execution_count": 13,
      "outputs": []
    },
    {
      "cell_type": "code",
      "metadata": {
        "id": "TbMbTqh8NsjQ",
        "outputId": "48ae7b92-23bd-4451-de52-e41d449d4a75",
        "colab": {
          "base_uri": "https://localhost:8080/",
          "height": 323
        }
      },
      "source": [
        "with tf.Session() as sess:\n",
        "  sess.run(tf.global_variables_initializer())\n",
        "  for epoch in range(num_epochs):\n",
        "    avg_cost = 0\n",
        "\n",
        "    for i in range(num_iterations):\n",
        "      batch_xs, batch_ys = mnist.train.next_batch(batch_size)\n",
        "      _, cost_val = sess.run([train, cost], feed_dict = {X:batch_xs, Y: batch_ys})\n",
        "      avg_cost += cost_val / num_iterations\n",
        "\n",
        "    print(\"Epoch: {:04d}, Cost : {:.9f}\".format(epoch+1, avg_cost))\n",
        "\n",
        "  print(\"Learning Finished\")\n",
        "\n",
        "  print(\n",
        "    \"Accuracy:\",\n",
        "    accuracy.eval(\n",
        "        session = sess, feed_dict = {X: mnist.test.images, Y: mnist.test.labels}\n",
        "    ),\n",
        ")\n"
      ],
      "execution_count": 14,
      "outputs": [
        {
          "output_type": "stream",
          "text": [
            "Epoch: 0001, Cost : 2.826302671\n",
            "Epoch: 0002, Cost : 1.061668953\n",
            "Epoch: 0003, Cost : 0.838061300\n",
            "Epoch: 0004, Cost : 0.733232729\n",
            "Epoch: 0005, Cost : 0.669279874\n",
            "Epoch: 0006, Cost : 0.624611825\n",
            "Epoch: 0007, Cost : 0.591160346\n",
            "Epoch: 0008, Cost : 0.563868980\n",
            "Epoch: 0009, Cost : 0.541745169\n",
            "Epoch: 0010, Cost : 0.522673575\n",
            "Epoch: 0011, Cost : 0.506782328\n",
            "Epoch: 0012, Cost : 0.492447637\n",
            "Epoch: 0013, Cost : 0.479955836\n",
            "Epoch: 0014, Cost : 0.468893668\n",
            "Epoch: 0015, Cost : 0.458703486\n",
            "Learning Finished\n",
            "Accuracy: 0.8951\n"
          ],
          "name": "stdout"
        }
      ]
    },
    {
      "cell_type": "code",
      "metadata": {
        "id": "nDOro-dGOa0r",
        "outputId": "3fa93092-65ba-40a1-aed1-8950d5370a3f",
        "colab": {
          "base_uri": "https://localhost:8080/",
          "height": 301
        }
      },
      "source": [
        "with tf.Session() as sess:\n",
        "  sess.run(tf.global_variables_initializer())\n",
        " \n",
        "  r = random.randint(0, mnist.test.num_examples -1)\n",
        "  print(\"Label:\", sess.run(tf.argmax(mnist.test.labels[r : r+1],1)))\n",
        "  print(\n",
        "      \"prediction: \",\n",
        "      sess.run(tf.argmax(hypothesis, 1), feed_dict={X:mnist.test.images[r :r+1]}),\n",
        ")\n",
        "\n",
        "plt.imshow(\n",
        "    mnist.test.images[r :r + 1].reshape(28,28),\n",
        "    cmap = \"Greys\",\n",
        "    interpolation = 'nearest'\n",
        ")\n",
        "\n",
        "plt.show()"
      ],
      "execution_count": 15,
      "outputs": [
        {
          "output_type": "stream",
          "text": [
            "Label: [8]\n",
            "prediction:  [1]\n"
          ],
          "name": "stdout"
        },
        {
          "output_type": "display_data",
          "data": {
            "image/png": "[encoded data removed]",
            "text/plain": [
              "<Figure size 432x288 with 1 Axes>"
            ]
          },
          "metadata": {
            "tags": [],
            "needs_background": "light"
          }
        }
      ]
    },
    {
      "cell_type": "markdown",
      "metadata": {
        "id": "E2y6S47Rh_dC"
      },
      "source": [
        "드롭아웃(Drop out)"
      ]
    },
    {
      "cell_type": "code",
      "metadata": {
        "id": "FhB1jZZVlVJY",
        "outputId": "85a83e58-0935-46fd-d2ff-4c1d325fdd89",
        "colab": {
          "base_uri": "https://localhost:8080/",
          "height": 323
        }
      },
      "source": [
        "!pip uninstall mxnet && pip install mxnet-cu100"
      ],
      "execution_count": 16,
      "outputs": [
        {
          "output_type": "stream",
          "text": [
            "\u001b[33mWARNING: Skipping mxnet as it is not installed.\u001b[0m\n",
            "Collecting mxnet-cu100\n",
            "\u001b[?25l  Downloading https://files.pythonhosted.org/packages/cf/49/2876c87397592fdb2cca87928d538c9969adb7d271927ef36cb69d62fc63/mxnet_cu100-1.7.0-py2.py3-none-manylinux2014_x86_64.whl (827.8MB)\n",
            "\u001b[K     |████████████████████████████████| 827.8MB 17kB/s \n",
            "\u001b[?25hRequirement already satisfied: requests<3,>=2.20.0 in /usr/local/lib/python3.6/dist-packages (from mxnet-cu100) (2.23.0)\n",
            "Requirement already satisfied: numpy<2.0.0,>1.16.0 in /usr/local/lib/python3.6/dist-packages (from mxnet-cu100) (1.18.5)\n",
            "Collecting graphviz<0.9.0,>=0.8.1\n",
            "  Downloading https://files.pythonhosted.org/packages/53/39/4ab213673844e0c004bed8a0781a0721a3f6bb23eb8854ee75c236428892/graphviz-0.8.4-py2.py3-none-any.whl\n",
            "Requirement already satisfied: idna<3,>=2.5 in /usr/local/lib/python3.6/dist-packages (from requests<3,>=2.20.0->mxnet-cu100) (2.10)\n",
            "Requirement already satisfied: urllib3!=1.25.0,!=1.25.1,<1.26,>=1.21.1 in /usr/local/lib/python3.6/dist-packages (from requests<3,>=2.20.0->mxnet-cu100) (1.24.3)\n",
            "Requirement already satisfied: certifi>=2017.4.17 in /usr/local/lib/python3.6/dist-packages (from requests<3,>=2.20.0->mxnet-cu100) (2020.6.20)\n",
            "Requirement already satisfied: chardet<4,>=3.0.2 in /usr/local/lib/python3.6/dist-packages (from requests<3,>=2.20.0->mxnet-cu100) (3.0.4)\n",
            "Installing collected packages: graphviz, mxnet-cu100\n",
            "  Found existing installation: graphviz 0.10.1\n",
            "    Uninstalling graphviz-0.10.1:\n",
            "      Successfully uninstalled graphviz-0.10.1\n",
            "Successfully installed graphviz-0.8.4 mxnet-cu100-1.7.0\n"
          ],
          "name": "stdout"
        }
      ]
    },
    {
      "cell_type": "code",
      "metadata": {
        "id": "332Z0TD2lJ7m",
        "outputId": "b3ec33fd-f56b-436f-b3aa-d3c846df5e3a",
        "colab": {
          "base_uri": "https://localhost:8080/",
          "height": 35
        }
      },
      "source": [
        "참고 : https://pinkwink.kr/1121"
      ],
      "execution_count": null,
      "outputs": [
        {
          "output_type": "stream",
          "text": [
            "Drive already mounted at /content/drive; to attempt to forcibly remount, call drive.mount(\"/content/drive\", force_remount=True).\n"
          ],
          "name": "stdout"
        }
      ]
    },
    {
      "cell_type": "markdown",
      "metadata": {
        "id": "vhGMaeDLAPjB"
      },
      "source": [
        "참고:\n",
        " https://buomsoo-kim.github.io/keras/2018/04/24/Easy-deep-learning-with-Keras-5.md/"
      ]
    },
    {
      "cell_type": "markdown",
      "metadata": {
        "id": "IHAEGhAaM7Db"
      },
      "source": [
        "https://ko.d2l.ai/chapter_deep-learning-basics/dropout.html#%EB%93%9C%EB%A1%AD%EC%95%84%EC%9B%83(dropout)-%EC%8B%A4%EC%A0%9C-%EC%A0%81%EC%9A%A9%ED%95%98%EA%B8%B0"
      ]
    },
    {
      "cell_type": "markdown",
      "metadata": {
        "id": "T3uRWiVdM7un"
      },
      "source": [
        "https://buomsoo-kim.github.io/keras/2018/04/24/Easy-deep-learning-with-Keras-5.md/"
      ]
    }
  ]
}