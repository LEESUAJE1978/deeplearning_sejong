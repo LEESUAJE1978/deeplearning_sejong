{
  "nbformat": 4,
  "nbformat_minor": 0,
  "metadata": {
    "colab": {
      "name": "ex09_optimazation.ipynb",
      "provenance": [],
      "collapsed_sections": [],
      "authorship_tag": "ABX9TyPzJJdaOJNlrk5W2+NJ68rA",
      "include_colab_link": true
    },
    "kernelspec": {
      "name": "python3",
      "display_name": "Python 3"
    }
  },
  "cells": [
    {
      "cell_type": "markdown",
      "metadata": {
        "id": "view-in-github",
        "colab_type": "text"
      },
      "source": [
        "<a href=\"https://colab.research.google.com/github/LEESUAJE1978/deeplearning_sejong/blob/master/ex09_optimazation.ipynb\" target=\"_parent\"><img src=\"https://colab.research.google.com/assets/colab-badge.svg\" alt=\"Open In Colab\"/></a>"
      ]
    },
    {
      "cell_type": "markdown",
      "metadata": {
        "id": "HEYAOAeU_bvJ"
      },
      "source": [
        "0.텐서플로우 버전"
      ]
    },
    {
      "cell_type": "code",
      "metadata": {
        "id": "sZ7dxb-6ckDw"
      },
      "source": [
        "#0. 텐서플로우 버전 선택\n",
        "try:\n",
        "    # %tensorflow_version only exists in Colab.\n",
        "    %tensorflow_version 1.x\n",
        "except Exception:\n",
        "    pass"
      ],
      "execution_count": null,
      "outputs": []
    },
    {
      "cell_type": "markdown",
      "metadata": {
        "id": "1yQHa2-V_gJu"
      },
      "source": [
        "1. 패키지 불러오기"
      ]
    },
    {
      "cell_type": "code",
      "metadata": {
        "id": "yuAD_QhG_fAm"
      },
      "source": [
        "import tensorflow as tf\n",
        "import matplotlib.pyplot as plt\n",
        "import random"
      ],
      "execution_count": null,
      "outputs": []
    },
    {
      "cell_type": "code",
      "metadata": {
        "id": "FSIZ_133_rvz"
      },
      "source": [
        "tf.set_random_seed(777) #for reproducibility"
      ],
      "execution_count": null,
      "outputs": []
    },
    {
      "cell_type": "code",
      "metadata": {
        "id": "8yRnU3Dj_yWQ"
      },
      "source": [
        "from tensorflow.examples.tutorials.mnist import input_data"
      ],
      "execution_count": null,
      "outputs": []
    },
    {
      "cell_type": "code",
      "metadata": {
        "id": "t53YQ1iv_702"
      },
      "source": [
        "mnist = input_data.read_data_sets(\"MNIST_data/\", one_hot=True)"
      ],
      "execution_count": null,
      "outputs": []
    },
    {
      "cell_type": "code",
      "metadata": {
        "id": "WtrFYMZQVKRa",
        "outputId": "435bba96-1027-4098-8045-bc5f83bdd781",
        "colab": {
          "base_uri": "https://localhost:8080/",
          "height": 55
        }
      },
      "source": [
        "mnist"
      ],
      "execution_count": null,
      "outputs": [
        {
          "output_type": "execute_result",
          "data": {
            "text/plain": [
              "Datasets(train=<tensorflow.contrib.learn.python.learn.datasets.mnist.DataSet object at 0x7f3bd31e7e10>, validation=<tensorflow.contrib.learn.python.learn.datasets.mnist.DataSet object at 0x7f3bd205d518>, test=<tensorflow.contrib.learn.python.learn.datasets.mnist.DataSet object at 0x7f3bd205d6d8>)"
            ]
          },
          "metadata": {
            "tags": []
          },
          "execution_count": 47
        }
      ]
    },
    {
      "cell_type": "code",
      "metadata": {
        "id": "VCBpRu9SAGv1"
      },
      "source": [
        "nb_classes = 10"
      ],
      "execution_count": null,
      "outputs": []
    },
    {
      "cell_type": "code",
      "metadata": {
        "id": "PTTW6bBTAZnk"
      },
      "source": [
        "X = tf.placeholder(tf.float32, [None, 784])\n",
        "Y = tf.placeholder(tf.float32, [None, nb_classes])"
      ],
      "execution_count": null,
      "outputs": []
    },
    {
      "cell_type": "code",
      "metadata": {
        "id": "-QRMNc5HAj72"
      },
      "source": [
        "W= tf.Variable(tf.random_normal([784, nb_classes]))\n",
        "b = tf.Variable(tf.random_normal([nb_classes]))\n"
      ],
      "execution_count": null,
      "outputs": []
    },
    {
      "cell_type": "code",
      "metadata": {
        "id": "3plgH36CM45r"
      },
      "source": [
        "hypothesis = tf.nn.softmax(tf.matmul(X,W) + b)"
      ],
      "execution_count": null,
      "outputs": []
    },
    {
      "cell_type": "code",
      "metadata": {
        "id": "4vcUW7P5M-uI"
      },
      "source": [
        "cost = tf.reduce_mean(-tf.reduce_sum(Y *tf.log(hypothesis), axis=1))\n",
        "train = tf.train.GradientDescentOptimizer(learning_rate= 0.1).minimize(cost)"
      ],
      "execution_count": null,
      "outputs": []
    },
    {
      "cell_type": "code",
      "metadata": {
        "id": "NmQCRQgQNP9w"
      },
      "source": [
        "is_correct = tf.equal(tf.argmax(hypothesis,1), tf.argmax(Y,1))\n",
        "accuracy = tf.reduce_mean(tf.cast(is_correct, tf.float32))"
      ],
      "execution_count": null,
      "outputs": []
    },
    {
      "cell_type": "code",
      "metadata": {
        "id": "QJ6svNnSNhY6"
      },
      "source": [
        "num_epochs = 15\n",
        "batch_size = 100\n",
        "num_iterations = int(mnist.train.num_examples / batch_size)"
      ],
      "execution_count": null,
      "outputs": []
    },
    {
      "cell_type": "code",
      "metadata": {
        "id": "TbMbTqh8NsjQ",
        "outputId": "94776c6e-b492-41ca-ee56-02eef20a0646",
        "colab": {
          "base_uri": "https://localhost:8080/",
          "height": 323
        }
      },
      "source": [
        "with tf.Session() as sess:\n",
        "  sess.run(tf.global_variables_initializer())\n",
        "  for epoch in range(num_epochs):\n",
        "    avg_cost = 0\n",
        "\n",
        "    for i in range(num_iterations):\n",
        "      batch_xs, batch_ys = mnist.train.next_batch(batch_size)\n",
        "      _, cost_val = sess.run([train, cost], feed_dict = {X:batch_xs, Y: batch_ys})\n",
        "      avg_cost += cost_val / num_iterations\n",
        "\n",
        "    print(\"Epoch: {:04d}, Cost : {:.9f}\".format(epoch+1, avg_cost))\n",
        "\n",
        "  print(\"Learning Finished\")\n",
        "\n",
        "  print(\n",
        "    \"Accuracy:\",\n",
        "    accuracy.eval(\n",
        "        session = sess, feed_dict = {X: mnist.test.images, Y: mnist.test.labels}\n",
        "    ),\n",
        ")\n"
      ],
      "execution_count": null,
      "outputs": [
        {
          "output_type": "stream",
          "text": [
            "Epoch: 0001, Cost : 2.955275845\n",
            "Epoch: 0002, Cost : 1.127278760\n",
            "Epoch: 0003, Cost : 0.895299874\n",
            "Epoch: 0004, Cost : 0.784176587\n",
            "Epoch: 0005, Cost : 0.715547652\n",
            "Epoch: 0006, Cost : 0.667010797\n",
            "Epoch: 0007, Cost : 0.630328157\n",
            "Epoch: 0008, Cost : 0.600863722\n",
            "Epoch: 0009, Cost : 0.576640872\n",
            "Epoch: 0010, Cost : 0.556295814\n",
            "Epoch: 0011, Cost : 0.538398079\n",
            "Epoch: 0012, Cost : 0.523201100\n",
            "Epoch: 0013, Cost : 0.509544469\n",
            "Epoch: 0014, Cost : 0.496836727\n",
            "Epoch: 0015, Cost : 0.485890634\n",
            "Learning Finished\n",
            "Accuracy: 0.886\n"
          ],
          "name": "stdout"
        }
      ]
    },
    {
      "cell_type": "code",
      "metadata": {
        "id": "nDOro-dGOa0r",
        "outputId": "a76ac7e2-02e2-48b1-de1a-1b54d92b2261",
        "colab": {
          "base_uri": "https://localhost:8080/",
          "height": 301
        }
      },
      "source": [
        "with tf.Session() as sess:\n",
        "  sess.run(tf.global_variables_initializer())\n",
        " \n",
        "  r = random.randint(0, mnist.test.num_examples -1)\n",
        "  print(\"Label:\", sess.run(tf.argmax(mnist.test.labels[r : r+1],1)))\n",
        "  print(\n",
        "      \"prediction: \",\n",
        "      sess.run(tf.argmax(hypothesis, 1), feed_dict={X:mnist.test.images[r :r+1]}),\n",
        ")\n",
        "\n",
        "plt.imshow(\n",
        "    mnist.test.images[r :r + 1].reshape(28,28),\n",
        "    cmap = \"Greys\",\n",
        "    interpolation = 'nearest'\n",
        ")\n",
        "\n",
        "plt.show()"
      ],
      "execution_count": null,
      "outputs": [
        {
          "output_type": "stream",
          "text": [
            "Label: [0]\n",
            "prediction:  [1]\n"
          ],
          "name": "stdout"
        },
        {
          "output_type": "display_data",
          "data": {
            "image/png": "[encoded data removed]",
            "text/plain": [
              "<Figure size 432x288 with 1 Axes>"
            ]
          },
          "metadata": {
            "tags": [],
            "needs_background": "light"
          }
        }
      ]
    },
    {
      "cell_type": "code",
      "metadata": {
        "id": "MuVAEpKHO5CD"
      },
      "source": [
        ""
      ],
      "execution_count": null,
      "outputs": []
    }
  ]
}