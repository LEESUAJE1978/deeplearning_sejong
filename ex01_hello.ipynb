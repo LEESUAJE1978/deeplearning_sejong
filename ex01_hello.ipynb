{
  "nbformat": 4,
  "nbformat_minor": 0,
  "metadata": {
    "colab": {
      "name": "ex01_hello",
      "provenance": [],
      "collapsed_sections": [],
      "authorship_tag": "ABX9TyMKnf3J5c6v6FpF9+Vn8y1d",
      "include_colab_link": true
    },
    "kernelspec": {
      "name": "python3",
      "display_name": "Python 3"
    }
  },
  "cells": [
    {
      "cell_type": "markdown",
      "metadata": {
        "id": "view-in-github",
        "colab_type": "text"
      },
      "source": [
        "<a href=\"https://colab.research.google.com/github/LEESUAJE1978/deeplearning_sejong/blob/master/ex01_hello.ipynb\" target=\"_parent\"><img src=\"https://colab.research.google.com/assets/colab-badge.svg\" alt=\"Open In Colab\"/></a>"
      ]
    },
    {
      "cell_type": "markdown",
      "metadata": {
        "id": "YS34i0queyZG",
        "colab_type": "text"
      },
      "source": [
        "1. 텐서플로우와 인사하기\n"
      ]
    },
    {
      "cell_type": "code",
      "metadata": {
        "id": "7xdJdZa3erKq",
        "colab_type": "code",
        "colab": {
          "base_uri": "https://localhost:8080/",
          "height": 34
        },
        "outputId": "f649242c-5534-4736-ee96-58eeae5e8cc8"
      },
      "source": [
        "#Hello Tensorflow\n",
        "print('Hello Tensorflow')"
      ],
      "execution_count": null,
      "outputs": [
        {
          "output_type": "stream",
          "text": [
            "Hello Tensorflow\n"
          ],
          "name": "stdout"
        }
      ]
    },
    {
      "cell_type": "markdown",
      "metadata": {
        "id": "2dR5LX2Oe6id",
        "colab_type": "text"
      },
      "source": [
        "2. 텐서 플로우 버전 선택"
      ]
    },
    {
      "cell_type": "code",
      "metadata": {
        "id": "9J86VuaXdey0",
        "colab_type": "code",
        "colab": {}
      },
      "source": [
        "#2. 텐서플로 2.0 버전 선택\n",
        "try:\n",
        "    # %tensorflow_version only exists in Colab.\n",
        "    %tensorflow_version 2.x\n",
        "except Exception:\n",
        "    pass\n",
        "import tensorflow as tf"
      ],
      "execution_count": null,
      "outputs": []
    },
    {
      "cell_type": "markdown",
      "metadata": {
        "id": "vfCW2iY2fC8Q",
        "colab_type": "text"
      },
      "source": [
        "3. 구글 코랩 운영체제 확인"
      ]
    },
    {
      "cell_type": "code",
      "metadata": {
        "id": "_0E4p4xoeYd7",
        "colab_type": "code",
        "colab": {
          "base_uri": "https://localhost:8080/",
          "height": 34
        },
        "outputId": "36187ba9-b86d-4cff-c27d-ff51d862e37b"
      },
      "source": [
        "# Google Colab 운영체제 확인\n",
        "import platform\n",
        "print(platform.platform())"
      ],
      "execution_count": null,
      "outputs": [
        {
          "output_type": "stream",
          "text": [
            "Linux-4.19.104+-x86_64-with-Ubuntu-18.04-bionic\n"
          ],
          "name": "stdout"
        }
      ]
    },
    {
      "cell_type": "markdown",
      "metadata": {
        "id": "u4usUFhAfG3C",
        "colab_type": "text"
      },
      "source": [
        "4. 텐서플로우 불러오기, 버전확인"
      ]
    },
    {
      "cell_type": "code",
      "metadata": {
        "id": "31ZQRPluelzT",
        "colab_type": "code",
        "colab": {
          "base_uri": "https://localhost:8080/",
          "height": 34
        },
        "outputId": "a73aa3a4-fdd1-4ac4-a2d6-f3fa44cfe164"
      },
      "source": [
        "# 텐서플로우 불러오기, 버전 확인\n",
        "import tensorflow as tf\n",
        "print(tf.__version__)"
      ],
      "execution_count": null,
      "outputs": [
        {
          "output_type": "stream",
          "text": [
            "2.2.0\n"
          ],
          "name": "stdout"
        }
      ]
    },
    {
      "cell_type": "markdown",
      "metadata": {
        "id": "jRFRh21cf71H",
        "colab_type": "text"
      },
      "source": [
        "5.랜덤 수 생성(Random Number Generating)"
      ]
    },
    {
      "cell_type": "markdown",
      "metadata": {
        "id": "hXrulf_zhGCy",
        "colab_type": "text"
      },
      "source": [
        "5.1. 무작위수 1개 얻기(1 Random Number)"
      ]
    },
    {
      "cell_type": "code",
      "metadata": {
        "id": "L6Dc19yneosA",
        "colab_type": "code",
        "colab": {
          "base_uri": "https://localhost:8080/",
          "height": 34
        },
        "outputId": "888ccb4c-ca0c-438e-b176-6fe590d3e234"
      },
      "source": [
        "rand = tf.random.uniform([1], 0,1)\n",
        "print(rand)"
      ],
      "execution_count": null,
      "outputs": [
        {
          "output_type": "stream",
          "text": [
            "tf.Tensor([0.7897893], shape=(1,), dtype=float32)\n"
          ],
          "name": "stdout"
        }
      ]
    },
    {
      "cell_type": "markdown",
      "metadata": {
        "id": "vTU8y596hLvy",
        "colab_type": "text"
      },
      "source": [
        "5.2. 무작위수 여러개 얻기(Multi Random Numbers)"
      ]
    },
    {
      "cell_type": "markdown",
      "metadata": {
        "id": "1lOIS203h29H",
        "colab_type": "text"
      },
      "source": [
        "5.2.1. 균일분포(Uniform Distribution)"
      ]
    },
    {
      "cell_type": "code",
      "metadata": {
        "id": "I0au3LQugo0Z",
        "colab_type": "code",
        "colab": {
          "base_uri": "https://localhost:8080/",
          "height": 34
        },
        "outputId": "8bbf56ba-51dc-4891-a709-5c3e65eea992"
      },
      "source": [
        "rand = tf.random.uniform([4],0,1)\n",
        "print(rand)"
      ],
      "execution_count": null,
      "outputs": [
        {
          "output_type": "stream",
          "text": [
            "tf.Tensor([0.37504208 0.34481645 0.44941437 0.6612568 ], shape=(4,), dtype=float32)\n"
          ],
          "name": "stdout"
        }
      ]
    },
    {
      "cell_type": "markdown",
      "metadata": {
        "id": "YrekmsSWh64r",
        "colab_type": "text"
      },
      "source": [
        "5.2.2. 정규분포(Normal Distribution)"
      ]
    },
    {
      "cell_type": "code",
      "metadata": {
        "id": "vK3tzOZBhc89",
        "colab_type": "code",
        "colab": {
          "base_uri": "https://localhost:8080/",
          "height": 34
        },
        "outputId": "ad33301a-6f52-4b5e-ef7e-5d9000b33d37"
      },
      "source": [
        "rand =tf.random.normal([5],0,1)\n",
        "print(rand)"
      ],
      "execution_count": null,
      "outputs": [
        {
          "output_type": "stream",
          "text": [
            "tf.Tensor([-0.12842895 -0.15005624 -0.5411751   0.27592435  0.4151549 ], shape=(5,), dtype=float32)\n"
          ],
          "name": "stdout"
        }
      ]
    },
    {
      "cell_type": "markdown",
      "metadata": {
        "id": "ZW_3TbyCiEYc",
        "colab_type": "text"
      },
      "source": [
        "6. 시각화(Visualization)"
      ]
    },
    {
      "cell_type": "markdown",
      "metadata": {
        "id": "zRns761UibC5",
        "colab_type": "text"
      },
      "source": [
        "6.1. 확률 변수 X가 정규분포(0,1)을 따를 때 그래프 - 값 변동"
      ]
    },
    {
      "cell_type": "markdown",
      "metadata": {
        "id": "5FEhrz8ElBTl",
        "colab_type": "text"
      },
      "source": [
        "6.1.1. 라인 그래프(Line Graph)"
      ]
    },
    {
      "cell_type": "code",
      "metadata": {
        "id": "6cHu5BzwhzWr",
        "colab_type": "code",
        "colab": {
          "base_uri": "https://localhost:8080/",
          "height": 265
        },
        "outputId": "bf912fb3-7b61-442b-e7fa-fb65ec7b4046"
      },
      "source": [
        "import matplotlib.pyplot as plt\n",
        "\n",
        "x = range(20)\n",
        "y = tf.random.normal([20],0,1)\n",
        "plt.plot(x,y)\n",
        "plt.show()"
      ],
      "execution_count": null,
      "outputs": [
        {
          "output_type": "display_data",
          "data": {
            "image/png": "[encoded data removed]",
            "text/plain": [
              "<Figure size 432x288 with 1 Axes>"
            ]
          },
          "metadata": {
            "tags": [],
            "needs_background": "light"
          }
        }
      ]
    },
    {
      "cell_type": "markdown",
      "metadata": {
        "id": "5cytwjRqk_41",
        "colab_type": "text"
      },
      "source": [
        "6.1.2. 산점도(Scatter plot)"
      ]
    },
    {
      "cell_type": "code",
      "metadata": {
        "id": "RG4bDVvoiVwQ",
        "colab_type": "code",
        "colab": {
          "base_uri": "https://localhost:8080/",
          "height": 265
        },
        "outputId": "9e300c40-e5ce-49d6-9940-c4d67325d327"
      },
      "source": [
        "plt.plot(x,y, 'go')\n",
        "plt.show()"
      ],
      "execution_count": null,
      "outputs": [
        {
          "output_type": "display_data",
          "data": {
            "image/png": "[encoded data removed]",
            "text/plain": [
              "<Figure size 432x288 with 1 Axes>"
            ]
          },
          "metadata": {
            "tags": [],
            "needs_background": "light"
          }
        }
      ]
    },
    {
      "cell_type": "markdown",
      "metadata": {
        "id": "2eTyQkGxmNpd",
        "colab_type": "text"
      },
      "source": [
        "6.1.3. 히스토그램(Histogram)"
      ]
    },
    {
      "cell_type": "code",
      "metadata": {
        "id": "9SxZO5Zqieu-",
        "colab_type": "code",
        "colab": {
          "base_uri": "https://localhost:8080/",
          "height": 265
        },
        "outputId": "a31dde99-6146-43ff-bd51-e0244b29b36a"
      },
      "source": [
        "plt.hist(y, bins= 10)\n",
        "plt.show()"
      ],
      "execution_count": null,
      "outputs": [
        {
          "output_type": "display_data",
          "data": {
            "image/png": "[encoded data removed]",
            "text/plain": [
              "<Figure size 432x288 with 1 Axes>"
            ]
          },
          "metadata": {
            "tags": [],
            "needs_background": "light"
          }
        }
      ]
    },
    {
      "cell_type": "markdown",
      "metadata": {
        "id": "0AfpP6f6mZfh",
        "colab_type": "text"
      },
      "source": [
        "6.2. 확률 변수 X가 정규분포(0,1)을 따를 때 그래프 - 값 고정"
      ]
    },
    {
      "cell_type": "markdown",
      "metadata": {
        "id": "ZtTzG4rwmhQI",
        "colab_type": "text"
      },
      "source": [
        "6.2.1 라인그래프(Line Gragh)"
      ]
    },
    {
      "cell_type": "code",
      "metadata": {
        "id": "zUwJUFuDixsq",
        "colab_type": "code",
        "colab": {
          "base_uri": "https://localhost:8080/",
          "height": 265
        },
        "outputId": "419ba226-9757-445c-b63b-6d3f367d6873"
      },
      "source": [
        "tf.random.set_seed(5);\n",
        "x = range(20)\n",
        "y = tf.random.normal([20],0,1, seed=1)\n",
        "plt.plot(x,y)\n",
        "plt.show()\n"
      ],
      "execution_count": null,
      "outputs": [
        {
          "output_type": "display_data",
          "data": {
            "image/png": "[encoded data removed]",
            "text/plain": [
              "<Figure size 432x288 with 1 Axes>"
            ]
          },
          "metadata": {
            "tags": [],
            "needs_background": "light"
          }
        }
      ]
    },
    {
      "cell_type": "markdown",
      "metadata": {
        "id": "vwg2zFnsmoQf",
        "colab_type": "text"
      },
      "source": [
        "6.2.2. 산점도(Scatter plot)"
      ]
    },
    {
      "cell_type": "code",
      "metadata": {
        "id": "7BjqB2D9mDfc",
        "colab_type": "code",
        "colab": {
          "base_uri": "https://localhost:8080/",
          "height": 265
        },
        "outputId": "7a52fe4a-f7da-4b44-ae76-d1a54b1d4bdb"
      },
      "source": [
        "plt.plot(x,y, 'go')\n",
        "plt.show()"
      ],
      "execution_count": null,
      "outputs": [
        {
          "output_type": "display_data",
          "data": {
            "image/png": "[encoded data removed]",
            "text/plain": [
              "<Figure size 432x288 with 1 Axes>"
            ]
          },
          "metadata": {
            "tags": [],
            "needs_background": "light"
          }
        }
      ]
    },
    {
      "cell_type": "markdown",
      "metadata": {
        "id": "Jzq1J1jGmvdU",
        "colab_type": "text"
      },
      "source": [
        "6.2.3. Histogram"
      ]
    },
    {
      "cell_type": "code",
      "metadata": {
        "id": "3jmaHJ3ZmtdK",
        "colab_type": "code",
        "colab": {
          "base_uri": "https://localhost:8080/",
          "height": 265
        },
        "outputId": "796f7189-bba3-4220-b740-47137d20c351"
      },
      "source": [
        "plt.hist(y, bins= 10)\n",
        "plt.show()"
      ],
      "execution_count": null,
      "outputs": [
        {
          "output_type": "display_data",
          "data": {
            "image/png": "[encoded data removed]",
            "text/plain": [
              "<Figure size 432x288 with 1 Axes>"
            ]
          },
          "metadata": {
            "tags": [],
            "needs_background": "light"
          }
        }
      ]
    },
    {
      "cell_type": "code",
      "metadata": {
        "id": "EVUxgGLnm2Qf",
        "colab_type": "code",
        "colab": {
          "base_uri": "https://localhost:8080/",
          "height": 122
        },
        "outputId": "f6cd6640-cd53-4b46-d5cb-38a62e835ccc"
      },
      "source": [
        "y"
      ],
      "execution_count": null,
      "outputs": [
        {
          "output_type": "execute_result",
          "data": {
            "text/plain": [
              "<tf.Tensor: shape=(20,), dtype=float32, numpy=\n",
              "array([-1.3768897 , -0.01258316, -0.169515  ,  1.0824056 , -0.3118337 ,\n",
              "       -0.3017871 ,  0.00665421, -0.9654328 , -1.5981232 ,  0.18814366,\n",
              "       -0.847829  , -1.6562366 ,  0.30934566,  0.9804828 ,  0.16784096,\n",
              "       -2.1382022 ,  1.3060385 ,  0.15140307, -1.2194319 , -1.8235568 ],\n",
              "      dtype=float32)>"
            ]
          },
          "metadata": {
            "tags": []
          },
          "execution_count": 51
        }
      ]
    },
    {
      "cell_type": "code",
      "metadata": {
        "id": "nNuV8P9Qm6Ke",
        "colab_type": "code",
        "colab": {
          "base_uri": "https://localhost:8080/",
          "height": 52
        },
        "outputId": "ec545aba-0adf-4d5a-e596-00e4a4f798cf"
      },
      "source": [
        "!git clone https://github.com/LEESUAJE1978/deeplearning_sejong.git"
      ],
      "execution_count": null,
      "outputs": [
        {
          "output_type": "stream",
          "text": [
            "Cloning into 'deeplearning_sejong'...\n",
            "warning: You appear to have cloned an empty repository.\n"
          ],
          "name": "stdout"
        }
      ]
    },
    {
      "cell_type": "code",
      "metadata": {
        "id": "ACxBPoG8pJtK",
        "colab_type": "code",
        "colab": {
          "base_uri": "https://localhost:8080/",
          "height": 70
        },
        "outputId": "0da80266-288a-4600-d05b-ea1f3a0cb62f"
      },
      "source": [
        "!ls -ltr"
      ],
      "execution_count": null,
      "outputs": [
        {
          "output_type": "stream",
          "text": [
            "total 8\n",
            "drwxr-xr-x 1 root root 4096 Jun 26 16:26 sample_data\n",
            "drwxr-xr-x 3 root root 4096 Jul 11 02:11 deeplearning_sejong\n"
          ],
          "name": "stdout"
        }
      ]
    },
    {
      "cell_type": "code",
      "metadata": {
        "id": "zvBRFKvQpcvd",
        "colab_type": "code",
        "colab": {}
      },
      "source": [
        ""
      ],
      "execution_count": null,
      "outputs": []
    }
  ]
}