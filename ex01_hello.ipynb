{
  "nbformat": 4,
  "nbformat_minor": 0,
  "metadata": {
    "colab": {
      "name": "ex01_hello",
      "provenance": [],
      "collapsed_sections": [],
      "authorship_tag": "ABX9TyO8Bgt6dc3BPmagP0mSiUaY",
      "include_colab_link": true
    },
    "kernelspec": {
      "name": "python3",
      "display_name": "Python 3"
    }
  },
  "cells": [
    {
      "cell_type": "markdown",
      "metadata": {
        "id": "view-in-github",
        "colab_type": "text"
      },
      "source": [
        "<a href=\"https://colab.research.google.com/github/LEESUAJE1978/deeplearning_sejong/blob/master/ex01_hello.ipynb\" target=\"_parent\"><img src=\"https://colab.research.google.com/assets/colab-badge.svg\" alt=\"Open In Colab\"/></a>"
      ]
    },
    {
      "cell_type": "markdown",
      "metadata": {
        "id": "YS34i0queyZG",
        "colab_type": "text"
      },
      "source": [
        "1. 텐서플로우와 인사하기\n"
      ]
    },
    {
      "cell_type": "code",
      "metadata": {
        "id": "7xdJdZa3erKq",
        "colab_type": "code",
        "colab": {
          "base_uri": "https://localhost:8080/",
          "height": 34
        },
        "outputId": "bfbe1d27-cac8-4fd7-a4af-624b8d981c37"
      },
      "source": [
        "#Hello Tensorflow\n",
        "print('Hello Tensorflow')"
      ],
      "execution_count": 1,
      "outputs": [
        {
          "output_type": "stream",
          "text": [
            "Hello Tensorflow\n"
          ],
          "name": "stdout"
        }
      ]
    },
    {
      "cell_type": "markdown",
      "metadata": {
        "id": "2dR5LX2Oe6id",
        "colab_type": "text"
      },
      "source": [
        "2. 텐서 플로우 버전 선택"
      ]
    },
    {
      "cell_type": "code",
      "metadata": {
        "id": "9J86VuaXdey0",
        "colab_type": "code",
        "colab": {}
      },
      "source": [
        "#2. 텐서플로 2.0 버전 선택\n",
        "try:\n",
        "    # %tensorflow_version only exists in Colab.\n",
        "    %tensorflow_version 2.x\n",
        "except Exception:\n",
        "    pass\n",
        "import tensorflow as tf"
      ],
      "execution_count": 2,
      "outputs": []
    },
    {
      "cell_type": "markdown",
      "metadata": {
        "id": "vfCW2iY2fC8Q",
        "colab_type": "text"
      },
      "source": [
        "3. 구글 코랩 운영체제 확인"
      ]
    },
    {
      "cell_type": "code",
      "metadata": {
        "id": "_0E4p4xoeYd7",
        "colab_type": "code",
        "colab": {
          "base_uri": "https://localhost:8080/",
          "height": 34
        },
        "outputId": "f93d74a3-9e3a-4c5a-93bf-5515f8acbbd6"
      },
      "source": [
        "# Google Colab 운영체제 확인\n",
        "import platform\n",
        "print(platform.platform())"
      ],
      "execution_count": 3,
      "outputs": [
        {
          "output_type": "stream",
          "text": [
            "Linux-4.19.104+-x86_64-with-Ubuntu-18.04-bionic\n"
          ],
          "name": "stdout"
        }
      ]
    },
    {
      "cell_type": "markdown",
      "metadata": {
        "id": "u4usUFhAfG3C",
        "colab_type": "text"
      },
      "source": [
        "4. 텐서플로우 불러오기, 버전확인"
      ]
    },
    {
      "cell_type": "code",
      "metadata": {
        "id": "31ZQRPluelzT",
        "colab_type": "code",
        "colab": {
          "base_uri": "https://localhost:8080/",
          "height": 34
        },
        "outputId": "5c4ac34a-2fe4-4431-9fa4-b89186a749c7"
      },
      "source": [
        "# 텐서플로우 불러오기, 버전 확인\n",
        "import tensorflow as tf\n",
        "print(tf.__version__)"
      ],
      "execution_count": 4,
      "outputs": [
        {
          "output_type": "stream",
          "text": [
            "2.2.0\n"
          ],
          "name": "stdout"
        }
      ]
    },
    {
      "cell_type": "markdown",
      "metadata": {
        "id": "jRFRh21cf71H",
        "colab_type": "text"
      },
      "source": [
        "5.랜덤 수 생성(Random Number Generating)"
      ]
    },
    {
      "cell_type": "markdown",
      "metadata": {
        "id": "hXrulf_zhGCy",
        "colab_type": "text"
      },
      "source": [
        "5.1. 무작위수 1개 얻기(1 Random Number)"
      ]
    },
    {
      "cell_type": "code",
      "metadata": {
        "id": "L6Dc19yneosA",
        "colab_type": "code",
        "colab": {
          "base_uri": "https://localhost:8080/",
          "height": 34
        },
        "outputId": "54004991-b2b3-4703-e82c-528e9763ba37"
      },
      "source": [
        "rand = tf.random.uniform([1], 0,1)\n",
        "print(rand)"
      ],
      "execution_count": 5,
      "outputs": [
        {
          "output_type": "stream",
          "text": [
            "tf.Tensor([0.07482576], shape=(1,), dtype=float32)\n"
          ],
          "name": "stdout"
        }
      ]
    },
    {
      "cell_type": "code",
      "metadata": {
        "id": "5cRFKdlVvdOS",
        "colab_type": "code",
        "colab": {
          "base_uri": "https://localhost:8080/",
          "height": 34
        },
        "outputId": "a7551599-872c-4187-cea2-2addf2f7dcca"
      },
      "source": [
        "rand = tf.random.uniform([1], 0,1)\n",
        "print(rand)"
      ],
      "execution_count": 6,
      "outputs": [
        {
          "output_type": "stream",
          "text": [
            "tf.Tensor([0.52748], shape=(1,), dtype=float32)\n"
          ],
          "name": "stdout"
        }
      ]
    },
    {
      "cell_type": "code",
      "metadata": {
        "id": "e3tTP9w05kdD",
        "colab_type": "code",
        "colab": {
          "base_uri": "https://localhost:8080/",
          "height": 222
        },
        "outputId": "75eae251-6621-4ec5-d400-f6f5523489ee"
      },
      "source": [
        "with tf.Session() as sess:\n",
        "    # Initializes global variables in the graph.\n",
        "    sess.run(tf.global_variables_initializer())\n",
        "    print(sess.run(rand))"
      ],
      "execution_count": 7,
      "outputs": [
        {
          "output_type": "error",
          "ename": "AttributeError",
          "evalue": "ignored",
          "traceback": [
            "\u001b[0;31m---------------------------------------------------------------------------\u001b[0m",
            "\u001b[0;31mAttributeError\u001b[0m                            Traceback (most recent call last)",
            "\u001b[0;32m<ipython-input-7-15f2f5121ef1>\u001b[0m in \u001b[0;36m<module>\u001b[0;34m()\u001b[0m\n\u001b[0;32m----> 1\u001b[0;31m \u001b[0;32mwith\u001b[0m \u001b[0mtf\u001b[0m\u001b[0;34m.\u001b[0m\u001b[0mSession\u001b[0m\u001b[0;34m(\u001b[0m\u001b[0;34m)\u001b[0m \u001b[0;32mas\u001b[0m \u001b[0msess\u001b[0m\u001b[0;34m:\u001b[0m\u001b[0;34m\u001b[0m\u001b[0;34m\u001b[0m\u001b[0m\n\u001b[0m\u001b[1;32m      2\u001b[0m     \u001b[0;31m# Initializes global variables in the graph.\u001b[0m\u001b[0;34m\u001b[0m\u001b[0;34m\u001b[0m\u001b[0;34m\u001b[0m\u001b[0m\n\u001b[1;32m      3\u001b[0m     \u001b[0msess\u001b[0m\u001b[0;34m.\u001b[0m\u001b[0mrun\u001b[0m\u001b[0;34m(\u001b[0m\u001b[0mtf\u001b[0m\u001b[0;34m.\u001b[0m\u001b[0mglobal_variables_initializer\u001b[0m\u001b[0;34m(\u001b[0m\u001b[0;34m)\u001b[0m\u001b[0;34m)\u001b[0m\u001b[0;34m\u001b[0m\u001b[0;34m\u001b[0m\u001b[0m\n\u001b[1;32m      4\u001b[0m     \u001b[0mprint\u001b[0m\u001b[0;34m(\u001b[0m\u001b[0msess\u001b[0m\u001b[0;34m.\u001b[0m\u001b[0mrun\u001b[0m\u001b[0;34m(\u001b[0m\u001b[0mrand\u001b[0m\u001b[0;34m)\u001b[0m\u001b[0;34m)\u001b[0m\u001b[0;34m\u001b[0m\u001b[0;34m\u001b[0m\u001b[0m\n",
            "\u001b[0;31mAttributeError\u001b[0m: module 'tensorflow' has no attribute 'Session'"
          ]
        }
      ]
    },
    {
      "cell_type": "markdown",
      "metadata": {
        "id": "vTU8y596hLvy",
        "colab_type": "text"
      },
      "source": [
        "5.2. 무작위수 여러개 얻기(Multi Random Numbers)"
      ]
    },
    {
      "cell_type": "markdown",
      "metadata": {
        "id": "1lOIS203h29H",
        "colab_type": "text"
      },
      "source": [
        "5.2.1. 균일분포(Uniform Distribution)"
      ]
    },
    {
      "cell_type": "code",
      "metadata": {
        "id": "I0au3LQugo0Z",
        "colab_type": "code",
        "colab": {
          "base_uri": "https://localhost:8080/",
          "height": 34
        },
        "outputId": "0655584a-c837-4365-864a-f1d994ec8484"
      },
      "source": [
        "rand = tf.random.uniform([4],0,1)\n",
        "print(rand)"
      ],
      "execution_count": 8,
      "outputs": [
        {
          "output_type": "stream",
          "text": [
            "tf.Tensor([0.34295928 0.3666159  0.8542309  0.6798972 ], shape=(4,), dtype=float32)\n"
          ],
          "name": "stdout"
        }
      ]
    },
    {
      "cell_type": "code",
      "metadata": {
        "id": "EipSt4CEQOEA",
        "colab_type": "code",
        "colab": {}
      },
      "source": [
        "#sess = tf.Session() #tf.v1에서는 Session을 실행해 주어야 함\n",
        "#sess.run(rand)"
      ],
      "execution_count": 13,
      "outputs": []
    },
    {
      "cell_type": "markdown",
      "metadata": {
        "id": "YrekmsSWh64r",
        "colab_type": "text"
      },
      "source": [
        "5.2.2. 정규분포(Normal Distribution)"
      ]
    },
    {
      "cell_type": "code",
      "metadata": {
        "id": "vK3tzOZBhc89",
        "colab_type": "code",
        "colab": {
          "base_uri": "https://localhost:8080/",
          "height": 34
        },
        "outputId": "5a1fc2e9-4616-40b1-832e-af1e33609ec6"
      },
      "source": [
        "rand =tf.random.normal([5],0,1)\n",
        "print(rand)"
      ],
      "execution_count": 14,
      "outputs": [
        {
          "output_type": "stream",
          "text": [
            "tf.Tensor([ 0.6456015  -0.456753    0.54972494 -0.14546779  0.6382919 ], shape=(5,), dtype=float32)\n"
          ],
          "name": "stdout"
        }
      ]
    },
    {
      "cell_type": "code",
      "metadata": {
        "id": "bf4zsO4RvpC1",
        "colab_type": "code",
        "colab": {
          "base_uri": "https://localhost:8080/",
          "height": 34
        },
        "outputId": "46d92ac1-d9d1-4271-959a-989ed54847f6"
      },
      "source": [
        "rand =tf.random.normal([5],0,1)\n",
        "print(rand)"
      ],
      "execution_count": 15,
      "outputs": [
        {
          "output_type": "stream",
          "text": [
            "tf.Tensor([ 0.5240928   0.09962975 -0.42735067  0.69053024 -0.09410682], shape=(5,), dtype=float32)\n"
          ],
          "name": "stdout"
        }
      ]
    },
    {
      "cell_type": "markdown",
      "metadata": {
        "id": "ZW_3TbyCiEYc",
        "colab_type": "text"
      },
      "source": [
        "6. 시각화(Visualization)"
      ]
    },
    {
      "cell_type": "markdown",
      "metadata": {
        "id": "zRns761UibC5",
        "colab_type": "text"
      },
      "source": [
        "6.1. 확률 변수 X가 정규분포(0,1)을 따를 때 그래프 - 값 변동"
      ]
    },
    {
      "cell_type": "markdown",
      "metadata": {
        "id": "5FEhrz8ElBTl",
        "colab_type": "text"
      },
      "source": [
        "6.1.1. 라인 그래프(Line Graph)"
      ]
    },
    {
      "cell_type": "code",
      "metadata": {
        "id": "6cHu5BzwhzWr",
        "colab_type": "code",
        "colab": {
          "base_uri": "https://localhost:8080/",
          "height": 265
        },
        "outputId": "2e792d0c-eecc-430e-c065-861ce8bb9ba9"
      },
      "source": [
        "import matplotlib.pyplot as plt\n",
        "\n",
        "x = range(20)\n",
        "y = tf.random.normal([20],0,1)\n",
        "plt.plot(x,y)\n",
        "plt.show()"
      ],
      "execution_count": 16,
      "outputs": [
        {
          "output_type": "display_data",
          "data": {
            "image/png": "[encoded data removed]",
            "text/plain": [
              "<Figure size 432x288 with 1 Axes>"
            ]
          },
          "metadata": {
            "tags": [],
            "needs_background": "light"
          }
        }
      ]
    },
    {
      "cell_type": "markdown",
      "metadata": {
        "id": "5cytwjRqk_41",
        "colab_type": "text"
      },
      "source": [
        "6.1.2. 산점도(Scatter plot)"
      ]
    },
    {
      "cell_type": "code",
      "metadata": {
        "id": "RG4bDVvoiVwQ",
        "colab_type": "code",
        "colab": {
          "base_uri": "https://localhost:8080/",
          "height": 530
        },
        "outputId": "bbb56cd6-7b4c-4260-dea3-6fe44f011558"
      },
      "source": [
        "plt.plot(x,y, 'bo')\n",
        "plt.show()\n",
        "plt.plot(x,y, 'go')\n"
      ],
      "execution_count": 17,
      "outputs": [
        {
          "output_type": "display_data",
          "data": {
            "image/png": "[encoded data removed]",
            "text/plain": [
              "<Figure size 432x288 with 1 Axes>"
            ]
          },
          "metadata": {
            "tags": [],
            "needs_background": "light"
          }
        },
        {
          "output_type": "execute_result",
          "data": {
            "text/plain": [
              "[<matplotlib.lines.Line2D at 0x7f52417cf9e8>]"
            ]
          },
          "metadata": {
            "tags": []
          },
          "execution_count": 17
        },
        {
          "output_type": "display_data",
          "data": {
            "image/png": "[encoded data removed]",
            "text/plain": [
              "<Figure size 432x288 with 1 Axes>"
            ]
          },
          "metadata": {
            "tags": [],
            "needs_background": "light"
          }
        }
      ]
    },
    {
      "cell_type": "code",
      "metadata": {
        "id": "829O7IH3uJTA",
        "colab_type": "code",
        "colab": {
          "base_uri": "https://localhost:8080/",
          "height": 122
        },
        "outputId": "e931d346-f0c4-4824-b8ba-21d744142338"
      },
      "source": [
        "print(x)\n",
        "print(y)"
      ],
      "execution_count": 18,
      "outputs": [
        {
          "output_type": "stream",
          "text": [
            "range(0, 20)\n",
            "tf.Tensor(\n",
            "[-1.6173269  -1.3333727  -1.0280563  -1.1978049   1.5945939   1.6206057\n",
            "  1.1910884   0.13348293  1.0843198   0.16204734 -0.7231202  -0.74368167\n",
            " -0.45205173  0.8915364   2.179247    1.1202989   1.2615631  -0.40344104\n",
            "  0.3304779  -0.99395764], shape=(20,), dtype=float32)\n"
          ],
          "name": "stdout"
        }
      ]
    },
    {
      "cell_type": "markdown",
      "metadata": {
        "id": "2eTyQkGxmNpd",
        "colab_type": "text"
      },
      "source": [
        "6.1.3. 히스토그램(Histogram)"
      ]
    },
    {
      "cell_type": "code",
      "metadata": {
        "id": "9SxZO5Zqieu-",
        "colab_type": "code",
        "colab": {
          "base_uri": "https://localhost:8080/",
          "height": 265
        },
        "outputId": "64772cc5-787d-4700-a52c-a80847400668"
      },
      "source": [
        "plt.hist(y, bins= 10)\n",
        "plt.show()"
      ],
      "execution_count": 19,
      "outputs": [
        {
          "output_type": "display_data",
          "data": {
            "image/png": "[encoded data removed]",
            "text/plain": [
              "<Figure size 432x288 with 1 Axes>"
            ]
          },
          "metadata": {
            "tags": [],
            "needs_background": "light"
          }
        }
      ]
    },
    {
      "cell_type": "markdown",
      "metadata": {
        "id": "0AfpP6f6mZfh",
        "colab_type": "text"
      },
      "source": [
        "6.2. 확률 변수 X가 정규분포(0,1)을 따를 때 그래프 - 값 고정"
      ]
    },
    {
      "cell_type": "markdown",
      "metadata": {
        "id": "ZtTzG4rwmhQI",
        "colab_type": "text"
      },
      "source": [
        "6.2.1 라인그래프(Line Gragh)"
      ]
    },
    {
      "cell_type": "code",
      "metadata": {
        "id": "zUwJUFuDixsq",
        "colab_type": "code",
        "colab": {
          "base_uri": "https://localhost:8080/",
          "height": 265
        },
        "outputId": "bde7d5b2-8aa2-47c7-cb1d-8aa5da6d550a"
      },
      "source": [
        "tf.random.set_seed(5);\n",
        "x = range(20)\n",
        "y = tf.random.normal([20],0,1, seed=1)\n",
        "plt.plot(x,y)\n",
        "plt.show()\n"
      ],
      "execution_count": 20,
      "outputs": [
        {
          "output_type": "display_data",
          "data": {
            "image/png": "[encoded data removed]",
            "text/plain": [
              "<Figure size 432x288 with 1 Axes>"
            ]
          },
          "metadata": {
            "tags": [],
            "needs_background": "light"
          }
        }
      ]
    },
    {
      "cell_type": "markdown",
      "metadata": {
        "id": "vwg2zFnsmoQf",
        "colab_type": "text"
      },
      "source": [
        "6.2.2. 산점도(Scatter plot)"
      ]
    },
    {
      "cell_type": "code",
      "metadata": {
        "id": "7BjqB2D9mDfc",
        "colab_type": "code",
        "colab": {
          "base_uri": "https://localhost:8080/",
          "height": 265
        },
        "outputId": "e309daa5-6ec7-4b7c-e896-d688c9905e53"
      },
      "source": [
        "plt.plot(x,y, 'go')\n",
        "plt.show()"
      ],
      "execution_count": 21,
      "outputs": [
        {
          "output_type": "display_data",
          "data": {
            "image/png": "[encoded data removed]",
            "text/plain": [
              "<Figure size 432x288 with 1 Axes>"
            ]
          },
          "metadata": {
            "tags": [],
            "needs_background": "light"
          }
        }
      ]
    },
    {
      "cell_type": "markdown",
      "metadata": {
        "id": "Jzq1J1jGmvdU",
        "colab_type": "text"
      },
      "source": [
        "6.2.3. Histogram"
      ]
    },
    {
      "cell_type": "code",
      "metadata": {
        "id": "3jmaHJ3ZmtdK",
        "colab_type": "code",
        "colab": {
          "base_uri": "https://localhost:8080/",
          "height": 265
        },
        "outputId": "efe1787d-04b5-4f80-8776-9e577f79788a"
      },
      "source": [
        "plt.hist(y, bins= 10)\n",
        "plt.show()"
      ],
      "execution_count": 22,
      "outputs": [
        {
          "output_type": "display_data",
          "data": {
            "image/png": "[encoded data removed]",
            "text/plain": [
              "<Figure size 432x288 with 1 Axes>"
            ]
          },
          "metadata": {
            "tags": [],
            "needs_background": "light"
          }
        }
      ]
    }
  ]
}