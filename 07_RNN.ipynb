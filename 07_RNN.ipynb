{
  "nbformat": 4,
  "nbformat_minor": 0,
  "metadata": {
    "colab": {
      "name": "07_RNN.ipynb",
      "provenance": [],
      "collapsed_sections": [],
      "authorship_tag": "ABX9TyNs8BbxJ6AfR9sdl++OT+ce",
      "include_colab_link": true
    },
    "kernelspec": {
      "name": "python3",
      "display_name": "Python 3"
    }
  },
  "cells": [
    {
      "cell_type": "markdown",
      "metadata": {
        "id": "view-in-github",
        "colab_type": "text"
      },
      "source": [
        "<a href=\"https://colab.research.google.com/github/LEESUAJE1978/deeplearning_sejong/blob/master/07_RNN.ipynb\" target=\"_parent\"><img src=\"https://colab.research.google.com/assets/colab-badge.svg\" alt=\"Open In Colab\"/></a>"
      ]
    },
    {
      "cell_type": "markdown",
      "metadata": {
        "id": "iHvdkNmusFw8",
        "colab_type": "text"
      },
      "source": [
        "0. 텐서 플로우 버전 선택"
      ]
    },
    {
      "cell_type": "code",
      "metadata": {
        "id": "aYNcq4Jm7VY6",
        "colab_type": "code",
        "colab": {
          "base_uri": "https://localhost:8080/",
          "height": 35
        },
        "outputId": "bd7ccb97-71c9-4650-d0bf-a9d8c8bfa271"
      },
      "source": [
        "#0. 텐서플로우 버전 선택\n",
        "try:\n",
        "    # %tensorflow_version only exists in Colab.\n",
        "    %tensorflow_version 1.x\n",
        "except Exception:\n",
        "    pass\n",
        "\n",
        "\n",
        "#https://sshkim.tistory.com/153\n",
        "#http://complx.me/2016-12-31-practical-seq2seq/\n"
      ],
      "execution_count": null,
      "outputs": [
        {
          "output_type": "stream",
          "text": [
            "TensorFlow 1.x selected.\n"
          ],
          "name": "stdout"
        }
      ]
    },
    {
      "cell_type": "markdown",
      "metadata": {
        "id": "kjVPjHGPsI06",
        "colab_type": "text"
      },
      "source": [
        "1. 패키지 불러오기"
      ]
    },
    {
      "cell_type": "code",
      "metadata": {
        "id": "ZSNEwR2elbDa",
        "colab_type": "code",
        "colab": {}
      },
      "source": [
        "import tensorflow as tf\n",
        "import numpy as np\n",
        "from tensorflow.contrib import rnn\n",
        "import pprint\n",
        "pp = pprint.PrettyPrinter(indent = 4) #데이터를 조금 더 보기 좋게 출력\n",
        "sess = tf.InteractiveSession()"
      ],
      "execution_count": null,
      "outputs": []
    },
    {
      "cell_type": "code",
      "metadata": {
        "id": "zQc2r-GCsVIB",
        "colab_type": "code",
        "colab": {}
      },
      "source": [
        "pprint.PrettyPrinter()"
      ],
      "execution_count": null,
      "outputs": []
    },
    {
      "cell_type": "markdown",
      "metadata": {
        "id": "fWjAiT0I8Rn4",
        "colab_type": "text"
      },
      "source": [
        "2. 문자 데이터 생성: 원핫인코딩(one hot encoding)"
      ]
    },
    {
      "cell_type": "code",
      "metadata": {
        "id": "G766NoRr3UMM",
        "colab_type": "code",
        "colab": {}
      },
      "source": [
        "h = [1,0,0,0]\n",
        "e = [0,1,0,0]\n",
        "l = [0,0,1,0]\n",
        "o = [0,0,0,1]"
      ],
      "execution_count": null,
      "outputs": []
    },
    {
      "cell_type": "markdown",
      "metadata": {
        "id": "IKrUtV8gsHNI",
        "colab_type": "text"
      },
      "source": [
        "3. Cell 생성: input.shape(1,1,4), output(1,1,2) hidden size = output size"
      ]
    },
    {
      "cell_type": "code",
      "metadata": {
        "id": "nAStzJ2Z37op",
        "colab_type": "code",
        "colab": {
          "base_uri": "https://localhost:8080/",
          "height": 109
        },
        "outputId": "cf1f36ad-6bcc-4098-aced-337df40d9fbc"
      },
      "source": [
        "sess = tf.InteractiveSession() #세션 열기\n",
        "\n",
        "with tf.variable_scope('one_cell') as scope:\n",
        "  #One Cell RNN input_dim(4 -> output_dim(2)\n",
        "  hidden_size = 2\n",
        "  cell = tf.nn.rnn_cell.BasicRNNCell(num_units= hidden_size, activation= 'tanh')\n",
        "  #cell = tf.keras.layers.SimpleRNNCell(units=hidden_size)\n",
        "  print(cell.output_size, cell.state_size)\n",
        "  \n",
        "  x_data = np.array([[h]], dtype=np.float32)\n",
        "  #print(x_data)\n",
        "  #pp.pprint(x_data)\n",
        "  outputs, states = tf.nn.dynamic_rnn(cell, x_data, dtype = tf.float32)\n",
        "  sess.run(tf.global_variables_initializer())\n",
        "  pp.pprint(outputs.eval())"
      ],
      "execution_count": null,
      "outputs": [
        {
          "output_type": "stream",
          "text": [
            "2 2\n",
            "array([[[-0.39074057,  0.54641414]]], dtype=float32)\n"
          ],
          "name": "stdout"
        },
        {
          "output_type": "stream",
          "text": [
            "/tensorflow-1.15.2/python3.6/tensorflow_core/python/client/session.py:1750: UserWarning: An interactive session is already active. This can cause out-of-memory errors in some cases. You must explicitly call `InteractiveSession.close()` to release resources held by the other session(s).\n",
            "  warnings.warn('An interactive session is already active. This can '\n"
          ],
          "name": "stderr"
        }
      ]
    },
    {
      "cell_type": "code",
      "metadata": {
        "id": "Npty3-42y6lU",
        "colab_type": "code",
        "colab": {}
      },
      "source": [
        "tf.reset_default_graph() #초기화 "
      ],
      "execution_count": null,
      "outputs": []
    },
    {
      "cell_type": "markdown",
      "metadata": {
        "id": "-pUmhqpqsq4v",
        "colab_type": "text"
      },
      "source": [
        "4. 시퀀스 생성(Sequence Generation) 5 sequence case, unfolding"
      ]
    },
    {
      "cell_type": "code",
      "metadata": {
        "id": "wEn-YvlGVPlg",
        "colab_type": "code",
        "colab": {
          "base_uri": "https://localhost:8080/",
          "height": 215
        },
        "outputId": "fe38d03a-790a-410f-a318-d1c218ae4df5"
      },
      "source": [
        "with tf.variable_scope('five_squences') as scope:\n",
        "  #one cell RNN input_dim(4) -> output_dim(2). sequence:5\n",
        "  hidden_size = 2\n",
        "  cell = tf.nn.rnn_cell.BasicRNNCell(num_units= hidden_size, activation= 'tanh')\n",
        "  #cell = tf.keras.layers.SimpleRNNCell(units=hidden_size)\n",
        "  x_data = np.array([[h,e,l,l,o]], dtype=np.float32)\n",
        "  print(x_data.shape)\n",
        "  pp.pprint(x_data)\n",
        "  #print(x_data)\n",
        "  outputs, _states = tf.nn.dynamic_rnn(cell, x_data, dtype=tf.float32)\n",
        "  sess.run(tf.global_variables_initializer())\n",
        "  print(\"output:\", outputs.eval())"
      ],
      "execution_count": null,
      "outputs": [
        {
          "output_type": "stream",
          "text": [
            "(1, 5, 4)\n",
            "array([[[1., 0., 0., 0.],\n",
            "        [0., 1., 0., 0.],\n",
            "        [0., 0., 1., 0.],\n",
            "        [0., 0., 1., 0.],\n",
            "        [0., 0., 0., 1.]]], dtype=float32)\n",
            "output: [[[-0.37510583  0.45925424]\n",
            "  [-0.5939723   0.82202166]\n",
            "  [-0.2795796   0.8758886 ]\n",
            "  [-0.40267962  0.81773204]\n",
            "  [-0.19215012  0.81724626]]]\n"
          ],
          "name": "stdout"
        }
      ]
    },
    {
      "cell_type": "markdown",
      "metadata": {
        "id": "qbhcHta5sps6",
        "colab_type": "text"
      },
      "source": [
        "5. 3 batch 추가하기"
      ]
    },
    {
      "cell_type": "code",
      "metadata": {
        "id": "cGWb5cZvtaND",
        "colab_type": "code",
        "colab": {
          "base_uri": "https://localhost:8080/",
          "height": 629
        },
        "outputId": "c50e7aea-162a-4b3d-a6d2-992be88f3dab"
      },
      "source": [
        "with tf.variable_scope('3_batches') as scope:\n",
        "  x_data = np.array([[h,e,l,l,o],\n",
        "                     [e,o,l,l,l],\n",
        "                     [l,l,e,e,l]], dtype = np.float32)\n",
        "  pp.pprint(x_data)\n",
        "  hidden_size = 2\n",
        "  cell = tf.nn.rnn_cell.BasicRNNCell(num_units= hidden_size, activation= 'tanh', reuse=True)\n",
        "  outputs, _states = tf.nn.dynamic_rnn(cell, x_data, dtype=tf.float32)\n",
        "  sess.run(tf.global_variables_initializer())\n",
        "  pp.pprint(outputs.eval())"
      ],
      "execution_count": null,
      "outputs": [
        {
          "output_type": "stream",
          "text": [
            "array([[[1., 0., 0., 0.],\n",
            "        [0., 1., 0., 0.],\n",
            "        [0., 0., 1., 0.],\n",
            "        [0., 0., 1., 0.],\n",
            "        [0., 0., 0., 1.]],\n",
            "\n",
            "       [[0., 1., 0., 0.],\n",
            "        [0., 0., 0., 1.],\n",
            "        [0., 0., 1., 0.],\n",
            "        [0., 0., 1., 0.],\n",
            "        [0., 0., 1., 0.]],\n",
            "\n",
            "       [[0., 0., 1., 0.],\n",
            "        [0., 0., 1., 0.],\n",
            "        [0., 1., 0., 0.],\n",
            "        [0., 1., 0., 0.],\n",
            "        [0., 0., 1., 0.]]], dtype=float32)\n",
            "array([[[-0.3928772 ,  0.28243938],\n",
            "        [ 0.47264907, -0.52239746],\n",
            "        [ 0.15453476,  0.68916184],\n",
            "        [ 0.7547219 , -0.14099404],\n",
            "        [ 0.5561704 ,  0.5437676 ]],\n",
            "\n",
            "       [[ 0.37296227, -0.12942494],\n",
            "        [ 0.5007543 ,  0.32722932],\n",
            "        [ 0.65996814,  0.31488758],\n",
            "        [ 0.67467415,  0.41632968],\n",
            "        [ 0.7152587 ,  0.37042257]],\n",
            "\n",
            "       [[ 0.4116896 ,  0.18737596],\n",
            "        [ 0.5843126 ,  0.33954635],\n",
            "        [ 0.649735  ,  0.05574571],\n",
            "        [ 0.5218184 ,  0.2738814 ],\n",
            "        [ 0.6398249 ,  0.357773  ]]], dtype=float32)\n"
          ],
          "name": "stdout"
        }
      ]
    },
    {
      "cell_type": "markdown",
      "metadata": {
        "id": "DF6KdsK-17NI",
        "colab_type": "text"
      },
      "source": [
        "6. batch 별 Sequence Variation"
      ]
    },
    {
      "cell_type": "code",
      "metadata": {
        "id": "7k1lEBNk1-OX",
        "colab_type": "code",
        "colab": {
          "base_uri": "https://localhost:8080/",
          "height": 683
        },
        "outputId": "a92a5a15-da47-44ce-fced-08de00e43c9a"
      },
      "source": [
        "with tf.variable_scope('3_batches') as scope:\n",
        "  x_data = np.array([[h,e,l,l,o],\n",
        "                     [e,o,l,l,l],\n",
        "                     [l,l,e,e,l]], dtype = np.float32)\n",
        "  pp.pprint(x_data)\n",
        "  hidden_size = 2\n",
        "  #cell = tf.nn.rnn_cell.BasicRNNCell(num_units= hidden_size, activation= 'tanh')\n",
        "  cell = tf.keras.layers.SimpleRNNCell(units=hidden_size)\n",
        "  outputs, _states = tf.nn.dynamic_rnn(cell, x_data, sequence_length=[5,4,2], dtype=tf.float32)\n",
        "  sess.run(tf.global_variables_initializer())\n",
        "  pp.pprint(outputs.eval())\n",
        "  "
      ],
      "execution_count": null,
      "outputs": [
        {
          "output_type": "stream",
          "text": [
            "array([[[1., 0., 0., 0.],\n",
            "        [0., 1., 0., 0.],\n",
            "        [0., 0., 1., 0.],\n",
            "        [0., 0., 1., 0.],\n",
            "        [0., 0., 0., 1.]],\n",
            "\n",
            "       [[0., 1., 0., 0.],\n",
            "        [0., 0., 0., 1.],\n",
            "        [0., 0., 1., 0.],\n",
            "        [0., 0., 1., 0.],\n",
            "        [0., 0., 1., 0.]],\n",
            "\n",
            "       [[0., 0., 1., 0.],\n",
            "        [0., 0., 1., 0.],\n",
            "        [0., 1., 0., 0.],\n",
            "        [0., 1., 0., 0.],\n",
            "        [0., 0., 1., 0.]]], dtype=float32)\n",
            "WARNING:tensorflow:From /tensorflow-1.15.2/python3.6/tensorflow_core/python/ops/rnn.py:244: where (from tensorflow.python.ops.array_ops) is deprecated and will be removed in a future version.\n",
            "Instructions for updating:\n",
            "Use tf.where in 2.0, which has the same broadcast rule as np.where\n",
            "array([[[ 0.58715814,  0.33818203],\n",
            "        [ 0.11921459,  0.01006974],\n",
            "        [-0.38844317,  0.51570195],\n",
            "        [-0.48579237, -0.13499208],\n",
            "        [ 0.862683  , -0.78295153]],\n",
            "\n",
            "       [[ 0.6258553 , -0.2680938 ],\n",
            "        [ 0.6479483 , -0.06772559],\n",
            "        [-0.5724471 ,  0.78078264],\n",
            "        [-0.565644  , -0.41279504],\n",
            "        [ 0.        ,  0.        ]],\n",
            "\n",
            "       [[-0.32123303,  0.44532415],\n",
            "        [-0.47132123, -0.04031159],\n",
            "        [ 0.        ,  0.        ],\n",
            "        [ 0.        ,  0.        ],\n",
            "        [ 0.        ,  0.        ]]], dtype=float32)\n"
          ],
          "name": "stdout"
        }
      ]
    },
    {
      "cell_type": "markdown",
      "metadata": {
        "id": "D-ostFxjLXRR",
        "colab_type": "text"
      },
      "source": [
        "7. flatten based softmax"
      ]
    },
    {
      "cell_type": "code",
      "metadata": {
        "id": "4wWZMAFqMl9o",
        "colab_type": "code",
        "colab": {
          "base_uri": "https://localhost:8080/",
          "height": 323
        },
        "outputId": "608b4796-df48-4559-a11b-b85edaa9ea55"
      },
      "source": [
        "x_data = np.arange(45, dtype=np.float32).reshape(3,5,3)\n",
        "pp.pprint(x_data) "
      ],
      "execution_count": null,
      "outputs": [
        {
          "output_type": "stream",
          "text": [
            "array([[[ 0.,  1.,  2.],\n",
            "        [ 3.,  4.,  5.],\n",
            "        [ 6.,  7.,  8.],\n",
            "        [ 9., 10., 11.],\n",
            "        [12., 13., 14.]],\n",
            "\n",
            "       [[15., 16., 17.],\n",
            "        [18., 19., 20.],\n",
            "        [21., 22., 23.],\n",
            "        [24., 25., 26.],\n",
            "        [27., 28., 29.]],\n",
            "\n",
            "       [[30., 31., 32.],\n",
            "        [33., 34., 35.],\n",
            "        [36., 37., 38.],\n",
            "        [39., 40., 41.],\n",
            "        [42., 43., 44.]]], dtype=float32)\n"
          ],
          "name": "stdout"
        }
      ]
    },
    {
      "cell_type": "code",
      "metadata": {
        "id": "eNz5lxQmLaSm",
        "colab_type": "code",
        "colab": {
          "base_uri": "https://localhost:8080/",
          "height": 377
        },
        "outputId": "5a9a7e13-880f-4281-97eb-77a21ee52cce"
      },
      "source": [
        "hidden_size = 3\n",
        "sequence_length = 5\n",
        "batch_size = 3\n",
        "num_classes = 5\n",
        "\n",
        "x_data = np.arange(45, dtype=np.float32).reshape(-1, hidden_size) #15 X 3\n",
        "print(x_data.shape) \n",
        "softmax_w = np.arange(15, dtype=np.float32).reshape(hidden_size, num_classes)\n",
        "print(softmax_w.shape)\n",
        "outputs = np.matmul(x_data, softmax_w)\n",
        "outputs = outputs.reshape(-1, sequence_length, num_classes)\n",
        "pp.pprint(outputs)\n",
        "print(outputs.shape)"
      ],
      "execution_count": null,
      "outputs": [
        {
          "output_type": "stream",
          "text": [
            "(15, 3)\n",
            "(3, 5)\n",
            "array([[[  25.,   28.,   31.,   34.,   37.],\n",
            "        [  70.,   82.,   94.,  106.,  118.],\n",
            "        [ 115.,  136.,  157.,  178.,  199.],\n",
            "        [ 160.,  190.,  220.,  250.,  280.],\n",
            "        [ 205.,  244.,  283.,  322.,  361.]],\n",
            "\n",
            "       [[ 250.,  298.,  346.,  394.,  442.],\n",
            "        [ 295.,  352.,  409.,  466.,  523.],\n",
            "        [ 340.,  406.,  472.,  538.,  604.],\n",
            "        [ 385.,  460.,  535.,  610.,  685.],\n",
            "        [ 430.,  514.,  598.,  682.,  766.]],\n",
            "\n",
            "       [[ 475.,  568.,  661.,  754.,  847.],\n",
            "        [ 520.,  622.,  724.,  826.,  928.],\n",
            "        [ 565.,  676.,  787.,  898., 1009.],\n",
            "        [ 610.,  730.,  850.,  970., 1090.],\n",
            "        [ 655.,  784.,  913., 1042., 1171.]]], dtype=float32)\n",
            "(3, 5, 5)\n"
          ],
          "name": "stdout"
        }
      ]
    },
    {
      "cell_type": "markdown",
      "metadata": {
        "id": "mUgqnuoR6sjA",
        "colab_type": "text"
      },
      "source": [
        "8. Loss 계산하기"
      ]
    },
    {
      "cell_type": "code",
      "metadata": {
        "id": "RYz37z5MNXDx",
        "colab_type": "code",
        "colab": {
          "base_uri": "https://localhost:8080/",
          "height": 35
        },
        "outputId": "c1d0363c-9ff6-4a02-ebf5-768a22df82bd"
      },
      "source": [
        "y_data = tf.constant([[1,1,1]])\n",
        "sess = tf.Session()\n",
        "print(sess.run(y_data))"
      ],
      "execution_count": null,
      "outputs": [
        {
          "output_type": "stream",
          "text": [
            "[[1 1 1]]\n"
          ],
          "name": "stdout"
        }
      ]
    },
    {
      "cell_type": "code",
      "metadata": {
        "id": "TgbXRzNNN_nL",
        "colab_type": "code",
        "colab": {
          "base_uri": "https://localhost:8080/",
          "height": 179
        },
        "outputId": "2d503657-4c3a-49f1-948e-9dd0359646ef"
      },
      "source": [
        "prediction = tf.constant([[[0.2,0.7], [0.6,0.2],[0.2,0.9]]], dtype = tf.float32)\n",
        "weights = tf.constant([[1,1,1]], dtype = tf.float32)\n",
        "\n",
        "sequence_loss = tf.contrib.seq2seq.sequence_loss(logits=prediction, targets=y_data, weights=weights)\n",
        "sess.run(tf.global_variables_initializer())\n",
        "print(\"Loss: \", sequence_loss.eval())"
      ],
      "execution_count": null,
      "outputs": [
        {
          "output_type": "stream",
          "text": [
            "WARNING:tensorflow:\n",
            "The TensorFlow contrib module will not be included in TensorFlow 2.0.\n",
            "For more information, please see:\n",
            "  * https://github.com/tensorflow/community/blob/master/rfcs/20180907-contrib-sunset.md\n",
            "  * https://github.com/tensorflow/addons\n",
            "  * https://github.com/tensorflow/io (for I/O related ops)\n",
            "If you depend on functionality not listed there, please file an issue.\n",
            "\n",
            "Loss:  0.5967595\n"
          ],
          "name": "stdout"
        }
      ]
    },
    {
      "cell_type": "code",
      "metadata": {
        "id": "2dJKRM0oiVKN",
        "colab_type": "code",
        "colab": {}
      },
      "source": [
        ""
      ],
      "execution_count": null,
      "outputs": []
    }
  ]
}