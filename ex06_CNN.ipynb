{
  "nbformat": 4,
  "nbformat_minor": 0,
  "metadata": {
    "colab": {
      "name": "ex06_CNN.ipynb",
      "provenance": [],
      "authorship_tag": "ABX9TyMNrj57mPMWmrIztOfELgyO",
      "include_colab_link": true
    },
    "kernelspec": {
      "name": "python3",
      "display_name": "Python 3"
    }
  },
  "cells": [
    {
      "cell_type": "markdown",
      "metadata": {
        "id": "view-in-github",
        "colab_type": "text"
      },
      "source": [
        "<a href=\"https://colab.research.google.com/github/LEESUAJE1978/deeplearning_sejong/blob/master/ex06_CNN.ipynb\" target=\"_parent\"><img src=\"https://colab.research.google.com/assets/colab-badge.svg\" alt=\"Open In Colab\"/></a>"
      ]
    },
    {
      "cell_type": "markdown",
      "metadata": {
        "id": "nCDhxqii77Wf",
        "colab_type": "text"
      },
      "source": [
        "0. 텐서플로우 버전 선택"
      ]
    },
    {
      "cell_type": "code",
      "metadata": {
        "id": "8r9Bph1975o3",
        "colab_type": "code",
        "colab": {}
      },
      "source": [
        "#0. 텐서플로우 버전 선택\n",
        "try:\n",
        "    # %tensorflow_version only exists in Colab.\n",
        "    %tensorflow_version 1.x\n",
        "except Exception:\n",
        "    pass"
      ],
      "execution_count": null,
      "outputs": []
    },
    {
      "cell_type": "markdown",
      "metadata": {
        "id": "JV8-ly7s8q-e",
        "colab_type": "text"
      },
      "source": [
        "1. 패키지 import"
      ]
    },
    {
      "cell_type": "code",
      "metadata": {
        "id": "TR23omGD8qcm",
        "colab_type": "code",
        "colab": {}
      },
      "source": [
        "%matplotlib inline\n",
        "import numpy as np\n",
        "import tensorflow as tf\n",
        "import matplotlib.pyplot as plt\n"
      ],
      "execution_count": null,
      "outputs": []
    },
    {
      "cell_type": "markdown",
      "metadata": {
        "id": "2sDdVAIzAZNB",
        "colab_type": "text"
      },
      "source": [
        "2. image 데이터 생성(9개의 이미지)"
      ]
    },
    {
      "cell_type": "code",
      "metadata": {
        "id": "N1_PApz67_FU",
        "colab_type": "code",
        "colab": {
          "base_uri": "https://localhost:8080/",
          "height": 344
        },
        "outputId": "7bc5babd-e579-4288-971b-212b919a93a9"
      },
      "source": [
        "sess = tf.InteractiveSession()\n",
        "image = np.array([[[[1],[2],[3]],\n",
        "                  [[4],[5],[6]],\n",
        "                  [[7],[8],[9]]]], dtype = np.float32)\n",
        "print(image.shape)\n",
        "plt.imshow(image.reshape(3,3), cmap= 'viridis')\n",
        "plt.show()"
      ],
      "execution_count": 100,
      "outputs": [
        {
          "output_type": "stream",
          "text": [
            "(1, 3, 3, 1)\n"
          ],
          "name": "stdout"
        },
        {
          "output_type": "stream",
          "text": [
            "/tensorflow-1.15.2/python3.6/tensorflow_core/python/client/session.py:1750: UserWarning: An interactive session is already active. This can cause out-of-memory errors in some cases. You must explicitly call `InteractiveSession.close()` to release resources held by the other session(s).\n",
            "  warnings.warn('An interactive session is already active. This can '\n"
          ],
          "name": "stderr"
        },
        {
          "output_type": "display_data",
          "data": {
            "image/png": "[encoded data removed]",
            "text/plain": [
              "<Figure size 432x288 with 1 Axes>"
            ]
          },
          "metadata": {
            "tags": [],
            "needs_background": "light"
          }
        }
      ]
    },
    {
      "cell_type": "markdown",
      "metadata": {
        "id": "inF9iqVBA0LK",
        "colab_type": "text"
      },
      "source": [
        "3. 필터생성"
      ]
    },
    {
      "cell_type": "markdown",
      "metadata": {
        "id": "-Lx6qzjdA2-U",
        "colab_type": "text"
      },
      "source": [
        "3.1. 2 by 1 필터"
      ]
    },
    {
      "cell_type": "code",
      "metadata": {
        "id": "7V8YnH-t9Lkw",
        "colab_type": "code",
        "colab": {
          "base_uri": "https://localhost:8080/",
          "height": 342
        },
        "outputId": "13c12c39-5b22-490e-a7ab-30ef99dd3c6b"
      },
      "source": [
        "print(image.shape)\n",
        "weight = tf.constant([[[[1]]],\n",
        "                      [[[1]]]], dtype = np.float32)\n",
        "print(\"weight.shape\", weight.shape)\n",
        "conv2d = tf.nn.conv2d(image, weight, strides=[1,1], padding='VALID') \n",
        "conv2d_img = conv2d.eval()\n",
        "print(\"conv2d_img.shape\", conv2d_img.shape)\n",
        "plt.imshow(conv2d_img.reshape(2,3), cmap= 'viridis')"
      ],
      "execution_count": 84,
      "outputs": [
        {
          "output_type": "stream",
          "text": [
            "(1, 3, 3, 1)\n",
            "weight.shape (2, 1, 1, 1)\n",
            "conv2d_img.shape (1, 2, 3, 1)\n"
          ],
          "name": "stdout"
        },
        {
          "output_type": "execute_result",
          "data": {
            "text/plain": [
              "<matplotlib.image.AxesImage at 0x7fcbcbb6c390>"
            ]
          },
          "metadata": {
            "tags": []
          },
          "execution_count": 84
        },
        {
          "output_type": "display_data",
          "data": {
            "image/png": "[encoded data removed]",
            "text/plain": [
              "<Figure size 432x288 with 1 Axes>"
            ]
          },
          "metadata": {
            "tags": [],
            "needs_background": "light"
          }
        }
      ]
    },
    {
      "cell_type": "markdown",
      "metadata": {
        "id": "0l7J4unu-0nh",
        "colab_type": "text"
      },
      "source": [
        "3.2. 2 by 2 필터"
      ]
    },
    {
      "cell_type": "code",
      "metadata": {
        "id": "ZFXgOHbucFRG",
        "colab_type": "code",
        "colab": {
          "base_uri": "https://localhost:8080/",
          "height": 342
        },
        "outputId": "478fb3d0-65be-4ceb-907d-fb495a110bee"
      },
      "source": [
        "print(image.shape)\n",
        "weight = tf.constant([[[[1.]],[[1.]]],\n",
        "                      [[[1.]],[[1.]]]])  # dtype 설정 주의\n",
        "print(\"weight.shape\", weight.shape)\n",
        "conv2d = tf.nn.conv2d(image, weight, strides=[1,1], padding='VALID')\n",
        "conv2d_img = conv2d.eval()\n",
        "print(\"conv2d_img.shape\", conv2d_img.shape)\n",
        "plt.imshow(conv2d_img.reshape(2,2), cmap= 'viridis')"
      ],
      "execution_count": 85,
      "outputs": [
        {
          "output_type": "stream",
          "text": [
            "(1, 3, 3, 1)\n",
            "weight.shape (2, 2, 1, 1)\n",
            "conv2d_img.shape (1, 2, 2, 1)\n"
          ],
          "name": "stdout"
        },
        {
          "output_type": "execute_result",
          "data": {
            "text/plain": [
              "<matplotlib.image.AxesImage at 0x7fcbcbb48748>"
            ]
          },
          "metadata": {
            "tags": []
          },
          "execution_count": 85
        },
        {
          "output_type": "display_data",
          "data": {
            "image/png": "[encoded data removed]",
            "text/plain": [
              "<Figure size 432x288 with 1 Axes>"
            ]
          },
          "metadata": {
            "tags": [],
            "needs_background": "light"
          }
        }
      ]
    },
    {
      "cell_type": "markdown",
      "metadata": {
        "id": "iUDzUnsSB6Wf",
        "colab_type": "text"
      },
      "source": [
        "4. 패딩(Padding)적용"
      ]
    },
    {
      "cell_type": "markdown",
      "metadata": {
        "id": "l-Ym8B1iCRE0",
        "colab_type": "text"
      },
      "source": [
        "4.1. 2 by 1 필터에 패딩 적용"
      ]
    },
    {
      "cell_type": "code",
      "metadata": {
        "id": "Q8MbAwHXCIE6",
        "colab_type": "code",
        "colab": {
          "base_uri": "https://localhost:8080/",
          "height": 342
        },
        "outputId": "2682977b-aae3-44ed-c4c4-f4066812ac6d"
      },
      "source": [
        "print(image.shape)\n",
        "weight = tf.constant([[[[1]]],\n",
        "                      [[[1]]]], dtype = np.float32) #(구조, 구조, 색, 필터수)\n",
        "print(\"weight.shape\", weight.shape)\n",
        "conv2d = tf.nn.conv2d(image, weight, strides=[1,1], padding='SAME') \n",
        "conv2d_img = conv2d.eval()\n",
        "print(\"conv2d_img.shape\", conv2d_img.shape)\n",
        "plt.imshow(conv2d_img.reshape(3,3), cmap= 'viridis')"
      ],
      "execution_count": 88,
      "outputs": [
        {
          "output_type": "stream",
          "text": [
            "(1, 3, 3, 1)\n",
            "weight.shape (2, 1, 1, 1)\n",
            "conv2d_img.shape (1, 3, 3, 1)\n"
          ],
          "name": "stdout"
        },
        {
          "output_type": "execute_result",
          "data": {
            "text/plain": [
              "<matplotlib.image.AxesImage at 0x7fcbcba934a8>"
            ]
          },
          "metadata": {
            "tags": []
          },
          "execution_count": 88
        },
        {
          "output_type": "display_data",
          "data": {
            "image/png": "[encoded data removed]",
            "text/plain": [
              "<Figure size 432x288 with 1 Axes>"
            ]
          },
          "metadata": {
            "tags": [],
            "needs_background": "light"
          }
        }
      ]
    },
    {
      "cell_type": "markdown",
      "metadata": {
        "id": "Q9IOPGoXCWY1",
        "colab_type": "text"
      },
      "source": [
        "4.2. 2 by 2 필터에 패딩 적용"
      ]
    },
    {
      "cell_type": "code",
      "metadata": {
        "id": "C4oKu4AgVMH6",
        "colab_type": "code",
        "colab": {
          "base_uri": "https://localhost:8080/",
          "height": 342
        },
        "outputId": "bb9e8eb7-8619-4fa3-dfed-e38b167be62d"
      },
      "source": [
        "print(image.shape)\n",
        "weight = tf.constant([[[[1.]],[[1.]]],\n",
        "                      [[[1.]],[[1.]]]]) #(구조, 구조, 색, 필터수)\n",
        "print(\"weight.shape\", weight.shape)\n",
        "conv2d = tf.nn.conv2d(image, weight, strides=[1,1], padding='SAME')\n",
        "conv2d_img = conv2d.eval()\n",
        "print(\"conv2d_img.shape\", conv2d_img.shape)\n",
        "plt.imshow(conv2d_img.reshape(3,3), cmap= 'viridis')"
      ],
      "execution_count": 89,
      "outputs": [
        {
          "output_type": "stream",
          "text": [
            "(1, 3, 3, 1)\n",
            "weight.shape (2, 2, 1, 1)\n",
            "conv2d_img.shape (1, 3, 3, 1)\n"
          ],
          "name": "stdout"
        },
        {
          "output_type": "execute_result",
          "data": {
            "text/plain": [
              "<matplotlib.image.AxesImage at 0x7fcbcb9e9fd0>"
            ]
          },
          "metadata": {
            "tags": []
          },
          "execution_count": 89
        },
        {
          "output_type": "display_data",
          "data": {
            "image/png": "[encoded data removed]",
            "text/plain": [
              "<Figure size 432x288 with 1 Axes>"
            ]
          },
          "metadata": {
            "tags": [],
            "needs_background": "light"
          }
        }
      ]
    },
    {
      "cell_type": "markdown",
      "metadata": {
        "id": "CzxKnbyyFkyp",
        "colab_type": "text"
      },
      "source": [
        "4.3. 2 by 2 구조에 3 필터 적용"
      ]
    },
    {
      "cell_type": "code",
      "metadata": {
        "id": "nOLbHieGFqZb",
        "colab_type": "code",
        "colab": {
          "base_uri": "https://localhost:8080/",
          "height": 346
        },
        "outputId": "e98a4eb5-b706-4ffb-8e96-60ad1cc4679b"
      },
      "source": [
        "weight = tf.constant([[[[1.,10.,-1.]],[[1.,10.,-1.]]],\n",
        "                      [[[1.,10.,-1.]],[[1.,10.,-1.]]]])\n",
        "print(\"weight.shape\", weight.shape)\n",
        "conv2d = tf.nn.conv2d(image, weight, strides=[1, 1, 1, 1], padding='SAME')\n",
        "conv2d_img = conv2d.eval()\n",
        "print(\"conv2d_img.shape\", conv2d_img.shape)\n",
        "conv2d_img = np.swapaxes(conv2d_img, 0, 3)\n",
        "for i, one_img in enumerate(conv2d_img):\n",
        "    print(one_img.reshape(3,3))\n",
        "    plt.subplot(1,3,i+1), plt.imshow(one_img.reshape(3,3), cmap='viridis')"
      ],
      "execution_count": 102,
      "outputs": [
        {
          "output_type": "stream",
          "text": [
            "weight.shape (2, 2, 1, 3)\n",
            "conv2d_img.shape (1, 3, 3, 3)\n",
            "[[12. 16.  9.]\n",
            " [24. 28. 15.]\n",
            " [15. 17.  9.]]\n",
            "[[120. 160.  90.]\n",
            " [240. 280. 150.]\n",
            " [150. 170.  90.]]\n",
            "[[-12. -16.  -9.]\n",
            " [-24. -28. -15.]\n",
            " [-15. -17.  -9.]]\n"
          ],
          "name": "stdout"
        },
        {
          "output_type": "display_data",
          "data": {
            "image/png": "[encoded data removed]",
            "text/plain": [
              "<Figure size 432x288 with 3 Axes>"
            ]
          },
          "metadata": {
            "tags": [],
            "needs_background": "light"
          }
        }
      ]
    },
    {
      "cell_type": "markdown",
      "metadata": {
        "id": "ns8RrhVsCdul",
        "colab_type": "text"
      },
      "source": [
        "PoP Quiz: 이미지 데이터가 (1,4,4,1)이고 필터가(2,2,1,1)일 때 conv2d_img 의 shape은 어떻게 되는지? 그리고 그래프를 그리기 위한 reshape은 어떻게 해야 하는지?"
      ]
    },
    {
      "cell_type": "code",
      "metadata": {
        "id": "eW4Y4EGYQIuE",
        "colab_type": "code",
        "colab": {
          "base_uri": "https://localhost:8080/",
          "height": 287
        },
        "outputId": "60594532-d060-4cf2-95ee-03890f79417e"
      },
      "source": [
        "image = np.array([[[[1],[2],[3],[4]],\n",
        "                  [[5],[6],[7],[8]],\n",
        "                  [[9],[10],[11],[12]],\n",
        "                  [[13],[14],[15],[16]]]], dtype = np.float32)\n",
        "print(image.shape)\n",
        "plt.imshow(image.reshape(4,4), cmap= 'viridis')\n",
        "plt.show()"
      ],
      "execution_count": 90,
      "outputs": [
        {
          "output_type": "stream",
          "text": [
            "(1, 4, 4, 1)\n"
          ],
          "name": "stdout"
        },
        {
          "output_type": "display_data",
          "data": {
            "image/png": "[encoded data removed]",
            "text/plain": [
              "<Figure size 432x288 with 1 Axes>"
            ]
          },
          "metadata": {
            "tags": [],
            "needs_background": "light"
          }
        }
      ]
    },
    {
      "cell_type": "code",
      "metadata": {
        "id": "v0D723UoQOlN",
        "colab_type": "code",
        "colab": {
          "base_uri": "https://localhost:8080/",
          "height": 342
        },
        "outputId": "8ff29a1e-fb53-4652-e747-44ec6f3f4288"
      },
      "source": [
        "print(image.shape)\n",
        "weight = tf.constant([[[[1.]],[[1.]]],\n",
        "                      [[[1.]],[[1.]]]])  # dtype 설정 주의 , #(구조, 구조, 색, 필터수)\n",
        "print(\"weight.shape\", weight.shape)\n",
        "conv2d = tf.nn.conv2d(image, weight, strides=[1,1], padding='VALID')\n",
        "conv2d_img = conv2d.eval()\n",
        "print(\"conv2d_img.shape\", conv2d_img.shape)\n",
        "plt.imshow(conv2d_img.reshape(3,3), cmap= 'viridis')"
      ],
      "execution_count": 95,
      "outputs": [
        {
          "output_type": "stream",
          "text": [
            "(1, 4, 4, 1)\n",
            "weight.shape (2, 2, 1, 1)\n",
            "conv2d_img.shape (1, 3, 3, 1)\n"
          ],
          "name": "stdout"
        },
        {
          "output_type": "execute_result",
          "data": {
            "text/plain": [
              "<matplotlib.image.AxesImage at 0x7fcbcb8a5e48>"
            ]
          },
          "metadata": {
            "tags": []
          },
          "execution_count": 95
        },
        {
          "output_type": "display_data",
          "data": {
            "image/png": "[encoded data removed]",
            "text/plain": [
              "<Figure size 432x288 with 1 Axes>"
            ]
          },
          "metadata": {
            "tags": [],
            "needs_background": "light"
          }
        }
      ]
    },
    {
      "cell_type": "markdown",
      "metadata": {
        "id": "aOA3Aj_YIE0g",
        "colab_type": "text"
      },
      "source": [
        "5. max pooling방식"
      ]
    },
    {
      "cell_type": "markdown",
      "metadata": {
        "id": "RVj28lidI3Bh",
        "colab_type": "text"
      },
      "source": [
        "5.1. padding = 'valid'"
      ]
    },
    {
      "cell_type": "code",
      "metadata": {
        "id": "8OC2ANKZae2D",
        "colab_type": "code",
        "colab": {
          "base_uri": "https://localhost:8080/",
          "height": 72
        },
        "outputId": "e17eb682-cf6c-45a4-bb09-3c6ea977640a"
      },
      "source": [
        "image = np.array([[[[4],[3]],[[2],[1]]]], dtype=np.float32)\n",
        "pool = tf.nn.max_pool(image, ksize=[1, 2, 2, 1], strides=[1, 1, 1, 1], padding='VALID')\n",
        "print(image.shape)\n",
        "print(pool.shape)\n",
        "print(pool.eval())"
      ],
      "execution_count": 109,
      "outputs": [
        {
          "output_type": "stream",
          "text": [
            "(1, 2, 2, 1)\n",
            "(1, 1, 1, 1)\n",
            "[[[[4.]]]]\n"
          ],
          "name": "stdout"
        }
      ]
    },
    {
      "cell_type": "markdown",
      "metadata": {
        "id": "1xDWTvk5I-6Z",
        "colab_type": "text"
      },
      "source": [
        "5.2. padding = 'SAME'"
      ]
    },
    {
      "cell_type": "code",
      "metadata": {
        "id": "tLW9e5y7Ib95",
        "colab_type": "code",
        "colab": {
          "base_uri": "https://localhost:8080/",
          "height": 145
        },
        "outputId": "110929a5-368b-4597-c9bb-e8755c5241a2"
      },
      "source": [
        "image = np.array([[[[4],[3]],[[2],[1]]]], dtype=np.float32)\n",
        "pool = tf.nn.max_pool(image, ksize=[1, 2, 2, 1], strides=[1, 1, 1, 1], padding='SAME')\n",
        "print(image.shape)\n",
        "print(pool.shape)\n",
        "print(pool.eval())\n"
      ],
      "execution_count": 110,
      "outputs": [
        {
          "output_type": "stream",
          "text": [
            "(1, 2, 2, 1)\n",
            "(1, 2, 2, 1)\n",
            "[[[[4.]\n",
            "   [3.]]\n",
            "\n",
            "  [[2.]\n",
            "   [1.]]]]\n"
          ],
          "name": "stdout"
        }
      ]
    },
    {
      "cell_type": "code",
      "metadata": {
        "id": "QvMHBxgW7JKh",
        "colab_type": "code",
        "colab": {}
      },
      "source": [
        ""
      ],
      "execution_count": null,
      "outputs": []
    }
  ]
}