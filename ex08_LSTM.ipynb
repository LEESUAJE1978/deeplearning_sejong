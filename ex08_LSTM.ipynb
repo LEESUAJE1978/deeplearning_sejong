{
  "nbformat": 4,
  "nbformat_minor": 0,
  "metadata": {
    "colab": {
      "name": "ex08_LSTM.ipynb",
      "provenance": [],
      "collapsed_sections": [],
      "authorship_tag": "ABX9TyMYJuqWAuuvXV1P4GkFGe4Z",
      "include_colab_link": true
    },
    "kernelspec": {
      "name": "python3",
      "display_name": "Python 3"
    }
  },
  "cells": [
    {
      "cell_type": "markdown",
      "metadata": {
        "id": "view-in-github",
        "colab_type": "text"
      },
      "source": [
        "<a href=\"https://colab.research.google.com/github/LEESUAJE1978/deeplearning_sejong/blob/master/ex08_LSTM.ipynb\" target=\"_parent\"><img src=\"https://colab.research.google.com/assets/colab-badge.svg\" alt=\"Open In Colab\"/></a>"
      ]
    },
    {
      "cell_type": "markdown",
      "metadata": {
        "id": "tycSgkrlEpAv",
        "colab_type": "text"
      },
      "source": [
        "0. 텐서플로우 버전 선택"
      ]
    },
    {
      "cell_type": "code",
      "metadata": {
        "id": "snxtZ2zY2Jfy",
        "colab_type": "code",
        "colab": {
          "base_uri": "https://localhost:8080/",
          "height": 35
        },
        "outputId": "602fe1b1-1042-4c3e-bf97-6b2608569afd"
      },
      "source": [
        "#0. 텐서플로우 버전 선택\n",
        "try:\n",
        "    # %tensorflow_version only exists in Colab.\n",
        "    %tensorflow_version 1.x\n",
        "except Exception:\n",
        "    pass"
      ],
      "execution_count": 1,
      "outputs": [
        {
          "output_type": "stream",
          "text": [
            "TensorFlow 1.x selected.\n"
          ],
          "name": "stdout"
        }
      ]
    },
    {
      "cell_type": "markdown",
      "metadata": {
        "id": "4Y6q4qlb2RoQ",
        "colab_type": "text"
      },
      "source": [
        "1. 패키지 불러오기"
      ]
    },
    {
      "cell_type": "code",
      "metadata": {
        "id": "cujjLhA7z1SM",
        "colab_type": "code",
        "colab": {}
      },
      "source": [
        "import tensorflow as tf\n",
        "import numpy as np\n",
        "from tensorflow.contrib import rnn\n",
        "import pprint #데이터 보기 좋게 출력\n",
        "pp = pprint.PrettyPrinter(indent =4)\n",
        "sees = tf.InteractiveSession()"
      ],
      "execution_count": 2,
      "outputs": []
    },
    {
      "cell_type": "markdown",
      "metadata": {
        "id": "-vY-m5wqE4Pb",
        "colab_type": "text"
      },
      "source": [
        "2. 문자 데이터 생성: 원핫 인코딩(one hot encoding)"
      ]
    },
    {
      "cell_type": "code",
      "metadata": {
        "id": "pLVsawuCz3Pn",
        "colab_type": "code",
        "colab": {}
      },
      "source": [
        "h = [1,0,0,0]\n",
        "e = [0,1,0,0]\n",
        "l = [0,0,1,0]\n",
        "o = [0,0,0,1]"
      ],
      "execution_count": null,
      "outputs": []
    },
    {
      "cell_type": "markdown",
      "metadata": {
        "id": "jWngFeTME9fH",
        "colab_type": "text"
      },
      "source": [
        "3. Baic CNN 모델"
      ]
    },
    {
      "cell_type": "code",
      "metadata": {
        "id": "THrVz8UN0A4r",
        "colab_type": "code",
        "colab": {
          "base_uri": "https://localhost:8080/",
          "height": 847
        },
        "outputId": "0772b5de-317d-4cb6-c533-ac6d170911bf"
      },
      "source": [
        "sess = tf.InteractiveSession()\n",
        "\n",
        "with tf.variable_scope('rnn') as scope:\n",
        "  x_data = np.array([[h,e,l,l,o],\n",
        "                    [e,o,l,l,l],\n",
        "                    [l,l,e,e,l]], dtype = np.float32)\n",
        "  pp.pprint(x_data)\n",
        "\n",
        "  hidden_size = 2\n",
        "  cell = tf.nn.rnn_cell.BasicRNNCell(num_units=hidden_size, activation='tanh', reuse=tf.AUTO_REUSE)\n",
        "  #cell = tf.keras.layers.SimpleRNNCell(units=hidden_size)\n",
        "  outputs,_states = tf.nn.dynamic_rnn(cell, x_data, dtype=tf.float32)\n",
        "  sess.run(tf.global_variables_initializer())\n",
        "  pp.pprint(outputs.eval())\n",
        "\n",
        "sess.close()"
      ],
      "execution_count": null,
      "outputs": [
        {
          "output_type": "stream",
          "text": [
            "array([[[1., 0., 0., 0.],\n",
            "        [0., 1., 0., 0.],\n",
            "        [0., 0., 1., 0.],\n",
            "        [0., 0., 1., 0.],\n",
            "        [0., 0., 0., 1.]],\n",
            "\n",
            "       [[0., 1., 0., 0.],\n",
            "        [0., 0., 0., 1.],\n",
            "        [0., 0., 1., 0.],\n",
            "        [0., 0., 1., 0.],\n",
            "        [0., 0., 1., 0.]],\n",
            "\n",
            "       [[0., 0., 1., 0.],\n",
            "        [0., 0., 1., 0.],\n",
            "        [0., 1., 0., 0.],\n",
            "        [0., 1., 0., 0.],\n",
            "        [0., 0., 1., 0.]]], dtype=float32)\n",
            "WARNING:tensorflow:From <ipython-input-12-3e7795fee6fb>:10: BasicRNNCell.__init__ (from tensorflow.python.ops.rnn_cell_impl) is deprecated and will be removed in a future version.\n",
            "Instructions for updating:\n",
            "This class is equivalent as tf.keras.layers.SimpleRNNCell, and will be replaced by that in Tensorflow 2.0.\n",
            "WARNING:tensorflow:From /tensorflow-1.15.2/python3.6/tensorflow_core/python/ops/rnn_cell_impl.py:456: Layer.add_variable (from tensorflow.python.keras.engine.base_layer) is deprecated and will be removed in a future version.\n",
            "Instructions for updating:\n",
            "Please use `layer.add_weight` method instead.\n",
            "WARNING:tensorflow:From /tensorflow-1.15.2/python3.6/tensorflow_core/python/ops/rnn_cell_impl.py:460: calling Zeros.__init__ (from tensorflow.python.ops.init_ops) with dtype is deprecated and will be removed in a future version.\n",
            "Instructions for updating:\n",
            "Call initializer instance with the dtype argument instead of passing it to the constructor\n",
            "array([[[-0.67620766,  0.09317324],\n",
            "        [ 0.62291193, -0.37915093],\n",
            "        [ 0.25707006, -0.6701895 ],\n",
            "        [ 0.41080013, -0.70929354],\n",
            "        [-0.40081382,  0.64038676]],\n",
            "\n",
            "       [[ 0.62085587, -0.3380604 ],\n",
            "        [-0.55598205,  0.68106157],\n",
            "        [-0.18086803, -0.6434683 ],\n",
            "        [ 0.42654085, -0.72643995],\n",
            "        [ 0.42377606, -0.70575553]],\n",
            "\n",
            "       [[ 0.11792843, -0.67086196],\n",
            "        [ 0.41963387, -0.71548027],\n",
            "        [ 0.78382045, -0.39466128],\n",
            "        [ 0.6997122 , -0.32613462],\n",
            "        [ 0.22658795, -0.6621171 ]]], dtype=float32)\n"
          ],
          "name": "stdout"
        },
        {
          "output_type": "stream",
          "text": [
            "/tensorflow-1.15.2/python3.6/tensorflow_core/python/client/session.py:1750: UserWarning: An interactive session is already active. This can cause out-of-memory errors in some cases. You must explicitly call `InteractiveSession.close()` to release resources held by the other session(s).\n",
            "  warnings.warn('An interactive session is already active. This can '\n"
          ],
          "name": "stderr"
        }
      ]
    },
    {
      "cell_type": "markdown",
      "metadata": {
        "id": "y4hPaYo9FB65",
        "colab_type": "text"
      },
      "source": [
        "4. LSTM 모델"
      ]
    },
    {
      "cell_type": "code",
      "metadata": {
        "id": "oPTVIvmy066Y",
        "colab_type": "code",
        "colab": {
          "base_uri": "https://localhost:8080/",
          "height": 685
        },
        "outputId": "3db15297-658d-46da-af2b-7bb084815f20"
      },
      "source": [
        "sess = tf.InteractiveSession()\n",
        "\n",
        "with tf.variable_scope('lstm') as scope:\n",
        "  x_data = np.array([[h,e,l,l,o],\n",
        "                    [e,o,l,l,l],\n",
        "                    [l,l,e,e,l]], dtype = np.float32)\n",
        "  pp.pprint(x_data)\n",
        "\n",
        "  hidden_size = 2\n",
        "  cell = tf.nn.rnn_cell.LSTMCell(num_units=hidden_size, activation='tanh', reuse= tf.AUTO_REUSE)\n",
        "  #cell = tf.keras.layers.LSTM(units=hidden_size)\n",
        "  outputs,_state = tf.nn.dynamic_rnn(cell, x_data, dtype=tf.float32)\n",
        "  sess.run(tf.global_variables_initializer())\n",
        "  pp.pprint(outputs.eval())\n",
        "\n",
        "sess.close()"
      ],
      "execution_count": null,
      "outputs": [
        {
          "output_type": "stream",
          "text": [
            "array([[[1., 0., 0., 0.],\n",
            "        [0., 1., 0., 0.],\n",
            "        [0., 0., 1., 0.],\n",
            "        [0., 0., 1., 0.],\n",
            "        [0., 0., 0., 1.]],\n",
            "\n",
            "       [[0., 1., 0., 0.],\n",
            "        [0., 0., 0., 1.],\n",
            "        [0., 0., 1., 0.],\n",
            "        [0., 0., 1., 0.],\n",
            "        [0., 0., 1., 0.]],\n",
            "\n",
            "       [[0., 0., 1., 0.],\n",
            "        [0., 0., 1., 0.],\n",
            "        [0., 1., 0., 0.],\n",
            "        [0., 1., 0., 0.],\n",
            "        [0., 0., 1., 0.]]], dtype=float32)\n",
            "array([[[-0.07176895,  0.0704657 ],\n",
            "        [-0.06609349,  0.14497043],\n",
            "        [-0.19602728,  0.2672939 ],\n",
            "        [-0.3077027 ,  0.32779676],\n",
            "        [-0.19870545,  0.43205282]],\n",
            "\n",
            "       [[ 0.00157518,  0.10418284],\n",
            "        [ 0.02987326,  0.24456336],\n",
            "        [-0.1218581 ,  0.29077116],\n",
            "        [-0.25626692,  0.34495202],\n",
            "        [-0.3575235 ,  0.3787851 ]],\n",
            "\n",
            "       [[-0.10692466,  0.13250427],\n",
            "        [-0.21947409,  0.2351897 ],\n",
            "        [-0.18349318,  0.2511792 ],\n",
            "        [-0.17772219,  0.29021627],\n",
            "        [-0.31494048,  0.3883306 ]]], dtype=float32)\n"
          ],
          "name": "stdout"
        },
        {
          "output_type": "stream",
          "text": [
            "/tensorflow-1.15.2/python3.6/tensorflow_core/python/client/session.py:1750: UserWarning: An interactive session is already active. This can cause out-of-memory errors in some cases. You must explicitly call `InteractiveSession.close()` to release resources held by the other session(s).\n",
            "  warnings.warn('An interactive session is already active. This can '\n"
          ],
          "name": "stderr"
        }
      ]
    },
    {
      "cell_type": "markdown",
      "metadata": {
        "id": "BU7cIk-XFFTg",
        "colab_type": "text"
      },
      "source": [
        "5. GRU 모델"
      ]
    },
    {
      "cell_type": "code",
      "metadata": {
        "id": "8Iw_PE0k2jiZ",
        "colab_type": "code",
        "colab": {
          "base_uri": "https://localhost:8080/",
          "height": 685
        },
        "outputId": "35554a15-32e5-477e-cd8f-188cd6ab80a9"
      },
      "source": [
        "sess = tf.InteractiveSession()\n",
        "\n",
        "with tf.variable_scope('GRU') as scope:\n",
        "  x_data = np.array([[h,e,l,l,o],\n",
        "                    [e,o,l,l,l],\n",
        "                    [l,l,e,e,l]], dtype = np.float32)\n",
        "  pp.pprint(x_data)\n",
        "\n",
        "  hidden_size = 2\n",
        "  cell = tf.nn.rnn_cell.GRUCell(num_units=hidden_size, activation='tanh', reuse= tf.AUTO_REUSE)\n",
        "  #cell = tf.keras.layers.GRU(units=hidden_size)\n",
        "  outputs,_states = tf.nn.dynamic_rnn(cell, x_data, dtype=tf.float32)\n",
        "  sess.run(tf.global_variables_initializer())\n",
        "  pp.pprint(outputs.eval())"
      ],
      "execution_count": null,
      "outputs": [
        {
          "output_type": "stream",
          "text": [
            "array([[[1., 0., 0., 0.],\n",
            "        [0., 1., 0., 0.],\n",
            "        [0., 0., 1., 0.],\n",
            "        [0., 0., 1., 0.],\n",
            "        [0., 0., 0., 1.]],\n",
            "\n",
            "       [[0., 1., 0., 0.],\n",
            "        [0., 0., 0., 1.],\n",
            "        [0., 0., 1., 0.],\n",
            "        [0., 0., 1., 0.],\n",
            "        [0., 0., 1., 0.]],\n",
            "\n",
            "       [[0., 0., 1., 0.],\n",
            "        [0., 0., 1., 0.],\n",
            "        [0., 1., 0., 0.],\n",
            "        [0., 1., 0., 0.],\n",
            "        [0., 0., 1., 0.]]], dtype=float32)\n",
            "array([[[ 0.10879437,  0.11491187],\n",
            "        [ 0.2721325 ,  0.07926772],\n",
            "        [ 0.35406548,  0.15908767],\n",
            "        [ 0.40857136,  0.23161747],\n",
            "        [ 0.27648902,  0.13590246]],\n",
            "\n",
            "       [[ 0.21970713, -0.02335256],\n",
            "        [ 0.12095518, -0.0888245 ],\n",
            "        [ 0.2551089 ,  0.00602099],\n",
            "        [ 0.34369484,  0.09324373],\n",
            "        [ 0.40303677,  0.1725908 ]],\n",
            "\n",
            "       [[ 0.17935544,  0.08223594],\n",
            "        [ 0.29225227,  0.15996996],\n",
            "        [ 0.37071174,  0.15190203],\n",
            "        [ 0.41729483,  0.16333917],\n",
            "        [ 0.45293027,  0.23621723]]], dtype=float32)\n"
          ],
          "name": "stdout"
        },
        {
          "output_type": "stream",
          "text": [
            "/tensorflow-1.15.2/python3.6/tensorflow_core/python/client/session.py:1750: UserWarning: An interactive session is already active. This can cause out-of-memory errors in some cases. You must explicitly call `InteractiveSession.close()` to release resources held by the other session(s).\n",
            "  warnings.warn('An interactive session is already active. This can '\n"
          ],
          "name": "stderr"
        }
      ]
    },
    {
      "cell_type": "markdown",
      "metadata": {
        "id": "4GfNq3ppFIY5",
        "colab_type": "text"
      },
      "source": [
        "7. LSTM 모델을 활용한 예측 "
      ]
    },
    {
      "cell_type": "markdown",
      "metadata": {
        "id": "ynqwZ2JZoeO1",
        "colab_type": "text"
      },
      "source": [
        "7.1. 데이터 셋 생성"
      ]
    },
    {
      "cell_type": "code",
      "metadata": {
        "id": "MfGaalYN1tgO",
        "colab_type": "code",
        "colab": {}
      },
      "source": [
        "idx2char = ['h', 'i', 'e', 'l', 'o'] #h:0, i:1, e:2, l:3, o:4\n"
      ],
      "execution_count": 3,
      "outputs": []
    },
    {
      "cell_type": "code",
      "metadata": {
        "id": "c_TwSSe4RhBP",
        "colab_type": "code",
        "colab": {}
      },
      "source": [
        "h = [1,0,0,0,0]\n",
        "e = [0,1,0,0,0]\n",
        "l = [0,0,1,0,0]\n",
        "o = [0,0,0,1,0]\n",
        "i = [0,0,0,0,1]"
      ],
      "execution_count": 4,
      "outputs": []
    },
    {
      "cell_type": "code",
      "metadata": {
        "id": "mrU3iys6230Q",
        "colab_type": "code",
        "colab": {}
      },
      "source": [
        "x_data = [[0,1,0,2,3,3]] #hihell\n",
        "x_one_hot = [[[1,0,0,0,0],\n",
        "              [0,1,0,0,0],\n",
        "              [1,0,0,0,0],\n",
        "              [0,0,1,0,0],\n",
        "              [0,0,0,1,0],\n",
        "              [0,0,0,1,0]]]"
      ],
      "execution_count": 5,
      "outputs": []
    },
    {
      "cell_type": "code",
      "metadata": {
        "id": "Zj7H95GoSpYD",
        "colab_type": "code",
        "colab": {}
      },
      "source": [
        "y_data = [[1,0,2,3,3,4]] #ihello"
      ],
      "execution_count": 6,
      "outputs": []
    },
    {
      "cell_type": "code",
      "metadata": {
        "id": "3shCAjihSuwe",
        "colab_type": "code",
        "colab": {}
      },
      "source": [
        "num_classes = 5  #heloi\n",
        "input_dim = 5 #1,0,0,0,0\n",
        "hidden_size = 5 #\n",
        "batch_size = 1\n",
        "sequence_length = 6 #6글자\n",
        "learning_rate = 0.1 #학습률"
      ],
      "execution_count": 7,
      "outputs": []
    },
    {
      "cell_type": "markdown",
      "metadata": {
        "id": "RrmLkh06okv3",
        "colab_type": "text"
      },
      "source": [
        "7.2 플레이스 홀더 생성(Feed to RNN)"
      ]
    },
    {
      "cell_type": "code",
      "metadata": {
        "id": "JfD2SDcsTDJI",
        "colab_type": "code",
        "colab": {}
      },
      "source": [
        "X= tf.placeholder(\n",
        "    tf.float32, [None, sequence_length, input_dim] #batch size, sequence_length, input_dim\n",
        ")\n",
        "Y = tf.placeholder(tf.int32, [None, sequence_length]) #batch_size"
      ],
      "execution_count": 8,
      "outputs": []
    },
    {
      "cell_type": "markdown",
      "metadata": {
        "id": "LR-efxDHqJ3q",
        "colab_type": "text"
      },
      "source": [
        "7.3. 모델 생성(modeling)"
      ]
    },
    {
      "cell_type": "code",
      "metadata": {
        "id": "l-3jgatuTaEh",
        "colab_type": "code",
        "colab": {
          "base_uri": "https://localhost:8080/",
          "height": 377
        },
        "outputId": "c8433e67-da72-4c8f-91d3-633f80931210"
      },
      "source": [
        "cell = tf.contrib.rnn.BasicLSTMCell(num_units=hidden_size,reuse= tf.AUTO_REUSE)\n",
        "initial_state = cell.zero_state(batch_size, tf.float32)\n",
        "outputs, _state = tf.nn.dynamic_rnn(\n",
        "    cell, X, initial_state = initial_state, dtype=tf.float32\n",
        ")"
      ],
      "execution_count": 9,
      "outputs": [
        {
          "output_type": "stream",
          "text": [
            "WARNING:tensorflow:\n",
            "The TensorFlow contrib module will not be included in TensorFlow 2.0.\n",
            "For more information, please see:\n",
            "  * https://github.com/tensorflow/community/blob/master/rfcs/20180907-contrib-sunset.md\n",
            "  * https://github.com/tensorflow/addons\n",
            "  * https://github.com/tensorflow/io (for I/O related ops)\n",
            "If you depend on functionality not listed there, please file an issue.\n",
            "\n",
            "WARNING:tensorflow:From <ipython-input-9-20fc5cd040d9>:1: BasicLSTMCell.__init__ (from tensorflow.python.ops.rnn_cell_impl) is deprecated and will be removed in a future version.\n",
            "Instructions for updating:\n",
            "This class is equivalent as tf.keras.layers.LSTMCell, and will be replaced by that in Tensorflow 2.0.\n",
            "WARNING:tensorflow:From <ipython-input-9-20fc5cd040d9>:4: dynamic_rnn (from tensorflow.python.ops.rnn) is deprecated and will be removed in a future version.\n",
            "Instructions for updating:\n",
            "Please use `keras.layers.RNN(cell)`, which is equivalent to this API\n",
            "WARNING:tensorflow:From /tensorflow-1.15.2/python3.6/tensorflow_core/python/ops/rnn_cell_impl.py:735: Layer.add_variable (from tensorflow.python.keras.engine.base_layer) is deprecated and will be removed in a future version.\n",
            "Instructions for updating:\n",
            "Please use `layer.add_weight` method instead.\n",
            "WARNING:tensorflow:From /tensorflow-1.15.2/python3.6/tensorflow_core/python/ops/rnn_cell_impl.py:739: calling Zeros.__init__ (from tensorflow.python.ops.init_ops) with dtype is deprecated and will be removed in a future version.\n",
            "Instructions for updating:\n",
            "Call initializer instance with the dtype argument instead of passing it to the constructor\n"
          ],
          "name": "stdout"
        }
      ]
    },
    {
      "cell_type": "markdown",
      "metadata": {
        "id": "lZKZwUr5xF3j",
        "colab_type": "text"
      },
      "source": [
        "7.4 학습\n"
      ]
    },
    {
      "cell_type": "code",
      "metadata": {
        "id": "o6oqUr0wR08R",
        "colab_type": "code",
        "colab": {}
      },
      "source": [
        "weights = tf.ones([batch_size, sequence_length])\n",
        "sequence_loss = tf.contrib.seq2seq.sequence_loss(\n",
        "    logits = outputs, targets = Y, weights = weights\n",
        ")\n",
        "loss = tf.reduce_mean(sequence_loss)\n",
        "train = tf.train.AdamOptimizer(learning_rate= learning_rate).minimize(loss)\n",
        "prediction = tf.argmax(outputs, axis=2)"
      ],
      "execution_count": 13,
      "outputs": []
    },
    {
      "cell_type": "markdown",
      "metadata": {
        "id": "4YNquixopzwW",
        "colab_type": "text"
      },
      "source": [
        "7.5.출력"
      ]
    },
    {
      "cell_type": "code",
      "metadata": {
        "id": "BSWCQrpsVLH7",
        "colab_type": "code",
        "colab": {
          "base_uri": "https://localhost:8080/",
          "height": 1000
        },
        "outputId": "186c58d4-91b9-4cab-ebbd-d40e235d8131"
      },
      "source": [
        "with tf.Session() as sess:\n",
        "  sess.run(tf.global_variables_initializer())\n",
        "  for i in range(50):\n",
        "    l, _ = sess.run([loss, train], feed_dict={X:x_one_hot, Y: y_data})\n",
        "    result = sess.run(prediction, feed_dict={X: x_one_hot})\n",
        "    print(i, \"loss:\", l, \"prediction:\", result,\"true Y:\", y_data)\n",
        "    result_str = [idx2char[c] for c in np.squeeze(result)]\n",
        "    print(\"\\tPrediction str:\", \"\".join(result_str))"
      ],
      "execution_count": 14,
      "outputs": [
        {
          "output_type": "stream",
          "text": [
            "0 loss: 1.5548209 prediction: [[3 3 3 3 3 3]] true Y: [[1, 0, 2, 3, 3, 4]]\n",
            "\tPrediction str: llllll\n",
            "1 loss: 1.4615048 prediction: [[3 3 3 3 3 3]] true Y: [[1, 0, 2, 3, 3, 4]]\n",
            "\tPrediction str: llllll\n",
            "2 loss: 1.3699063 prediction: [[3 3 3 3 3 3]] true Y: [[1, 0, 2, 3, 3, 4]]\n",
            "\tPrediction str: llllll\n",
            "3 loss: 1.2968678 prediction: [[3 3 3 3 3 3]] true Y: [[1, 0, 2, 3, 3, 4]]\n",
            "\tPrediction str: llllll\n",
            "4 loss: 1.2404616 prediction: [[3 3 3 3 3 3]] true Y: [[1, 0, 2, 3, 3, 4]]\n",
            "\tPrediction str: llllll\n",
            "5 loss: 1.1891657 prediction: [[3 3 3 3 3 3]] true Y: [[1, 0, 2, 3, 3, 4]]\n",
            "\tPrediction str: llllll\n",
            "6 loss: 1.1547096 prediction: [[1 3 3 3 3 3]] true Y: [[1, 0, 2, 3, 3, 4]]\n",
            "\tPrediction str: illlll\n",
            "7 loss: 1.1146954 prediction: [[1 3 3 3 3 3]] true Y: [[1, 0, 2, 3, 3, 4]]\n",
            "\tPrediction str: illlll\n",
            "8 loss: 1.071124 prediction: [[1 3 3 3 3 3]] true Y: [[1, 0, 2, 3, 3, 4]]\n",
            "\tPrediction str: illlll\n",
            "9 loss: 1.0328612 prediction: [[1 3 2 3 3 3]] true Y: [[1, 0, 2, 3, 3, 4]]\n",
            "\tPrediction str: ilelll\n",
            "10 loss: 0.99693185 prediction: [[1 3 2 3 3 3]] true Y: [[1, 0, 2, 3, 3, 4]]\n",
            "\tPrediction str: ilelll\n",
            "11 loss: 0.9639802 prediction: [[1 3 2 3 3 3]] true Y: [[1, 0, 2, 3, 3, 4]]\n",
            "\tPrediction str: ilelll\n",
            "12 loss: 0.9368594 prediction: [[1 3 2 3 3 3]] true Y: [[1, 0, 2, 3, 3, 4]]\n",
            "\tPrediction str: ilelll\n",
            "13 loss: 0.91514283 prediction: [[1 3 2 3 3 3]] true Y: [[1, 0, 2, 3, 3, 4]]\n",
            "\tPrediction str: ilelll\n",
            "14 loss: 0.8961396 prediction: [[1 3 2 3 3 3]] true Y: [[1, 0, 2, 3, 3, 4]]\n",
            "\tPrediction str: ilelll\n",
            "15 loss: 0.8810856 prediction: [[1 3 2 3 3 3]] true Y: [[1, 0, 2, 3, 3, 4]]\n",
            "\tPrediction str: ilelll\n",
            "16 loss: 0.86939335 prediction: [[1 3 2 3 3 3]] true Y: [[1, 0, 2, 3, 3, 4]]\n",
            "\tPrediction str: ilelll\n",
            "17 loss: 0.85895354 prediction: [[1 3 2 3 3 3]] true Y: [[1, 0, 2, 3, 3, 4]]\n",
            "\tPrediction str: ilelll\n",
            "18 loss: 0.85039586 prediction: [[1 3 2 3 3 3]] true Y: [[1, 0, 2, 3, 3, 4]]\n",
            "\tPrediction str: ilelll\n",
            "19 loss: 0.84363717 prediction: [[1 3 2 3 3 3]] true Y: [[1, 0, 2, 3, 3, 4]]\n",
            "\tPrediction str: ilelll\n",
            "20 loss: 0.83703905 prediction: [[1 3 2 3 3 3]] true Y: [[1, 0, 2, 3, 3, 4]]\n",
            "\tPrediction str: ilelll\n",
            "21 loss: 0.8314238 prediction: [[1 3 2 3 3 3]] true Y: [[1, 0, 2, 3, 3, 4]]\n",
            "\tPrediction str: ilelll\n",
            "22 loss: 0.82679945 prediction: [[1 3 2 3 3 3]] true Y: [[1, 0, 2, 3, 3, 4]]\n",
            "\tPrediction str: ilelll\n",
            "23 loss: 0.8221214 prediction: [[1 3 2 3 3 3]] true Y: [[1, 0, 2, 3, 3, 4]]\n",
            "\tPrediction str: ilelll\n",
            "24 loss: 0.81785655 prediction: [[1 3 2 3 3 3]] true Y: [[1, 0, 2, 3, 3, 4]]\n",
            "\tPrediction str: ilelll\n",
            "25 loss: 0.81421655 prediction: [[1 3 2 3 3 3]] true Y: [[1, 0, 2, 3, 3, 4]]\n",
            "\tPrediction str: ilelll\n",
            "26 loss: 0.810384 prediction: [[1 3 2 3 3 3]] true Y: [[1, 0, 2, 3, 3, 4]]\n",
            "\tPrediction str: ilelll\n",
            "27 loss: 0.80668694 prediction: [[1 3 2 3 3 4]] true Y: [[1, 0, 2, 3, 3, 4]]\n",
            "\tPrediction str: ilello\n",
            "28 loss: 0.8033007 prediction: [[1 0 2 3 3 4]] true Y: [[1, 0, 2, 3, 3, 4]]\n",
            "\tPrediction str: ihello\n",
            "29 loss: 0.7996235 prediction: [[1 0 2 3 3 4]] true Y: [[1, 0, 2, 3, 3, 4]]\n",
            "\tPrediction str: ihello\n",
            "30 loss: 0.7958974 prediction: [[1 0 2 3 3 4]] true Y: [[1, 0, 2, 3, 3, 4]]\n",
            "\tPrediction str: ihello\n",
            "31 loss: 0.79235727 prediction: [[1 0 2 3 3 4]] true Y: [[1, 0, 2, 3, 3, 4]]\n",
            "\tPrediction str: ihello\n",
            "32 loss: 0.78857374 prediction: [[1 0 2 3 3 4]] true Y: [[1, 0, 2, 3, 3, 4]]\n",
            "\tPrediction str: ihello\n",
            "33 loss: 0.78469163 prediction: [[1 0 2 3 3 4]] true Y: [[1, 0, 2, 3, 3, 4]]\n",
            "\tPrediction str: ihello\n",
            "34 loss: 0.78029865 prediction: [[1 0 2 3 3 4]] true Y: [[1, 0, 2, 3, 3, 4]]\n",
            "\tPrediction str: ihello\n",
            "35 loss: 0.7745432 prediction: [[1 0 2 3 3 4]] true Y: [[1, 0, 2, 3, 3, 4]]\n",
            "\tPrediction str: ihello\n",
            "36 loss: 0.7673288 prediction: [[1 0 2 3 3 4]] true Y: [[1, 0, 2, 3, 3, 4]]\n",
            "\tPrediction str: ihello\n",
            "37 loss: 0.7579813 prediction: [[1 0 2 3 3 4]] true Y: [[1, 0, 2, 3, 3, 4]]\n",
            "\tPrediction str: ihello\n",
            "38 loss: 0.74760264 prediction: [[1 0 2 3 3 4]] true Y: [[1, 0, 2, 3, 3, 4]]\n",
            "\tPrediction str: ihello\n",
            "39 loss: 0.73738927 prediction: [[1 0 2 3 3 4]] true Y: [[1, 0, 2, 3, 3, 4]]\n",
            "\tPrediction str: ihello\n",
            "40 loss: 0.72840685 prediction: [[1 0 2 3 3 4]] true Y: [[1, 0, 2, 3, 3, 4]]\n",
            "\tPrediction str: ihello\n",
            "41 loss: 0.7215298 prediction: [[1 0 2 3 3 4]] true Y: [[1, 0, 2, 3, 3, 4]]\n",
            "\tPrediction str: ihello\n",
            "42 loss: 0.7161946 prediction: [[1 0 2 3 3 4]] true Y: [[1, 0, 2, 3, 3, 4]]\n",
            "\tPrediction str: ihello\n",
            "43 loss: 0.71212214 prediction: [[1 0 2 3 3 4]] true Y: [[1, 0, 2, 3, 3, 4]]\n",
            "\tPrediction str: ihello\n",
            "44 loss: 0.7084648 prediction: [[1 0 2 3 3 4]] true Y: [[1, 0, 2, 3, 3, 4]]\n",
            "\tPrediction str: ihello\n",
            "45 loss: 0.70521504 prediction: [[1 0 2 3 3 4]] true Y: [[1, 0, 2, 3, 3, 4]]\n",
            "\tPrediction str: ihello\n",
            "46 loss: 0.7017754 prediction: [[1 0 2 3 3 4]] true Y: [[1, 0, 2, 3, 3, 4]]\n",
            "\tPrediction str: ihello\n",
            "47 loss: 0.698061 prediction: [[1 0 2 3 3 4]] true Y: [[1, 0, 2, 3, 3, 4]]\n",
            "\tPrediction str: ihello\n",
            "48 loss: 0.69328636 prediction: [[1 0 2 3 3 4]] true Y: [[1, 0, 2, 3, 3, 4]]\n",
            "\tPrediction str: ihello\n",
            "49 loss: 0.6877356 prediction: [[1 0 2 3 3 4]] true Y: [[1, 0, 2, 3, 3, 4]]\n",
            "\tPrediction str: ihello\n"
          ],
          "name": "stdout"
        }
      ]
    },
    {
      "cell_type": "code",
      "metadata": {
        "id": "D0GARuJY3WH-",
        "colab_type": "code",
        "colab": {}
      },
      "source": [
        ""
      ],
      "execution_count": null,
      "outputs": []
    }
  ]
}