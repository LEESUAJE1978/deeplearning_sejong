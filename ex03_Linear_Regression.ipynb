{
  "nbformat": 4,
  "nbformat_minor": 0,
  "metadata": {
    "colab": {
      "name": "ex03_Linear Regression.ipynb",
      "provenance": [],
      "collapsed_sections": [],
      "authorship_tag": "ABX9TyMnbNUZCYxZXchPQjttEcMP",
      "include_colab_link": true
    },
    "kernelspec": {
      "name": "python3",
      "display_name": "Python 3"
    }
  },
  "cells": [
    {
      "cell_type": "markdown",
      "metadata": {
        "id": "view-in-github",
        "colab_type": "text"
      },
      "source": [
        "<a href=\"https://colab.research.google.com/github/LEESUAJE1978/deeplearning_sejong/blob/master/ex03_Linear_Regression.ipynb\" target=\"_parent\"><img src=\"https://colab.research.google.com/assets/colab-badge.svg\" alt=\"Open In Colab\"/></a>"
      ]
    },
    {
      "cell_type": "code",
      "metadata": {
        "id": "kS9H_hqLnenB",
        "colab_type": "code",
        "colab": {
          "base_uri": "https://localhost:8080/",
          "height": 54
        },
        "outputId": "0c56c251-82b6-4102-9282-d6e993a49621"
      },
      "source": [
        "#0. 텐서플로우 버전 선택\n",
        "try:\n",
        "    # %tensorflow_version only exists in Colab.\n",
        "    %tensorflow_version 1.x\n",
        "except Exception:\n",
        "    pass\n",
        "import tensorflow as tf\n",
        "import numpy as np\n",
        "\n",
        "print(tf.__version__)"
      ],
      "execution_count": 1,
      "outputs": [
        {
          "output_type": "stream",
          "text": [
            "TensorFlow 1.x selected.\n",
            "1.15.2\n"
          ],
          "name": "stdout"
        }
      ]
    },
    {
      "cell_type": "markdown",
      "metadata": {
        "id": "aQJh1ZUnn0eD",
        "colab_type": "text"
      },
      "source": [
        "1. 데이터 생성"
      ]
    },
    {
      "cell_type": "code",
      "metadata": {
        "id": "vsjC6c6Lnkl1",
        "colab_type": "code",
        "colab": {}
      },
      "source": [
        "x_train=[1,2,3,4,5,6,7,8,9] # 공부하는 시간\n",
        "y_train=[11,22,33,44,53,66,77,87,95] # 각 공부하는 시간에 맵핑되는 성적"
      ],
      "execution_count": 2,
      "outputs": []
    },
    {
      "cell_type": "markdown",
      "metadata": {
        "id": "hDUxvr9Tgm0j",
        "colab_type": "text"
      },
      "source": [
        "2. 모델에 학습 데이터를 놓어 주기 위한 플레이스 홀더(Place holder 생성)"
      ]
    },
    {
      "cell_type": "code",
      "metadata": {
        "id": "62kP4mckgr9d",
        "colab_type": "code",
        "colab": {}
      },
      "source": [
        "X = tf.placeholder(tf.float32, shape = None)\n",
        "Y = tf.placeholder(tf.float32, shape=None)"
      ],
      "execution_count": 3,
      "outputs": []
    },
    {
      "cell_type": "markdown",
      "metadata": {
        "id": "ydr-IbP4n6tx",
        "colab_type": "text"
      },
      "source": [
        "3. 학습을 통해 구할 변수(W,b) 지정\n"
      ]
    },
    {
      "cell_type": "code",
      "metadata": {
        "id": "QWVZPhDSn2LY",
        "colab_type": "code",
        "colab": {}
      },
      "source": [
        "W = tf.Variable(tf.random_normal([1]), name=\"weight\")\n",
        "b = tf.Variable(tf.random_normal([1]), name=\"bias\")"
      ],
      "execution_count": 4,
      "outputs": []
    },
    {
      "cell_type": "markdown",
      "metadata": {
        "id": "W5Q2ZkIdn-7G",
        "colab_type": "text"
      },
      "source": [
        "4. 가설 생성"
      ]
    },
    {
      "cell_type": "code",
      "metadata": {
        "id": "m7BImuGWn8Ou",
        "colab_type": "code",
        "colab": {}
      },
      "source": [
        "# Our hypothesis XW+b\n",
        "hypothesis = X * W + b"
      ],
      "execution_count": 5,
      "outputs": []
    },
    {
      "cell_type": "markdown",
      "metadata": {
        "id": "iWsQwKpAoCo9",
        "colab_type": "text"
      },
      "source": [
        "4. 비용함수(Cost Function) MSE"
      ]
    },
    {
      "cell_type": "code",
      "metadata": {
        "id": "WAzrjTIEoATQ",
        "colab_type": "code",
        "colab": {}
      },
      "source": [
        "# cost/loss function\n",
        "cost = tf.reduce_mean(tf.square(hypothesis - y_train))  #reduce_mean:모수로 나눠주는 작업, square : 제곱을 해주는 작업"
      ],
      "execution_count": 6,
      "outputs": []
    },
    {
      "cell_type": "markdown",
      "metadata": {
        "id": "lv4tjzyToIV_",
        "colab_type": "text"
      },
      "source": [
        "5. 경사하강법(Gradient Decent) 비용함수 최적화(Cost Function Optimizer)"
      ]
    },
    {
      "cell_type": "code",
      "metadata": {
        "id": "A9DRkx9coF0Z",
        "colab_type": "code",
        "colab": {}
      },
      "source": [
        "# optimizer\n",
        "train = tf.train.GradientDescentOptimizer(learning_rate=0.01).minimize(cost)"
      ],
      "execution_count": 7,
      "outputs": []
    },
    {
      "cell_type": "markdown",
      "metadata": {
        "id": "9VYE7-IpoOfs",
        "colab_type": "text"
      },
      "source": [
        "6. 세션 실행(Session)"
      ]
    },
    {
      "cell_type": "markdown",
      "metadata": {
        "id": "hoCiAh5rqY3d",
        "colab_type": "text"
      },
      "source": [
        "6.1 컨텍스트 매니저(Context Manager)"
      ]
    },
    {
      "cell_type": "code",
      "metadata": {
        "id": "XYPis7v5oLbG",
        "colab_type": "code",
        "colab": {
          "base_uri": "https://localhost:8080/",
          "height": 1000
        },
        "outputId": "917c40ee-715c-4d4c-f70e-5feed45ba2e9"
      },
      "source": [
        "# Launch the graph in a session.\n",
        "with tf.Session() as sess:\n",
        "    # Initializes global variables in the graph.\n",
        "    sess.run(tf.global_variables_initializer())\n",
        "\n",
        "    # Fit the line\n",
        "    for step in range(2001):\n",
        "      cost_val, W_val, b_val,train_val = sess.run([cost, W, b, train],\n",
        "                                                  feed_dict = {\n",
        "                                                      X: x_train,\n",
        "                                                      Y: y_train\n",
        "                                                  })\n",
        "      if step % 20 == 0:\n",
        "        print(step, \"Cost:\", cost_val, \"\\tW : \", W_val, \"\\tb:\", b_val)\n",
        "   \n",
        "    print(\"H(10) 시험성적:\", sess.run(hypothesis, feed_dict= {X:[12]}))"
      ],
      "execution_count": 8,
      "outputs": [
        {
          "output_type": "stream",
          "text": [
            "0 Cost: 3516.6353 \tW :  [6.849651] \tb: [1.671886]\n",
            "20 Cost: 1.4328833 \tW :  [10.472674] \tb: [2.1310732]\n",
            "40 Cost: 1.3762643 \tW :  [10.489321] \tb: [2.0263293]\n",
            "60 Cost: 1.3282359 \tW :  [10.504652] \tb: [1.9298621]\n",
            "80 Cost: 1.2875022 \tW :  [10.518772] \tb: [1.841018]\n",
            "100 Cost: 1.2529466 \tW :  [10.531775] \tb: [1.7591943]\n",
            "120 Cost: 1.2236377 \tW :  [10.543752] \tb: [1.6838363]\n",
            "140 Cost: 1.1987841 \tW :  [10.554782] \tb: [1.6144338]\n",
            "160 Cost: 1.177697 \tW :  [10.56494] \tb: [1.5505154]\n",
            "180 Cost: 1.15981 \tW :  [10.574296] \tb: [1.4916478]\n",
            "200 Cost: 1.1446385 \tW :  [10.5829115] \tb: [1.4374319]\n",
            "220 Cost: 1.1317754 \tW :  [10.590848] \tb: [1.3875004]\n",
            "240 Cost: 1.1208577 \tW :  [10.598156] \tb: [1.3415146]\n",
            "260 Cost: 1.1116009 \tW :  [10.604886] \tb: [1.2991623]\n",
            "280 Cost: 1.1037498 \tW :  [10.611086] \tb: [1.2601571]\n",
            "300 Cost: 1.0970883 \tW :  [10.616795] \tb: [1.224234]\n",
            "320 Cost: 1.0914391 \tW :  [10.622052] \tb: [1.1911497]\n",
            "340 Cost: 1.0866505 \tW :  [10.626895] \tb: [1.1606798]\n",
            "360 Cost: 1.0825887 \tW :  [10.631355] \tb: [1.1326176]\n",
            "380 Cost: 1.0791403 \tW :  [10.635463] \tb: [1.1067727]\n",
            "400 Cost: 1.076214 \tW :  [10.639245] \tb: [1.0829698]\n",
            "420 Cost: 1.073736 \tW :  [10.642729] \tb: [1.061048]\n",
            "440 Cost: 1.0716287 \tW :  [10.645938] \tb: [1.0408589]\n",
            "460 Cost: 1.0698466 \tW :  [10.648893] \tb: [1.022265]\n",
            "480 Cost: 1.0683312 \tW :  [10.651614] \tb: [1.0051402]\n",
            "500 Cost: 1.0670481 \tW :  [10.65412] \tb: [0.9893688]\n",
            "520 Cost: 1.0659617 \tW :  [10.656429] \tb: [0.9748439]\n",
            "540 Cost: 1.065039 \tW :  [10.658555] \tb: [0.96146655]\n",
            "560 Cost: 1.0642511 \tW :  [10.660513] \tb: [0.94914615]\n",
            "580 Cost: 1.0635921 \tW :  [10.662316] \tb: [0.9377995]\n",
            "600 Cost: 1.0630254 \tW :  [10.663978] \tb: [0.9273494]\n",
            "620 Cost: 1.0625482 \tW :  [10.665506] \tb: [0.91772497]\n",
            "640 Cost: 1.0621424 \tW :  [10.666915] \tb: [0.9088618]\n",
            "660 Cost: 1.0617995 \tW :  [10.668213] \tb: [0.9006986]\n",
            "680 Cost: 1.0615075 \tW :  [10.669408] \tb: [0.89318043]\n",
            "700 Cost: 1.0612607 \tW :  [10.670508] \tb: [0.88625634]\n",
            "720 Cost: 1.0610455 \tW :  [10.671521] \tb: [0.8798792]\n",
            "740 Cost: 1.060869 \tW :  [10.672455] \tb: [0.87400585]\n",
            "760 Cost: 1.0607172 \tW :  [10.673314] \tb: [0.8685969]\n",
            "780 Cost: 1.0605952 \tW :  [10.674107] \tb: [0.8636152]\n",
            "800 Cost: 1.0604873 \tW :  [10.674835] \tb: [0.8590269]\n",
            "820 Cost: 1.0603946 \tW :  [10.675507] \tb: [0.8548018]\n",
            "840 Cost: 1.0603104 \tW :  [10.676126] \tb: [0.8509099]\n",
            "860 Cost: 1.0602463 \tW :  [10.676695] \tb: [0.847326]\n",
            "880 Cost: 1.0601877 \tW :  [10.677219] \tb: [0.8440251]\n",
            "900 Cost: 1.0601457 \tW :  [10.677702] \tb: [0.8409853]\n",
            "920 Cost: 1.060102 \tW :  [10.678147] \tb: [0.8381855]\n",
            "940 Cost: 1.0600654 \tW :  [10.678557] \tb: [0.8356073]\n",
            "960 Cost: 1.0600401 \tW :  [10.678935] \tb: [0.83323246]\n",
            "980 Cost: 1.0600164 \tW :  [10.679282] \tb: [0.83104545]\n",
            "1000 Cost: 1.0599961 \tW :  [10.679603] \tb: [0.8290314]\n",
            "1020 Cost: 1.059978 \tW :  [10.679897] \tb: [0.82717633]\n",
            "1040 Cost: 1.0599602 \tW :  [10.680169] \tb: [0.82546735]\n",
            "1060 Cost: 1.0599475 \tW :  [10.680419] \tb: [0.8238938]\n",
            "1080 Cost: 1.0599376 \tW :  [10.680649] \tb: [0.8224446]\n",
            "1100 Cost: 1.0599248 \tW :  [10.680861] \tb: [0.82110995]\n",
            "1120 Cost: 1.0599173 \tW :  [10.681057] \tb: [0.8198809]\n",
            "1140 Cost: 1.0599151 \tW :  [10.681236] \tb: [0.81874895]\n",
            "1160 Cost: 1.0599093 \tW :  [10.681402] \tb: [0.8177065]\n",
            "1180 Cost: 1.059905 \tW :  [10.681555] \tb: [0.81674606]\n",
            "1200 Cost: 1.0598965 \tW :  [10.681695] \tb: [0.815862]\n",
            "1220 Cost: 1.0598943 \tW :  [10.681825] \tb: [0.815048]\n",
            "1240 Cost: 1.0598938 \tW :  [10.681944] \tb: [0.814298]\n",
            "1260 Cost: 1.0598942 \tW :  [10.6820545] \tb: [0.81360716]\n",
            "1280 Cost: 1.0598903 \tW :  [10.682155] \tb: [0.812971]\n",
            "1300 Cost: 1.059884 \tW :  [10.682248] \tb: [0.8123847]\n",
            "1320 Cost: 1.059881 \tW :  [10.682333] \tb: [0.8118451]\n",
            "1340 Cost: 1.0598869 \tW :  [10.682413] \tb: [0.8113486]\n",
            "1360 Cost: 1.0598795 \tW :  [10.682486] \tb: [0.8108904]\n",
            "1380 Cost: 1.0598812 \tW :  [10.682552] \tb: [0.8104687]\n",
            "1400 Cost: 1.0598788 \tW :  [10.682614] \tb: [0.8100806]\n",
            "1420 Cost: 1.0598825 \tW :  [10.682671] \tb: [0.8097234]\n",
            "1440 Cost: 1.0598811 \tW :  [10.682723] \tb: [0.8093939]\n",
            "1460 Cost: 1.0598807 \tW :  [10.682772] \tb: [0.80909073]\n",
            "1480 Cost: 1.0598825 \tW :  [10.682816] \tb: [0.8088114]\n",
            "1500 Cost: 1.059878 \tW :  [10.682857] \tb: [0.80855453]\n",
            "1520 Cost: 1.0598776 \tW :  [10.682895] \tb: [0.80831796]\n",
            "1540 Cost: 1.0598782 \tW :  [10.682929] \tb: [0.8080995]\n",
            "1560 Cost: 1.0598793 \tW :  [10.682961] \tb: [0.80789834]\n",
            "1580 Cost: 1.0598801 \tW :  [10.68299] \tb: [0.80771315]\n",
            "1600 Cost: 1.0598769 \tW :  [10.683018] \tb: [0.80754274]\n",
            "1620 Cost: 1.0598792 \tW :  [10.683043] \tb: [0.80738586]\n",
            "1640 Cost: 1.0598776 \tW :  [10.683065] \tb: [0.80724126]\n",
            "1660 Cost: 1.059876 \tW :  [10.683086] \tb: [0.8071082]\n",
            "1680 Cost: 1.0598769 \tW :  [10.683106] \tb: [0.8069858]\n",
            "1700 Cost: 1.059874 \tW :  [10.683124] \tb: [0.8068728]\n",
            "1720 Cost: 1.059875 \tW :  [10.683141] \tb: [0.80676895]\n",
            "1740 Cost: 1.0598738 \tW :  [10.683156] \tb: [0.8066733]\n",
            "1760 Cost: 1.0598762 \tW :  [10.68317] \tb: [0.8065851]\n",
            "1780 Cost: 1.0598757 \tW :  [10.683183] \tb: [0.8065035]\n",
            "1800 Cost: 1.0598773 \tW :  [10.683194] \tb: [0.80642873]\n",
            "1820 Cost: 1.0598757 \tW :  [10.683206] \tb: [0.8063598]\n",
            "1840 Cost: 1.0598761 \tW :  [10.683216] \tb: [0.8062963]\n",
            "1860 Cost: 1.059877 \tW :  [10.683225] \tb: [0.8062378]\n",
            "1880 Cost: 1.0598779 \tW :  [10.683233] \tb: [0.8061842]\n",
            "1900 Cost: 1.0598795 \tW :  [10.683241] \tb: [0.8061348]\n",
            "1920 Cost: 1.0598795 \tW :  [10.6832485] \tb: [0.80608904]\n",
            "1940 Cost: 1.0598806 \tW :  [10.683255] \tb: [0.8060474]\n",
            "1960 Cost: 1.0598763 \tW :  [10.683262] \tb: [0.80600893]\n",
            "1980 Cost: 1.0598743 \tW :  [10.683267] \tb: [0.8059732]\n",
            "2000 Cost: 1.0598805 \tW :  [10.683272] \tb: [0.8059405]\n",
            "H(10) 시험성적: [129.0052]\n"
          ],
          "name": "stdout"
        }
      ]
    },
    {
      "cell_type": "markdown",
      "metadata": {
        "id": "Fh8lNeRHqgU1",
        "colab_type": "text"
      },
      "source": [
        "6.2. close() 매서드"
      ]
    },
    {
      "cell_type": "code",
      "metadata": {
        "id": "3-0anDDcpPT_",
        "colab_type": "code",
        "colab": {
          "base_uri": "https://localhost:8080/",
          "height": 1000
        },
        "outputId": "2a19613b-f4a0-4ecd-951e-e1e2ca0cc829"
      },
      "source": [
        "sess = tf.Session()\n",
        "sess.run(tf.global_variables_initializer())\n",
        "\n",
        "for step in range(2001):\n",
        "  cost_val, W_val, b_val,train_val = sess.run([cost, W, b, train],\n",
        "                                              feed_dict = {\n",
        "                                                      X: x_train,\n",
        "                                                      Y: y_train\n",
        "                                                  })\n",
        "  if step % 20 == 0:\n",
        "    print(step, \"Cost:\", cost_val, \"\\tW : \", W_val, \"\\tb:\", b_val)\n"
      ],
      "execution_count": 10,
      "outputs": [
        {
          "output_type": "stream",
          "text": [
            "0 Cost: 4056.8098 \tW :  [6.4844623] \tb: [2.2480884]\n",
            "20 Cost: 1.8224572 \tW :  [10.382131] \tb: [2.7008052]\n",
            "40 Cost: 1.706692 \tW :  [10.405931] \tb: [2.55104]\n",
            "60 Cost: 1.6085068 \tW :  [10.427852] \tb: [2.4131095]\n",
            "80 Cost: 1.5252266 \tW :  [10.448041] \tb: [2.2860782]\n",
            "100 Cost: 1.4545928 \tW :  [10.466634] \tb: [2.1690853]\n",
            "120 Cost: 1.3946707 \tW :  [10.483758] \tb: [2.0613372]\n",
            "140 Cost: 1.3438517 \tW :  [10.499529] \tb: [1.9621036]\n",
            "160 Cost: 1.3007424 \tW :  [10.514052] \tb: [1.8707118]\n",
            "180 Cost: 1.2641807 \tW :  [10.52743] \tb: [1.786542]\n",
            "200 Cost: 1.2331649 \tW :  [10.539749] \tb: [1.7090237]\n",
            "220 Cost: 1.2068646 \tW :  [10.551096] \tb: [1.6376302]\n",
            "240 Cost: 1.1845484 \tW :  [10.561544] \tb: [1.5718788]\n",
            "260 Cost: 1.1656265 \tW :  [10.571169] \tb: [1.5113236]\n",
            "280 Cost: 1.14957 \tW :  [10.580032] \tb: [1.455553]\n",
            "300 Cost: 1.1359528 \tW :  [10.588195] \tb: [1.4041895]\n",
            "320 Cost: 1.1244084 \tW :  [10.595713] \tb: [1.356885]\n",
            "340 Cost: 1.1146102 \tW :  [10.602637] \tb: [1.3133179]\n",
            "360 Cost: 1.1063005 \tW :  [10.609014] \tb: [1.2731934]\n",
            "380 Cost: 1.0992557 \tW :  [10.614886] \tb: [1.2362403]\n",
            "400 Cost: 1.0932757 \tW :  [10.620296] \tb: [1.2022073]\n",
            "420 Cost: 1.0882092 \tW :  [10.625277] \tb: [1.1708633]\n",
            "440 Cost: 1.0839075 \tW :  [10.629864] \tb: [1.141996]\n",
            "460 Cost: 1.080261 \tW :  [10.634089] \tb: [1.1154102]\n",
            "480 Cost: 1.0771668 \tW :  [10.63798] \tb: [1.0909252]\n",
            "500 Cost: 1.0745385 \tW :  [10.641564] \tb: [1.0683753]\n",
            "520 Cost: 1.0723147 \tW :  [10.644865] \tb: [1.047607]\n",
            "540 Cost: 1.070428 \tW :  [10.647905] \tb: [1.0284797]\n",
            "560 Cost: 1.0688281 \tW :  [10.650704] \tb: [1.0108641]\n",
            "580 Cost: 1.0674673 \tW :  [10.653283] \tb: [0.9946404]\n",
            "600 Cost: 1.0663136 \tW :  [10.655658] \tb: [0.97969866]\n",
            "620 Cost: 1.0653347 \tW :  [10.657845] \tb: [0.96593755]\n",
            "640 Cost: 1.0645056 \tW :  [10.659859] \tb: [0.953264]\n",
            "660 Cost: 1.0638024 \tW :  [10.661714] \tb: [0.9415919]\n",
            "680 Cost: 1.0632062 \tW :  [10.663422] \tb: [0.93084234]\n",
            "700 Cost: 1.0627018 \tW :  [10.664995] \tb: [0.92094195]\n",
            "720 Cost: 1.0622727 \tW :  [10.666445] \tb: [0.91182417]\n",
            "740 Cost: 1.0619129 \tW :  [10.667779] \tb: [0.9034266]\n",
            "760 Cost: 1.0615985 \tW :  [10.669008] \tb: [0.895693]\n",
            "780 Cost: 1.0613371 \tW :  [10.670139] \tb: [0.8885704]\n",
            "800 Cost: 1.0611192 \tW :  [10.671183] \tb: [0.8820105]\n",
            "820 Cost: 1.0609277 \tW :  [10.672143] \tb: [0.8759689]\n",
            "840 Cost: 1.060772 \tW :  [10.673027] \tb: [0.8704047]\n",
            "860 Cost: 1.0606362 \tW :  [10.673841] \tb: [0.86528057]\n",
            "880 Cost: 1.0605177 \tW :  [10.674592] \tb: [0.8605608]\n",
            "900 Cost: 1.0604186 \tW :  [10.6752825] \tb: [0.8562143]\n",
            "920 Cost: 1.060339 \tW :  [10.675919] \tb: [0.8522109]\n",
            "940 Cost: 1.060267 \tW :  [10.676504] \tb: [0.84852433]\n",
            "960 Cost: 1.0602076 \tW :  [10.677044] \tb: [0.8451288]\n",
            "980 Cost: 1.0601603 \tW :  [10.677541] \tb: [0.8420017]\n",
            "1000 Cost: 1.0601175 \tW :  [10.677999] \tb: [0.8391219]\n",
            "1020 Cost: 1.0600774 \tW :  [10.67842] \tb: [0.8364694]\n",
            "1040 Cost: 1.0600471 \tW :  [10.678808] \tb: [0.83402663]\n",
            "1060 Cost: 1.0600208 \tW :  [10.679166] \tb: [0.8317766]\n",
            "1080 Cost: 1.0600034 \tW :  [10.679496] \tb: [0.82970464]\n",
            "1100 Cost: 1.0599828 \tW :  [10.679798] \tb: [0.8277962]\n",
            "1120 Cost: 1.0599632 \tW :  [10.680078] \tb: [0.8260387]\n",
            "1140 Cost: 1.0599482 \tW :  [10.680335] \tb: [0.8244202]\n",
            "1160 Cost: 1.0599388 \tW :  [10.6805725] \tb: [0.82292944]\n",
            "1180 Cost: 1.0599272 \tW :  [10.68079] \tb: [0.8215565]\n",
            "1200 Cost: 1.0599248 \tW :  [10.680991] \tb: [0.820292]\n",
            "1220 Cost: 1.0599157 \tW :  [10.681176] \tb: [0.8191278]\n",
            "1240 Cost: 1.0599082 \tW :  [10.681347] \tb: [0.81805515]\n",
            "1260 Cost: 1.059903 \tW :  [10.681504] \tb: [0.8170674]\n",
            "1280 Cost: 1.0598991 \tW :  [10.681648] \tb: [0.8161575]\n",
            "1300 Cost: 1.059898 \tW :  [10.681782] \tb: [0.81531984]\n",
            "1320 Cost: 1.0598975 \tW :  [10.681904] \tb: [0.8145485]\n",
            "1340 Cost: 1.0598922 \tW :  [10.682017] \tb: [0.8138376]\n",
            "1360 Cost: 1.059885 \tW :  [10.68212] \tb: [0.8131831]\n",
            "1380 Cost: 1.059888 \tW :  [10.682218] \tb: [0.81258047]\n",
            "1400 Cost: 1.0598837 \tW :  [10.682305] \tb: [0.8120251]\n",
            "1420 Cost: 1.0598811 \tW :  [10.682386] \tb: [0.81151384]\n",
            "1440 Cost: 1.0598814 \tW :  [10.682462] \tb: [0.8110431]\n",
            "1460 Cost: 1.0598804 \tW :  [10.68253] \tb: [0.8106093]\n",
            "1480 Cost: 1.0598792 \tW :  [10.682593] \tb: [0.81021]\n",
            "1500 Cost: 1.0598775 \tW :  [10.682652] \tb: [0.8098421]\n",
            "1520 Cost: 1.0598779 \tW :  [10.682706] \tb: [0.80950344]\n",
            "1540 Cost: 1.0598817 \tW :  [10.682755] \tb: [0.80919135]\n",
            "1560 Cost: 1.0598793 \tW :  [10.682801] \tb: [0.8089041]\n",
            "1580 Cost: 1.0598762 \tW :  [10.682843] \tb: [0.8086396]\n",
            "1600 Cost: 1.0598744 \tW :  [10.682882] \tb: [0.8083959]\n",
            "1620 Cost: 1.059875 \tW :  [10.682918] \tb: [0.8081714]\n",
            "1640 Cost: 1.0598805 \tW :  [10.68295] \tb: [0.80796474]\n",
            "1660 Cost: 1.0598801 \tW :  [10.682981] \tb: [0.8077742]\n",
            "1680 Cost: 1.0598751 \tW :  [10.683008] \tb: [0.807599]\n",
            "1700 Cost: 1.0598749 \tW :  [10.683034] \tb: [0.8074379]\n",
            "1720 Cost: 1.0598786 \tW :  [10.683058] \tb: [0.80728954]\n",
            "1740 Cost: 1.0598757 \tW :  [10.68308] \tb: [0.8071529]\n",
            "1760 Cost: 1.0598766 \tW :  [10.6831] \tb: [0.807027]\n",
            "1780 Cost: 1.0598799 \tW :  [10.683118] \tb: [0.8069105]\n",
            "1800 Cost: 1.0598798 \tW :  [10.683135] \tb: [0.8068032]\n",
            "1820 Cost: 1.0598782 \tW :  [10.683151] \tb: [0.8067043]\n",
            "1840 Cost: 1.0598798 \tW :  [10.683166] \tb: [0.8066133]\n",
            "1860 Cost: 1.0598797 \tW :  [10.683179] \tb: [0.8065296]\n",
            "1880 Cost: 1.059875 \tW :  [10.68319] \tb: [0.8064526]\n",
            "1900 Cost: 1.0598779 \tW :  [10.683202] \tb: [0.80638164]\n",
            "1920 Cost: 1.0598767 \tW :  [10.683212] \tb: [0.8063167]\n",
            "1940 Cost: 1.0598738 \tW :  [10.683222] \tb: [0.80625653]\n",
            "1960 Cost: 1.0598754 \tW :  [10.68323] \tb: [0.80620116]\n",
            "1980 Cost: 1.0598795 \tW :  [10.683239] \tb: [0.8061503]\n",
            "2000 Cost: 1.059875 \tW :  [10.683246] \tb: [0.80610335]\n"
          ],
          "name": "stdout"
        }
      ]
    },
    {
      "cell_type": "markdown",
      "metadata": {
        "id": "Cg9t10kmj209",
        "colab_type": "text"
      },
      "source": [
        "7. 예측(Prediction)"
      ]
    },
    {
      "cell_type": "code",
      "metadata": {
        "id": "Td5uOzv_pzYf",
        "colab_type": "code",
        "colab": {
          "base_uri": "https://localhost:8080/",
          "height": 36
        },
        "outputId": "846527bf-73c1-4d6f-fa89-901549779bf3"
      },
      "source": [
        "print(\"H(10) 시험성적:\", sess.run(hypothesis, feed_dict= {X:[20]}))"
      ],
      "execution_count": 11,
      "outputs": [
        {
          "output_type": "stream",
          "text": [
            "H(10) 시험성적: [214.47102]\n"
          ],
          "name": "stdout"
        }
      ]
    },
    {
      "cell_type": "markdown",
      "metadata": {
        "id": "ynUSHdt3rfqw",
        "colab_type": "text"
      },
      "source": [
        "8.전체 코드"
      ]
    },
    {
      "cell_type": "code",
      "metadata": {
        "id": "fMwcBBcAkWH8",
        "colab_type": "code",
        "colab": {}
      },
      "source": [
        "x_train=[1,2,3,4,5,6,7,8,9] # 공부하는 시간\n",
        "y_train=[11,22,33,44,53,66,77,87,95] # 각 공부하는 시간에 맵핑되는 성적\n",
        "\n",
        "X = tf.placeholder(tf.float32, shape = None)\n",
        "Y = tf.placeholder(tf.float32, shape=None)\n",
        "\n",
        "W = tf.Variable(tf.random_normal([1]), name=\"weight\")\n",
        "b = tf.Variable(tf.random_normal([1]), name=\"bias\")\n",
        "\n",
        "# Our hypothesis XW+b\n",
        "hypothesis = X * W + b\n",
        "\n",
        "# cost/loss function\n",
        "cost = tf.reduce_mean(tf.square(hypothesis - y_train))  #reduce_mean:모수로 나눠주는 작업, square : 제곱을 해주는 작업\n",
        "\n",
        "# optimizer\n",
        "train = tf.train.GradientDescentOptimizer(learning_rate=0.00001).minimize(cost)\n",
        "\n",
        "with tf.Session() as sess:\n",
        "    # Initializes global variables in the graph.\n",
        "    sess.run(tf.global_variables_initializer())\n",
        "\n",
        "    # Fit the line\n",
        "    for step in range(2001):\n",
        "      cost_val, W_val, b_val,train_val = sess.run([cost, W, b, train],\n",
        "                                                  feed_dict = {\n",
        "                                                      X: x_train,\n",
        "                                                      Y: y_train\n",
        "                                                  })\n",
        "      if step % 20 == 0:\n",
        "        print(step, \"Cost:\", cost_val, \"\\tW : \", W_val, \"\\tb:\", b_val)\n",
        "   \n",
        "    print(\"H(10) 시험성적:\", sess.run(hypothesis, feed_dict= {X:[3]}))"
      ],
      "execution_count": null,
      "outputs": []
    },
    {
      "cell_type": "markdown",
      "metadata": {
        "id": "XjU3LCfC1dQR",
        "colab_type": "text"
      },
      "source": [
        "Keras"
      ]
    },
    {
      "cell_type": "code",
      "metadata": {
        "id": "Vu92bpdL2dVX",
        "colab_type": "code",
        "colab": {}
      },
      "source": [
        "from tensorflow import keras"
      ],
      "execution_count": null,
      "outputs": []
    },
    {
      "cell_type": "code",
      "metadata": {
        "id": "Urw7yj1h1mV_",
        "colab_type": "code",
        "colab": {
          "base_uri": "https://localhost:8080/",
          "height": 90
        },
        "outputId": "e91c1e27-dcb8-4861-92ca-0032d74a3d3e"
      },
      "source": [
        "model = keras.models.Sequential()\n",
        "model.add(keras.layers.Dense(1,input_dim=1))"
      ],
      "execution_count": null,
      "outputs": [
        {
          "output_type": "stream",
          "text": [
            "WARNING:tensorflow:From /tensorflow-1.15.2/python3.6/tensorflow_core/python/ops/resource_variable_ops.py:1630: calling BaseResourceVariable.__init__ (from tensorflow.python.ops.resource_variable_ops) with constraint is deprecated and will be removed in a future version.\n",
            "Instructions for updating:\n",
            "If using Keras pass *_constraint arguments to layers.\n"
          ],
          "name": "stdout"
        }
      ]
    },
    {
      "cell_type": "code",
      "metadata": {
        "id": "75NolOjZ2FG5",
        "colab_type": "code",
        "colab": {}
      },
      "source": [
        "from tensorflow.keras.models import Sequential # 케라스의 Sequential()을 임포트\n",
        "from tensorflow.keras.layers import Dense # 케라스의 Dense()를 임포트\n",
        "from tensorflow.keras import optimizers # 케라스의 옵티마이저를 임포트\n",
        "import numpy as np # Numpy를 임포트"
      ],
      "execution_count": null,
      "outputs": []
    },
    {
      "cell_type": "code",
      "metadata": {
        "id": "JHozJ8wo1sy9",
        "colab_type": "code",
        "colab": {
          "base_uri": "https://localhost:8080/",
          "height": 1000
        },
        "outputId": "f7060e51-6b43-46c9-b50a-2ed3d7ddda4f"
      },
      "source": [
        "#X=np.array([1,2,3,4,5,6,7,8,9]) # 공부하는 시간\n",
        "#y=np.array([11,22,33,44,53,66,77,87,95]) # 각 공부하는 시간에 맵핑되는 성적\n",
        "\n",
        "X = [1, 2, 3]\n",
        "y = [1, 2, 3]\n",
        "model=Sequential()\n",
        "model.add(Dense(1, input_dim=1, activation='linear'))\n",
        "sgd=optimizers.SGD(lr=0.01)\n",
        "# 학습률(learning rate, lr)은 0.01로 합니다.\n",
        "model.compile(optimizer=sgd ,loss='mse',metrics=['mse'])\n",
        "# sgd는 경사 하강법을 의미.\n",
        "# 손실 함수(Loss function)은 평균제곱오차 mse를 사용합니다.\n",
        "model.fit(X,y, batch_size=1, epochs=300, shuffle=False)\n",
        "# 주어진 X와 y데이터에 대해서 오차를 최소화하는 작업을 300번 시도합니다."
      ],
      "execution_count": null,
      "outputs": [
        {
          "output_type": "stream",
          "text": [
            "Train on 3 samples\n",
            "Epoch 1/300\n",
            "3/3 [==============================] - 0s 10ms/sample - loss: 2.9664 - mean_squared_error: 2.9664\n",
            "Epoch 2/300\n",
            "3/3 [==============================] - 0s 2ms/sample - loss: 1.4421 - mean_squared_error: 1.4421\n",
            "Epoch 3/300\n",
            "3/3 [==============================] - 0s 2ms/sample - loss: 0.7042 - mean_squared_error: 0.7042\n",
            "Epoch 4/300\n",
            "3/3 [==============================] - 0s 2ms/sample - loss: 0.3472 - mean_squared_error: 0.3472\n",
            "Epoch 5/300\n",
            "3/3 [==============================] - 0s 2ms/sample - loss: 0.1746 - mean_squared_error: 0.1746\n",
            "Epoch 6/300\n",
            "3/3 [==============================] - 0s 2ms/sample - loss: 0.0913 - mean_squared_error: 0.0913  \n",
            "Epoch 7/300\n",
            "3/3 [==============================] - 0s 2ms/sample - loss: 0.0511 - mean_squared_error: 0.0511\n",
            "Epoch 8/300\n",
            "3/3 [==============================] - 0s 2ms/sample - loss: 0.0318 - mean_squared_error: 0.0318\n",
            "Epoch 9/300\n",
            "3/3 [==============================] - 0s 2ms/sample - loss: 0.0224 - mean_squared_error: 0.0224\n",
            "Epoch 10/300\n",
            "3/3 [==============================] - 0s 2ms/sample - loss: 0.0179 - mean_squared_error: 0.0179\n",
            "Epoch 11/300\n",
            "3/3 [==============================] - 0s 2ms/sample - loss: 0.0157 - mean_squared_error: 0.0157\n",
            "Epoch 12/300\n",
            "3/3 [==============================] - 0s 2ms/sample - loss: 0.0145 - mean_squared_error: 0.0145\n",
            "Epoch 13/300\n",
            "3/3 [==============================] - 0s 2ms/sample - loss: 0.0139 - mean_squared_error: 0.0139\n",
            "Epoch 14/300\n",
            "3/3 [==============================] - 0s 2ms/sample - loss: 0.0135 - mean_squared_error: 0.0135\n",
            "Epoch 15/300\n",
            "3/3 [==============================] - 0s 2ms/sample - loss: 0.0133 - mean_squared_error: 0.0133\n",
            "Epoch 16/300\n",
            "3/3 [==============================] - 0s 2ms/sample - loss: 0.0131 - mean_squared_error: 0.0131\n",
            "Epoch 17/300\n",
            "3/3 [==============================] - 0s 2ms/sample - loss: 0.0129 - mean_squared_error: 0.0129\n",
            "Epoch 18/300\n",
            "3/3 [==============================] - 0s 2ms/sample - loss: 0.0127 - mean_squared_error: 0.0127\n",
            "Epoch 19/300\n",
            "3/3 [==============================] - 0s 2ms/sample - loss: 0.0125 - mean_squared_error: 0.0125\n",
            "Epoch 20/300\n",
            "3/3 [==============================] - 0s 2ms/sample - loss: 0.0123 - mean_squared_error: 0.0123\n",
            "Epoch 21/300\n",
            "3/3 [==============================] - 0s 2ms/sample - loss: 0.0121 - mean_squared_error: 0.0121\n",
            "Epoch 22/300\n",
            "3/3 [==============================] - 0s 2ms/sample - loss: 0.0120 - mean_squared_error: 0.0120\n",
            "Epoch 23/300\n",
            "3/3 [==============================] - 0s 2ms/sample - loss: 0.0118 - mean_squared_error: 0.0118\n",
            "Epoch 24/300\n",
            "3/3 [==============================] - 0s 2ms/sample - loss: 0.0116 - mean_squared_error: 0.0116\n",
            "Epoch 25/300\n",
            "3/3 [==============================] - 0s 2ms/sample - loss: 0.0114 - mean_squared_error: 0.0114\n",
            "Epoch 26/300\n",
            "3/3 [==============================] - 0s 2ms/sample - loss: 0.0113 - mean_squared_error: 0.0113\n",
            "Epoch 27/300\n",
            "3/3 [==============================] - 0s 2ms/sample - loss: 0.0111 - mean_squared_error: 0.0111\n",
            "Epoch 28/300\n",
            "3/3 [==============================] - 0s 2ms/sample - loss: 0.0109 - mean_squared_error: 0.0109\n",
            "Epoch 29/300\n",
            "3/3 [==============================] - 0s 2ms/sample - loss: 0.0108 - mean_squared_error: 0.0108\n",
            "Epoch 30/300\n",
            "3/3 [==============================] - 0s 3ms/sample - loss: 0.0106 - mean_squared_error: 0.0106\n",
            "Epoch 31/300\n",
            "3/3 [==============================] - 0s 3ms/sample - loss: 0.0105 - mean_squared_error: 0.0105\n",
            "Epoch 32/300\n",
            "3/3 [==============================] - 0s 2ms/sample - loss: 0.0103 - mean_squared_error: 0.0103\n",
            "Epoch 33/300\n",
            "3/3 [==============================] - 0s 2ms/sample - loss: 0.0101 - mean_squared_error: 0.0101\n",
            "Epoch 34/300\n",
            "3/3 [==============================] - 0s 2ms/sample - loss: 0.0100 - mean_squared_error: 0.0100\n",
            "Epoch 35/300\n",
            "3/3 [==============================] - 0s 3ms/sample - loss: 0.0098 - mean_squared_error: 0.0098\n",
            "Epoch 36/300\n",
            "3/3 [==============================] - 0s 2ms/sample - loss: 0.0097 - mean_squared_error: 0.0097\n",
            "Epoch 37/300\n",
            "3/3 [==============================] - 0s 2ms/sample - loss: 0.0096 - mean_squared_error: 0.0096\n",
            "Epoch 38/300\n",
            "3/3 [==============================] - 0s 2ms/sample - loss: 0.0094 - mean_squared_error: 0.0094\n",
            "Epoch 39/300\n",
            "3/3 [==============================] - 0s 2ms/sample - loss: 0.0093 - mean_squared_error: 0.0093\n",
            "Epoch 40/300\n",
            "3/3 [==============================] - 0s 2ms/sample - loss: 0.0091 - mean_squared_error: 0.0091\n",
            "Epoch 41/300\n",
            "3/3 [==============================] - 0s 2ms/sample - loss: 0.0090 - mean_squared_error: 0.0090\n",
            "Epoch 42/300\n",
            "3/3 [==============================] - 0s 2ms/sample - loss: 0.0089 - mean_squared_error: 0.0089\n",
            "Epoch 43/300\n",
            "3/3 [==============================] - 0s 2ms/sample - loss: 0.0087 - mean_squared_error: 0.0087\n",
            "Epoch 44/300\n",
            "3/3 [==============================] - 0s 2ms/sample - loss: 0.0086 - mean_squared_error: 0.0086\n",
            "Epoch 45/300\n",
            "3/3 [==============================] - 0s 2ms/sample - loss: 0.0085 - mean_squared_error: 0.0085\n",
            "Epoch 46/300\n",
            "3/3 [==============================] - 0s 2ms/sample - loss: 0.0083 - mean_squared_error: 0.0083\n",
            "Epoch 47/300\n",
            "3/3 [==============================] - 0s 2ms/sample - loss: 0.0082 - mean_squared_error: 0.0082\n",
            "Epoch 48/300\n",
            "3/3 [==============================] - 0s 2ms/sample - loss: 0.0081 - mean_squared_error: 0.0081\n",
            "Epoch 49/300\n",
            "3/3 [==============================] - 0s 2ms/sample - loss: 0.0080 - mean_squared_error: 0.0080\n",
            "Epoch 50/300\n",
            "3/3 [==============================] - 0s 2ms/sample - loss: 0.0079 - mean_squared_error: 0.0079\n",
            "Epoch 51/300\n",
            "3/3 [==============================] - 0s 2ms/sample - loss: 0.0077 - mean_squared_error: 0.0077\n",
            "Epoch 52/300\n",
            "3/3 [==============================] - 0s 2ms/sample - loss: 0.0076 - mean_squared_error: 0.0076\n",
            "Epoch 53/300\n",
            "3/3 [==============================] - 0s 2ms/sample - loss: 0.0075 - mean_squared_error: 0.0075\n",
            "Epoch 54/300\n",
            "3/3 [==============================] - 0s 2ms/sample - loss: 0.0074 - mean_squared_error: 0.0074\n",
            "Epoch 55/300\n",
            "3/3 [==============================] - 0s 2ms/sample - loss: 0.0073 - mean_squared_error: 0.0073\n",
            "Epoch 56/300\n",
            "3/3 [==============================] - 0s 2ms/sample - loss: 0.0072 - mean_squared_error: 0.0072\n",
            "Epoch 57/300\n",
            "3/3 [==============================] - 0s 2ms/sample - loss: 0.0071 - mean_squared_error: 0.0071\n",
            "Epoch 58/300\n",
            "3/3 [==============================] - 0s 2ms/sample - loss: 0.0070 - mean_squared_error: 0.0070\n",
            "Epoch 59/300\n",
            "3/3 [==============================] - 0s 2ms/sample - loss: 0.0069 - mean_squared_error: 0.0069\n",
            "Epoch 60/300\n",
            "3/3 [==============================] - 0s 2ms/sample - loss: 0.0068 - mean_squared_error: 0.0068\n",
            "Epoch 61/300\n",
            "3/3 [==============================] - 0s 2ms/sample - loss: 0.0067 - mean_squared_error: 0.0067\n",
            "Epoch 62/300\n",
            "3/3 [==============================] - 0s 2ms/sample - loss: 0.0066 - mean_squared_error: 0.0066\n",
            "Epoch 63/300\n",
            "3/3 [==============================] - 0s 2ms/sample - loss: 0.0065 - mean_squared_error: 0.0065\n",
            "Epoch 64/300\n",
            "3/3 [==============================] - 0s 2ms/sample - loss: 0.0064 - mean_squared_error: 0.0064\n",
            "Epoch 65/300\n",
            "3/3 [==============================] - 0s 2ms/sample - loss: 0.0063 - mean_squared_error: 0.0063\n",
            "Epoch 66/300\n",
            "3/3 [==============================] - 0s 2ms/sample - loss: 0.0062 - mean_squared_error: 0.0062\n",
            "Epoch 67/300\n",
            "3/3 [==============================] - 0s 2ms/sample - loss: 0.0061 - mean_squared_error: 0.0061\n",
            "Epoch 68/300\n",
            "3/3 [==============================] - 0s 2ms/sample - loss: 0.0060 - mean_squared_error: 0.0060\n",
            "Epoch 69/300\n",
            "3/3 [==============================] - 0s 2ms/sample - loss: 0.0059 - mean_squared_error: 0.0059\n",
            "Epoch 70/300\n",
            "3/3 [==============================] - 0s 2ms/sample - loss: 0.0058 - mean_squared_error: 0.0058\n",
            "Epoch 71/300\n",
            "3/3 [==============================] - 0s 2ms/sample - loss: 0.0057 - mean_squared_error: 0.0057\n",
            "Epoch 72/300\n",
            "3/3 [==============================] - 0s 2ms/sample - loss: 0.0056 - mean_squared_error: 0.0056\n",
            "Epoch 73/300\n",
            "3/3 [==============================] - 0s 2ms/sample - loss: 0.0056 - mean_squared_error: 0.0056\n",
            "Epoch 74/300\n",
            "3/3 [==============================] - 0s 2ms/sample - loss: 0.0055 - mean_squared_error: 0.0055\n",
            "Epoch 75/300\n",
            "3/3 [==============================] - 0s 3ms/sample - loss: 0.0054 - mean_squared_error: 0.0054\n",
            "Epoch 76/300\n",
            "3/3 [==============================] - 0s 2ms/sample - loss: 0.0053 - mean_squared_error: 0.0053\n",
            "Epoch 77/300\n",
            "3/3 [==============================] - 0s 2ms/sample - loss: 0.0052 - mean_squared_error: 0.0052\n",
            "Epoch 78/300\n",
            "3/3 [==============================] - 0s 2ms/sample - loss: 0.0052 - mean_squared_error: 0.0052\n",
            "Epoch 79/300\n",
            "3/3 [==============================] - 0s 2ms/sample - loss: 0.0051 - mean_squared_error: 0.0051\n",
            "Epoch 80/300\n",
            "3/3 [==============================] - 0s 2ms/sample - loss: 0.0050 - mean_squared_error: 0.0050\n",
            "Epoch 81/300\n",
            "3/3 [==============================] - 0s 2ms/sample - loss: 0.0049 - mean_squared_error: 0.0049\n",
            "Epoch 82/300\n",
            "3/3 [==============================] - 0s 2ms/sample - loss: 0.0049 - mean_squared_error: 0.0049\n",
            "Epoch 83/300\n",
            "3/3 [==============================] - 0s 2ms/sample - loss: 0.0048 - mean_squared_error: 0.0048\n",
            "Epoch 84/300\n",
            "3/3 [==============================] - 0s 2ms/sample - loss: 0.0047 - mean_squared_error: 0.0047\n",
            "Epoch 85/300\n",
            "3/3 [==============================] - 0s 2ms/sample - loss: 0.0046 - mean_squared_error: 0.0046\n",
            "Epoch 86/300\n",
            "3/3 [==============================] - 0s 2ms/sample - loss: 0.0046 - mean_squared_error: 0.0046\n",
            "Epoch 87/300\n",
            "3/3 [==============================] - 0s 3ms/sample - loss: 0.0045 - mean_squared_error: 0.0045\n",
            "Epoch 88/300\n",
            "3/3 [==============================] - 0s 3ms/sample - loss: 0.0044 - mean_squared_error: 0.0044\n",
            "Epoch 89/300\n",
            "3/3 [==============================] - 0s 2ms/sample - loss: 0.0044 - mean_squared_error: 0.0044\n",
            "Epoch 90/300\n",
            "3/3 [==============================] - 0s 2ms/sample - loss: 0.0043 - mean_squared_error: 0.0043\n",
            "Epoch 91/300\n",
            "3/3 [==============================] - 0s 2ms/sample - loss: 0.0042 - mean_squared_error: 0.0042\n",
            "Epoch 92/300\n",
            "3/3 [==============================] - 0s 2ms/sample - loss: 0.0042 - mean_squared_error: 0.0042\n",
            "Epoch 93/300\n",
            "3/3 [==============================] - 0s 2ms/sample - loss: 0.0041 - mean_squared_error: 0.0041\n",
            "Epoch 94/300\n",
            "3/3 [==============================] - 0s 2ms/sample - loss: 0.0041 - mean_squared_error: 0.0041\n",
            "Epoch 95/300\n",
            "3/3 [==============================] - 0s 2ms/sample - loss: 0.0040 - mean_squared_error: 0.0040\n",
            "Epoch 96/300\n",
            "3/3 [==============================] - 0s 3ms/sample - loss: 0.0039 - mean_squared_error: 0.0039\n",
            "Epoch 97/300\n",
            "3/3 [==============================] - 0s 2ms/sample - loss: 0.0039 - mean_squared_error: 0.0039\n",
            "Epoch 98/300\n",
            "3/3 [==============================] - 0s 2ms/sample - loss: 0.0038 - mean_squared_error: 0.0038\n",
            "Epoch 99/300\n",
            "3/3 [==============================] - 0s 2ms/sample - loss: 0.0038 - mean_squared_error: 0.0038\n",
            "Epoch 100/300\n",
            "3/3 [==============================] - 0s 2ms/sample - loss: 0.0037 - mean_squared_error: 0.0037\n",
            "Epoch 101/300\n",
            "3/3 [==============================] - 0s 2ms/sample - loss: 0.0037 - mean_squared_error: 0.0037\n",
            "Epoch 102/300\n",
            "3/3 [==============================] - 0s 2ms/sample - loss: 0.0036 - mean_squared_error: 0.0036\n",
            "Epoch 103/300\n",
            "3/3 [==============================] - 0s 3ms/sample - loss: 0.0035 - mean_squared_error: 0.0035\n",
            "Epoch 104/300\n",
            "3/3 [==============================] - 0s 2ms/sample - loss: 0.0035 - mean_squared_error: 0.0035\n",
            "Epoch 105/300\n",
            "3/3 [==============================] - 0s 2ms/sample - loss: 0.0034 - mean_squared_error: 0.0034\n",
            "Epoch 106/300\n",
            "3/3 [==============================] - 0s 2ms/sample - loss: 0.0034 - mean_squared_error: 0.0034\n",
            "Epoch 107/300\n",
            "3/3 [==============================] - 0s 2ms/sample - loss: 0.0033 - mean_squared_error: 0.0033\n",
            "Epoch 108/300\n",
            "3/3 [==============================] - 0s 3ms/sample - loss: 0.0033 - mean_squared_error: 0.0033\n",
            "Epoch 109/300\n",
            "3/3 [==============================] - 0s 2ms/sample - loss: 0.0032 - mean_squared_error: 0.0032\n",
            "Epoch 110/300\n",
            "3/3 [==============================] - 0s 2ms/sample - loss: 0.0032 - mean_squared_error: 0.0032\n",
            "Epoch 111/300\n",
            "3/3 [==============================] - 0s 2ms/sample - loss: 0.0031 - mean_squared_error: 0.0031\n",
            "Epoch 112/300\n",
            "3/3 [==============================] - 0s 2ms/sample - loss: 0.0031 - mean_squared_error: 0.0031\n",
            "Epoch 113/300\n",
            "3/3 [==============================] - 0s 2ms/sample - loss: 0.0030 - mean_squared_error: 0.0030\n",
            "Epoch 114/300\n",
            "3/3 [==============================] - 0s 2ms/sample - loss: 0.0030 - mean_squared_error: 0.0030\n",
            "Epoch 115/300\n",
            "3/3 [==============================] - 0s 2ms/sample - loss: 0.0030 - mean_squared_error: 0.0030\n",
            "Epoch 116/300\n",
            "3/3 [==============================] - 0s 2ms/sample - loss: 0.0029 - mean_squared_error: 0.0029\n",
            "Epoch 117/300\n",
            "3/3 [==============================] - 0s 2ms/sample - loss: 0.0029 - mean_squared_error: 0.0029\n",
            "Epoch 118/300\n",
            "3/3 [==============================] - 0s 2ms/sample - loss: 0.0028 - mean_squared_error: 0.0028\n",
            "Epoch 119/300\n",
            "3/3 [==============================] - 0s 2ms/sample - loss: 0.0028 - mean_squared_error: 0.0028\n",
            "Epoch 120/300\n",
            "3/3 [==============================] - 0s 2ms/sample - loss: 0.0027 - mean_squared_error: 0.0027\n",
            "Epoch 121/300\n",
            "3/3 [==============================] - 0s 2ms/sample - loss: 0.0027 - mean_squared_error: 0.0027\n",
            "Epoch 122/300\n",
            "3/3 [==============================] - 0s 2ms/sample - loss: 0.0027 - mean_squared_error: 0.0027\n",
            "Epoch 123/300\n",
            "3/3 [==============================] - 0s 2ms/sample - loss: 0.0026 - mean_squared_error: 0.0026\n",
            "Epoch 124/300\n",
            "3/3 [==============================] - 0s 2ms/sample - loss: 0.0026 - mean_squared_error: 0.0026\n",
            "Epoch 125/300\n",
            "3/3 [==============================] - 0s 2ms/sample - loss: 0.0025 - mean_squared_error: 0.0025\n",
            "Epoch 126/300\n",
            "3/3 [==============================] - 0s 1ms/sample - loss: 0.0025 - mean_squared_error: 0.0025\n",
            "Epoch 127/300\n",
            "3/3 [==============================] - 0s 2ms/sample - loss: 0.0025 - mean_squared_error: 0.0025\n",
            "Epoch 128/300\n",
            "3/3 [==============================] - 0s 2ms/sample - loss: 0.0024 - mean_squared_error: 0.0024\n",
            "Epoch 129/300\n",
            "3/3 [==============================] - 0s 2ms/sample - loss: 0.0024 - mean_squared_error: 0.0024\n",
            "Epoch 130/300\n",
            "3/3 [==============================] - 0s 2ms/sample - loss: 0.0024 - mean_squared_error: 0.0024\n",
            "Epoch 131/300\n",
            "3/3 [==============================] - 0s 2ms/sample - loss: 0.0023 - mean_squared_error: 0.0023\n",
            "Epoch 132/300\n",
            "3/3 [==============================] - 0s 2ms/sample - loss: 0.0023 - mean_squared_error: 0.0023\n",
            "Epoch 133/300\n",
            "3/3 [==============================] - 0s 2ms/sample - loss: 0.0023 - mean_squared_error: 0.0023\n",
            "Epoch 134/300\n",
            "3/3 [==============================] - 0s 2ms/sample - loss: 0.0022 - mean_squared_error: 0.0022\n",
            "Epoch 135/300\n",
            "3/3 [==============================] - 0s 2ms/sample - loss: 0.0022 - mean_squared_error: 0.0022\n",
            "Epoch 136/300\n",
            "3/3 [==============================] - 0s 2ms/sample - loss: 0.0022 - mean_squared_error: 0.0022\n",
            "Epoch 137/300\n",
            "3/3 [==============================] - 0s 3ms/sample - loss: 0.0021 - mean_squared_error: 0.0021\n",
            "Epoch 138/300\n",
            "3/3 [==============================] - 0s 3ms/sample - loss: 0.0021 - mean_squared_error: 0.0021\n",
            "Epoch 139/300\n",
            "3/3 [==============================] - 0s 2ms/sample - loss: 0.0021 - mean_squared_error: 0.0021\n",
            "Epoch 140/300\n",
            "3/3 [==============================] - 0s 2ms/sample - loss: 0.0020 - mean_squared_error: 0.0020\n",
            "Epoch 141/300\n",
            "3/3 [==============================] - 0s 2ms/sample - loss: 0.0020 - mean_squared_error: 0.0020\n",
            "Epoch 142/300\n",
            "3/3 [==============================] - 0s 2ms/sample - loss: 0.0020 - mean_squared_error: 0.0020\n",
            "Epoch 143/300\n",
            "3/3 [==============================] - 0s 3ms/sample - loss: 0.0019 - mean_squared_error: 0.0019\n",
            "Epoch 144/300\n",
            "3/3 [==============================] - 0s 2ms/sample - loss: 0.0019 - mean_squared_error: 0.0019\n",
            "Epoch 145/300\n",
            "3/3 [==============================] - 0s 2ms/sample - loss: 0.0019 - mean_squared_error: 0.0019\n",
            "Epoch 146/300\n",
            "3/3 [==============================] - 0s 2ms/sample - loss: 0.0019 - mean_squared_error: 0.0019\n",
            "Epoch 147/300\n",
            "3/3 [==============================] - 0s 2ms/sample - loss: 0.0018 - mean_squared_error: 0.0018\n",
            "Epoch 148/300\n",
            "3/3 [==============================] - 0s 3ms/sample - loss: 0.0018 - mean_squared_error: 0.0018\n",
            "Epoch 149/300\n",
            "3/3 [==============================] - 0s 2ms/sample - loss: 0.0018 - mean_squared_error: 0.0018\n",
            "Epoch 150/300\n",
            "3/3 [==============================] - 0s 2ms/sample - loss: 0.0017 - mean_squared_error: 0.0017\n",
            "Epoch 151/300\n",
            "3/3 [==============================] - 0s 2ms/sample - loss: 0.0017 - mean_squared_error: 0.0017\n",
            "Epoch 152/300\n",
            "3/3 [==============================] - 0s 2ms/sample - loss: 0.0017 - mean_squared_error: 0.0017\n",
            "Epoch 153/300\n",
            "3/3 [==============================] - 0s 2ms/sample - loss: 0.0017 - mean_squared_error: 0.0017\n",
            "Epoch 154/300\n",
            "3/3 [==============================] - 0s 2ms/sample - loss: 0.0016 - mean_squared_error: 0.0016\n",
            "Epoch 155/300\n",
            "3/3 [==============================] - 0s 2ms/sample - loss: 0.0016 - mean_squared_error: 0.0016\n",
            "Epoch 156/300\n",
            "3/3 [==============================] - 0s 2ms/sample - loss: 0.0016 - mean_squared_error: 0.0016\n",
            "Epoch 157/300\n",
            "3/3 [==============================] - 0s 2ms/sample - loss: 0.0016 - mean_squared_error: 0.0016\n",
            "Epoch 158/300\n",
            "3/3 [==============================] - 0s 2ms/sample - loss: 0.0016 - mean_squared_error: 0.0016\n",
            "Epoch 159/300\n",
            "3/3 [==============================] - 0s 2ms/sample - loss: 0.0015 - mean_squared_error: 0.0015\n",
            "Epoch 160/300\n",
            "3/3 [==============================] - 0s 2ms/sample - loss: 0.0015 - mean_squared_error: 0.0015\n",
            "Epoch 161/300\n",
            "3/3 [==============================] - 0s 2ms/sample - loss: 0.0015 - mean_squared_error: 0.0015\n",
            "Epoch 162/300\n",
            "3/3 [==============================] - 0s 2ms/sample - loss: 0.0015 - mean_squared_error: 0.0015\n",
            "Epoch 163/300\n",
            "3/3 [==============================] - 0s 2ms/sample - loss: 0.0014 - mean_squared_error: 0.0014\n",
            "Epoch 164/300\n",
            "3/3 [==============================] - 0s 2ms/sample - loss: 0.0014 - mean_squared_error: 0.0014\n",
            "Epoch 165/300\n",
            "3/3 [==============================] - 0s 2ms/sample - loss: 0.0014 - mean_squared_error: 0.0014\n",
            "Epoch 166/300\n",
            "3/3 [==============================] - 0s 2ms/sample - loss: 0.0014 - mean_squared_error: 0.0014\n",
            "Epoch 167/300\n",
            "3/3 [==============================] - 0s 2ms/sample - loss: 0.0014 - mean_squared_error: 0.0014\n",
            "Epoch 168/300\n",
            "3/3 [==============================] - 0s 2ms/sample - loss: 0.0013 - mean_squared_error: 0.0013\n",
            "Epoch 169/300\n",
            "3/3 [==============================] - 0s 2ms/sample - loss: 0.0013 - mean_squared_error: 0.0013\n",
            "Epoch 170/300\n",
            "3/3 [==============================] - 0s 2ms/sample - loss: 0.0013 - mean_squared_error: 0.0013\n",
            "Epoch 171/300\n",
            "3/3 [==============================] - 0s 2ms/sample - loss: 0.0013 - mean_squared_error: 0.0013\n",
            "Epoch 172/300\n",
            "3/3 [==============================] - 0s 2ms/sample - loss: 0.0013 - mean_squared_error: 0.0013\n",
            "Epoch 173/300\n",
            "3/3 [==============================] - 0s 3ms/sample - loss: 0.0012 - mean_squared_error: 0.0012\n",
            "Epoch 174/300\n",
            "3/3 [==============================] - 0s 1ms/sample - loss: 0.0012 - mean_squared_error: 0.0012\n",
            "Epoch 175/300\n",
            "3/3 [==============================] - 0s 2ms/sample - loss: 0.0012 - mean_squared_error: 0.0012\n",
            "Epoch 176/300\n",
            "3/3 [==============================] - 0s 2ms/sample - loss: 0.0012 - mean_squared_error: 0.0012\n",
            "Epoch 177/300\n",
            "3/3 [==============================] - 0s 2ms/sample - loss: 0.0012 - mean_squared_error: 0.0012\n",
            "Epoch 178/300\n",
            "3/3 [==============================] - 0s 2ms/sample - loss: 0.0011 - mean_squared_error: 0.0011\n",
            "Epoch 179/300\n",
            "3/3 [==============================] - 0s 2ms/sample - loss: 0.0011 - mean_squared_error: 0.0011\n",
            "Epoch 180/300\n",
            "3/3 [==============================] - 0s 2ms/sample - loss: 0.0011 - mean_squared_error: 0.0011\n",
            "Epoch 181/300\n",
            "3/3 [==============================] - 0s 2ms/sample - loss: 0.0011 - mean_squared_error: 0.0011\n",
            "Epoch 182/300\n",
            "3/3 [==============================] - 0s 2ms/sample - loss: 0.0011 - mean_squared_error: 0.0011\n",
            "Epoch 183/300\n",
            "3/3 [==============================] - 0s 2ms/sample - loss: 0.0011 - mean_squared_error: 0.0011\n",
            "Epoch 184/300\n",
            "3/3 [==============================] - 0s 2ms/sample - loss: 0.0010 - mean_squared_error: 0.0010\n",
            "Epoch 185/300\n",
            "3/3 [==============================] - 0s 2ms/sample - loss: 0.0010 - mean_squared_error: 0.0010\n",
            "Epoch 186/300\n",
            "3/3 [==============================] - 0s 2ms/sample - loss: 0.0010 - mean_squared_error: 0.0010\n",
            "Epoch 187/300\n",
            "3/3 [==============================] - 0s 2ms/sample - loss: 0.0010 - mean_squared_error: 0.0010\n",
            "Epoch 188/300\n",
            "3/3 [==============================] - 0s 2ms/sample - loss: 9.8811e-04 - mean_squared_error: 9.8811e-04\n",
            "Epoch 189/300\n",
            "3/3 [==============================] - 0s 2ms/sample - loss: 9.7338e-04 - mean_squared_error: 9.7338e-04\n",
            "Epoch 190/300\n",
            "3/3 [==============================] - 0s 2ms/sample - loss: 9.5886e-04 - mean_squared_error: 9.5886e-04\n",
            "Epoch 191/300\n",
            "3/3 [==============================] - 0s 2ms/sample - loss: 9.4457e-04 - mean_squared_error: 9.4457e-04\n",
            "Epoch 192/300\n",
            "3/3 [==============================] - 0s 2ms/sample - loss: 9.3048e-04 - mean_squared_error: 9.3048e-04\n",
            "Epoch 193/300\n",
            "3/3 [==============================] - 0s 2ms/sample - loss: 9.1661e-04 - mean_squared_error: 9.1661e-04\n",
            "Epoch 194/300\n",
            "3/3 [==============================] - 0s 2ms/sample - loss: 9.0294e-04 - mean_squared_error: 9.0294e-04\n",
            "Epoch 195/300\n",
            "3/3 [==============================] - 0s 2ms/sample - loss: 8.8947e-04 - mean_squared_error: 8.8947e-04\n",
            "Epoch 196/300\n",
            "3/3 [==============================] - 0s 2ms/sample - loss: 8.7621e-04 - mean_squared_error: 8.7621e-04\n",
            "Epoch 197/300\n",
            "3/3 [==============================] - 0s 2ms/sample - loss: 8.6315e-04 - mean_squared_error: 8.6315e-04\n",
            "Epoch 198/300\n",
            "3/3 [==============================] - 0s 2ms/sample - loss: 8.5027e-04 - mean_squared_error: 8.5027e-04\n",
            "Epoch 199/300\n",
            "3/3 [==============================] - 0s 2ms/sample - loss: 8.3760e-04 - mean_squared_error: 8.3760e-04\n",
            "Epoch 200/300\n",
            "3/3 [==============================] - 0s 2ms/sample - loss: 8.2511e-04 - mean_squared_error: 8.2511e-04\n",
            "Epoch 201/300\n",
            "3/3 [==============================] - 0s 2ms/sample - loss: 8.1280e-04 - mean_squared_error: 8.1280e-04\n",
            "Epoch 202/300\n",
            "3/3 [==============================] - 0s 2ms/sample - loss: 8.0068e-04 - mean_squared_error: 8.0069e-04\n",
            "Epoch 203/300\n",
            "3/3 [==============================] - 0s 2ms/sample - loss: 7.8874e-04 - mean_squared_error: 7.8874e-04\n",
            "Epoch 204/300\n",
            "3/3 [==============================] - 0s 2ms/sample - loss: 7.7698e-04 - mean_squared_error: 7.7698e-04\n",
            "Epoch 205/300\n",
            "3/3 [==============================] - 0s 2ms/sample - loss: 7.6540e-04 - mean_squared_error: 7.6540e-04\n",
            "Epoch 206/300\n",
            "3/3 [==============================] - 0s 2ms/sample - loss: 7.5398e-04 - mean_squared_error: 7.5398e-04\n",
            "Epoch 207/300\n",
            "3/3 [==============================] - 0s 2ms/sample - loss: 7.4274e-04 - mean_squared_error: 7.4274e-04\n",
            "Epoch 208/300\n",
            "3/3 [==============================] - 0s 2ms/sample - loss: 7.3166e-04 - mean_squared_error: 7.3166e-04\n",
            "Epoch 209/300\n",
            "3/3 [==============================] - 0s 2ms/sample - loss: 7.2076e-04 - mean_squared_error: 7.2076e-04\n",
            "Epoch 210/300\n",
            "3/3 [==============================] - 0s 2ms/sample - loss: 7.1001e-04 - mean_squared_error: 7.1001e-04\n",
            "Epoch 211/300\n",
            "3/3 [==============================] - 0s 2ms/sample - loss: 6.9942e-04 - mean_squared_error: 6.9942e-04\n",
            "Epoch 212/300\n",
            "3/3 [==============================] - 0s 2ms/sample - loss: 6.8899e-04 - mean_squared_error: 6.8899e-04\n",
            "Epoch 213/300\n",
            "3/3 [==============================] - 0s 2ms/sample - loss: 6.7871e-04 - mean_squared_error: 6.7871e-04\n",
            "Epoch 214/300\n",
            "3/3 [==============================] - 0s 2ms/sample - loss: 6.6859e-04 - mean_squared_error: 6.6859e-04\n",
            "Epoch 215/300\n",
            "3/3 [==============================] - 0s 2ms/sample - loss: 6.5862e-04 - mean_squared_error: 6.5862e-04\n",
            "Epoch 216/300\n",
            "3/3 [==============================] - 0s 2ms/sample - loss: 6.4881e-04 - mean_squared_error: 6.4881e-04\n",
            "Epoch 217/300\n",
            "3/3 [==============================] - 0s 2ms/sample - loss: 6.3912e-04 - mean_squared_error: 6.3912e-04\n",
            "Epoch 218/300\n",
            "3/3 [==============================] - 0s 2ms/sample - loss: 6.2960e-04 - mean_squared_error: 6.2960e-04\n",
            "Epoch 219/300\n",
            "3/3 [==============================] - 0s 2ms/sample - loss: 6.2021e-04 - mean_squared_error: 6.2021e-04\n",
            "Epoch 220/300\n",
            "3/3 [==============================] - 0s 2ms/sample - loss: 6.1096e-04 - mean_squared_error: 6.1096e-04\n",
            "Epoch 221/300\n",
            "3/3 [==============================] - 0s 2ms/sample - loss: 6.0185e-04 - mean_squared_error: 6.0185e-04\n",
            "Epoch 222/300\n",
            "3/3 [==============================] - 0s 2ms/sample - loss: 5.9287e-04 - mean_squared_error: 5.9288e-04\n",
            "Epoch 223/300\n",
            "3/3 [==============================] - 0s 2ms/sample - loss: 5.8404e-04 - mean_squared_error: 5.8404e-04\n",
            "Epoch 224/300\n",
            "3/3 [==============================] - 0s 2ms/sample - loss: 5.7533e-04 - mean_squared_error: 5.7533e-04\n",
            "Epoch 225/300\n",
            "3/3 [==============================] - 0s 2ms/sample - loss: 5.6675e-04 - mean_squared_error: 5.6675e-04\n",
            "Epoch 226/300\n",
            "3/3 [==============================] - 0s 2ms/sample - loss: 5.5830e-04 - mean_squared_error: 5.5830e-04\n",
            "Epoch 227/300\n",
            "3/3 [==============================] - 0s 2ms/sample - loss: 5.4998e-04 - mean_squared_error: 5.4998e-04\n",
            "Epoch 228/300\n",
            "3/3 [==============================] - 0s 2ms/sample - loss: 5.4177e-04 - mean_squared_error: 5.4177e-04\n",
            "Epoch 229/300\n",
            "3/3 [==============================] - 0s 2ms/sample - loss: 5.3369e-04 - mean_squared_error: 5.3369e-04\n",
            "Epoch 230/300\n",
            "3/3 [==============================] - 0s 2ms/sample - loss: 5.2574e-04 - mean_squared_error: 5.2574e-04\n",
            "Epoch 231/300\n",
            "3/3 [==============================] - 0s 2ms/sample - loss: 5.1789e-04 - mean_squared_error: 5.1789e-04\n",
            "Epoch 232/300\n",
            "3/3 [==============================] - 0s 2ms/sample - loss: 5.1017e-04 - mean_squared_error: 5.1017e-04\n",
            "Epoch 233/300\n",
            "3/3 [==============================] - 0s 3ms/sample - loss: 5.0257e-04 - mean_squared_error: 5.0257e-04\n",
            "Epoch 234/300\n",
            "3/3 [==============================] - 0s 2ms/sample - loss: 4.9507e-04 - mean_squared_error: 4.9507e-04\n",
            "Epoch 235/300\n",
            "3/3 [==============================] - 0s 2ms/sample - loss: 4.8769e-04 - mean_squared_error: 4.8769e-04\n",
            "Epoch 236/300\n",
            "3/3 [==============================] - 0s 2ms/sample - loss: 4.8041e-04 - mean_squared_error: 4.8041e-04\n",
            "Epoch 237/300\n",
            "3/3 [==============================] - 0s 3ms/sample - loss: 4.7325e-04 - mean_squared_error: 4.7325e-04\n",
            "Epoch 238/300\n",
            "3/3 [==============================] - 0s 2ms/sample - loss: 4.6619e-04 - mean_squared_error: 4.6619e-04\n",
            "Epoch 239/300\n",
            "3/3 [==============================] - 0s 2ms/sample - loss: 4.5924e-04 - mean_squared_error: 4.5924e-04\n",
            "Epoch 240/300\n",
            "3/3 [==============================] - 0s 2ms/sample - loss: 4.5239e-04 - mean_squared_error: 4.5239e-04\n",
            "Epoch 241/300\n",
            "3/3 [==============================] - 0s 2ms/sample - loss: 4.4565e-04 - mean_squared_error: 4.4565e-04\n",
            "Epoch 242/300\n",
            "3/3 [==============================] - 0s 2ms/sample - loss: 4.3900e-04 - mean_squared_error: 4.3900e-04\n",
            "Epoch 243/300\n",
            "3/3 [==============================] - 0s 2ms/sample - loss: 4.3246e-04 - mean_squared_error: 4.3246e-04\n",
            "Epoch 244/300\n",
            "3/3 [==============================] - 0s 2ms/sample - loss: 4.2601e-04 - mean_squared_error: 4.2601e-04\n",
            "Epoch 245/300\n",
            "3/3 [==============================] - 0s 3ms/sample - loss: 4.1966e-04 - mean_squared_error: 4.1966e-04\n",
            "Epoch 246/300\n",
            "3/3 [==============================] - 0s 2ms/sample - loss: 4.1340e-04 - mean_squared_error: 4.1340e-04\n",
            "Epoch 247/300\n",
            "3/3 [==============================] - 0s 2ms/sample - loss: 4.0723e-04 - mean_squared_error: 4.0723e-04\n",
            "Epoch 248/300\n",
            "3/3 [==============================] - 0s 2ms/sample - loss: 4.0116e-04 - mean_squared_error: 4.0116e-04\n",
            "Epoch 249/300\n",
            "3/3 [==============================] - 0s 3ms/sample - loss: 3.9518e-04 - mean_squared_error: 3.9518e-04\n",
            "Epoch 250/300\n",
            "3/3 [==============================] - 0s 2ms/sample - loss: 3.8929e-04 - mean_squared_error: 3.8929e-04\n",
            "Epoch 251/300\n",
            "3/3 [==============================] - 0s 2ms/sample - loss: 3.8348e-04 - mean_squared_error: 3.8348e-04\n",
            "Epoch 252/300\n",
            "3/3 [==============================] - 0s 4ms/sample - loss: 3.7776e-04 - mean_squared_error: 3.7776e-04\n",
            "Epoch 253/300\n",
            "3/3 [==============================] - 0s 3ms/sample - loss: 3.7213e-04 - mean_squared_error: 3.7213e-04\n",
            "Epoch 254/300\n",
            "3/3 [==============================] - 0s 2ms/sample - loss: 3.6658e-04 - mean_squared_error: 3.6658e-04\n",
            "Epoch 255/300\n",
            "3/3 [==============================] - 0s 3ms/sample - loss: 3.6112e-04 - mean_squared_error: 3.6112e-04\n",
            "Epoch 256/300\n",
            "3/3 [==============================] - 0s 2ms/sample - loss: 3.5573e-04 - mean_squared_error: 3.5573e-04\n",
            "Epoch 257/300\n",
            "3/3 [==============================] - 0s 3ms/sample - loss: 3.5043e-04 - mean_squared_error: 3.5043e-04\n",
            "Epoch 258/300\n",
            "3/3 [==============================] - 0s 2ms/sample - loss: 3.4520e-04 - mean_squared_error: 3.4520e-04\n",
            "Epoch 259/300\n",
            "3/3 [==============================] - 0s 2ms/sample - loss: 3.4005e-04 - mean_squared_error: 3.4005e-04\n",
            "Epoch 260/300\n",
            "3/3 [==============================] - 0s 2ms/sample - loss: 3.3498e-04 - mean_squared_error: 3.3498e-04\n",
            "Epoch 261/300\n",
            "3/3 [==============================] - 0s 3ms/sample - loss: 3.2999e-04 - mean_squared_error: 3.2999e-04\n",
            "Epoch 262/300\n",
            "3/3 [==============================] - 0s 3ms/sample - loss: 3.2507e-04 - mean_squared_error: 3.2507e-04\n",
            "Epoch 263/300\n",
            "3/3 [==============================] - 0s 2ms/sample - loss: 3.2022e-04 - mean_squared_error: 3.2022e-04\n",
            "Epoch 264/300\n",
            "3/3 [==============================] - 0s 2ms/sample - loss: 3.1544e-04 - mean_squared_error: 3.1544e-04\n",
            "Epoch 265/300\n",
            "3/3 [==============================] - 0s 2ms/sample - loss: 3.1074e-04 - mean_squared_error: 3.1074e-04\n",
            "Epoch 266/300\n",
            "3/3 [==============================] - 0s 3ms/sample - loss: 3.0611e-04 - mean_squared_error: 3.0611e-04\n",
            "Epoch 267/300\n",
            "3/3 [==============================] - 0s 2ms/sample - loss: 3.0154e-04 - mean_squared_error: 3.0154e-04\n",
            "Epoch 268/300\n",
            "3/3 [==============================] - 0s 2ms/sample - loss: 2.9705e-04 - mean_squared_error: 2.9705e-04\n",
            "Epoch 269/300\n",
            "3/3 [==============================] - 0s 2ms/sample - loss: 2.9262e-04 - mean_squared_error: 2.9262e-04\n",
            "Epoch 270/300\n",
            "3/3 [==============================] - 0s 2ms/sample - loss: 2.8825e-04 - mean_squared_error: 2.8825e-04\n",
            "Epoch 271/300\n",
            "3/3 [==============================] - 0s 2ms/sample - loss: 2.8395e-04 - mean_squared_error: 2.8395e-04\n",
            "Epoch 272/300\n",
            "3/3 [==============================] - 0s 2ms/sample - loss: 2.7972e-04 - mean_squared_error: 2.7972e-04\n",
            "Epoch 273/300\n",
            "3/3 [==============================] - 0s 2ms/sample - loss: 2.7555e-04 - mean_squared_error: 2.7555e-04\n",
            "Epoch 274/300\n",
            "3/3 [==============================] - 0s 2ms/sample - loss: 2.7144e-04 - mean_squared_error: 2.7144e-04\n",
            "Epoch 275/300\n",
            "3/3 [==============================] - 0s 2ms/sample - loss: 2.6739e-04 - mean_squared_error: 2.6739e-04\n",
            "Epoch 276/300\n",
            "3/3 [==============================] - 0s 2ms/sample - loss: 2.6340e-04 - mean_squared_error: 2.6340e-04\n",
            "Epoch 277/300\n",
            "3/3 [==============================] - 0s 2ms/sample - loss: 2.5948e-04 - mean_squared_error: 2.5948e-04\n",
            "Epoch 278/300\n",
            "3/3 [==============================] - 0s 2ms/sample - loss: 2.5561e-04 - mean_squared_error: 2.5561e-04\n",
            "Epoch 279/300\n",
            "3/3 [==============================] - 0s 2ms/sample - loss: 2.5180e-04 - mean_squared_error: 2.5180e-04\n",
            "Epoch 280/300\n",
            "3/3 [==============================] - 0s 2ms/sample - loss: 2.4804e-04 - mean_squared_error: 2.4804e-04\n",
            "Epoch 281/300\n",
            "3/3 [==============================] - 0s 2ms/sample - loss: 2.4434e-04 - mean_squared_error: 2.4434e-04\n",
            "Epoch 282/300\n",
            "3/3 [==============================] - 0s 2ms/sample - loss: 2.4070e-04 - mean_squared_error: 2.4070e-04\n",
            "Epoch 283/300\n",
            "3/3 [==============================] - 0s 2ms/sample - loss: 2.3711e-04 - mean_squared_error: 2.3711e-04\n",
            "Epoch 284/300\n",
            "3/3 [==============================] - 0s 2ms/sample - loss: 2.3358e-04 - mean_squared_error: 2.3358e-04\n",
            "Epoch 285/300\n",
            "3/3 [==============================] - 0s 2ms/sample - loss: 2.3009e-04 - mean_squared_error: 2.3009e-04\n",
            "Epoch 286/300\n",
            "3/3 [==============================] - 0s 2ms/sample - loss: 2.2666e-04 - mean_squared_error: 2.2666e-04\n",
            "Epoch 287/300\n",
            "3/3 [==============================] - 0s 2ms/sample - loss: 2.2328e-04 - mean_squared_error: 2.2328e-04\n",
            "Epoch 288/300\n",
            "3/3 [==============================] - 0s 2ms/sample - loss: 2.1995e-04 - mean_squared_error: 2.1995e-04\n",
            "Epoch 289/300\n",
            "3/3 [==============================] - 0s 2ms/sample - loss: 2.1667e-04 - mean_squared_error: 2.1667e-04\n",
            "Epoch 290/300\n",
            "3/3 [==============================] - 0s 3ms/sample - loss: 2.1344e-04 - mean_squared_error: 2.1344e-04\n",
            "Epoch 291/300\n",
            "3/3 [==============================] - 0s 4ms/sample - loss: 2.1026e-04 - mean_squared_error: 2.1026e-04\n",
            "Epoch 292/300\n",
            "3/3 [==============================] - 0s 3ms/sample - loss: 2.0713e-04 - mean_squared_error: 2.0713e-04\n",
            "Epoch 293/300\n",
            "3/3 [==============================] - 0s 2ms/sample - loss: 2.0403e-04 - mean_squared_error: 2.0403e-04\n",
            "Epoch 294/300\n",
            "3/3 [==============================] - 0s 2ms/sample - loss: 2.0099e-04 - mean_squared_error: 2.0099e-04\n",
            "Epoch 295/300\n",
            "3/3 [==============================] - 0s 3ms/sample - loss: 1.9799e-04 - mean_squared_error: 1.9799e-04\n",
            "Epoch 296/300\n",
            "3/3 [==============================] - 0s 2ms/sample - loss: 1.9504e-04 - mean_squared_error: 1.9504e-04\n",
            "Epoch 297/300\n",
            "3/3 [==============================] - 0s 2ms/sample - loss: 1.9213e-04 - mean_squared_error: 1.9213e-04\n",
            "Epoch 298/300\n",
            "3/3 [==============================] - 0s 2ms/sample - loss: 1.8927e-04 - mean_squared_error: 1.8927e-04\n",
            "Epoch 299/300\n",
            "3/3 [==============================] - 0s 2ms/sample - loss: 1.8645e-04 - mean_squared_error: 1.8645e-04\n",
            "Epoch 300/300\n",
            "3/3 [==============================] - 0s 2ms/sample - loss: 1.8367e-04 - mean_squared_error: 1.8367e-04\n"
          ],
          "name": "stdout"
        },
        {
          "output_type": "execute_result",
          "data": {
            "text/plain": [
              "<tensorflow.python.keras.callbacks.History at 0x7f20e3ccecf8>"
            ]
          },
          "metadata": {
            "tags": []
          },
          "execution_count": 14
        }
      ]
    },
    {
      "cell_type": "code",
      "metadata": {
        "id": "y8aAXUg62Ckz",
        "colab_type": "code",
        "colab": {
          "base_uri": "https://localhost:8080/",
          "height": 300
        },
        "outputId": "ca9398e2-0f86-4351-f43f-1e6ae0548a4d"
      },
      "source": [
        "%matplotlib inline\n",
        "import matplotlib.pyplot as plt\n",
        "plt.plot(X, model.predict(X), 'b', X,y, 'k.')"
      ],
      "execution_count": null,
      "outputs": [
        {
          "output_type": "execute_result",
          "data": {
            "text/plain": [
              "[<matplotlib.lines.Line2D at 0x7f20da190710>,\n",
              " <matplotlib.lines.Line2D at 0x7f20da190828>]"
            ]
          },
          "metadata": {
            "tags": []
          },
          "execution_count": 15
        },
        {
          "output_type": "display_data",
          "data": {
            "image/png": "[encoded data removed]",
            "text/plain": [
              "<Figure size 432x288 with 1 Axes>"
            ]
          },
          "metadata": {
            "tags": [],
            "needs_background": "light"
          }
        }
      ]
    },
    {
      "cell_type": "code",
      "metadata": {
        "id": "6R7u5Dxd2MSF",
        "colab_type": "code",
        "colab": {
          "base_uri": "https://localhost:8080/",
          "height": 34
        },
        "outputId": "215b0875-db3e-41ef-be1b-dd5ba840d536"
      },
      "source": [
        "print(model.predict([9.5]))"
      ],
      "execution_count": null,
      "outputs": [
        {
          "output_type": "stream",
          "text": [
            "[[9.396553]]\n"
          ],
          "name": "stdout"
        }
      ]
    },
    {
      "cell_type": "markdown",
      "metadata": {
        "id": "i-t7Mvng9acv",
        "colab_type": "text"
      },
      "source": [
        "파이썬 회귀분석"
      ]
    },
    {
      "cell_type": "code",
      "metadata": {
        "id": "sCZWNLL62Omh",
        "colab_type": "code",
        "colab": {}
      },
      "source": [
        "from sklearn.linear_model import LinearRegression\n",
        "import pandas as pd\n",
        "import numpy as np\n",
        "import matplotlib.pyplot as plt"
      ],
      "execution_count": null,
      "outputs": []
    },
    {
      "cell_type": "code",
      "metadata": {
        "id": "u9LfpiuL9cNE",
        "colab_type": "code",
        "colab": {}
      },
      "source": [
        "x_train=np.array([1,2,3,4,5,6,7,8,9]) # 공부하는 시간\n",
        "y_train=np.array([11,22,33,44,53,66,77,87,95]) # 각 공부하는 시간에 맵핑되는 성적"
      ],
      "execution_count": null,
      "outputs": []
    },
    {
      "cell_type": "code",
      "metadata": {
        "id": "3UMV3vYX9jOb",
        "colab_type": "code",
        "colab": {
          "base_uri": "https://localhost:8080/",
          "height": 265
        },
        "outputId": "8e11a8cf-a87b-46f4-a4c4-decad4e80f8a"
      },
      "source": [
        "plt.plot(x_train, y_train,'o')\n",
        "plt.show()"
      ],
      "execution_count": null,
      "outputs": [
        {
          "output_type": "display_data",
          "data": {
            "image/png": "[encoded data removed]",
            "text/plain": [
              "<Figure size 432x288 with 1 Axes>"
            ]
          },
          "metadata": {
            "tags": [],
            "needs_background": "light"
          }
        }
      ]
    },
    {
      "cell_type": "code",
      "metadata": {
        "id": "6og5ic739-Ph",
        "colab_type": "code",
        "colab": {}
      },
      "source": [
        "line_fitter = LinearRegression()\n"
      ],
      "execution_count": null,
      "outputs": []
    },
    {
      "cell_type": "code",
      "metadata": {
        "id": "Ih8wdS8L-D2c",
        "colab_type": "code",
        "colab": {
          "base_uri": "https://localhost:8080/",
          "height": 316
        },
        "outputId": "322a2c5f-2c5b-4fe9-9487-e54afa24508a"
      },
      "source": [
        "line_fitter.predict([[8]])"
      ],
      "execution_count": null,
      "outputs": [
        {
          "output_type": "error",
          "ename": "NotFittedError",
          "evalue": "ignored",
          "traceback": [
            "\u001b[0;31m---------------------------------------------------------------------------\u001b[0m",
            "\u001b[0;31mNotFittedError\u001b[0m                            Traceback (most recent call last)",
            "\u001b[0;32m<ipython-input-48-4e54be7c112c>\u001b[0m in \u001b[0;36m<module>\u001b[0;34m()\u001b[0m\n\u001b[0;32m----> 1\u001b[0;31m \u001b[0mline_fitter\u001b[0m\u001b[0;34m.\u001b[0m\u001b[0mpredict\u001b[0m\u001b[0;34m(\u001b[0m\u001b[0;34m[\u001b[0m\u001b[0;34m[\u001b[0m\u001b[0;36m8\u001b[0m\u001b[0;34m]\u001b[0m\u001b[0;34m]\u001b[0m\u001b[0;34m)\u001b[0m\u001b[0;34m\u001b[0m\u001b[0;34m\u001b[0m\u001b[0m\n\u001b[0m",
            "\u001b[0;32m/usr/local/lib/python3.6/dist-packages/sklearn/linear_model/_base.py\u001b[0m in \u001b[0;36mpredict\u001b[0;34m(self, X)\u001b[0m\n\u001b[1;32m    223\u001b[0m             \u001b[0mReturns\u001b[0m \u001b[0mpredicted\u001b[0m \u001b[0mvalues\u001b[0m\u001b[0;34m.\u001b[0m\u001b[0;34m\u001b[0m\u001b[0;34m\u001b[0m\u001b[0m\n\u001b[1;32m    224\u001b[0m         \"\"\"\n\u001b[0;32m--> 225\u001b[0;31m         \u001b[0;32mreturn\u001b[0m \u001b[0mself\u001b[0m\u001b[0;34m.\u001b[0m\u001b[0m_decision_function\u001b[0m\u001b[0;34m(\u001b[0m\u001b[0mX\u001b[0m\u001b[0;34m)\u001b[0m\u001b[0;34m\u001b[0m\u001b[0;34m\u001b[0m\u001b[0m\n\u001b[0m\u001b[1;32m    226\u001b[0m \u001b[0;34m\u001b[0m\u001b[0m\n\u001b[1;32m    227\u001b[0m     \u001b[0m_preprocess_data\u001b[0m \u001b[0;34m=\u001b[0m \u001b[0mstaticmethod\u001b[0m\u001b[0;34m(\u001b[0m\u001b[0m_preprocess_data\u001b[0m\u001b[0;34m)\u001b[0m\u001b[0;34m\u001b[0m\u001b[0;34m\u001b[0m\u001b[0m\n",
            "\u001b[0;32m/usr/local/lib/python3.6/dist-packages/sklearn/linear_model/_base.py\u001b[0m in \u001b[0;36m_decision_function\u001b[0;34m(self, X)\u001b[0m\n\u001b[1;32m    203\u001b[0m \u001b[0;34m\u001b[0m\u001b[0m\n\u001b[1;32m    204\u001b[0m     \u001b[0;32mdef\u001b[0m \u001b[0m_decision_function\u001b[0m\u001b[0;34m(\u001b[0m\u001b[0mself\u001b[0m\u001b[0;34m,\u001b[0m \u001b[0mX\u001b[0m\u001b[0;34m)\u001b[0m\u001b[0;34m:\u001b[0m\u001b[0;34m\u001b[0m\u001b[0;34m\u001b[0m\u001b[0m\n\u001b[0;32m--> 205\u001b[0;31m         \u001b[0mcheck_is_fitted\u001b[0m\u001b[0;34m(\u001b[0m\u001b[0mself\u001b[0m\u001b[0;34m)\u001b[0m\u001b[0;34m\u001b[0m\u001b[0;34m\u001b[0m\u001b[0m\n\u001b[0m\u001b[1;32m    206\u001b[0m \u001b[0;34m\u001b[0m\u001b[0m\n\u001b[1;32m    207\u001b[0m         \u001b[0mX\u001b[0m \u001b[0;34m=\u001b[0m \u001b[0mcheck_array\u001b[0m\u001b[0;34m(\u001b[0m\u001b[0mX\u001b[0m\u001b[0;34m,\u001b[0m \u001b[0maccept_sparse\u001b[0m\u001b[0;34m=\u001b[0m\u001b[0;34m[\u001b[0m\u001b[0;34m'csr'\u001b[0m\u001b[0;34m,\u001b[0m \u001b[0;34m'csc'\u001b[0m\u001b[0;34m,\u001b[0m \u001b[0;34m'coo'\u001b[0m\u001b[0;34m]\u001b[0m\u001b[0;34m)\u001b[0m\u001b[0;34m\u001b[0m\u001b[0;34m\u001b[0m\u001b[0m\n",
            "\u001b[0;32m/usr/local/lib/python3.6/dist-packages/sklearn/utils/validation.py\u001b[0m in \u001b[0;36mcheck_is_fitted\u001b[0;34m(estimator, attributes, msg, all_or_any)\u001b[0m\n\u001b[1;32m    965\u001b[0m \u001b[0;34m\u001b[0m\u001b[0m\n\u001b[1;32m    966\u001b[0m     \u001b[0;32mif\u001b[0m \u001b[0;32mnot\u001b[0m \u001b[0mattrs\u001b[0m\u001b[0;34m:\u001b[0m\u001b[0;34m\u001b[0m\u001b[0;34m\u001b[0m\u001b[0m\n\u001b[0;32m--> 967\u001b[0;31m         \u001b[0;32mraise\u001b[0m \u001b[0mNotFittedError\u001b[0m\u001b[0;34m(\u001b[0m\u001b[0mmsg\u001b[0m \u001b[0;34m%\u001b[0m \u001b[0;34m{\u001b[0m\u001b[0;34m'name'\u001b[0m\u001b[0;34m:\u001b[0m \u001b[0mtype\u001b[0m\u001b[0;34m(\u001b[0m\u001b[0mestimator\u001b[0m\u001b[0;34m)\u001b[0m\u001b[0;34m.\u001b[0m\u001b[0m__name__\u001b[0m\u001b[0;34m}\u001b[0m\u001b[0;34m)\u001b[0m\u001b[0;34m\u001b[0m\u001b[0;34m\u001b[0m\u001b[0m\n\u001b[0m\u001b[1;32m    968\u001b[0m \u001b[0;34m\u001b[0m\u001b[0m\n\u001b[1;32m    969\u001b[0m \u001b[0;34m\u001b[0m\u001b[0m\n",
            "\u001b[0;31mNotFittedError\u001b[0m: This LinearRegression instance is not fitted yet. Call 'fit' with appropriate arguments before using this estimator."
          ]
        }
      ]
    },
    {
      "cell_type": "code",
      "metadata": {
        "id": "CpXKK5vS-bxm",
        "colab_type": "code",
        "colab": {}
      },
      "source": [
        ""
      ],
      "execution_count": null,
      "outputs": []
    }
  ]
}