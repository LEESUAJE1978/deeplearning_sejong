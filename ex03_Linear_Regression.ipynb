{
  "nbformat": 4,
  "nbformat_minor": 0,
  "metadata": {
    "colab": {
      "name": "ex03_Linear Regression.ipynb",
      "provenance": [],
      "collapsed_sections": [],
      "authorship_tag": "ABX9TyOLDYOYyz3kC3+8YY6mUOei",
      "include_colab_link": true
    },
    "kernelspec": {
      "name": "python3",
      "display_name": "Python 3"
    }
  },
  "cells": [
    {
      "cell_type": "markdown",
      "metadata": {
        "id": "view-in-github",
        "colab_type": "text"
      },
      "source": [
        "<a href=\"https://colab.research.google.com/github/LEESUAJE1978/deeplearning_sejong/blob/master/ex03_Linear_Regression.ipynb\" target=\"_parent\"><img src=\"https://colab.research.google.com/assets/colab-badge.svg\" alt=\"Open In Colab\"/></a>"
      ]
    },
    {
      "cell_type": "code",
      "metadata": {
        "id": "kS9H_hqLnenB",
        "colab_type": "code",
        "colab": {
          "base_uri": "https://localhost:8080/",
          "height": 34
        },
        "outputId": "7d677f1c-800a-4b3e-cacd-49452f744a3c"
      },
      "source": [
        "#0. 텐서플로우 버전 선택\n",
        "try:\n",
        "    # %tensorflow_version only exists in Colab.\n",
        "    %tensorflow_version 1.x\n",
        "except Exception:\n",
        "    pass\n",
        "import tensorflow as tf\n",
        "import numpy as np\n",
        "\n",
        "print(tf.__version__)\n",
        "\n",
        "#예제 코드는 김성훈교수님의 모두를 위한 머신러닝과 인터넷의 예제코드를 활용하였음을 알려드립니다 ."
      ],
      "execution_count": 40,
      "outputs": [
        {
          "output_type": "stream",
          "text": [
            "1.15.2\n"
          ],
          "name": "stdout"
        }
      ]
    },
    {
      "cell_type": "markdown",
      "metadata": {
        "id": "aQJh1ZUnn0eD",
        "colab_type": "text"
      },
      "source": [
        "1. 텐서플로우 회귀분석"
      ]
    },
    {
      "cell_type": "markdown",
      "metadata": {
        "id": "hDYcsuxx3OcG",
        "colab_type": "text"
      },
      "source": [
        "1.1. 데이터 셋 생성"
      ]
    },
    {
      "cell_type": "code",
      "metadata": {
        "id": "vsjC6c6Lnkl1",
        "colab_type": "code",
        "colab": {}
      },
      "source": [
        "x_train=[1,2,3,4,5,6,7,8,9] # 공부하는 시간\n",
        "y_train=[11,22,33,44,53,66,77,87,95] # 각 공부하는 시간에 맵핑되는 성적"
      ],
      "execution_count": 64,
      "outputs": []
    },
    {
      "cell_type": "markdown",
      "metadata": {
        "id": "hDUxvr9Tgm0j",
        "colab_type": "text"
      },
      "source": [
        "1.2. 모델에 학습 데이터를 놓어 주기 위한 플레이스 홀더(Place holder 생성)"
      ]
    },
    {
      "cell_type": "code",
      "metadata": {
        "id": "62kP4mckgr9d",
        "colab_type": "code",
        "colab": {}
      },
      "source": [
        "X = tf.placeholder(tf.float32, shape = None)\n",
        "Y = tf.placeholder(tf.float32, shape=None)"
      ],
      "execution_count": 65,
      "outputs": []
    },
    {
      "cell_type": "markdown",
      "metadata": {
        "id": "ydr-IbP4n6tx",
        "colab_type": "text"
      },
      "source": [
        "1.3. 학습을 통해 구할 변수(W,b) 지정\n"
      ]
    },
    {
      "cell_type": "code",
      "metadata": {
        "id": "QWVZPhDSn2LY",
        "colab_type": "code",
        "colab": {}
      },
      "source": [
        "W = tf.Variable(tf.random_normal([1]), name=\"weight\")\n",
        "b = tf.Variable(tf.random_normal([1]), name=\"bias\")"
      ],
      "execution_count": 66,
      "outputs": []
    },
    {
      "cell_type": "markdown",
      "metadata": {
        "id": "W5Q2ZkIdn-7G",
        "colab_type": "text"
      },
      "source": [
        "1.4. 가설 생성"
      ]
    },
    {
      "cell_type": "code",
      "metadata": {
        "id": "m7BImuGWn8Ou",
        "colab_type": "code",
        "colab": {}
      },
      "source": [
        "# Our hypothesis XW+b\n",
        "hypothesis = X * W + b"
      ],
      "execution_count": 67,
      "outputs": []
    },
    {
      "cell_type": "markdown",
      "metadata": {
        "id": "iWsQwKpAoCo9",
        "colab_type": "text"
      },
      "source": [
        "1.5. 비용함수(Cost Function) MSE"
      ]
    },
    {
      "cell_type": "code",
      "metadata": {
        "id": "WAzrjTIEoATQ",
        "colab_type": "code",
        "colab": {}
      },
      "source": [
        "# cost/loss function\n",
        "cost = tf.reduce_mean(tf.square(hypothesis - y_train))  #reduce_mean:모수로 나눠주는 작업, square : 제곱을 해주는 작업"
      ],
      "execution_count": 68,
      "outputs": []
    },
    {
      "cell_type": "markdown",
      "metadata": {
        "id": "lv4tjzyToIV_",
        "colab_type": "text"
      },
      "source": [
        "1.6. 경사하강법(Gradient Decent) 비용함수 최적화(Cost Function Optimizer)"
      ]
    },
    {
      "cell_type": "code",
      "metadata": {
        "id": "A9DRkx9coF0Z",
        "colab_type": "code",
        "colab": {}
      },
      "source": [
        "# optimizer\n",
        "train = tf.train.GradientDescentOptimizer(learning_rate=0.01).minimize(cost)"
      ],
      "execution_count": 69,
      "outputs": []
    },
    {
      "cell_type": "markdown",
      "metadata": {
        "id": "9VYE7-IpoOfs",
        "colab_type": "text"
      },
      "source": [
        "1.7. 세션 실행(Session)"
      ]
    },
    {
      "cell_type": "markdown",
      "metadata": {
        "id": "hoCiAh5rqY3d",
        "colab_type": "text"
      },
      "source": [
        "1.7.1 컨텍스트 매니저(Context Manager)"
      ]
    },
    {
      "cell_type": "code",
      "metadata": {
        "id": "XYPis7v5oLbG",
        "colab_type": "code",
        "colab": {
          "base_uri": "https://localhost:8080/",
          "height": 1000
        },
        "outputId": "bc540cf5-f336-4d5b-d60e-de184fbb123f"
      },
      "source": [
        "# Launch the graph in a session.\n",
        "with tf.Session() as sess:\n",
        "    # Initializes global variables in the graph.\n",
        "    sess.run(tf.global_variables_initializer())\n",
        "\n",
        "    # Fit the line\n",
        "    for step in range(2001):\n",
        "      cost_val, W_val, b_val,train_val = sess.run([cost, W, b, train],\n",
        "                                                  feed_dict = {\n",
        "                                                      X: x_train,\n",
        "                                                      Y: y_train\n",
        "                                                  })\n",
        "      if step % 20 == 0:\n",
        "        print(step, \"Cost:\", cost_val, \"\\tW : \", W_val, \"\\tb:\", b_val)\n",
        "   \n",
        "    print(\"시험성적:\", sess.run(hypothesis, feed_dict= {X:[12]}))"
      ],
      "execution_count": 59,
      "outputs": [
        {
          "output_type": "stream",
          "text": [
            "0 Cost: 904.0 \tW :  8.38 \tb: 3.5244443\n",
            "20 Cost: 2.690221 \tW :  10.242923 \tb: 3.5767343\n",
            "40 Cost: 2.4427412 \tW :  10.277724 \tb: 3.3577528\n",
            "60 Cost: 2.232824 \tW :  10.309775 \tb: 3.1560752\n",
            "80 Cost: 2.0547738 \tW :  10.339294 \tb: 2.9703348\n",
            "100 Cost: 1.9037484 \tW :  10.366481 \tb: 2.7992713\n",
            "120 Cost: 1.7756548 \tW :  10.39152 \tb: 2.6417263\n",
            "140 Cost: 1.6669996 \tW :  10.414578 \tb: 2.4966295\n",
            "160 Cost: 1.5748415 \tW :  10.435816 \tb: 2.362999\n",
            "180 Cost: 1.4966718 \tW :  10.455375 \tb: 2.2399282\n",
            "200 Cost: 1.4303598 \tW :  10.473389 \tb: 2.1265824\n",
            "220 Cost: 1.3741239 \tW :  10.489979 \tb: 2.0221937\n",
            "240 Cost: 1.3264265 \tW :  10.505258 \tb: 1.9260539\n",
            "260 Cost: 1.2859637 \tW :  10.519329 \tb: 1.8375115\n",
            "280 Cost: 1.2516389 \tW :  10.532289 \tb: 1.7559651\n",
            "300 Cost: 1.2225323 \tW :  10.544225 \tb: 1.6808629\n",
            "320 Cost: 1.1978408 \tW :  10.555218 \tb: 1.6116947\n",
            "340 Cost: 1.1769004 \tW :  10.565341 \tb: 1.5479925\n",
            "360 Cost: 1.1591378 \tW :  10.574666 \tb: 1.4893236\n",
            "380 Cost: 1.1440692 \tW :  10.583252 \tb: 1.4352913\n",
            "400 Cost: 1.1312891 \tW :  10.591161 \tb: 1.3855286\n",
            "420 Cost: 1.120445 \tW :  10.598444 \tb: 1.3396982\n",
            "440 Cost: 1.1112531 \tW :  10.605153 \tb: 1.2974893\n",
            "460 Cost: 1.103454 \tW :  10.611331 \tb: 1.2586163\n",
            "480 Cost: 1.0968375 \tW :  10.617021 \tb: 1.2228148\n",
            "500 Cost: 1.0912287 \tW :  10.62226 \tb: 1.1898423\n",
            "520 Cost: 1.086468 \tW :  10.627087 \tb: 1.1594758\n",
            "540 Cost: 1.0824322 \tW :  10.631532 \tb: 1.1315084\n",
            "560 Cost: 1.079011 \tW :  10.635625 \tb: 1.1057509\n",
            "580 Cost: 1.0761045 \tW :  10.639395 \tb: 1.0820289\n",
            "600 Cost: 1.0736407 \tW :  10.642867 \tb: 1.0601822\n",
            "620 Cost: 1.071552 \tW :  10.646065 \tb: 1.0400615\n",
            "640 Cost: 1.0697777 \tW :  10.649009 \tb: 1.0215304\n",
            "660 Cost: 1.0682735 \tW :  10.651722 \tb: 1.0044636\n",
            "680 Cost: 1.0669996 \tW :  10.65422 \tb: 0.98874557\n",
            "700 Cost: 1.0659186 \tW :  10.656521 \tb: 0.97426987\n",
            "720 Cost: 1.0650038 \tW :  10.658639 \tb: 0.9609376\n",
            "740 Cost: 1.0642256 \tW :  10.66059 \tb: 0.9486593\n",
            "760 Cost: 1.0635619 \tW :  10.662388 \tb: 0.937351\n",
            "780 Cost: 1.0630044 \tW :  10.664042 \tb: 0.9269363\n",
            "800 Cost: 1.06253 \tW :  10.665567 \tb: 0.9173448\n",
            "820 Cost: 1.0621256 \tW :  10.666971 \tb: 0.9085109\n",
            "840 Cost: 1.0617827 \tW :  10.668264 \tb: 0.9003752\n",
            "860 Cost: 1.0614942 \tW :  10.669456 \tb: 0.89288235\n",
            "880 Cost: 1.061251 \tW :  10.670551 \tb: 0.88598174\n",
            "900 Cost: 1.0610396 \tW :  10.671561 \tb: 0.8796264\n",
            "920 Cost: 1.0608647 \tW :  10.672492 \tb: 0.8737734\n",
            "940 Cost: 1.0607164 \tW :  10.673348 \tb: 0.8683827\n",
            "960 Cost: 1.0605891 \tW :  10.674138 \tb: 0.8634179\n",
            "980 Cost: 1.0604776 \tW :  10.674865 \tb: 0.8588457\n",
            "1000 Cost: 1.0603852 \tW :  10.675533 \tb: 0.8546345\n",
            "1020 Cost: 1.0603086 \tW :  10.676149 \tb: 0.8507565\n",
            "1040 Cost: 1.0602422 \tW :  10.676717 \tb: 0.8471849\n",
            "1060 Cost: 1.0601897 \tW :  10.677239 \tb: 0.84389544\n",
            "1080 Cost: 1.0601382 \tW :  10.677722 \tb: 0.8408659\n",
            "1100 Cost: 1.0601038 \tW :  10.678165 \tb: 0.83807534\n",
            "1120 Cost: 1.0600646 \tW :  10.678574 \tb: 0.83550537\n",
            "1140 Cost: 1.0600398 \tW :  10.678949 \tb: 0.8331388\n",
            "1160 Cost: 1.060011 \tW :  10.6792965 \tb: 0.8309592\n",
            "1180 Cost: 1.0599899 \tW :  10.679615 \tb: 0.8289517\n",
            "1200 Cost: 1.0599729 \tW :  10.679909 \tb: 0.827103\n",
            "1220 Cost: 1.0599607 \tW :  10.68018 \tb: 0.8254005\n",
            "1240 Cost: 1.0599492 \tW :  10.6804285 \tb: 0.82383233\n",
            "1260 Cost: 1.0599383 \tW :  10.680658 \tb: 0.822388\n",
            "1280 Cost: 1.059929 \tW :  10.68087 \tb: 0.8210578\n",
            "1300 Cost: 1.0599167 \tW :  10.681065 \tb: 0.8198328\n",
            "1320 Cost: 1.0599155 \tW :  10.681244 \tb: 0.81870425\n",
            "1340 Cost: 1.059908 \tW :  10.681409 \tb: 0.817665\n",
            "1360 Cost: 1.0599034 \tW :  10.6815605 \tb: 0.8167081\n",
            "1380 Cost: 1.0598979 \tW :  10.681701 \tb: 0.8158267\n",
            "1400 Cost: 1.0598952 \tW :  10.681829 \tb: 0.8150149\n",
            "1420 Cost: 1.0598949 \tW :  10.681949 \tb: 0.8142675\n",
            "1440 Cost: 1.0598884 \tW :  10.682058 \tb: 0.8135789\n",
            "1460 Cost: 1.0598861 \tW :  10.682158 \tb: 0.8129452\n",
            "1480 Cost: 1.0598881 \tW :  10.682251 \tb: 0.8123615\n",
            "1500 Cost: 1.0598875 \tW :  10.682337 \tb: 0.8118239\n",
            "1520 Cost: 1.0598812 \tW :  10.682416 \tb: 0.8113286\n",
            "1540 Cost: 1.0598836 \tW :  10.682488 \tb: 0.810872\n",
            "1560 Cost: 1.0598806 \tW :  10.682555 \tb: 0.81045216\n",
            "1580 Cost: 1.0598845 \tW :  10.682616 \tb: 0.8100652\n",
            "1600 Cost: 1.0598812 \tW :  10.682673 \tb: 0.8097088\n",
            "1620 Cost: 1.0598813 \tW :  10.682726 \tb: 0.8093805\n",
            "1640 Cost: 1.0598772 \tW :  10.682774 \tb: 0.80907834\n",
            "1660 Cost: 1.0598785 \tW :  10.682817 \tb: 0.80880016\n",
            "1680 Cost: 1.0598772 \tW :  10.682858 \tb: 0.8085442\n",
            "1700 Cost: 1.0598752 \tW :  10.682896 \tb: 0.8083079\n",
            "1720 Cost: 1.0598803 \tW :  10.682931 \tb: 0.80809027\n",
            "1740 Cost: 1.0598776 \tW :  10.682962 \tb: 0.8078899\n",
            "1760 Cost: 1.0598782 \tW :  10.682992 \tb: 0.8077054\n",
            "1780 Cost: 1.0598755 \tW :  10.683019 \tb: 0.80753547\n",
            "1800 Cost: 1.0598783 \tW :  10.6830435 \tb: 0.80737907\n",
            "1820 Cost: 1.0598798 \tW :  10.683066 \tb: 0.8072349\n",
            "1840 Cost: 1.0598807 \tW :  10.683087 \tb: 0.8071022\n",
            "1860 Cost: 1.0598763 \tW :  10.683107 \tb: 0.8069801\n",
            "1880 Cost: 1.0598766 \tW :  10.683125 \tb: 0.80686754\n",
            "1900 Cost: 1.059878 \tW :  10.683141 \tb: 0.806764\n",
            "1920 Cost: 1.059879 \tW :  10.683157 \tb: 0.80666876\n",
            "1940 Cost: 1.0598731 \tW :  10.68317 \tb: 0.80658084\n",
            "1960 Cost: 1.0598752 \tW :  10.683184 \tb: 0.8064996\n",
            "1980 Cost: 1.0598785 \tW :  10.683195 \tb: 0.8064252\n",
            "2000 Cost: 1.0598755 \tW :  10.683207 \tb: 0.80635655\n",
            "시험성적: [129.00484]\n"
          ],
          "name": "stdout"
        }
      ]
    },
    {
      "cell_type": "markdown",
      "metadata": {
        "id": "Fh8lNeRHqgU1",
        "colab_type": "text"
      },
      "source": [
        "1.7.2. close() 매서드"
      ]
    },
    {
      "cell_type": "code",
      "metadata": {
        "id": "3-0anDDcpPT_",
        "colab_type": "code",
        "colab": {}
      },
      "source": [
        "sess = tf.Session()\n",
        "sess.run(tf.global_variables_initializer())\n",
        "\n",
        "for step in range(2001):\n",
        "  cost_val, W_val, b_val,train_val = sess.run([cost, W, b, train],\n",
        "                                              feed_dict = {\n",
        "                                                      X: x_train,\n",
        "                                                      Y: y_train\n",
        "                                                  })\n",
        "  if step % 20 == 0:\n",
        "    print(step, \"Cost:\", cost_val, \"\\tW : \", W_val, \"\\tb:\", b_val)\n"
      ],
      "execution_count": null,
      "outputs": []
    },
    {
      "cell_type": "markdown",
      "metadata": {
        "id": "Cg9t10kmj209",
        "colab_type": "text"
      },
      "source": [
        "1.8. 예측(Prediction)"
      ]
    },
    {
      "cell_type": "code",
      "metadata": {
        "id": "Td5uOzv_pzYf",
        "colab_type": "code",
        "colab": {
          "base_uri": "https://localhost:8080/",
          "height": 34
        },
        "outputId": "c9ea87c8-d5d2-4537-d669-373f0b97f6b9"
      },
      "source": [
        "print(\"시험성적:\", sess.run(hypothesis, feed_dict= {X:[20]}))"
      ],
      "execution_count": null,
      "outputs": [
        {
          "output_type": "stream",
          "text": [
            "H(10) 시험성적: [214.4724]\n"
          ],
          "name": "stdout"
        }
      ]
    },
    {
      "cell_type": "markdown",
      "metadata": {
        "id": "ynUSHdt3rfqw",
        "colab_type": "text"
      },
      "source": [
        "1.9.전체 코드"
      ]
    },
    {
      "cell_type": "code",
      "metadata": {
        "id": "fMwcBBcAkWH8",
        "colab_type": "code",
        "colab": {}
      },
      "source": [
        "x_train=[1,2,3,4,5,6,7,8,9] # 공부하는 시간\n",
        "y_train=[11,22,33,44,53,66,77,87,95] # 각 공부하는 시간에 맵핑되는 성적\n",
        "\n",
        "X = tf.placeholder(tf.float32, shape = None)\n",
        "Y = tf.placeholder(tf.float32, shape=None)\n",
        "\n",
        "W = tf.Variable(tf.random_normal([1]), name=\"weight\")\n",
        "b = tf.Variable(tf.random_normal([1]), name=\"bias\")\n",
        "\n",
        "# Our hypothesis XW+b\n",
        "hypothesis = X * W + b\n",
        "\n",
        "# cost/loss function\n",
        "cost = tf.reduce_mean(tf.square(hypothesis - y_train))  #reduce_mean:모수로 나눠주는 작업, square : 제곱을 해주는 작업\n",
        "\n",
        "# optimizer\n",
        "train = tf.train.GradientDescentOptimizer(learning_rate=0.00001).minimize(cost)\n",
        "\n",
        "with tf.Session() as sess:\n",
        "    # Initializes global variables in the graph.\n",
        "    sess.run(tf.global_variables_initializer())\n",
        "\n",
        "    # Fit the line\n",
        "    for step in range(2001):\n",
        "      cost_val, W_val, b_val,train_val = sess.run([cost, W, b, train],\n",
        "                                                  feed_dict = {\n",
        "                                                      X: x_train,\n",
        "                                                      Y: y_train\n",
        "                                                  })\n",
        "      if step % 20 == 0:\n",
        "        print(step, \"Cost:\", cost_val, \"\\tW : \", W_val, \"\\tb:\", b_val)\n",
        "   \n",
        "    print(\"시험성적:\", sess.run(hypothesis, feed_dict= {X:[3]}))"
      ],
      "execution_count": null,
      "outputs": []
    },
    {
      "cell_type": "markdown",
      "metadata": {
        "id": "XjU3LCfC1dQR",
        "colab_type": "text"
      },
      "source": [
        "2. Keras 회귀분석"
      ]
    },
    {
      "cell_type": "code",
      "metadata": {
        "id": "Vu92bpdL2dVX",
        "colab_type": "code",
        "colab": {}
      },
      "source": [
        "from tensorflow import keras"
      ],
      "execution_count": null,
      "outputs": []
    },
    {
      "cell_type": "code",
      "metadata": {
        "id": "Urw7yj1h1mV_",
        "colab_type": "code",
        "colab": {
          "base_uri": "https://localhost:8080/",
          "height": 90
        },
        "outputId": "e91c1e27-dcb8-4861-92ca-0032d74a3d3e"
      },
      "source": [
        "model = keras.models.Sequential()\n",
        "model.add(keras.layers.Dense(1,input_dim=1))"
      ],
      "execution_count": null,
      "outputs": [
        {
          "output_type": "stream",
          "text": [
            "WARNING:tensorflow:From /tensorflow-1.15.2/python3.6/tensorflow_core/python/ops/resource_variable_ops.py:1630: calling BaseResourceVariable.__init__ (from tensorflow.python.ops.resource_variable_ops) with constraint is deprecated and will be removed in a future version.\n",
            "Instructions for updating:\n",
            "If using Keras pass *_constraint arguments to layers.\n"
          ],
          "name": "stdout"
        }
      ]
    },
    {
      "cell_type": "code",
      "metadata": {
        "id": "75NolOjZ2FG5",
        "colab_type": "code",
        "colab": {}
      },
      "source": [
        "from tensorflow.keras.models import Sequential # 케라스의 Sequential()을 임포트\n",
        "from tensorflow.keras.layers import Dense # 케라스의 Dense()를 임포트\n",
        "from tensorflow.keras import optimizers # 케라스의 옵티마이저를 임포트\n",
        "import numpy as np # Numpy를 임포트"
      ],
      "execution_count": null,
      "outputs": []
    },
    {
      "cell_type": "code",
      "metadata": {
        "id": "JHozJ8wo1sy9",
        "colab_type": "code",
        "colab": {}
      },
      "source": [
        "#X=np.array([1,2,3,4,5,6,7,8,9]) # 공부하는 시간\n",
        "#y=np.array([11,22,33,44,53,66,77,87,95]) # 각 공부하는 시간에 맵핑되는 성적\n",
        "\n",
        "X = [1, 2, 3]\n",
        "y = [1, 2, 3]\n",
        "model=Sequential()\n",
        "model.add(Dense(1, input_dim=1, activation='linear'))\n",
        "sgd=optimizers.SGD(lr=0.01)\n",
        "# 학습률(learning rate, lr)은 0.01로 합니다.\n",
        "model.compile(optimizer=sgd ,loss='mse',metrics=['mse'])\n",
        "# sgd는 경사 하강법을 의미.\n",
        "# 손실 함수(Loss function)은 평균제곱오차 mse를 사용합니다.\n",
        "model.fit(X,y, batch_size=1, epochs=300, shuffle=False)\n",
        "# 주어진 X와 y데이터에 대해서 오차를 최소화하는 작업을 300번 시도합니다."
      ],
      "execution_count": null,
      "outputs": []
    },
    {
      "cell_type": "code",
      "metadata": {
        "id": "y8aAXUg62Ckz",
        "colab_type": "code",
        "colab": {
          "base_uri": "https://localhost:8080/",
          "height": 300
        },
        "outputId": "ca9398e2-0f86-4351-f43f-1e6ae0548a4d"
      },
      "source": [
        "%matplotlib inline\n",
        "import matplotlib.pyplot as plt\n",
        "plt.plot(X, model.predict(X), 'b', X,y, 'k.')"
      ],
      "execution_count": null,
      "outputs": [
        {
          "output_type": "execute_result",
          "data": {
            "text/plain": [
              "[<matplotlib.lines.Line2D at 0x7f20da190710>,\n",
              " <matplotlib.lines.Line2D at 0x7f20da190828>]"
            ]
          },
          "metadata": {
            "tags": []
          },
          "execution_count": 15
        },
        {
          "output_type": "display_data",
          "data": {
            "image/png": "[encoded data removed]",
            "text/plain": [
              "<Figure size 432x288 with 1 Axes>"
            ]
          },
          "metadata": {
            "tags": [],
            "needs_background": "light"
          }
        }
      ]
    },
    {
      "cell_type": "code",
      "metadata": {
        "id": "6R7u5Dxd2MSF",
        "colab_type": "code",
        "colab": {
          "base_uri": "https://localhost:8080/",
          "height": 34
        },
        "outputId": "215b0875-db3e-41ef-be1b-dd5ba840d536"
      },
      "source": [
        "print(model.predict([9.5]))"
      ],
      "execution_count": null,
      "outputs": [
        {
          "output_type": "stream",
          "text": [
            "[[9.396553]]\n"
          ],
          "name": "stdout"
        }
      ]
    },
    {
      "cell_type": "markdown",
      "metadata": {
        "id": "i-t7Mvng9acv",
        "colab_type": "text"
      },
      "source": [
        "3.파이썬 회귀분석"
      ]
    },
    {
      "cell_type": "code",
      "metadata": {
        "id": "sCZWNLL62Omh",
        "colab_type": "code",
        "colab": {}
      },
      "source": [
        "from sklearn.linear_model import LinearRegression\n",
        "import pandas as pd\n",
        "import numpy as np\n",
        "import matplotlib.pyplot as plt"
      ],
      "execution_count": null,
      "outputs": []
    },
    {
      "cell_type": "code",
      "metadata": {
        "id": "u9LfpiuL9cNE",
        "colab_type": "code",
        "colab": {}
      },
      "source": [
        "x_train=np.array([1,2,3,4,5,6,7,8,9]) # 공부하는 시간\n",
        "y_train=np.array([11,22,33,44,53,66,77,87,95]) # 각 공부하는 시간에 맵핑되는 성적"
      ],
      "execution_count": null,
      "outputs": []
    },
    {
      "cell_type": "code",
      "metadata": {
        "id": "3UMV3vYX9jOb",
        "colab_type": "code",
        "colab": {
          "base_uri": "https://localhost:8080/",
          "height": 265
        },
        "outputId": "3bc099ef-1fa1-4ef9-8643-c5cf0d2a28e6"
      },
      "source": [
        "plt.plot(x_train, y_train,'o')\n",
        "plt.show()"
      ],
      "execution_count": null,
      "outputs": [
        {
          "output_type": "display_data",
          "data": {
            "image/png": "[encoded data removed]",
            "text/plain": [
              "<Figure size 432x288 with 1 Axes>"
            ]
          },
          "metadata": {
            "tags": [],
            "needs_background": "light"
          }
        }
      ]
    },
    {
      "cell_type": "code",
      "metadata": {
        "id": "6og5ic739-Ph",
        "colab_type": "code",
        "colab": {
          "base_uri": "https://localhost:8080/",
          "height": 34
        },
        "outputId": "b44595a4-6113-45cb-9d07-0a227dc5e1b8"
      },
      "source": [
        "line_fitter = LinearRegression()\n",
        "line_fitter.fit(x_train.reshape(-1,1), y_train) #X는 2차원 array 형태([[x1], [x2], ...[xn]]로 입력되어야 하기 때문에 형변환 필요 "
      ],
      "execution_count": null,
      "outputs": [
        {
          "output_type": "execute_result",
          "data": {
            "text/plain": [
              "LinearRegression(copy_X=True, fit_intercept=True, n_jobs=None, normalize=False)"
            ]
          },
          "metadata": {
            "tags": []
          },
          "execution_count": 21
        }
      ]
    },
    {
      "cell_type": "code",
      "metadata": {
        "id": "Ih8wdS8L-D2c",
        "colab_type": "code",
        "colab": {
          "base_uri": "https://localhost:8080/",
          "height": 34
        },
        "outputId": "13c3a9b8-d158-46c1-8d42-9a1cf75c3948"
      },
      "source": [
        "line_fitter.predict([[8]])"
      ],
      "execution_count": null,
      "outputs": [
        {
          "output_type": "execute_result",
          "data": {
            "text/plain": [
              "array([86.27222222])"
            ]
          },
          "metadata": {
            "tags": []
          },
          "execution_count": 19
        }
      ]
    },
    {
      "cell_type": "markdown",
      "metadata": {
        "id": "ytT6jMPm24dm",
        "colab_type": "text"
      },
      "source": [
        "4. 다변량 회귀분석(Multivariable Regression)\n"
      ]
    },
    {
      "cell_type": "markdown",
      "metadata": {
        "id": "O7f7g-NC3jQr",
        "colab_type": "text"
      },
      "source": [
        "4.1 데이터 셋 생성"
      ]
    },
    {
      "cell_type": "code",
      "metadata": {
        "id": "CpXKK5vS-bxm",
        "colab_type": "code",
        "colab": {}
      },
      "source": [
        "x1_data = [75, 91, 87, 93, 74]\n",
        "x2_data = [83, 89, 93, 97, 66]\n",
        "x3_data = [74, 97,92, 100, 86]\n",
        "y_data = [87, 95, 96, 92, 87]"
      ],
      "execution_count": null,
      "outputs": []
    },
    {
      "cell_type": "markdown",
      "metadata": {
        "id": "_Qo6G8U94GaV",
        "colab_type": "text"
      },
      "source": [
        "4.2. 플레이스 홀더 생성"
      ]
    },
    {
      "cell_type": "code",
      "metadata": {
        "id": "GtM4rFz33_a5",
        "colab_type": "code",
        "colab": {}
      },
      "source": [
        "x1 = tf.placeholder(tf.float32)\n",
        "x2 = tf.placeholder(tf.float32)\n",
        "x3 = tf.placeholder(tf.float32)\n",
        "Y = tf.placeholder(tf.float32)"
      ],
      "execution_count": null,
      "outputs": []
    },
    {
      "cell_type": "markdown",
      "metadata": {
        "id": "aqdwrWKq4YkR",
        "colab_type": "text"
      },
      "source": [
        "4.3. 변수 생성"
      ]
    },
    {
      "cell_type": "code",
      "metadata": {
        "id": "nZSKQgvH4W1-",
        "colab_type": "code",
        "colab": {}
      },
      "source": [
        "w1 = tf.Variable(tf.random_normal([1]), name = 'weight1')\n",
        "w2 = tf.Variable(tf.random_normal([1]), name = 'weight2')\n",
        "w3 = tf.Variable(tf.random_normal([1]), name = 'weight3')\n",
        "b = tf.Variable(tf.random_normal([1]), name = 'bias')"
      ],
      "execution_count": null,
      "outputs": []
    },
    {
      "cell_type": "markdown",
      "metadata": {
        "id": "IOM5tWWo4zVn",
        "colab_type": "text"
      },
      "source": [
        "4.4. 가설 수립\n"
      ]
    },
    {
      "cell_type": "code",
      "metadata": {
        "id": "kEl5OLUm4x1R",
        "colab_type": "code",
        "colab": {}
      },
      "source": [
        "hypothesis = x1 * w1 + x2 * w2 + x3 * w3 +b"
      ],
      "execution_count": null,
      "outputs": []
    },
    {
      "cell_type": "markdown",
      "metadata": {
        "id": "189tXvaZ49Fi",
        "colab_type": "text"
      },
      "source": [
        "4.5 비용함수 "
      ]
    },
    {
      "cell_type": "code",
      "metadata": {
        "id": "d5oiIMFw455R",
        "colab_type": "code",
        "colab": {}
      },
      "source": [
        "cost = tf.reduce_mean(tf.square(hypothesis -Y))\n",
        "optimizer = tf.train.GradientDescentOptimizer(learning_rate=1e-5)\n",
        "train = optimizer.minimize(cost)"
      ],
      "execution_count": null,
      "outputs": []
    },
    {
      "cell_type": "markdown",
      "metadata": {
        "id": "wDGcK5N-5Vj0",
        "colab_type": "text"
      },
      "source": [
        "4.6 세션 실행"
      ]
    },
    {
      "cell_type": "code",
      "metadata": {
        "id": "R6UrrRqb5TO5",
        "colab_type": "code",
        "colab": {}
      },
      "source": [
        "sess = tf.Session()\n",
        "sess.run(tf.global_variables_initializer())\n"
      ],
      "execution_count": null,
      "outputs": []
    },
    {
      "cell_type": "code",
      "metadata": {
        "id": "7sWZmy005bah",
        "colab_type": "code",
        "colab": {}
      },
      "source": [
        "for step in range(2001):\n",
        "  cost_val, hy_val, _ = sess.run([cost, hypothesis, train],\n",
        "                                 feed_dict = {x1: x1_data, x2 : x2_data, x3:x3_data, Y: y_data})\n",
        "  if step % 10 == 0:\n",
        "    print(step, 'Cost: ', cost_val, \"\\nPrediction: \\n\", hy_val)"
      ],
      "execution_count": null,
      "outputs": []
    },
    {
      "cell_type": "code",
      "metadata": {
        "id": "2JAvXoA457Q5",
        "colab_type": "code",
        "colab": {
          "base_uri": "https://localhost:8080/",
          "height": 34
        },
        "outputId": "6cbcda87-c053-4543-8a67-7781136dd0f0"
      },
      "source": [
        "  print(\"시험성적:\", sess.run(hypothesis, feed_dict= {x1: [88], x2: [60], x3: [94]}))"
      ],
      "execution_count": null,
      "outputs": [
        {
          "output_type": "stream",
          "text": [
            "시험성적: [72.75515]\n"
          ],
          "name": "stdout"
        }
      ]
    },
    {
      "cell_type": "markdown",
      "metadata": {
        "id": "BkjPZicAKdXb",
        "colab_type": "text"
      },
      "source": [
        "tip. 비용 함수 학습 모형(Cost function learning process)"
      ]
    },
    {
      "cell_type": "code",
      "metadata": {
        "id": "6C3DXvME6Q-s",
        "colab_type": "code",
        "colab": {}
      },
      "source": [
        "X = [1,2,3]\n",
        "Y = [1,2,3]\n",
        "W = tf.Variable(4.0)\n",
        "\n",
        "hypothesis = X * W\n",
        "\n",
        "cost = tf.reduce_mean(tf.square(hypothesis -Y))\n",
        "optimizer = tf.train.GradientDescentOptimizer(learning_rate=0.1)\n",
        "train = optimizer.minimize(cost)\n"
      ],
      "execution_count": 72,
      "outputs": []
    },
    {
      "cell_type": "code",
      "metadata": {
        "id": "bXh2nUXrKIpy",
        "colab_type": "code",
        "colab": {
          "base_uri": "https://localhost:8080/",
          "height": 1000
        },
        "outputId": "7a9e389a-129a-42af-bf74-f614e1791064"
      },
      "source": [
        "sess = tf.Session()\n",
        "sess.run(tf.global_variables_initializer())\n",
        "for step in range(100):\n",
        "  print(step, sess.run(W))\n",
        "  sess.run(train)"
      ],
      "execution_count": 73,
      "outputs": [
        {
          "output_type": "stream",
          "text": [
            "0 4.0\n",
            "1 1.1999999\n",
            "2 1.0133333\n",
            "3 1.000889\n",
            "4 1.0000592\n",
            "5 1.0000039\n",
            "6 1.0000002\n",
            "7 1.0\n",
            "8 1.0\n",
            "9 1.0\n",
            "10 1.0\n",
            "11 1.0\n",
            "12 1.0\n",
            "13 1.0\n",
            "14 1.0\n",
            "15 1.0\n",
            "16 1.0\n",
            "17 1.0\n",
            "18 1.0\n",
            "19 1.0\n",
            "20 1.0\n",
            "21 1.0\n",
            "22 1.0\n",
            "23 1.0\n",
            "24 1.0\n",
            "25 1.0\n",
            "26 1.0\n",
            "27 1.0\n",
            "28 1.0\n",
            "29 1.0\n",
            "30 1.0\n",
            "31 1.0\n",
            "32 1.0\n",
            "33 1.0\n",
            "34 1.0\n",
            "35 1.0\n",
            "36 1.0\n",
            "37 1.0\n",
            "38 1.0\n",
            "39 1.0\n",
            "40 1.0\n",
            "41 1.0\n",
            "42 1.0\n",
            "43 1.0\n",
            "44 1.0\n",
            "45 1.0\n",
            "46 1.0\n",
            "47 1.0\n",
            "48 1.0\n",
            "49 1.0\n",
            "50 1.0\n",
            "51 1.0\n",
            "52 1.0\n",
            "53 1.0\n",
            "54 1.0\n",
            "55 1.0\n",
            "56 1.0\n",
            "57 1.0\n",
            "58 1.0\n",
            "59 1.0\n",
            "60 1.0\n",
            "61 1.0\n",
            "62 1.0\n",
            "63 1.0\n",
            "64 1.0\n",
            "65 1.0\n",
            "66 1.0\n",
            "67 1.0\n",
            "68 1.0\n",
            "69 1.0\n",
            "70 1.0\n",
            "71 1.0\n",
            "72 1.0\n",
            "73 1.0\n",
            "74 1.0\n",
            "75 1.0\n",
            "76 1.0\n",
            "77 1.0\n",
            "78 1.0\n",
            "79 1.0\n",
            "80 1.0\n",
            "81 1.0\n",
            "82 1.0\n",
            "83 1.0\n",
            "84 1.0\n",
            "85 1.0\n",
            "86 1.0\n",
            "87 1.0\n",
            "88 1.0\n",
            "89 1.0\n",
            "90 1.0\n",
            "91 1.0\n",
            "92 1.0\n",
            "93 1.0\n",
            "94 1.0\n",
            "95 1.0\n",
            "96 1.0\n",
            "97 1.0\n",
            "98 1.0\n",
            "99 1.0\n"
          ],
          "name": "stdout"
        }
      ]
    },
    {
      "cell_type": "code",
      "metadata": {
        "id": "XMtHR28zKEl3",
        "colab_type": "code",
        "colab": {}
      },
      "source": [
        ""
      ],
      "execution_count": null,
      "outputs": []
    }
  ]
}