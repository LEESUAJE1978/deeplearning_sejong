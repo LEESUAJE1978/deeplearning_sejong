{
  "nbformat": 4,
  "nbformat_minor": 0,
  "metadata": {
    "colab": {
      "name": "ex03_Linear Regression.ipynb",
      "provenance": [],
      "collapsed_sections": [],
      "authorship_tag": "ABX9TyOl7LRNkWAHN+3nJFUH3m/A",
      "include_colab_link": true
    },
    "kernelspec": {
      "name": "python3",
      "display_name": "Python 3"
    }
  },
  "cells": [
    {
      "cell_type": "markdown",
      "metadata": {
        "id": "view-in-github",
        "colab_type": "text"
      },
      "source": [
        "<a href=\"https://colab.research.google.com/github/LEESUAJE1978/deeplearning_sejong/blob/master/ex03_Linear_Regression.ipynb\" target=\"_parent\"><img src=\"https://colab.research.google.com/assets/colab-badge.svg\" alt=\"Open In Colab\"/></a>"
      ]
    },
    {
      "cell_type": "code",
      "metadata": {
        "id": "kS9H_hqLnenB",
        "colab_type": "code",
        "colab": {
          "base_uri": "https://localhost:8080/",
          "height": 52
        },
        "outputId": "3030b844-b4e7-49ea-e0a7-87c36381ef00"
      },
      "source": [
        "#0. 텐서플로우 버전 선택\n",
        "try:\n",
        "    # %tensorflow_version only exists in Colab.\n",
        "    %tensorflow_version 1.x\n",
        "except Exception:\n",
        "    pass\n",
        "import tensorflow as tf\n",
        "import numpy as np\n",
        "\n",
        "print(tf.__version__)"
      ],
      "execution_count": 1,
      "outputs": [
        {
          "output_type": "stream",
          "text": [
            "TensorFlow 1.x selected.\n",
            "1.15.2\n"
          ],
          "name": "stdout"
        }
      ]
    },
    {
      "cell_type": "markdown",
      "metadata": {
        "id": "aQJh1ZUnn0eD",
        "colab_type": "text"
      },
      "source": [
        "1. 텐서플로우 회귀분석"
      ]
    },
    {
      "cell_type": "markdown",
      "metadata": {
        "id": "hDYcsuxx3OcG",
        "colab_type": "text"
      },
      "source": [
        "1.1. 데이터 셋 생성"
      ]
    },
    {
      "cell_type": "code",
      "metadata": {
        "id": "vsjC6c6Lnkl1",
        "colab_type": "code",
        "colab": {}
      },
      "source": [
        "x_train=[1,2,3,4,5,6,7,8,9] # 공부하는 시간\n",
        "y_train=[11,22,33,44,53,66,77,87,95] # 각 공부하는 시간에 맵핑되는 성적"
      ],
      "execution_count": 2,
      "outputs": []
    },
    {
      "cell_type": "markdown",
      "metadata": {
        "id": "hDUxvr9Tgm0j",
        "colab_type": "text"
      },
      "source": [
        "1.2. 모델에 학습 데이터를 놓어 주기 위한 플레이스 홀더(Place holder 생성)"
      ]
    },
    {
      "cell_type": "code",
      "metadata": {
        "id": "62kP4mckgr9d",
        "colab_type": "code",
        "colab": {}
      },
      "source": [
        "X = tf.placeholder(tf.float32, shape = None)\n",
        "Y = tf.placeholder(tf.float32, shape=None)"
      ],
      "execution_count": 3,
      "outputs": []
    },
    {
      "cell_type": "markdown",
      "metadata": {
        "id": "ydr-IbP4n6tx",
        "colab_type": "text"
      },
      "source": [
        "1.3. 학습을 통해 구할 변수(W,b) 지정\n"
      ]
    },
    {
      "cell_type": "code",
      "metadata": {
        "id": "QWVZPhDSn2LY",
        "colab_type": "code",
        "colab": {}
      },
      "source": [
        "W = tf.Variable(tf.random_normal([1]), name=\"weight\")\n",
        "b = tf.Variable(tf.random_normal([1]), name=\"bias\")"
      ],
      "execution_count": 4,
      "outputs": []
    },
    {
      "cell_type": "markdown",
      "metadata": {
        "id": "W5Q2ZkIdn-7G",
        "colab_type": "text"
      },
      "source": [
        "1.4. 가설 생성"
      ]
    },
    {
      "cell_type": "code",
      "metadata": {
        "id": "m7BImuGWn8Ou",
        "colab_type": "code",
        "colab": {}
      },
      "source": [
        "# Our hypothesis XW+b\n",
        "hypothesis = X * W + b"
      ],
      "execution_count": 5,
      "outputs": []
    },
    {
      "cell_type": "markdown",
      "metadata": {
        "id": "iWsQwKpAoCo9",
        "colab_type": "text"
      },
      "source": [
        "1.5. 비용함수(Cost Function) MSE"
      ]
    },
    {
      "cell_type": "code",
      "metadata": {
        "id": "WAzrjTIEoATQ",
        "colab_type": "code",
        "colab": {}
      },
      "source": [
        "# cost/loss function\n",
        "cost = tf.reduce_mean(tf.square(hypothesis - y_train))  #reduce_mean:모수로 나눠주는 작업, square : 제곱을 해주는 작업"
      ],
      "execution_count": 6,
      "outputs": []
    },
    {
      "cell_type": "markdown",
      "metadata": {
        "id": "lv4tjzyToIV_",
        "colab_type": "text"
      },
      "source": [
        "1.6. 경사하강법(Gradient Decent) 비용함수 최적화(Cost Function Optimizer)"
      ]
    },
    {
      "cell_type": "code",
      "metadata": {
        "id": "A9DRkx9coF0Z",
        "colab_type": "code",
        "colab": {}
      },
      "source": [
        "# optimizer\n",
        "train = tf.train.GradientDescentOptimizer(learning_rate=0.01).minimize(cost)"
      ],
      "execution_count": 7,
      "outputs": []
    },
    {
      "cell_type": "markdown",
      "metadata": {
        "id": "9VYE7-IpoOfs",
        "colab_type": "text"
      },
      "source": [
        "1.7. 세션 실행(Session)"
      ]
    },
    {
      "cell_type": "markdown",
      "metadata": {
        "id": "hoCiAh5rqY3d",
        "colab_type": "text"
      },
      "source": [
        "1.7.1 컨텍스트 매니저(Context Manager)"
      ]
    },
    {
      "cell_type": "code",
      "metadata": {
        "id": "XYPis7v5oLbG",
        "colab_type": "code",
        "colab": {}
      },
      "source": [
        "# Launch the graph in a session.\n",
        "with tf.Session() as sess:\n",
        "    # Initializes global variables in the graph.\n",
        "    sess.run(tf.global_variables_initializer())\n",
        "\n",
        "    # Fit the line\n",
        "    for step in range(2001):\n",
        "      cost_val, W_val, b_val,train_val = sess.run([cost, W, b, train],\n",
        "                                                  feed_dict = {\n",
        "                                                      X: x_train,\n",
        "                                                      Y: y_train\n",
        "                                                  })\n",
        "      if step % 20 == 0:\n",
        "        print(step, \"Cost:\", cost_val, \"\\tW : \", W_val, \"\\tb:\", b_val)\n",
        "   \n",
        "    print(\"H(10) 시험성적:\", sess.run(hypothesis, feed_dict= {X:[12]}))"
      ],
      "execution_count": null,
      "outputs": []
    },
    {
      "cell_type": "markdown",
      "metadata": {
        "id": "Fh8lNeRHqgU1",
        "colab_type": "text"
      },
      "source": [
        "1.7.2. close() 매서드"
      ]
    },
    {
      "cell_type": "code",
      "metadata": {
        "id": "3-0anDDcpPT_",
        "colab_type": "code",
        "colab": {}
      },
      "source": [
        "sess = tf.Session()\n",
        "sess.run(tf.global_variables_initializer())\n",
        "\n",
        "for step in range(2001):\n",
        "  cost_val, W_val, b_val,train_val = sess.run([cost, W, b, train],\n",
        "                                              feed_dict = {\n",
        "                                                      X: x_train,\n",
        "                                                      Y: y_train\n",
        "                                                  })\n",
        "  if step % 20 == 0:\n",
        "    print(step, \"Cost:\", cost_val, \"\\tW : \", W_val, \"\\tb:\", b_val)\n"
      ],
      "execution_count": null,
      "outputs": []
    },
    {
      "cell_type": "markdown",
      "metadata": {
        "id": "Cg9t10kmj209",
        "colab_type": "text"
      },
      "source": [
        "1.8. 예측(Prediction)"
      ]
    },
    {
      "cell_type": "code",
      "metadata": {
        "id": "Td5uOzv_pzYf",
        "colab_type": "code",
        "colab": {
          "base_uri": "https://localhost:8080/",
          "height": 34
        },
        "outputId": "c9ea87c8-d5d2-4537-d669-373f0b97f6b9"
      },
      "source": [
        "print(\"H(10) 시험성적:\", sess.run(hypothesis, feed_dict= {X:[20]}))"
      ],
      "execution_count": 10,
      "outputs": [
        {
          "output_type": "stream",
          "text": [
            "H(10) 시험성적: [214.4724]\n"
          ],
          "name": "stdout"
        }
      ]
    },
    {
      "cell_type": "markdown",
      "metadata": {
        "id": "ynUSHdt3rfqw",
        "colab_type": "text"
      },
      "source": [
        "1.9.전체 코드"
      ]
    },
    {
      "cell_type": "code",
      "metadata": {
        "id": "fMwcBBcAkWH8",
        "colab_type": "code",
        "colab": {}
      },
      "source": [
        "x_train=[1,2,3,4,5,6,7,8,9] # 공부하는 시간\n",
        "y_train=[11,22,33,44,53,66,77,87,95] # 각 공부하는 시간에 맵핑되는 성적\n",
        "\n",
        "X = tf.placeholder(tf.float32, shape = None)\n",
        "Y = tf.placeholder(tf.float32, shape=None)\n",
        "\n",
        "W = tf.Variable(tf.random_normal([1]), name=\"weight\")\n",
        "b = tf.Variable(tf.random_normal([1]), name=\"bias\")\n",
        "\n",
        "# Our hypothesis XW+b\n",
        "hypothesis = X * W + b\n",
        "\n",
        "# cost/loss function\n",
        "cost = tf.reduce_mean(tf.square(hypothesis - y_train))  #reduce_mean:모수로 나눠주는 작업, square : 제곱을 해주는 작업\n",
        "\n",
        "# optimizer\n",
        "train = tf.train.GradientDescentOptimizer(learning_rate=0.00001).minimize(cost)\n",
        "\n",
        "with tf.Session() as sess:\n",
        "    # Initializes global variables in the graph.\n",
        "    sess.run(tf.global_variables_initializer())\n",
        "\n",
        "    # Fit the line\n",
        "    for step in range(2001):\n",
        "      cost_val, W_val, b_val,train_val = sess.run([cost, W, b, train],\n",
        "                                                  feed_dict = {\n",
        "                                                      X: x_train,\n",
        "                                                      Y: y_train\n",
        "                                                  })\n",
        "      if step % 20 == 0:\n",
        "        print(step, \"Cost:\", cost_val, \"\\tW : \", W_val, \"\\tb:\", b_val)\n",
        "   \n",
        "    print(\"시험성적:\", sess.run(hypothesis, feed_dict= {X:[3]}))"
      ],
      "execution_count": null,
      "outputs": []
    },
    {
      "cell_type": "markdown",
      "metadata": {
        "id": "XjU3LCfC1dQR",
        "colab_type": "text"
      },
      "source": [
        "2. Keras 회귀분석"
      ]
    },
    {
      "cell_type": "code",
      "metadata": {
        "id": "Vu92bpdL2dVX",
        "colab_type": "code",
        "colab": {}
      },
      "source": [
        "from tensorflow import keras"
      ],
      "execution_count": null,
      "outputs": []
    },
    {
      "cell_type": "code",
      "metadata": {
        "id": "Urw7yj1h1mV_",
        "colab_type": "code",
        "colab": {
          "base_uri": "https://localhost:8080/",
          "height": 90
        },
        "outputId": "e91c1e27-dcb8-4861-92ca-0032d74a3d3e"
      },
      "source": [
        "model = keras.models.Sequential()\n",
        "model.add(keras.layers.Dense(1,input_dim=1))"
      ],
      "execution_count": null,
      "outputs": [
        {
          "output_type": "stream",
          "text": [
            "WARNING:tensorflow:From /tensorflow-1.15.2/python3.6/tensorflow_core/python/ops/resource_variable_ops.py:1630: calling BaseResourceVariable.__init__ (from tensorflow.python.ops.resource_variable_ops) with constraint is deprecated and will be removed in a future version.\n",
            "Instructions for updating:\n",
            "If using Keras pass *_constraint arguments to layers.\n"
          ],
          "name": "stdout"
        }
      ]
    },
    {
      "cell_type": "code",
      "metadata": {
        "id": "75NolOjZ2FG5",
        "colab_type": "code",
        "colab": {}
      },
      "source": [
        "from tensorflow.keras.models import Sequential # 케라스의 Sequential()을 임포트\n",
        "from tensorflow.keras.layers import Dense # 케라스의 Dense()를 임포트\n",
        "from tensorflow.keras import optimizers # 케라스의 옵티마이저를 임포트\n",
        "import numpy as np # Numpy를 임포트"
      ],
      "execution_count": null,
      "outputs": []
    },
    {
      "cell_type": "code",
      "metadata": {
        "id": "JHozJ8wo1sy9",
        "colab_type": "code",
        "colab": {}
      },
      "source": [
        "#X=np.array([1,2,3,4,5,6,7,8,9]) # 공부하는 시간\n",
        "#y=np.array([11,22,33,44,53,66,77,87,95]) # 각 공부하는 시간에 맵핑되는 성적\n",
        "\n",
        "X = [1, 2, 3]\n",
        "y = [1, 2, 3]\n",
        "model=Sequential()\n",
        "model.add(Dense(1, input_dim=1, activation='linear'))\n",
        "sgd=optimizers.SGD(lr=0.01)\n",
        "# 학습률(learning rate, lr)은 0.01로 합니다.\n",
        "model.compile(optimizer=sgd ,loss='mse',metrics=['mse'])\n",
        "# sgd는 경사 하강법을 의미.\n",
        "# 손실 함수(Loss function)은 평균제곱오차 mse를 사용합니다.\n",
        "model.fit(X,y, batch_size=1, epochs=300, shuffle=False)\n",
        "# 주어진 X와 y데이터에 대해서 오차를 최소화하는 작업을 300번 시도합니다."
      ],
      "execution_count": null,
      "outputs": []
    },
    {
      "cell_type": "code",
      "metadata": {
        "id": "y8aAXUg62Ckz",
        "colab_type": "code",
        "colab": {
          "base_uri": "https://localhost:8080/",
          "height": 300
        },
        "outputId": "ca9398e2-0f86-4351-f43f-1e6ae0548a4d"
      },
      "source": [
        "%matplotlib inline\n",
        "import matplotlib.pyplot as plt\n",
        "plt.plot(X, model.predict(X), 'b', X,y, 'k.')"
      ],
      "execution_count": null,
      "outputs": [
        {
          "output_type": "execute_result",
          "data": {
            "text/plain": [
              "[<matplotlib.lines.Line2D at 0x7f20da190710>,\n",
              " <matplotlib.lines.Line2D at 0x7f20da190828>]"
            ]
          },
          "metadata": {
            "tags": []
          },
          "execution_count": 15
        },
        {
          "output_type": "display_data",
          "data": {
            "image/png": "[encoded data removed]",
            "text/plain": [
              "<Figure size 432x288 with 1 Axes>"
            ]
          },
          "metadata": {
            "tags": [],
            "needs_background": "light"
          }
        }
      ]
    },
    {
      "cell_type": "code",
      "metadata": {
        "id": "6R7u5Dxd2MSF",
        "colab_type": "code",
        "colab": {
          "base_uri": "https://localhost:8080/",
          "height": 34
        },
        "outputId": "215b0875-db3e-41ef-be1b-dd5ba840d536"
      },
      "source": [
        "print(model.predict([9.5]))"
      ],
      "execution_count": null,
      "outputs": [
        {
          "output_type": "stream",
          "text": [
            "[[9.396553]]\n"
          ],
          "name": "stdout"
        }
      ]
    },
    {
      "cell_type": "markdown",
      "metadata": {
        "id": "i-t7Mvng9acv",
        "colab_type": "text"
      },
      "source": [
        "3.파이썬 회귀분석"
      ]
    },
    {
      "cell_type": "code",
      "metadata": {
        "id": "sCZWNLL62Omh",
        "colab_type": "code",
        "colab": {}
      },
      "source": [
        "from sklearn.linear_model import LinearRegression\n",
        "import pandas as pd\n",
        "import numpy as np\n",
        "import matplotlib.pyplot as plt"
      ],
      "execution_count": 12,
      "outputs": []
    },
    {
      "cell_type": "code",
      "metadata": {
        "id": "u9LfpiuL9cNE",
        "colab_type": "code",
        "colab": {}
      },
      "source": [
        "x_train=np.array([1,2,3,4,5,6,7,8,9]) # 공부하는 시간\n",
        "y_train=np.array([11,22,33,44,53,66,77,87,95]) # 각 공부하는 시간에 맵핑되는 성적"
      ],
      "execution_count": 13,
      "outputs": []
    },
    {
      "cell_type": "code",
      "metadata": {
        "id": "3UMV3vYX9jOb",
        "colab_type": "code",
        "colab": {
          "base_uri": "https://localhost:8080/",
          "height": 265
        },
        "outputId": "3bc099ef-1fa1-4ef9-8643-c5cf0d2a28e6"
      },
      "source": [
        "plt.plot(x_train, y_train,'o')\n",
        "plt.show()"
      ],
      "execution_count": 14,
      "outputs": [
        {
          "output_type": "display_data",
          "data": {
            "image/png": "[encoded data removed]",
            "text/plain": [
              "<Figure size 432x288 with 1 Axes>"
            ]
          },
          "metadata": {
            "tags": [],
            "needs_background": "light"
          }
        }
      ]
    },
    {
      "cell_type": "code",
      "metadata": {
        "id": "6og5ic739-Ph",
        "colab_type": "code",
        "colab": {
          "base_uri": "https://localhost:8080/",
          "height": 34
        },
        "outputId": "b44595a4-6113-45cb-9d07-0a227dc5e1b8"
      },
      "source": [
        "line_fitter = LinearRegression()\n",
        "line_fitter.fit(x_train.reshape(-1,1), y_train) #X는 2차원 array 형태([[x1], [x2], ...[xn]]로 입력되어야 하기 때문에 형변환 필요 "
      ],
      "execution_count": 21,
      "outputs": [
        {
          "output_type": "execute_result",
          "data": {
            "text/plain": [
              "LinearRegression(copy_X=True, fit_intercept=True, n_jobs=None, normalize=False)"
            ]
          },
          "metadata": {
            "tags": []
          },
          "execution_count": 21
        }
      ]
    },
    {
      "cell_type": "code",
      "metadata": {
        "id": "Ih8wdS8L-D2c",
        "colab_type": "code",
        "colab": {
          "base_uri": "https://localhost:8080/",
          "height": 34
        },
        "outputId": "13c3a9b8-d158-46c1-8d42-9a1cf75c3948"
      },
      "source": [
        "line_fitter.predict([[8]])"
      ],
      "execution_count": 19,
      "outputs": [
        {
          "output_type": "execute_result",
          "data": {
            "text/plain": [
              "array([86.27222222])"
            ]
          },
          "metadata": {
            "tags": []
          },
          "execution_count": 19
        }
      ]
    },
    {
      "cell_type": "markdown",
      "metadata": {
        "id": "ytT6jMPm24dm",
        "colab_type": "text"
      },
      "source": [
        "4. 다변량 회귀분석(Multivariable Regression)\n"
      ]
    },
    {
      "cell_type": "markdown",
      "metadata": {
        "id": "O7f7g-NC3jQr",
        "colab_type": "text"
      },
      "source": [
        "4.1 데이터 셋 생성"
      ]
    },
    {
      "cell_type": "code",
      "metadata": {
        "id": "CpXKK5vS-bxm",
        "colab_type": "code",
        "colab": {}
      },
      "source": [
        "x1_data = [75, 91, 87, 93, 74]\n",
        "x2_data = [83, 89, 93, 97, 66]\n",
        "x3_data = [74, 97,92, 100, 86]\n",
        "y_data = [87, 95, 96, 92, 87]"
      ],
      "execution_count": 23,
      "outputs": []
    },
    {
      "cell_type": "markdown",
      "metadata": {
        "id": "_Qo6G8U94GaV",
        "colab_type": "text"
      },
      "source": [
        "4.2. 플레이스 홀더 생성"
      ]
    },
    {
      "cell_type": "code",
      "metadata": {
        "id": "GtM4rFz33_a5",
        "colab_type": "code",
        "colab": {}
      },
      "source": [
        "x1 = tf.placeholder(tf.float32)\n",
        "x2 = tf.placeholder(tf.float32)\n",
        "x3 = tf.placeholder(tf.float32)\n",
        "Y = tf.placeholder(tf.float32)"
      ],
      "execution_count": 24,
      "outputs": []
    },
    {
      "cell_type": "markdown",
      "metadata": {
        "id": "aqdwrWKq4YkR",
        "colab_type": "text"
      },
      "source": [
        "4.3. 변수 생성"
      ]
    },
    {
      "cell_type": "code",
      "metadata": {
        "id": "nZSKQgvH4W1-",
        "colab_type": "code",
        "colab": {}
      },
      "source": [
        "w1 = tf.Variable(tf.random_normal([1]), name = 'weight1')\n",
        "w2 = tf.Variable(tf.random_normal([1]), name = 'weight2')\n",
        "w3 = tf.Variable(tf.random_normal([1]), name = 'weight3')\n",
        "b = tf.Variable(tf.random_normal([1]), name = 'bias')"
      ],
      "execution_count": 25,
      "outputs": []
    },
    {
      "cell_type": "markdown",
      "metadata": {
        "id": "IOM5tWWo4zVn",
        "colab_type": "text"
      },
      "source": [
        "4.4. 가설 수립\n"
      ]
    },
    {
      "cell_type": "code",
      "metadata": {
        "id": "kEl5OLUm4x1R",
        "colab_type": "code",
        "colab": {}
      },
      "source": [
        "hypothesis = x1 * w1 + x2 * w2 + x3 * w3 +b"
      ],
      "execution_count": 26,
      "outputs": []
    },
    {
      "cell_type": "markdown",
      "metadata": {
        "id": "189tXvaZ49Fi",
        "colab_type": "text"
      },
      "source": [
        "4.5 비용함수 "
      ]
    },
    {
      "cell_type": "code",
      "metadata": {
        "id": "d5oiIMFw455R",
        "colab_type": "code",
        "colab": {}
      },
      "source": [
        "cost = tf.reduce_mean(tf.square(hypothesis -Y))\n",
        "optimizer = tf.train.GradientDescentOptimizer(learning_rate=1e-5)\n",
        "train = optimizer.minimize(cost)"
      ],
      "execution_count": 27,
      "outputs": []
    },
    {
      "cell_type": "markdown",
      "metadata": {
        "id": "wDGcK5N-5Vj0",
        "colab_type": "text"
      },
      "source": [
        "4.6 세션 실행"
      ]
    },
    {
      "cell_type": "code",
      "metadata": {
        "id": "R6UrrRqb5TO5",
        "colab_type": "code",
        "colab": {}
      },
      "source": [
        "sess = tf.Session()\n",
        "sess.run(tf.global_variables_initializer())\n"
      ],
      "execution_count": 31,
      "outputs": []
    },
    {
      "cell_type": "code",
      "metadata": {
        "id": "7sWZmy005bah",
        "colab_type": "code",
        "colab": {}
      },
      "source": [
        "for step in range(2001):\n",
        "  cost_val, hy_val, _ = sess.run([cost, hypothesis, train],\n",
        "                                 feed_dict = {x1: x1_data, x2 : x2_data, x3:x3_data, Y: y_data})\n",
        "  if step % 10 == 0:\n",
        "    print(step, 'Cost: ', cost_val, \"\\nPrediction: \\n\", hy_val)"
      ],
      "execution_count": null,
      "outputs": []
    },
    {
      "cell_type": "code",
      "metadata": {
        "id": "2JAvXoA457Q5",
        "colab_type": "code",
        "colab": {
          "base_uri": "https://localhost:8080/",
          "height": 34
        },
        "outputId": "6cbcda87-c053-4543-8a67-7781136dd0f0"
      },
      "source": [
        "  print(\"시험성적:\", sess.run(hypothesis, feed_dict= {x1: [88], x2: [60], x3: [94]}))"
      ],
      "execution_count": 39,
      "outputs": [
        {
          "output_type": "stream",
          "text": [
            "시험성적: [72.75515]\n"
          ],
          "name": "stdout"
        }
      ]
    },
    {
      "cell_type": "code",
      "metadata": {
        "id": "6C3DXvME6Q-s",
        "colab_type": "code",
        "colab": {}
      },
      "source": [
        ""
      ],
      "execution_count": null,
      "outputs": []
    }
  ]
}