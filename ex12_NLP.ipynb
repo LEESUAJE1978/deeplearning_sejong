{
  "nbformat": 4,
  "nbformat_minor": 0,
  "metadata": {
    "colab": {
      "name": "ex12_NLP.ipynb",
      "provenance": [],
      "collapsed_sections": [],
      "authorship_tag": "ABX9TyOiNQVlLMJKRl4auwcPprZA",
      "include_colab_link": true
    },
    "kernelspec": {
      "name": "python3",
      "display_name": "Python 3"
    }
  },
  "cells": [
    {
      "cell_type": "markdown",
      "metadata": {
        "id": "view-in-github",
        "colab_type": "text"
      },
      "source": [
        "<a href=\"https://colab.research.google.com/github/LEESUAJE1978/deeplearning_sejong/blob/master/ex12_NLP.ipynb\" target=\"_parent\"><img src=\"https://colab.research.google.com/assets/colab-badge.svg\" alt=\"Open In Colab\"/></a>"
      ]
    },
    {
      "cell_type": "code",
      "metadata": {
        "id": "8GjvDmPeLwxO",
        "outputId": "72dbbd6b-1dac-40b5-bd85-55d72d914d44",
        "colab": {
          "base_uri": "https://localhost:8080/",
          "height": 35
        }
      },
      "source": [
        "'해보지 않으면 해낼 수 없다'\n",
        "https://subinium.github.io/Keras-6-1/"
      ],
      "execution_count": null,
      "outputs": [
        {
          "output_type": "execute_result",
          "data": {
            "application/vnd.google.colaboratory.intrinsic+json": {
              "type": "string"
            },
            "text/plain": [
              "'해보지 않으면 해낼 수 없다'"
            ]
          },
          "metadata": {
            "tags": []
          },
          "execution_count": 1
        }
      ]
    },
    {
      "cell_type": "code",
      "metadata": {
        "id": "z-hZWLMVL9kq"
      },
      "source": [
        "from tensorflow.keras.preprocessing.text import text_to_word_sequence\n"
      ],
      "execution_count": null,
      "outputs": []
    },
    {
      "cell_type": "code",
      "metadata": {
        "id": "EU1kcRXgMFwL"
      },
      "source": [
        "text = '해보지 않으면 해낼 수 없다'"
      ],
      "execution_count": null,
      "outputs": []
    },
    {
      "cell_type": "code",
      "metadata": {
        "id": "0Nm4tQYjMHtJ",
        "outputId": "829f8c8d-0c5a-41f7-e47d-5f10f365de04",
        "colab": {
          "base_uri": "https://localhost:8080/"
        }
      },
      "source": [
        "result = text_to_word_sequence(text)\n",
        "print(result)"
      ],
      "execution_count": null,
      "outputs": [
        {
          "output_type": "stream",
          "text": [
            "['해보지', '않으면', '해낼', '수', '없다']\n"
          ],
          "name": "stdout"
        }
      ]
    },
    {
      "cell_type": "code",
      "metadata": {
        "id": "L7M43Q9VMMPF"
      },
      "source": [
        "from tensorflow.keras.preprocessing.text import Tokenizer"
      ],
      "execution_count": null,
      "outputs": []
    },
    {
      "cell_type": "code",
      "metadata": {
        "id": "htL9xPHEMpR-"
      },
      "source": [
        "docs = ['먼저 텍스트의 각 단어를 나누어 토큰화합니다.',\n",
        "        '텍스트의 단어로 토큰화해야 딥러닝에서 인식됩니다.',\n",
        "        '토큰화한 결과는 딥러닝에서 사용할 수 있습니다.']\n"
      ],
      "execution_count": null,
      "outputs": []
    },
    {
      "cell_type": "code",
      "metadata": {
        "id": "r5-FDVmEM4Lu",
        "outputId": "f01e8c7f-8a1a-4286-915d-4198a67916ba",
        "colab": {
          "base_uri": "https://localhost:8080/"
        }
      },
      "source": [
        "token = Tokenizer()\n",
        "token.fit_on_texts(docs)\n",
        "\n"
      ],
      "execution_count": null,
      "outputs": [
        {
          "output_type": "stream",
          "text": [
            "OrderedDict([('먼저', 1), ('텍스트의', 2), ('각', 1), ('단어를', 1), ('나누어', 1), ('토큰화합니다', 1), ('단어로', 1), ('토큰화해야', 1), ('딥러닝에서', 2), ('인식됩니다', 1), ('토큰화한', 1), ('결과는', 1), ('사용할', 1), ('수', 1), ('있습니다', 1)])\n"
          ],
          "name": "stdout"
        }
      ]
    },
    {
      "cell_type": "code",
      "metadata": {
        "id": "lpfJdp-lPqgR",
        "outputId": "cbf1fb8d-2a14-41d6-dd51-259eb16106e8",
        "colab": {
          "base_uri": "https://localhost:8080/"
        }
      },
      "source": [
        "print(\"\\n단어 개수: \\n\", token.word_counts)"
      ],
      "execution_count": null,
      "outputs": [
        {
          "output_type": "stream",
          "text": [
            "\n",
            "단어 개수: \n",
            " OrderedDict([('먼저', 1), ('텍스트의', 2), ('각', 1), ('단어를', 1), ('나누어', 1), ('토큰화합니다', 1), ('단어로', 1), ('토큰화해야', 1), ('딥러닝에서', 2), ('인식됩니다', 1), ('토큰화한', 1), ('결과는', 1), ('사용할', 1), ('수', 1), ('있습니다', 1)])\n"
          ],
          "name": "stdout"
        }
      ]
    },
    {
      "cell_type": "code",
      "metadata": {
        "id": "jx_PBvPrM-uc",
        "outputId": "be83d017-079b-4556-c7d0-2cf3f68f44db",
        "colab": {
          "base_uri": "https://localhost:8080/"
        }
      },
      "source": [
        "print(\"\\n문장 개수: \", token.document_count)"
      ],
      "execution_count": null,
      "outputs": [
        {
          "output_type": "stream",
          "text": [
            "\n",
            "문장 개수:  3\n"
          ],
          "name": "stdout"
        }
      ]
    },
    {
      "cell_type": "code",
      "metadata": {
        "id": "xh0iAVuUNFtF",
        "outputId": "3e871f77-58e4-4075-acc3-db0777183739",
        "colab": {
          "base_uri": "https://localhost:8080/"
        }
      },
      "source": [
        "print(\"\\n 각 단어가 몇 개의 문장에 포함되어 있는가:\\n\",token.word_docs)"
      ],
      "execution_count": null,
      "outputs": [
        {
          "output_type": "stream",
          "text": [
            "\n",
            " 각 단어가 몇 개의 문장에 포함되어 있는가:\n",
            " defaultdict(<class 'int'>, {'나누어': 1, '토큰화합니다': 1, '단어를': 1, '먼저': 1, '텍스트의': 2, '각': 1, '단어로': 1, '딥러닝에서': 2, '토큰화해야': 1, '인식됩니다': 1, '수': 1, '토큰화한': 1, '결과는': 1, '있습니다': 1, '사용할': 1})\n"
          ],
          "name": "stdout"
        }
      ]
    },
    {
      "cell_type": "code",
      "metadata": {
        "id": "HSANKlKTNRy2",
        "outputId": "b7529d26-d392-4512-f605-cc1c6130ec5a",
        "colab": {
          "base_uri": "https://localhost:8080/"
        }
      },
      "source": [
        "print(\"\\n각 단어에 매겨진 인덱스 값:\\n\", token.word_index)"
      ],
      "execution_count": null,
      "outputs": [
        {
          "output_type": "stream",
          "text": [
            "\n",
            "각 단어에 매겨진 인덱스 값:\n",
            " {'텍스트의': 1, '딥러닝에서': 2, '먼저': 3, '각': 4, '단어를': 5, '나누어': 6, '토큰화합니다': 7, '단어로': 8, '토큰화해야': 9, '인식됩니다': 10, '토큰화한': 11, '결과는': 12, '사용할': 13, '수': 14, '있습니다': 15}\n"
          ],
          "name": "stdout"
        }
      ]
    },
    {
      "cell_type": "markdown",
      "metadata": {
        "id": "Y3DNYy2ZQiLV"
      },
      "source": [
        "One-Hot Encoding"
      ]
    },
    {
      "cell_type": "code",
      "metadata": {
        "id": "pZ6pVO42NwZn"
      },
      "source": [
        "text = '오랫동안 꿈꾸는 이는 그 꿈을 닮아간다'"
      ],
      "execution_count": null,
      "outputs": []
    },
    {
      "cell_type": "code",
      "metadata": {
        "id": "newUGjNgQpra"
      },
      "source": [
        "token = Tokenizer()\n",
        "token.fit_on_texts([text])"
      ],
      "execution_count": null,
      "outputs": []
    },
    {
      "cell_type": "code",
      "metadata": {
        "id": "MRYzgkz-Quij",
        "outputId": "1fe7dc6e-9fd4-4ef8-b58a-40024886bd2a",
        "colab": {
          "base_uri": "https://localhost:8080/"
        }
      },
      "source": [
        "print(token.word_index)"
      ],
      "execution_count": null,
      "outputs": [
        {
          "output_type": "stream",
          "text": [
            "{'오랫동안': 1, '꿈꾸는': 2, '이는': 3, '그': 4, '꿈을': 5, '닮아간다': 6}\n"
          ],
          "name": "stdout"
        }
      ]
    },
    {
      "cell_type": "code",
      "metadata": {
        "id": "gIZ8NRmIQxJq",
        "outputId": "5a3e26b3-0fad-4109-c22e-8a4a7b4b34f7",
        "colab": {
          "base_uri": "https://localhost:8080/"
        }
      },
      "source": [
        "x=token.texts_to_sequences([text])\n",
        "print(x)"
      ],
      "execution_count": null,
      "outputs": [
        {
          "output_type": "stream",
          "text": [
            "[[1, 2, 3, 4, 5, 6]]\n"
          ],
          "name": "stdout"
        }
      ]
    },
    {
      "cell_type": "code",
      "metadata": {
        "id": "DEWFOUlCRBIZ"
      },
      "source": [
        "from keras.utils import to_categorical"
      ],
      "execution_count": null,
      "outputs": []
    },
    {
      "cell_type": "code",
      "metadata": {
        "id": "CVI284pBRO1E"
      },
      "source": [
        "word_size = len(token.word_index) +1\n",
        "x = to_categorical(x, num_classes=word_size)"
      ],
      "execution_count": null,
      "outputs": []
    },
    {
      "cell_type": "code",
      "metadata": {
        "id": "qOjtwEucRSDG",
        "outputId": "719ff92b-1390-4e87-9fb7-98da8b967e81",
        "colab": {
          "base_uri": "https://localhost:8080/"
        }
      },
      "source": [
        "print(x)"
      ],
      "execution_count": null,
      "outputs": [
        {
          "output_type": "stream",
          "text": [
            "[[[0. 1. 0. 0. 0. 0. 0.]\n",
            "  [0. 0. 1. 0. 0. 0. 0.]\n",
            "  [0. 0. 0. 1. 0. 0. 0.]\n",
            "  [0. 0. 0. 0. 1. 0. 0.]\n",
            "  [0. 0. 0. 0. 0. 1. 0.]\n",
            "  [0. 0. 0. 0. 0. 0. 1.]]]\n"
          ],
          "name": "stdout"
        }
      ]
    },
    {
      "cell_type": "markdown",
      "metadata": {
        "id": "3XgKMmctVIxW"
      },
      "source": [
        "영화리뷰\n"
      ]
    },
    {
      "cell_type": "code",
      "metadata": {
        "id": "401vNI4-RVxv"
      },
      "source": [
        "docs = ['너무 재밌네요.', '최고예요.', \"참 잘 만든 영화예요.\", \"추천하고 싶은 영화입니다.\", \"한 번 더 보고 싶네요\", \"글쎄요\",\"별로예요\", \"생각보다 지루하네요\", \"연기가 어색해요\", \"재미 없어요\"]"
      ],
      "execution_count": null,
      "outputs": []
    },
    {
      "cell_type": "code",
      "metadata": {
        "id": "SJuwzNNWVrke"
      },
      "source": [
        "from numpy import array\n"
      ],
      "execution_count": null,
      "outputs": []
    },
    {
      "cell_type": "code",
      "metadata": {
        "id": "7x9BfHetVeFd"
      },
      "source": [
        "mark = array([1,1,1,1,1,0,0,0,0,0])"
      ],
      "execution_count": null,
      "outputs": []
    },
    {
      "cell_type": "code",
      "metadata": {
        "id": "aYicWry5Vnq1",
        "outputId": "fa378d23-8f05-4ec7-96e0-9fbdf19b99f3",
        "colab": {
          "base_uri": "https://localhost:8080/"
        }
      },
      "source": [
        "token = Tokenizer()\n",
        "token.fit_on_texts(docs)\n",
        "print(token.word_index)"
      ],
      "execution_count": null,
      "outputs": [
        {
          "output_type": "stream",
          "text": [
            "{'너무': 1, '재밌네요': 2, '최고예요': 3, '참': 4, '잘': 5, '만든': 6, '영화예요': 7, '추천하고': 8, '싶은': 9, '영화입니다': 10, '한': 11, '번': 12, '더': 13, '보고': 14, '싶네요': 15, '글쎄요': 16, '별로예요': 17, '생각보다': 18, '지루하네요': 19, '연기가': 20, '어색해요': 21, '재미': 22, '없어요': 23}\n"
          ],
          "name": "stdout"
        }
      ]
    },
    {
      "cell_type": "code",
      "metadata": {
        "id": "LmfHfKovWNd_",
        "outputId": "ce4a3196-9bf8-4225-eaa7-5aeeb909f9ea",
        "colab": {
          "base_uri": "https://localhost:8080/"
        }
      },
      "source": [
        "x = token.texts_to_sequences(docs)\n",
        "print(x)"
      ],
      "execution_count": null,
      "outputs": [
        {
          "output_type": "stream",
          "text": [
            "[[1, 2], [3], [4, 5, 6, 7], [8, 9, 10], [11, 12, 13, 14, 15], [16], [17], [18, 19], [20, 21], [22, 23]]\n"
          ],
          "name": "stdout"
        }
      ]
    },
    {
      "cell_type": "code",
      "metadata": {
        "id": "5_87ebNPWqMl"
      },
      "source": [
        "from keras.preprocessing.sequence import pad_sequences"
      ],
      "execution_count": null,
      "outputs": []
    },
    {
      "cell_type": "code",
      "metadata": {
        "id": "IDr1WF8IWWBh",
        "outputId": "b854da2a-321f-485f-c1e5-73c54f34b0d5",
        "colab": {
          "base_uri": "https://localhost:8080/"
        }
      },
      "source": [
        "padded_x = pad_sequences(x, 4)\n",
        "print(padded_x)"
      ],
      "execution_count": null,
      "outputs": [
        {
          "output_type": "stream",
          "text": [
            "[[ 0  0  1  2]\n",
            " [ 0  0  0  3]\n",
            " [ 4  5  6  7]\n",
            " [ 0  8  9 10]\n",
            " [12 13 14 15]\n",
            " [ 0  0  0 16]\n",
            " [ 0  0  0 17]\n",
            " [ 0  0 18 19]\n",
            " [ 0  0 20 21]\n",
            " [ 0  0 22 23]]\n"
          ],
          "name": "stdout"
        }
      ]
    },
    {
      "cell_type": "code",
      "metadata": {
        "id": "QRbkZiMnWgsY"
      },
      "source": [
        "word_size = len(token.word_index)+1"
      ],
      "execution_count": null,
      "outputs": []
    },
    {
      "cell_type": "code",
      "metadata": {
        "id": "ySWdPwxNXWjH"
      },
      "source": [
        "from keras.layers import Dense, Flatten, Embedding"
      ],
      "execution_count": null,
      "outputs": []
    },
    {
      "cell_type": "code",
      "metadata": {
        "id": "D6olEnhbXddQ",
        "outputId": "55fe8882-e3f9-4127-8114-0177d43f131c",
        "colab": {
          "base_uri": "https://localhost:8080/"
        }
      },
      "source": [
        "Embedding(word_size, 8, input_length=4)"
      ],
      "execution_count": null,
      "outputs": [
        {
          "output_type": "execute_result",
          "data": {
            "text/plain": [
              "<tensorflow.python.keras.layers.embeddings.Embedding at 0x7f81f90b6240>"
            ]
          },
          "metadata": {
            "tags": []
          },
          "execution_count": 89
        }
      ]
    },
    {
      "cell_type": "code",
      "metadata": {
        "id": "t5r2kHM_Xpmk"
      },
      "source": [
        "from tensorflow.keras.models import Sequential\n",
        "import tensorflow as tf"
      ],
      "execution_count": null,
      "outputs": []
    },
    {
      "cell_type": "code",
      "metadata": {
        "id": "EZo6S5l2XjvW",
        "outputId": "5a196dbb-f53f-4928-ff03-213afb696d47",
        "colab": {
          "base_uri": "https://localhost:8080/"
        }
      },
      "source": [
        "model = Sequential()\n",
        "model.add(Embedding(word_size, 8, input_length=4))\n",
        "model.add(Flatten())\n",
        "model.add(Dense(1, activation = 'sigmoid'))\n",
        "model.compile(optimizer='adam',  loss = 'binary_crossentropy',metrics=['accuracy'])\n",
        "model.fit(padded_x, mark, epochs=20)"
      ],
      "execution_count": null,
      "outputs": [
        {
          "output_type": "stream",
          "text": [
            "Epoch 1/20\n",
            "1/1 [==============================] - 0s 1ms/step - loss: 0.6957 - accuracy: 0.5000\n",
            "Epoch 2/20\n",
            "1/1 [==============================] - 0s 1ms/step - loss: 0.6934 - accuracy: 0.5000\n",
            "Epoch 3/20\n",
            "1/1 [==============================] - 0s 1ms/step - loss: 0.6911 - accuracy: 0.6000\n",
            "Epoch 4/20\n",
            "1/1 [==============================] - 0s 1ms/step - loss: 0.6888 - accuracy: 0.7000\n",
            "Epoch 5/20\n",
            "1/1 [==============================] - 0s 2ms/step - loss: 0.6865 - accuracy: 0.7000\n",
            "Epoch 6/20\n",
            "1/1 [==============================] - 0s 2ms/step - loss: 0.6842 - accuracy: 0.8000\n",
            "Epoch 7/20\n",
            "1/1 [==============================] - 0s 1ms/step - loss: 0.6819 - accuracy: 0.7000\n",
            "Epoch 8/20\n",
            "1/1 [==============================] - 0s 2ms/step - loss: 0.6797 - accuracy: 0.7000\n",
            "Epoch 9/20\n",
            "1/1 [==============================] - 0s 2ms/step - loss: 0.6774 - accuracy: 0.7000\n",
            "Epoch 10/20\n",
            "1/1 [==============================] - 0s 2ms/step - loss: 0.6751 - accuracy: 0.8000\n",
            "Epoch 11/20\n",
            "1/1 [==============================] - 0s 2ms/step - loss: 0.6728 - accuracy: 0.8000\n",
            "Epoch 12/20\n",
            "1/1 [==============================] - 0s 2ms/step - loss: 0.6706 - accuracy: 0.9000\n",
            "Epoch 13/20\n",
            "1/1 [==============================] - 0s 2ms/step - loss: 0.6683 - accuracy: 0.9000\n",
            "Epoch 14/20\n",
            "1/1 [==============================] - 0s 2ms/step - loss: 0.6660 - accuracy: 0.9000\n",
            "Epoch 15/20\n",
            "1/1 [==============================] - 0s 2ms/step - loss: 0.6637 - accuracy: 0.9000\n",
            "Epoch 16/20\n",
            "1/1 [==============================] - 0s 2ms/step - loss: 0.6614 - accuracy: 0.9000\n",
            "Epoch 17/20\n",
            "1/1 [==============================] - 0s 2ms/step - loss: 0.6591 - accuracy: 0.9000\n",
            "Epoch 18/20\n",
            "1/1 [==============================] - 0s 2ms/step - loss: 0.6568 - accuracy: 0.9000\n",
            "Epoch 19/20\n",
            "1/1 [==============================] - 0s 2ms/step - loss: 0.6545 - accuracy: 0.9000\n",
            "Epoch 20/20\n",
            "1/1 [==============================] - 0s 6ms/step - loss: 0.6522 - accuracy: 0.9000\n"
          ],
          "name": "stdout"
        },
        {
          "output_type": "execute_result",
          "data": {
            "text/plain": [
              "<tensorflow.python.keras.callbacks.History at 0x7f81f2833208>"
            ]
          },
          "metadata": {
            "tags": []
          },
          "execution_count": 104
        }
      ]
    },
    {
      "cell_type": "code",
      "metadata": {
        "id": "nEkApftLXxqN",
        "outputId": "1526f068-94e4-45f1-a907-0351b6f582b6",
        "colab": {
          "base_uri": "https://localhost:8080/"
        }
      },
      "source": [
        "print(\"\\n Accuracy: %.4f\" %(model.evaluate(padded_x, mark)[1]))"
      ],
      "execution_count": null,
      "outputs": [
        {
          "output_type": "stream",
          "text": [
            "1/1 [==============================] - 0s 2ms/step - loss: 0.6499 - accuracy: 0.9000\n",
            "\n",
            " Accuracy: 0.9000\n"
          ],
          "name": "stdout"
        }
      ]
    },
    {
      "cell_type": "code",
      "metadata": {
        "id": "2NIrcy_5Z5fn"
      },
      "source": [
        ""
      ],
      "execution_count": null,
      "outputs": []
    }
  ]
}