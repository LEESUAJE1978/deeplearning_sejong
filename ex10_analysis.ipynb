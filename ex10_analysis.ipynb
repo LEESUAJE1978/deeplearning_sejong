{
  "nbformat": 4,
  "nbformat_minor": 0,
  "metadata": {
    "colab": {
      "name": "ex10_analysis.ipynb",
      "provenance": [],
      "authorship_tag": "ABX9TyMNokcusvw9DwflBdWQidM2",
      "include_colab_link": true
    },
    "kernelspec": {
      "name": "python3",
      "display_name": "Python 3"
    }
  },
  "cells": [
    {
      "cell_type": "markdown",
      "metadata": {
        "id": "view-in-github",
        "colab_type": "text"
      },
      "source": [
        "<a href=\"https://colab.research.google.com/github/LEESUAJE1978/deeplearning_sejong/blob/master/ex10_analysis.ipynb\" target=\"_parent\"><img src=\"https://colab.research.google.com/assets/colab-badge.svg\" alt=\"Open In Colab\"/></a>"
      ]
    },
    {
      "cell_type": "code",
      "metadata": {
        "id": "ucKI2YbERYsW"
      },
      "source": [
        "def AND(x1, x2):\n",
        "  w1, w2, theta = 0.5, 0.5, 0.7\n",
        "  y = w1 *x1 + w2 *x2\n",
        "  if y <= theta:\n",
        "    return 0\n",
        "  elif y > theta:\n",
        "    return 1 "
      ],
      "execution_count": 1,
      "outputs": []
    },
    {
      "cell_type": "code",
      "metadata": {
        "id": "4760gvDiRyPC",
        "outputId": "9e410af8-30db-4c43-cb86-ba05fd1b0245",
        "colab": {
          "base_uri": "https://localhost:8080/",
          "height": 89
        }
      },
      "source": [
        "print(\"입력 값이 (0,0) 일때 And 연산의 결과는:\", AND(0,0))\n",
        "print(\"입력 값이 (1,0) 일때 And 연산의 결과는:\", AND(1,0))\n",
        "print(\"입력 값이 (0,1) 일때 And 연산의 결과는:\", AND(0,1))\n",
        "print(\"입력 값이 (1,1) 일때 And 연산의 결과는:\", AND(1,1))"
      ],
      "execution_count": 5,
      "outputs": [
        {
          "output_type": "stream",
          "text": [
            "입력 값이 (0,0) 일때 And 연산의 결과는: 0\n",
            "입력 값이 (1,0) 일때 And 연산의 결과는: 0\n",
            "입력 값이 (0,1) 일때 And 연산의 결과는: 0\n",
            "입력 값이 (1,1) 일때 And 연산의 결과는: 1\n"
          ],
          "name": "stdout"
        }
      ]
    },
    {
      "cell_type": "code",
      "metadata": {
        "id": "yNtIZSGOR3Ga"
      },
      "source": [
        "import numpy as np\n",
        "def AND(X1, X2):\n",
        "  x = np.array([X1, X2])\n",
        "  w = np.array([.5,.5])\n",
        "  b = -.7\n",
        "  y = b + np.sum(w*x)\n",
        "  if y > 0:\n",
        "    return 1\n",
        "  else:\n",
        "    return 0\n"
      ],
      "execution_count": 6,
      "outputs": []
    },
    {
      "cell_type": "code",
      "metadata": {
        "id": "ZcYA3h34TAAh",
        "outputId": "c631b37a-fe13-47ea-ed7f-009f6568f508",
        "colab": {
          "base_uri": "https://localhost:8080/",
          "height": 89
        }
      },
      "source": [
        "print(\"입력 값이 (0,0) 일때 And 연산의 결과는:\", AND(0,0))\n",
        "print(\"입력 값이 (1,0) 일때 And 연산의 결과는:\", AND(1,0))\n",
        "print(\"입력 값이 (0,1) 일때 And 연산의 결과는:\", AND(0,1))\n",
        "print(\"입력 값이 (1,1) 일때 And 연산의 결과는:\", AND(1,1))"
      ],
      "execution_count": 11,
      "outputs": [
        {
          "output_type": "stream",
          "text": [
            "입력 값이 (0,0) 일때 And 연산의 결과는: 0\n",
            "입력 값이 (1,0) 일때 And 연산의 결과는: 0\n",
            "입력 값이 (0,1) 일때 And 연산의 결과는: 0\n",
            "입력 값이 (1,1) 일때 And 연산의 결과는: 1\n"
          ],
          "name": "stdout"
        }
      ]
    },
    {
      "cell_type": "code",
      "metadata": {
        "id": "uZ-IBpyMTIOX"
      },
      "source": [
        "def NAND(X1, X2):\n",
        "  x = np.array([X1, X2])\n",
        "  w = np.array([-.5,-.5])\n",
        "  b = .7\n",
        "  y = b + np.sum(w*x)\n",
        "  if y > 0 :\n",
        "    return 1\n",
        "  else:\n",
        "    return 0"
      ],
      "execution_count": 9,
      "outputs": []
    },
    {
      "cell_type": "code",
      "metadata": {
        "id": "2Wd_sLZDW_tQ",
        "outputId": "2242dbac-2659-4ecb-d425-fccce9d6151e",
        "colab": {
          "base_uri": "https://localhost:8080/",
          "height": 89
        }
      },
      "source": [
        "print(\"입력 값이 (0,0) 일때 NAND 연산의 결과는:\", NAND(0,0))\n",
        "print(\"입력 값이 (1,0) 일때 NAND 연산의 결과는:\", NAND(1,0))\n",
        "print(\"입력 값이 (0,1) 일때 NAND 연산의 결과는:\", NAND(0,1))\n",
        "print(\"입력 값이 (1,1) 일때 NAND 연산의 결과는:\", NAND(1,1))"
      ],
      "execution_count": 13,
      "outputs": [
        {
          "output_type": "stream",
          "text": [
            "입력 값이 (0,0) 일때 NAND 연산의 결과는: 1\n",
            "입력 값이 (1,0) 일때 NAND 연산의 결과는: 1\n",
            "입력 값이 (0,1) 일때 NAND 연산의 결과는: 1\n",
            "입력 값이 (1,1) 일때 NAND 연산의 결과는: 0\n"
          ],
          "name": "stdout"
        }
      ]
    },
    {
      "cell_type": "code",
      "metadata": {
        "id": "ARajNL9NWbik"
      },
      "source": [
        "def OR(X1, X2):\n",
        "  x = np.array([X1, X2])\n",
        "  w = np.array([.5, .5])\n",
        "  b = -.2\n",
        "  y = b + np.sum(w*x)\n",
        "  if y > 0:\n",
        "    return 1\n",
        "  else:\n",
        "    return 0"
      ],
      "execution_count": 10,
      "outputs": []
    },
    {
      "cell_type": "code",
      "metadata": {
        "id": "F5Ht4qzRW41P",
        "outputId": "04d8c42e-9d9d-4c51-bd04-0925e31414b8",
        "colab": {
          "base_uri": "https://localhost:8080/",
          "height": 89
        }
      },
      "source": [
        "print(\"입력 값이 (0,0) 일때 OR 연산의 결과는:\", OR(0,0))\n",
        "print(\"입력 값이 (1,0) 일때 OR 연산의 결과는:\", OR(1,0))\n",
        "print(\"입력 값이 (0,1) 일때 OR 연산의 결과는:\", OR(0,1))\n",
        "print(\"입력 값이 (1,1) 일때 OR 연산의 결과는:\", OR(1,1))"
      ],
      "execution_count": 14,
      "outputs": [
        {
          "output_type": "stream",
          "text": [
            "입력 값이 (0,0) 일때 OR 연산의 결과는: 0\n",
            "입력 값이 (1,0) 일때 OR 연산의 결과는: 1\n",
            "입력 값이 (0,1) 일때 OR 연산의 결과는: 1\n",
            "입력 값이 (1,1) 일때 OR 연산의 결과는: 1\n"
          ],
          "name": "stdout"
        }
      ]
    },
    {
      "cell_type": "code",
      "metadata": {
        "id": "_6Q4qD-uXbtl"
      },
      "source": [
        "def XOR(x1, x2):\n",
        "  h1 = OR(x1, x2)\n",
        "  h2 = NAND(x1, x2)\n",
        "  y = AND(h1, h2)\n",
        "  if y > 0:\n",
        "    return 1\n",
        "  else:\n",
        "    return 0"
      ],
      "execution_count": 15,
      "outputs": []
    },
    {
      "cell_type": "code",
      "metadata": {
        "id": "12VpmTT4Xs9r",
        "outputId": "23bce55c-4eb0-4782-ed35-692c7a72287f",
        "colab": {
          "base_uri": "https://localhost:8080/",
          "height": 89
        }
      },
      "source": [
        "print(\"입력 값이 (0,0) 일때 XOR 연산의 결과는:\", XOR(0,0))\n",
        "print(\"입력 값이 (1,0) 일때 XOR 연산의 결과는:\", XOR(1,0))\n",
        "print(\"입력 값이 (0,1) 일때 XOR 연산의 결과는:\", XOR(0,1))\n",
        "print(\"입력 값이 (1,1) 일때 XOR 연산의 결과는:\", XOR(1,1))"
      ],
      "execution_count": 16,
      "outputs": [
        {
          "output_type": "stream",
          "text": [
            "입력 값이 (0,0) 일때 XOR 연산의 결과는: 0\n",
            "입력 값이 (1,0) 일때 XOR 연산의 결과는: 1\n",
            "입력 값이 (0,1) 일때 XOR 연산의 결과는: 1\n",
            "입력 값이 (1,1) 일때 XOR 연산의 결과는: 0\n"
          ],
          "name": "stdout"
        }
      ]
    },
    {
      "cell_type": "code",
      "metadata": {
        "id": "8sQJ0WvIXzIR"
      },
      "source": [
        ""
      ],
      "execution_count": null,
      "outputs": []
    }
  ]
}