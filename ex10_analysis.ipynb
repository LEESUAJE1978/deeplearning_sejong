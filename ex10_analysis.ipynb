{
  "nbformat": 4,
  "nbformat_minor": 0,
  "metadata": {
    "colab": {
      "name": "ex10_analysis.ipynb",
      "provenance": [],
      "collapsed_sections": [],
      "authorship_tag": "ABX9TyNL/MWw9ADu/THitZR4joIo",
      "include_colab_link": true
    },
    "kernelspec": {
      "name": "python3",
      "display_name": "Python 3"
    }
  },
  "cells": [
    {
      "cell_type": "markdown",
      "metadata": {
        "id": "view-in-github",
        "colab_type": "text"
      },
      "source": [
        "<a href=\"https://colab.research.google.com/github/LEESUAJE1978/deeplearning_sejong/blob/master/ex10_analysis.ipynb\" target=\"_parent\"><img src=\"https://colab.research.google.com/assets/colab-badge.svg\" alt=\"Open In Colab\"/></a>"
      ]
    },
    {
      "cell_type": "markdown",
      "metadata": {
        "id": "KxSHwpSDHHwT"
      },
      "source": [
        "1. AND, OR, NAND, XOR문제 해결 함수"
      ]
    },
    {
      "cell_type": "code",
      "metadata": {
        "id": "ucKI2YbERYsW"
      },
      "source": [
        "def AND(x1, x2):\n",
        "  w1, w2, theta = 0.5, 0.5, 0.7\n",
        "  y = w1 *x1 + w2 *x2\n",
        "  if y <= theta:\n",
        "    return 0\n",
        "  elif y > theta:\n",
        "    return 1 "
      ],
      "execution_count": 51,
      "outputs": []
    },
    {
      "cell_type": "code",
      "metadata": {
        "id": "4760gvDiRyPC",
        "outputId": "edfd9cef-4a78-4532-93c4-746e7b5b2d99",
        "colab": {
          "base_uri": "https://localhost:8080/",
          "height": 87
        }
      },
      "source": [
        "print(\"입력 값이 (0,0) 일때 And 연산의 결과는:\", AND(0,0))\n",
        "print(\"입력 값이 (1,0) 일때 And 연산의 결과는:\", AND(1,0))\n",
        "print(\"입력 값이 (0,1) 일때 And 연산의 결과는:\", AND(0,1))\n",
        "print(\"입력 값이 (1,1) 일때 And 연산의 결과는:\", AND(1,1))"
      ],
      "execution_count": 52,
      "outputs": [
        {
          "output_type": "stream",
          "text": [
            "입력 값이 (0,0) 일때 And 연산의 결과는: 0\n",
            "입력 값이 (1,0) 일때 And 연산의 결과는: 0\n",
            "입력 값이 (0,1) 일때 And 연산의 결과는: 0\n",
            "입력 값이 (1,1) 일때 And 연산의 결과는: 1\n"
          ],
          "name": "stdout"
        }
      ]
    },
    {
      "cell_type": "code",
      "metadata": {
        "id": "yNtIZSGOR3Ga"
      },
      "source": [
        "import numpy as np\n",
        "def AND(X1, X2):\n",
        "  x = np.array([X1, X2])\n",
        "  w = np.array([.5,.5])\n",
        "  b = -.7\n",
        "  y = b + np.sum(w*x)\n",
        "  if y > 0:\n",
        "    return 1\n",
        "  else:\n",
        "    return 0\n"
      ],
      "execution_count": 53,
      "outputs": []
    },
    {
      "cell_type": "code",
      "metadata": {
        "id": "ZcYA3h34TAAh",
        "outputId": "91d528ab-1d39-4f3d-c442-dff8513b427a",
        "colab": {
          "base_uri": "https://localhost:8080/",
          "height": 87
        }
      },
      "source": [
        "print(\"입력 값이 (0,0) 일때 And 연산의 결과는:\", AND(0,0))\n",
        "print(\"입력 값이 (1,0) 일때 And 연산의 결과는:\", AND(1,0))\n",
        "print(\"입력 값이 (0,1) 일때 And 연산의 결과는:\", AND(0,1))\n",
        "print(\"입력 값이 (1,1) 일때 And 연산의 결과는:\", AND(1,1))"
      ],
      "execution_count": 54,
      "outputs": [
        {
          "output_type": "stream",
          "text": [
            "입력 값이 (0,0) 일때 And 연산의 결과는: 0\n",
            "입력 값이 (1,0) 일때 And 연산의 결과는: 0\n",
            "입력 값이 (0,1) 일때 And 연산의 결과는: 0\n",
            "입력 값이 (1,1) 일때 And 연산의 결과는: 1\n"
          ],
          "name": "stdout"
        }
      ]
    },
    {
      "cell_type": "code",
      "metadata": {
        "id": "uZ-IBpyMTIOX"
      },
      "source": [
        "def NAND(X1, X2):\n",
        "  x = np.array([X1, X2])\n",
        "  w = np.array([-.5,-.5])\n",
        "  b = .7\n",
        "  y = b + np.sum(w*x)\n",
        "  if y > 0 :\n",
        "    return 1\n",
        "  else:\n",
        "    return 0"
      ],
      "execution_count": 55,
      "outputs": []
    },
    {
      "cell_type": "code",
      "metadata": {
        "id": "2Wd_sLZDW_tQ",
        "outputId": "c752da4d-568b-400f-ff4b-1fbfb8b53e90",
        "colab": {
          "base_uri": "https://localhost:8080/",
          "height": 87
        }
      },
      "source": [
        "print(\"입력 값이 (0,0) 일때 NAND 연산의 결과는:\", NAND(0,0))\n",
        "print(\"입력 값이 (1,0) 일때 NAND 연산의 결과는:\", NAND(1,0))\n",
        "print(\"입력 값이 (0,1) 일때 NAND 연산의 결과는:\", NAND(0,1))\n",
        "print(\"입력 값이 (1,1) 일때 NAND 연산의 결과는:\", NAND(1,1))"
      ],
      "execution_count": 56,
      "outputs": [
        {
          "output_type": "stream",
          "text": [
            "입력 값이 (0,0) 일때 NAND 연산의 결과는: 1\n",
            "입력 값이 (1,0) 일때 NAND 연산의 결과는: 1\n",
            "입력 값이 (0,1) 일때 NAND 연산의 결과는: 1\n",
            "입력 값이 (1,1) 일때 NAND 연산의 결과는: 0\n"
          ],
          "name": "stdout"
        }
      ]
    },
    {
      "cell_type": "code",
      "metadata": {
        "id": "ARajNL9NWbik"
      },
      "source": [
        "def OR(X1, X2):\n",
        "  x = np.array([X1, X2])\n",
        "  w = np.array([.5, .5])\n",
        "  b = -.2\n",
        "  y = b + np.sum(w*x)\n",
        "  if y > 0:\n",
        "    return 1\n",
        "  else:\n",
        "    return 0"
      ],
      "execution_count": null,
      "outputs": []
    },
    {
      "cell_type": "code",
      "metadata": {
        "id": "F5Ht4qzRW41P",
        "outputId": "04d8c42e-9d9d-4c51-bd04-0925e31414b8",
        "colab": {
          "base_uri": "https://localhost:8080/",
          "height": 89
        }
      },
      "source": [
        "print(\"입력 값이 (0,0) 일때 OR 연산의 결과는:\", OR(0,0))\n",
        "print(\"입력 값이 (1,0) 일때 OR 연산의 결과는:\", OR(1,0))\n",
        "print(\"입력 값이 (0,1) 일때 OR 연산의 결과는:\", OR(0,1))\n",
        "print(\"입력 값이 (1,1) 일때 OR 연산의 결과는:\", OR(1,1))"
      ],
      "execution_count": null,
      "outputs": [
        {
          "output_type": "stream",
          "text": [
            "입력 값이 (0,0) 일때 OR 연산의 결과는: 0\n",
            "입력 값이 (1,0) 일때 OR 연산의 결과는: 1\n",
            "입력 값이 (0,1) 일때 OR 연산의 결과는: 1\n",
            "입력 값이 (1,1) 일때 OR 연산의 결과는: 1\n"
          ],
          "name": "stdout"
        }
      ]
    },
    {
      "cell_type": "code",
      "metadata": {
        "id": "_6Q4qD-uXbtl"
      },
      "source": [
        "def XOR(x1, x2):\n",
        "  h1 = OR(x1, x2)\n",
        "  h2 = NAND(x1, x2)\n",
        "  y = AND(h1, h2)\n",
        "  if y > 0:\n",
        "    return 1\n",
        "  else:\n",
        "    return 0"
      ],
      "execution_count": null,
      "outputs": []
    },
    {
      "cell_type": "code",
      "metadata": {
        "id": "12VpmTT4Xs9r",
        "outputId": "23bce55c-4eb0-4782-ed35-692c7a72287f",
        "colab": {
          "base_uri": "https://localhost:8080/",
          "height": 89
        }
      },
      "source": [
        "print(\"입력 값이 (0,0) 일때 XOR 연산의 결과는:\", XOR(0,0))\n",
        "print(\"입력 값이 (1,0) 일때 XOR 연산의 결과는:\", XOR(1,0))\n",
        "print(\"입력 값이 (0,1) 일때 XOR 연산의 결과는:\", XOR(0,1))\n",
        "print(\"입력 값이 (1,1) 일때 XOR 연산의 결과는:\", XOR(1,1))"
      ],
      "execution_count": null,
      "outputs": [
        {
          "output_type": "stream",
          "text": [
            "입력 값이 (0,0) 일때 XOR 연산의 결과는: 0\n",
            "입력 값이 (1,0) 일때 XOR 연산의 결과는: 1\n",
            "입력 값이 (0,1) 일때 XOR 연산의 결과는: 1\n",
            "입력 값이 (1,1) 일때 XOR 연산의 결과는: 0\n"
          ],
          "name": "stdout"
        }
      ]
    },
    {
      "cell_type": "markdown",
      "metadata": {
        "id": "BlP_m5aA-kPl"
      },
      "source": [
        "2. XOR 문제 Logistic Regression으로 구현\n"
      ]
    },
    {
      "cell_type": "code",
      "metadata": {
        "id": "Y06uy1i8pvu5",
        "outputId": "c75cc3e9-d61b-4f21-902d-ccab7e50837c",
        "colab": {
          "base_uri": "https://localhost:8080/",
          "height": 34
        }
      },
      "source": [
        "import numpy as np\n",
        "#0. 텐서플로우 버전 선택\n",
        "try:\n",
        "    # %tensorflow_version only exists in Colab.\n",
        "    %tensorflow_version 1.x\n",
        "except Exception:\n",
        "    pass\n",
        "import tensorflow as tf\n",
        "import numpy as np"
      ],
      "execution_count": 2,
      "outputs": [
        {
          "output_type": "stream",
          "text": [
            "TensorFlow 1.x selected.\n"
          ],
          "name": "stdout"
        }
      ]
    },
    {
      "cell_type": "code",
      "metadata": {
        "id": "gU9caHmypz6C"
      },
      "source": [
        "x_data = np.array([[0,0],[0,1],[1,0],[1,1]], dtype = np.float32)\n",
        "y_data = np.array([[0],[1],[1],[0]], dtype= np.float32)\n"
      ],
      "execution_count": 25,
      "outputs": []
    },
    {
      "cell_type": "code",
      "metadata": {
        "id": "pP8rmdXlqJNJ"
      },
      "source": [
        "X = tf.placeholder(tf.float32)\n",
        "Y = tf.placeholder(tf.float32)"
      ],
      "execution_count": 26,
      "outputs": []
    },
    {
      "cell_type": "code",
      "metadata": {
        "id": "bgjnZk1jqzFb"
      },
      "source": [
        "W = tf.Variable(tf.random_normal([2,1], name = 'weight'))\n",
        "b = tf.Variable(tf.random_normal([1]), name = 'bias')"
      ],
      "execution_count": 27,
      "outputs": []
    },
    {
      "cell_type": "code",
      "metadata": {
        "id": "D5WrKadQrPAR"
      },
      "source": [
        "hypothesis = tf.sigmoid(tf.matmul(X,W) +b)"
      ],
      "execution_count": 28,
      "outputs": []
    },
    {
      "cell_type": "code",
      "metadata": {
        "id": "_XLNoKgsrUcz"
      },
      "source": [
        "cost = -tf.reduce_mean(Y *tf.log(hypothesis) +(1-Y) *tf.log(1-hypothesis))\n",
        "train = tf.train.GradientDescentOptimizer(learning_rate = 0.1).minimize(cost)"
      ],
      "execution_count": 29,
      "outputs": []
    },
    {
      "cell_type": "code",
      "metadata": {
        "id": "HCGIWMbRsMWl"
      },
      "source": [
        "predicted = tf.cast(hypothesis > 0.5, dtype=tf.float32)\n",
        "accuracy = tf.reduce_mean(tf.cast(tf.equal(predicted, Y),dtype=tf.float32))"
      ],
      "execution_count": 30,
      "outputs": []
    },
    {
      "cell_type": "code",
      "metadata": {
        "id": "KebWEh1AsbDy"
      },
      "source": [
        "with tf.Session() as sess:\n",
        "  sess.run(tf.global_variables_initializer())\n",
        "  \n",
        "  for step in range(10001):\n",
        "    sess.run(train, feed_dict = {X:x_data, Y:y_data})\n",
        "    \n",
        "    if step % 100 == 0:\n",
        "      print(step, sess.run(cost, feed_dict = {X:x_data, Y:y_data}), sess.run(W))\n",
        "  hypothesis_, predicted_, accuracy_ = sess.run([hypothesis, predicted, accuracy], feed_dict = {X:x_data, Y: y_data})\n",
        "  print(\"\\n Hypothesis:\", hypothesis_, \"\\n Correct:\", predicted_, \"\\nAccuracy:\", accuracy_)"
      ],
      "execution_count": null,
      "outputs": []
    },
    {
      "cell_type": "markdown",
      "metadata": {
        "id": "H81g9E4y-spM"
      },
      "source": [
        "3. XOR 문제 뉴럴네트워크 사용"
      ]
    },
    {
      "cell_type": "code",
      "metadata": {
        "id": "2urOGtcn-vvb"
      },
      "source": [
        "x_data = np.array([[0,0],[0,1],[1,0],[1,1]], dtype = np.float32)\n",
        "y_data = np.array([[0],[1],[1],[0]], dtype= np.float32)"
      ],
      "execution_count": 43,
      "outputs": []
    },
    {
      "cell_type": "code",
      "metadata": {
        "id": "TqaFGKVf--dv"
      },
      "source": [
        "X = tf.placeholder(tf.float32)\n",
        "Y = tf.placeholder(tf.float32)"
      ],
      "execution_count": 44,
      "outputs": []
    },
    {
      "cell_type": "code",
      "metadata": {
        "id": "zoLt0sKI_HFu"
      },
      "source": [
        "W1 = tf.Variable(tf.random_normal([2,2], name = 'weight1'))\n",
        "b1 = tf.Variable(tf.random_normal([2]), name='bias1')\n",
        "L1 = tf.sigmoid(tf.matmul(X, W1) + b1)"
      ],
      "execution_count": 45,
      "outputs": []
    },
    {
      "cell_type": "code",
      "metadata": {
        "id": "JKTd4PaJ_ddf"
      },
      "source": [
        "W2 = tf.Variable(tf.random_normal([2,1]), name = 'weight2')\n",
        "b2 = tf.Variable(tf.random_normal([1]), name = 'bias2')\n",
        "hypothesis = tf.sigmoid(tf.matmul(L1, W2) + b2)"
      ],
      "execution_count": 46,
      "outputs": []
    },
    {
      "cell_type": "code",
      "metadata": {
        "id": "ylhnGWwf_7MB"
      },
      "source": [
        "cost = -tf.reduce_mean(Y * tf.log(hypothesis) + (1-Y) * tf.log(1-hypothesis))\n",
        "train = tf.train.GradientDescentOptimizer(learning_rate=0.1).minimize(cost)"
      ],
      "execution_count": 47,
      "outputs": []
    },
    {
      "cell_type": "code",
      "metadata": {
        "id": "-YQSmZ-iAKtG"
      },
      "source": [
        "predicted = tf.cast(hypothesis >0.5, dtype=tf.float32)\n",
        "accuracy = tf.reduce_mean(tf.cast(tf.equal(predicted, Y), dtype = tf.float32))"
      ],
      "execution_count": 48,
      "outputs": []
    },
    {
      "cell_type": "code",
      "metadata": {
        "id": "ToGOSFE_togg"
      },
      "source": [
        "with tf.Session() as sess:\n",
        "  sess.run(tf.global_variables_initializer())\n",
        "  \n",
        "  for step in range(10001):\n",
        "    sess.run(train, feed_dict = {X:x_data, Y:y_data})\n",
        "    \n",
        "    if step % 100 == 0:\n",
        "      print(step, sess.run(cost, feed_dict = {X:x_data, Y:y_data}), sess.run(W1))\n",
        "  hypothesis_, predicted_, accuracy_ = sess.run([hypothesis, predicted, accuracy], feed_dict = {X:x_data, Y: y_data})\n",
        "  print(\"\\n Hypothesis:\", hypothesis_, \"\\n Correct:\", predicted_, \"\\nAccuracy:\", accuracy_)"
      ],
      "execution_count": null,
      "outputs": []
    },
    {
      "cell_type": "markdown",
      "metadata": {
        "id": "DcZVSId8Hle7"
      },
      "source": [
        "4. 폐암 예측 모델 생성"
      ]
    },
    {
      "cell_type": "code",
      "metadata": {
        "id": "8sQJ0WvIXzIR",
        "outputId": "f04d83f7-b937-490f-ebc3-6c1191c87132",
        "colab": {
          "base_uri": "https://localhost:8080/",
          "height": 35
        }
      },
      "source": [
        "from google.colab import drive\n",
        "drive.mount('/content/drive')"
      ],
      "execution_count": null,
      "outputs": [
        {
          "output_type": "stream",
          "text": [
            "Mounted at /content/drive\n"
          ],
          "name": "stdout"
        }
      ]
    },
    {
      "cell_type": "code",
      "metadata": {
        "id": "sMuCZRsS4DEj",
        "outputId": "eb07336e-1db4-40be-9802-937f9f85c23d",
        "colab": {
          "base_uri": "https://localhost:8080/",
          "height": 593
        }
      },
      "source": [
        "import os\n",
        "os.chdir(\"/content/drive/My Drive/Colab Notebooks\")\n",
        "%ls"
      ],
      "execution_count": null,
      "outputs": [
        {
          "output_type": "stream",
          "text": [
            " 01.linear_regression.ipynb              'ex04_Logistic Regression.ipynb'\n",
            "'10강 실습코드.ipynb'                    'ex05_mutinomial logistic.ipynb'\n",
            "'11강 실습코드.ipynb'                    'ex06_CNN (1).ipynb'\n",
            " 12강실습코드_html.ipynb                  ex06_CNN.ipynb\n",
            "'12강 실습코드_Youtube.ipynb'            'ex07_RNN (1).ipynb'\n",
            "'6강_다변량 로지스틱 회귀분석.ipynb'      ex07_RNN.ipynb\n",
            " 7강실습코드.ipynb                        ex08_LSTM.ipynb\n",
            "'8강 실습코드.ipynb'                      ex09_optimazation.ipynb\n",
            "'9강 실습코드.ipynb'                      ex09_optimization_keras.ipynb\n",
            " Accidents0515.csv                        ex10_analysis.ipynb\n",
            " \u001b[0m\u001b[01;34mcache\u001b[0m/                                   example.html\n",
            "'campus recruit.csv'                      logistic_express.ipynb\n",
            " Casualties0515.csv                      'logistic regression.ipynb'\n",
            " class01.ipynb                            lstm.ipynb\n",
            " class02.ipynb                            pandas-profiling-master.zip\n",
            " class03.ipynb                            statistics.ipynb\n",
            " class04.ipynb                            SWEETVIZ_REPORT.gdoc\n",
            " class05.ipynb                            SWEETVIZ_REPORT.html\n",
            "'Copy of ex01_hello'                      test_accident.csv\n",
            "'Copy of Untitled6.ipynb'                 test_dataset.xlsx\n",
            " \u001b[01;34mcovid19-countries-statistical-dataset\u001b[0m/   ThoraricSurgery.csv\n",
            " \u001b[01;34mdata\u001b[0m/                                    Untitled0.ipynb\n",
            " data-03-diabetes.csv                     Untitled1.ipynb\n",
            " \u001b[01;34mdata1\u001b[0m/                                   Untitled2.ipynb\n",
            " decisionTree.dot                         Untitled3.ipynb\n",
            " decisionTree.png                         Untitled4.ipynb\n",
            " EDA_excercise.ipynb                      Untitled5.ipynb\n",
            " EDA.ipynb                                Untitled6.ipynb\n",
            " ex01_hello                               Untitled7.ipynb\n",
            "'ex02_data type.ipynb'                    Untitled8.ipynb\n",
            "'ex03_Linear Regression.ipynb'            Vehicles0515.csv\n",
            "'ex04_logistic Regression.ipynb'\n"
          ],
          "name": "stdout"
        }
      ]
    },
    {
      "cell_type": "code",
      "metadata": {
        "id": "76wwAtJz4NTu"
      },
      "source": [
        "from tensorflow.keras.models import Sequential\n",
        "from tensorflow.keras.layers import Dense\n",
        "import numpy as np\n",
        "import pandas as pd\n",
        "import tensorflow as tf"
      ],
      "execution_count": null,
      "outputs": []
    },
    {
      "cell_type": "code",
      "metadata": {
        "id": "2QexU9-N4UnX"
      },
      "source": [
        "data = np.loadtxt('ThoraricSurgery.csv', delimiter = ',')"
      ],
      "execution_count": null,
      "outputs": []
    },
    {
      "cell_type": "code",
      "metadata": {
        "id": "RHtZ01gE4clY",
        "outputId": "0c9ca300-cea8-4499-fb32-c70397ab5a0d",
        "colab": {
          "base_uri": "https://localhost:8080/",
          "height": 143
        }
      },
      "source": [
        "data"
      ],
      "execution_count": null,
      "outputs": [
        {
          "output_type": "execute_result",
          "data": {
            "text/plain": [
              "array([[293.  ,   1.  ,   3.8 , ...,   0.  ,  62.  ,   0.  ],\n",
              "       [  1.  ,   2.  ,   2.88, ...,   0.  ,  60.  ,   0.  ],\n",
              "       [  8.  ,   2.  ,   3.19, ...,   0.  ,  66.  ,   1.  ],\n",
              "       ...,\n",
              "       [406.  ,   6.  ,   5.36, ...,   0.  ,  62.  ,   0.  ],\n",
              "       [ 25.  ,   8.  ,   4.32, ...,   0.  ,  58.  ,   1.  ],\n",
              "       [447.  ,   8.  ,   5.2 , ...,   0.  ,  49.  ,   0.  ]])"
            ]
          },
          "metadata": {
            "tags": []
          },
          "execution_count": 7
        }
      ]
    },
    {
      "cell_type": "code",
      "metadata": {
        "id": "dPhJhMK2WV-V",
        "outputId": "d3c6a1a6-afc1-4ce1-d001-a08a8ce6ac8c",
        "colab": {
          "base_uri": "https://localhost:8080/",
          "height": 35
        }
      },
      "source": [
        "data.shape"
      ],
      "execution_count": null,
      "outputs": [
        {
          "output_type": "execute_result",
          "data": {
            "text/plain": [
              "(470, 18)"
            ]
          },
          "metadata": {
            "tags": []
          },
          "execution_count": 8
        }
      ]
    },
    {
      "cell_type": "code",
      "metadata": {
        "id": "IgMrhVr64lQ-",
        "outputId": "a1a2d882-b749-4456-e240-3c226ef1d90c",
        "colab": {
          "base_uri": "https://localhost:8080/",
          "height": 419
        }
      },
      "source": [
        "pd.read_csv('ThoraricSurgery.csv')"
      ],
      "execution_count": null,
      "outputs": [
        {
          "output_type": "execute_result",
          "data": {
            "text/html": [
              "<div>\n",
              "<style scoped>\n",
              "    .dataframe tbody tr th:only-of-type {\n",
              "        vertical-align: middle;\n",
              "    }\n",
              "\n",
              "    .dataframe tbody tr th {\n",
              "        vertical-align: top;\n",
              "    }\n",
              "\n",
              "    .dataframe thead th {\n",
              "        text-align: right;\n",
              "    }\n",
              "</style>\n",
              "<table border=\"1\" class=\"dataframe\">\n",
              "  <thead>\n",
              "    <tr style=\"text-align: right;\">\n",
              "      <th></th>\n",
              "      <th>293</th>\n",
              "      <th>1</th>\n",
              "      <th>3.8</th>\n",
              "      <th>2.8</th>\n",
              "      <th>0</th>\n",
              "      <th>0.1</th>\n",
              "      <th>0.2</th>\n",
              "      <th>0.3</th>\n",
              "      <th>0.4</th>\n",
              "      <th>0.5</th>\n",
              "      <th>12</th>\n",
              "      <th>0.6</th>\n",
              "      <th>0.7</th>\n",
              "      <th>0.8</th>\n",
              "      <th>1.1</th>\n",
              "      <th>0.9</th>\n",
              "      <th>62</th>\n",
              "      <th>0.10</th>\n",
              "    </tr>\n",
              "  </thead>\n",
              "  <tbody>\n",
              "    <tr>\n",
              "      <th>0</th>\n",
              "      <td>1</td>\n",
              "      <td>2</td>\n",
              "      <td>2.88</td>\n",
              "      <td>2.16</td>\n",
              "      <td>1</td>\n",
              "      <td>0</td>\n",
              "      <td>0</td>\n",
              "      <td>0</td>\n",
              "      <td>1</td>\n",
              "      <td>1</td>\n",
              "      <td>14</td>\n",
              "      <td>0</td>\n",
              "      <td>0</td>\n",
              "      <td>0</td>\n",
              "      <td>1</td>\n",
              "      <td>0</td>\n",
              "      <td>60</td>\n",
              "      <td>0</td>\n",
              "    </tr>\n",
              "    <tr>\n",
              "      <th>1</th>\n",
              "      <td>8</td>\n",
              "      <td>2</td>\n",
              "      <td>3.19</td>\n",
              "      <td>2.50</td>\n",
              "      <td>1</td>\n",
              "      <td>0</td>\n",
              "      <td>0</td>\n",
              "      <td>0</td>\n",
              "      <td>1</td>\n",
              "      <td>0</td>\n",
              "      <td>11</td>\n",
              "      <td>0</td>\n",
              "      <td>0</td>\n",
              "      <td>1</td>\n",
              "      <td>1</td>\n",
              "      <td>0</td>\n",
              "      <td>66</td>\n",
              "      <td>1</td>\n",
              "    </tr>\n",
              "    <tr>\n",
              "      <th>2</th>\n",
              "      <td>14</td>\n",
              "      <td>2</td>\n",
              "      <td>3.98</td>\n",
              "      <td>3.06</td>\n",
              "      <td>2</td>\n",
              "      <td>0</td>\n",
              "      <td>0</td>\n",
              "      <td>0</td>\n",
              "      <td>1</td>\n",
              "      <td>1</td>\n",
              "      <td>14</td>\n",
              "      <td>0</td>\n",
              "      <td>0</td>\n",
              "      <td>0</td>\n",
              "      <td>1</td>\n",
              "      <td>0</td>\n",
              "      <td>80</td>\n",
              "      <td>1</td>\n",
              "    </tr>\n",
              "    <tr>\n",
              "      <th>3</th>\n",
              "      <td>17</td>\n",
              "      <td>2</td>\n",
              "      <td>2.21</td>\n",
              "      <td>1.88</td>\n",
              "      <td>0</td>\n",
              "      <td>0</td>\n",
              "      <td>1</td>\n",
              "      <td>0</td>\n",
              "      <td>0</td>\n",
              "      <td>0</td>\n",
              "      <td>12</td>\n",
              "      <td>0</td>\n",
              "      <td>0</td>\n",
              "      <td>0</td>\n",
              "      <td>1</td>\n",
              "      <td>0</td>\n",
              "      <td>56</td>\n",
              "      <td>0</td>\n",
              "    </tr>\n",
              "    <tr>\n",
              "      <th>4</th>\n",
              "      <td>18</td>\n",
              "      <td>2</td>\n",
              "      <td>2.96</td>\n",
              "      <td>1.67</td>\n",
              "      <td>0</td>\n",
              "      <td>0</td>\n",
              "      <td>0</td>\n",
              "      <td>0</td>\n",
              "      <td>0</td>\n",
              "      <td>0</td>\n",
              "      <td>12</td>\n",
              "      <td>0</td>\n",
              "      <td>0</td>\n",
              "      <td>0</td>\n",
              "      <td>1</td>\n",
              "      <td>0</td>\n",
              "      <td>61</td>\n",
              "      <td>0</td>\n",
              "    </tr>\n",
              "    <tr>\n",
              "      <th>...</th>\n",
              "      <td>...</td>\n",
              "      <td>...</td>\n",
              "      <td>...</td>\n",
              "      <td>...</td>\n",
              "      <td>...</td>\n",
              "      <td>...</td>\n",
              "      <td>...</td>\n",
              "      <td>...</td>\n",
              "      <td>...</td>\n",
              "      <td>...</td>\n",
              "      <td>...</td>\n",
              "      <td>...</td>\n",
              "      <td>...</td>\n",
              "      <td>...</td>\n",
              "      <td>...</td>\n",
              "      <td>...</td>\n",
              "      <td>...</td>\n",
              "      <td>...</td>\n",
              "    </tr>\n",
              "    <tr>\n",
              "      <th>464</th>\n",
              "      <td>98</td>\n",
              "      <td>6</td>\n",
              "      <td>3.04</td>\n",
              "      <td>2.40</td>\n",
              "      <td>2</td>\n",
              "      <td>0</td>\n",
              "      <td>0</td>\n",
              "      <td>0</td>\n",
              "      <td>1</td>\n",
              "      <td>0</td>\n",
              "      <td>11</td>\n",
              "      <td>0</td>\n",
              "      <td>0</td>\n",
              "      <td>0</td>\n",
              "      <td>1</td>\n",
              "      <td>0</td>\n",
              "      <td>76</td>\n",
              "      <td>0</td>\n",
              "    </tr>\n",
              "    <tr>\n",
              "      <th>465</th>\n",
              "      <td>369</td>\n",
              "      <td>6</td>\n",
              "      <td>3.88</td>\n",
              "      <td>2.72</td>\n",
              "      <td>1</td>\n",
              "      <td>0</td>\n",
              "      <td>0</td>\n",
              "      <td>0</td>\n",
              "      <td>1</td>\n",
              "      <td>0</td>\n",
              "      <td>12</td>\n",
              "      <td>0</td>\n",
              "      <td>0</td>\n",
              "      <td>0</td>\n",
              "      <td>1</td>\n",
              "      <td>0</td>\n",
              "      <td>77</td>\n",
              "      <td>0</td>\n",
              "    </tr>\n",
              "    <tr>\n",
              "      <th>466</th>\n",
              "      <td>406</td>\n",
              "      <td>6</td>\n",
              "      <td>5.36</td>\n",
              "      <td>3.96</td>\n",
              "      <td>1</td>\n",
              "      <td>0</td>\n",
              "      <td>0</td>\n",
              "      <td>0</td>\n",
              "      <td>1</td>\n",
              "      <td>0</td>\n",
              "      <td>12</td>\n",
              "      <td>0</td>\n",
              "      <td>0</td>\n",
              "      <td>0</td>\n",
              "      <td>0</td>\n",
              "      <td>0</td>\n",
              "      <td>62</td>\n",
              "      <td>0</td>\n",
              "    </tr>\n",
              "    <tr>\n",
              "      <th>467</th>\n",
              "      <td>25</td>\n",
              "      <td>8</td>\n",
              "      <td>4.32</td>\n",
              "      <td>3.20</td>\n",
              "      <td>0</td>\n",
              "      <td>0</td>\n",
              "      <td>0</td>\n",
              "      <td>0</td>\n",
              "      <td>0</td>\n",
              "      <td>0</td>\n",
              "      <td>11</td>\n",
              "      <td>0</td>\n",
              "      <td>0</td>\n",
              "      <td>0</td>\n",
              "      <td>0</td>\n",
              "      <td>0</td>\n",
              "      <td>58</td>\n",
              "      <td>1</td>\n",
              "    </tr>\n",
              "    <tr>\n",
              "      <th>468</th>\n",
              "      <td>447</td>\n",
              "      <td>8</td>\n",
              "      <td>5.20</td>\n",
              "      <td>4.10</td>\n",
              "      <td>0</td>\n",
              "      <td>0</td>\n",
              "      <td>0</td>\n",
              "      <td>0</td>\n",
              "      <td>0</td>\n",
              "      <td>0</td>\n",
              "      <td>12</td>\n",
              "      <td>0</td>\n",
              "      <td>0</td>\n",
              "      <td>0</td>\n",
              "      <td>0</td>\n",
              "      <td>0</td>\n",
              "      <td>49</td>\n",
              "      <td>0</td>\n",
              "    </tr>\n",
              "  </tbody>\n",
              "</table>\n",
              "<p>469 rows × 18 columns</p>\n",
              "</div>"
            ],
            "text/plain": [
              "     293  1   3.8   2.8  0  0.1  0.2  ...  0.6  0.7  0.8  1.1  0.9  62  0.10\n",
              "0      1  2  2.88  2.16  1    0    0  ...    0    0    0    1    0  60     0\n",
              "1      8  2  3.19  2.50  1    0    0  ...    0    0    1    1    0  66     1\n",
              "2     14  2  3.98  3.06  2    0    0  ...    0    0    0    1    0  80     1\n",
              "3     17  2  2.21  1.88  0    0    1  ...    0    0    0    1    0  56     0\n",
              "4     18  2  2.96  1.67  0    0    0  ...    0    0    0    1    0  61     0\n",
              "..   ... ..   ...   ... ..  ...  ...  ...  ...  ...  ...  ...  ...  ..   ...\n",
              "464   98  6  3.04  2.40  2    0    0  ...    0    0    0    1    0  76     0\n",
              "465  369  6  3.88  2.72  1    0    0  ...    0    0    0    1    0  77     0\n",
              "466  406  6  5.36  3.96  1    0    0  ...    0    0    0    0    0  62     0\n",
              "467   25  8  4.32  3.20  0    0    0  ...    0    0    0    0    0  58     1\n",
              "468  447  8  5.20  4.10  0    0    0  ...    0    0    0    0    0  49     0\n",
              "\n",
              "[469 rows x 18 columns]"
            ]
          },
          "metadata": {
            "tags": []
          },
          "execution_count": 9
        }
      ]
    },
    {
      "cell_type": "code",
      "metadata": {
        "id": "EqAgAsv644A1"
      },
      "source": [
        "np.random.seed(3)\n",
        "tf.random.set_seed(3)"
      ],
      "execution_count": null,
      "outputs": []
    },
    {
      "cell_type": "code",
      "metadata": {
        "id": "RA23a6JYZXXz"
      },
      "source": [
        "X = data[:,0:17]\n",
        "Y = data[:,17]"
      ],
      "execution_count": null,
      "outputs": []
    },
    {
      "cell_type": "code",
      "metadata": {
        "id": "ofbtyYUmaEuU"
      },
      "source": [
        "model =Sequential()\n",
        "model.add(Dense(30, input_dim = 17, activation='relu'))\n",
        "model.add(Dense(1, activation='sigmoid'))\n"
      ],
      "execution_count": null,
      "outputs": []
    },
    {
      "cell_type": "code",
      "metadata": {
        "id": "qg_meeriaX5g",
        "outputId": "eea6d589-8658-44f1-cb1a-7faae6b03ee9",
        "colab": {
          "base_uri": "https://localhost:8080/",
          "height": 1000
        }
      },
      "source": [
        "model.compile(loss = 'mean_squared_error', optimizer = 'adam', metrics=['accuracy'])\n",
        "model.fit(X, Y, epochs= 100, batch_size=10)"
      ],
      "execution_count": null,
      "outputs": [
        {
          "output_type": "stream",
          "text": [
            "Epoch 1/100\n",
            "47/47 [==============================] - 0s 996us/step - loss: 0.1202 - accuracy: 0.8532\n",
            "Epoch 2/100\n",
            "47/47 [==============================] - 0s 904us/step - loss: 0.1224 - accuracy: 0.8638\n",
            "Epoch 3/100\n",
            "47/47 [==============================] - 0s 1ms/step - loss: 0.1243 - accuracy: 0.8596\n",
            "Epoch 4/100\n",
            "47/47 [==============================] - 0s 917us/step - loss: 0.1249 - accuracy: 0.8553\n",
            "Epoch 5/100\n",
            "47/47 [==============================] - 0s 865us/step - loss: 0.1183 - accuracy: 0.8617\n",
            "Epoch 6/100\n",
            "47/47 [==============================] - 0s 881us/step - loss: 0.1160 - accuracy: 0.8617\n",
            "Epoch 7/100\n",
            "47/47 [==============================] - 0s 957us/step - loss: 0.1169 - accuracy: 0.8553\n",
            "Epoch 8/100\n",
            "47/47 [==============================] - 0s 945us/step - loss: 0.1196 - accuracy: 0.8638\n",
            "Epoch 9/100\n",
            "47/47 [==============================] - 0s 1ms/step - loss: 0.1224 - accuracy: 0.8596\n",
            "Epoch 10/100\n",
            "47/47 [==============================] - 0s 999us/step - loss: 0.1200 - accuracy: 0.8638\n",
            "Epoch 11/100\n",
            "47/47 [==============================] - 0s 946us/step - loss: 0.1174 - accuracy: 0.8596\n",
            "Epoch 12/100\n",
            "47/47 [==============================] - 0s 872us/step - loss: 0.1183 - accuracy: 0.8574\n",
            "Epoch 13/100\n",
            "47/47 [==============================] - 0s 981us/step - loss: 0.1203 - accuracy: 0.8532\n",
            "Epoch 14/100\n",
            "47/47 [==============================] - 0s 1ms/step - loss: 0.1215 - accuracy: 0.8511\n",
            "Epoch 15/100\n",
            "47/47 [==============================] - 0s 970us/step - loss: 0.1246 - accuracy: 0.8660\n",
            "Epoch 16/100\n",
            "47/47 [==============================] - 0s 944us/step - loss: 0.1269 - accuracy: 0.8511\n",
            "Epoch 17/100\n",
            "47/47 [==============================] - 0s 941us/step - loss: 0.1240 - accuracy: 0.8511\n",
            "Epoch 18/100\n",
            "47/47 [==============================] - 0s 929us/step - loss: 0.1219 - accuracy: 0.8489\n",
            "Epoch 19/100\n",
            "47/47 [==============================] - 0s 920us/step - loss: 0.1278 - accuracy: 0.8553\n",
            "Epoch 20/100\n",
            "47/47 [==============================] - 0s 936us/step - loss: 0.1318 - accuracy: 0.8617\n",
            "Epoch 21/100\n",
            "47/47 [==============================] - 0s 909us/step - loss: 0.1266 - accuracy: 0.8638\n",
            "Epoch 22/100\n",
            "47/47 [==============================] - 0s 935us/step - loss: 0.1183 - accuracy: 0.8596\n",
            "Epoch 23/100\n",
            "47/47 [==============================] - 0s 1ms/step - loss: 0.1242 - accuracy: 0.8617\n",
            "Epoch 24/100\n",
            "47/47 [==============================] - 0s 1ms/step - loss: 0.1241 - accuracy: 0.8468\n",
            "Epoch 25/100\n",
            "47/47 [==============================] - 0s 961us/step - loss: 0.1352 - accuracy: 0.8574\n",
            "Epoch 26/100\n",
            "47/47 [==============================] - 0s 955us/step - loss: 0.1312 - accuracy: 0.8617\n",
            "Epoch 27/100\n",
            "47/47 [==============================] - 0s 912us/step - loss: 0.1298 - accuracy: 0.8617\n",
            "Epoch 28/100\n",
            "47/47 [==============================] - 0s 993us/step - loss: 0.1300 - accuracy: 0.8596\n",
            "Epoch 29/100\n",
            "47/47 [==============================] - 0s 940us/step - loss: 0.1267 - accuracy: 0.8660\n",
            "Epoch 30/100\n",
            "47/47 [==============================] - 0s 949us/step - loss: 0.1182 - accuracy: 0.8681\n",
            "Epoch 31/100\n",
            "47/47 [==============================] - 0s 925us/step - loss: 0.1230 - accuracy: 0.8532\n",
            "Epoch 32/100\n",
            "47/47 [==============================] - 0s 920us/step - loss: 0.1178 - accuracy: 0.8596\n",
            "Epoch 33/100\n",
            "47/47 [==============================] - 0s 931us/step - loss: 0.1174 - accuracy: 0.8702\n",
            "Epoch 34/100\n",
            "47/47 [==============================] - 0s 921us/step - loss: 0.1161 - accuracy: 0.8511\n",
            "Epoch 35/100\n",
            "47/47 [==============================] - 0s 975us/step - loss: 0.1301 - accuracy: 0.8574\n",
            "Epoch 36/100\n",
            "47/47 [==============================] - 0s 992us/step - loss: 0.1129 - accuracy: 0.8681\n",
            "Epoch 37/100\n",
            "47/47 [==============================] - 0s 1ms/step - loss: 0.1234 - accuracy: 0.8638\n",
            "Epoch 38/100\n",
            "47/47 [==============================] - 0s 1ms/step - loss: 0.1220 - accuracy: 0.8617\n",
            "Epoch 39/100\n",
            "47/47 [==============================] - 0s 964us/step - loss: 0.1161 - accuracy: 0.8702\n",
            "Epoch 40/100\n",
            "47/47 [==============================] - 0s 892us/step - loss: 0.1191 - accuracy: 0.8681\n",
            "Epoch 41/100\n",
            "47/47 [==============================] - 0s 890us/step - loss: 0.1164 - accuracy: 0.8617\n",
            "Epoch 42/100\n",
            "47/47 [==============================] - 0s 1ms/step - loss: 0.1305 - accuracy: 0.8553\n",
            "Epoch 43/100\n",
            "47/47 [==============================] - 0s 1ms/step - loss: 0.1220 - accuracy: 0.8638\n",
            "Epoch 44/100\n",
            "47/47 [==============================] - 0s 996us/step - loss: 0.1181 - accuracy: 0.8681\n",
            "Epoch 45/100\n",
            "47/47 [==============================] - 0s 991us/step - loss: 0.1195 - accuracy: 0.8660\n",
            "Epoch 46/100\n",
            "47/47 [==============================] - 0s 933us/step - loss: 0.1141 - accuracy: 0.8596\n",
            "Epoch 47/100\n",
            "47/47 [==============================] - 0s 915us/step - loss: 0.1189 - accuracy: 0.8596\n",
            "Epoch 48/100\n",
            "47/47 [==============================] - 0s 919us/step - loss: 0.1162 - accuracy: 0.8723\n",
            "Epoch 49/100\n",
            "47/47 [==============================] - 0s 924us/step - loss: 0.1153 - accuracy: 0.8617\n",
            "Epoch 50/100\n",
            "47/47 [==============================] - 0s 1ms/step - loss: 0.1156 - accuracy: 0.8638\n",
            "Epoch 51/100\n",
            "47/47 [==============================] - 0s 1ms/step - loss: 0.1130 - accuracy: 0.8723\n",
            "Epoch 52/100\n",
            "47/47 [==============================] - 0s 935us/step - loss: 0.1120 - accuracy: 0.8638\n",
            "Epoch 53/100\n",
            "47/47 [==============================] - 0s 965us/step - loss: 0.1138 - accuracy: 0.8617\n",
            "Epoch 54/100\n",
            "47/47 [==============================] - 0s 1ms/step - loss: 0.1187 - accuracy: 0.8638\n",
            "Epoch 55/100\n",
            "47/47 [==============================] - 0s 1ms/step - loss: 0.1162 - accuracy: 0.8681\n",
            "Epoch 56/100\n",
            "47/47 [==============================] - 0s 964us/step - loss: 0.1130 - accuracy: 0.8617\n",
            "Epoch 57/100\n",
            "47/47 [==============================] - 0s 974us/step - loss: 0.1186 - accuracy: 0.8596\n",
            "Epoch 58/100\n",
            "47/47 [==============================] - 0s 1ms/step - loss: 0.1185 - accuracy: 0.8660\n",
            "Epoch 59/100\n",
            "47/47 [==============================] - 0s 938us/step - loss: 0.1155 - accuracy: 0.8660\n",
            "Epoch 60/100\n",
            "47/47 [==============================] - 0s 966us/step - loss: 0.1116 - accuracy: 0.8681\n",
            "Epoch 61/100\n",
            "47/47 [==============================] - 0s 1ms/step - loss: 0.1175 - accuracy: 0.8617\n",
            "Epoch 62/100\n",
            "47/47 [==============================] - 0s 950us/step - loss: 0.1161 - accuracy: 0.8638\n",
            "Epoch 63/100\n",
            "47/47 [==============================] - 0s 1ms/step - loss: 0.1140 - accuracy: 0.8617\n",
            "Epoch 64/100\n",
            "47/47 [==============================] - 0s 963us/step - loss: 0.1202 - accuracy: 0.8638\n",
            "Epoch 65/100\n",
            "47/47 [==============================] - 0s 1ms/step - loss: 0.1128 - accuracy: 0.8723\n",
            "Epoch 66/100\n",
            "47/47 [==============================] - 0s 989us/step - loss: 0.1187 - accuracy: 0.8660\n",
            "Epoch 67/100\n",
            "47/47 [==============================] - 0s 1ms/step - loss: 0.1132 - accuracy: 0.8702\n",
            "Epoch 68/100\n",
            "47/47 [==============================] - 0s 1ms/step - loss: 0.1189 - accuracy: 0.8723\n",
            "Epoch 69/100\n",
            "47/47 [==============================] - 0s 1ms/step - loss: 0.1290 - accuracy: 0.8596\n",
            "Epoch 70/100\n",
            "47/47 [==============================] - 0s 974us/step - loss: 0.1230 - accuracy: 0.8596\n",
            "Epoch 71/100\n",
            "47/47 [==============================] - 0s 935us/step - loss: 0.1217 - accuracy: 0.8596\n",
            "Epoch 72/100\n",
            "47/47 [==============================] - 0s 943us/step - loss: 0.1200 - accuracy: 0.8702\n",
            "Epoch 73/100\n",
            "47/47 [==============================] - 0s 1ms/step - loss: 0.1201 - accuracy: 0.8702\n",
            "Epoch 74/100\n",
            "47/47 [==============================] - 0s 995us/step - loss: 0.1111 - accuracy: 0.8617\n",
            "Epoch 75/100\n",
            "47/47 [==============================] - 0s 1ms/step - loss: 0.1107 - accuracy: 0.8702\n",
            "Epoch 76/100\n",
            "47/47 [==============================] - 0s 1ms/step - loss: 0.1213 - accuracy: 0.8638\n",
            "Epoch 77/100\n",
            "47/47 [==============================] - 0s 1ms/step - loss: 0.1177 - accuracy: 0.8681\n",
            "Epoch 78/100\n",
            "47/47 [==============================] - 0s 1ms/step - loss: 0.1166 - accuracy: 0.8702\n",
            "Epoch 79/100\n",
            "47/47 [==============================] - 0s 1ms/step - loss: 0.1120 - accuracy: 0.8723\n",
            "Epoch 80/100\n",
            "47/47 [==============================] - 0s 1ms/step - loss: 0.1135 - accuracy: 0.8702\n",
            "Epoch 81/100\n",
            "47/47 [==============================] - 0s 1ms/step - loss: 0.1188 - accuracy: 0.8660\n",
            "Epoch 82/100\n",
            "47/47 [==============================] - 0s 985us/step - loss: 0.1170 - accuracy: 0.8766\n",
            "Epoch 83/100\n",
            "47/47 [==============================] - 0s 1ms/step - loss: 0.1172 - accuracy: 0.8681\n",
            "Epoch 84/100\n",
            "47/47 [==============================] - 0s 1ms/step - loss: 0.1226 - accuracy: 0.8596\n",
            "Epoch 85/100\n",
            "47/47 [==============================] - 0s 925us/step - loss: 0.1263 - accuracy: 0.8553\n",
            "Epoch 86/100\n",
            "47/47 [==============================] - 0s 927us/step - loss: 0.1208 - accuracy: 0.8617\n",
            "Epoch 87/100\n",
            "47/47 [==============================] - 0s 902us/step - loss: 0.1123 - accuracy: 0.8702\n",
            "Epoch 88/100\n",
            "47/47 [==============================] - 0s 1ms/step - loss: 0.1084 - accuracy: 0.8723\n",
            "Epoch 89/100\n",
            "47/47 [==============================] - 0s 1ms/step - loss: 0.1161 - accuracy: 0.8617\n",
            "Epoch 90/100\n",
            "47/47 [==============================] - 0s 962us/step - loss: 0.1236 - accuracy: 0.8553\n",
            "Epoch 91/100\n",
            "47/47 [==============================] - 0s 936us/step - loss: 0.1256 - accuracy: 0.8660\n",
            "Epoch 92/100\n",
            "47/47 [==============================] - 0s 933us/step - loss: 0.1134 - accuracy: 0.8766\n",
            "Epoch 93/100\n",
            "47/47 [==============================] - 0s 1ms/step - loss: 0.1110 - accuracy: 0.8723\n",
            "Epoch 94/100\n",
            "47/47 [==============================] - 0s 1ms/step - loss: 0.1173 - accuracy: 0.8660\n",
            "Epoch 95/100\n",
            "47/47 [==============================] - 0s 1ms/step - loss: 0.1134 - accuracy: 0.8702\n",
            "Epoch 96/100\n",
            "47/47 [==============================] - 0s 1ms/step - loss: 0.1222 - accuracy: 0.8617\n",
            "Epoch 97/100\n",
            "47/47 [==============================] - 0s 919us/step - loss: 0.1160 - accuracy: 0.8596\n",
            "Epoch 98/100\n",
            "47/47 [==============================] - 0s 1ms/step - loss: 0.1232 - accuracy: 0.8638\n",
            "Epoch 99/100\n",
            "47/47 [==============================] - 0s 995us/step - loss: 0.1186 - accuracy: 0.8723\n",
            "Epoch 100/100\n",
            "47/47 [==============================] - 0s 972us/step - loss: 0.1114 - accuracy: 0.8702\n"
          ],
          "name": "stdout"
        },
        {
          "output_type": "execute_result",
          "data": {
            "text/plain": [
              "<tensorflow.python.keras.callbacks.History at 0x7f1056078630>"
            ]
          },
          "metadata": {
            "tags": []
          },
          "execution_count": 17
        }
      ]
    },
    {
      "cell_type": "code",
      "metadata": {
        "id": "JOWeU1kBanGo",
        "outputId": "cb25ab1a-c3bf-4a09-ffaf-142571b78cbb",
        "colab": {
          "base_uri": "https://localhost:8080/",
          "height": 71
        }
      },
      "source": [
        "print(\"\\n Accuracy: %.4f\" %(model.evaluate(X,Y)[1]))"
      ],
      "execution_count": null,
      "outputs": [
        {
          "output_type": "stream",
          "text": [
            "15/15 [==============================] - 0s 1ms/step - loss: 0.1062 - accuracy: 0.8745\n",
            "\n",
            " Accuracy: 0.8745\n"
          ],
          "name": "stdout"
        }
      ]
    },
    {
      "cell_type": "code",
      "metadata": {
        "id": "vv_KpRwmbsRH"
      },
      "source": [
        "new_x = np.array([[23,3,2.36,1.68,0,0,0,0,0,0,12,0,0,0,1,0,62]])"
      ],
      "execution_count": null,
      "outputs": []
    },
    {
      "cell_type": "code",
      "metadata": {
        "id": "jV9YeQ77fEU0"
      },
      "source": [
        "new_x = np.array([[197,3,2.84,2.24,1,1,1,0,0,0,12,0,0,0,1,0,68]])"
      ],
      "execution_count": null,
      "outputs": []
    },
    {
      "cell_type": "code",
      "metadata": {
        "id": "cUAwCsrhcWy9"
      },
      "source": [
        "new_x = np.random.randint(100,size = (1,17))"
      ],
      "execution_count": null,
      "outputs": []
    },
    {
      "cell_type": "code",
      "metadata": {
        "id": "9wrAk20Hc3jV"
      },
      "source": [
        "y_predict = model.predict(new_x)"
      ],
      "execution_count": null,
      "outputs": []
    },
    {
      "cell_type": "code",
      "metadata": {
        "id": "9anJnSq4e6Xu",
        "outputId": "f3b53715-7b53-46c9-916e-358fa089fa70",
        "colab": {
          "base_uri": "https://localhost:8080/",
          "height": 35
        }
      },
      "source": [
        "print(y_predict)"
      ],
      "execution_count": null,
      "outputs": [
        {
          "output_type": "stream",
          "text": [
            "[[0.37975103]]\n"
          ],
          "name": "stdout"
        }
      ]
    },
    {
      "cell_type": "markdown",
      "metadata": {
        "id": "3x41q-cdHD_y"
      },
      "source": [
        "참고 사이트: https://stellarway.tistory.com/13?category=883928 https://sshkim.tistory.com/150 https://yamerong.tistory.com/45\n"
      ]
    },
    {
      "cell_type": "code",
      "metadata": {
        "id": "yI2shsdxe8ED"
      },
      "source": [
        ""
      ],
      "execution_count": null,
      "outputs": []
    }
  ]
}