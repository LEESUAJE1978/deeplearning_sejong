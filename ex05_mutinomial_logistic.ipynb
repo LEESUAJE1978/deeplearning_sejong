{
  "nbformat": 4,
  "nbformat_minor": 0,
  "metadata": {
    "colab": {
      "name": "ex05_mutinomial logistic.ipynb",
      "provenance": [],
      "authorship_tag": "ABX9TyOfi8bSqNLQbcnTI/TZpVOL",
      "include_colab_link": true
    },
    "kernelspec": {
      "name": "python3",
      "display_name": "Python 3"
    }
  },
  "cells": [
    {
      "cell_type": "markdown",
      "metadata": {
        "id": "view-in-github",
        "colab_type": "text"
      },
      "source": [
        "<a href=\"https://colab.research.google.com/github/LEESUAJE1978/deeplearning_sejong/blob/master/ex05_mutinomial_logistic.ipynb\" target=\"_parent\"><img src=\"https://colab.research.google.com/assets/colab-badge.svg\" alt=\"Open In Colab\"/></a>"
      ]
    },
    {
      "cell_type": "markdown",
      "metadata": {
        "id": "z4NKUCds_HgT",
        "colab_type": "text"
      },
      "source": [
        "0. 텐서플로우 버전 선택"
      ]
    },
    {
      "cell_type": "code",
      "metadata": {
        "id": "f8bqPNLk4H2M",
        "colab_type": "code",
        "colab": {
          "base_uri": "https://localhost:8080/",
          "height": 35
        },
        "outputId": "cb057e37-a541-488c-99fa-93b7c7ad2e8c"
      },
      "source": [
        "#0. 텐서플로우 버전 선택\n",
        "try:\n",
        "    # %tensorflow_version only exists in Colab.\n",
        "    %tensorflow_version 1.x\n",
        "except Exception:\n",
        "    pass\n",
        "import tensorflow as tf\n",
        "import numpy as np\n",
        "import pandas as pd\n",
        "\n",
        "print(tf.__version__)"
      ],
      "execution_count": 175,
      "outputs": [
        {
          "output_type": "stream",
          "text": [
            "1.15.2\n"
          ],
          "name": "stdout"
        }
      ]
    },
    {
      "cell_type": "markdown",
      "metadata": {
        "id": "J7eE32q6_OUk",
        "colab_type": "text"
      },
      "source": [
        "텐서플로우 활용 다중로지스틱 회귀분석"
      ]
    },
    {
      "cell_type": "markdown",
      "metadata": {
        "id": "C-boIoVZ9pLc",
        "colab_type": "text"
      },
      "source": [
        "1. set.seed 설정 set seed는 재현 가능성(reproducibility)를 위해 사용"
      ]
    },
    {
      "cell_type": "code",
      "metadata": {
        "id": "zMRZDAz89wcB",
        "colab_type": "code",
        "colab": {}
      },
      "source": [
        "tf.set_random_seed(777) #for reproducibility"
      ],
      "execution_count": 178,
      "outputs": []
    },
    {
      "cell_type": "markdown",
      "metadata": {
        "id": "bq3J2SDo95z_",
        "colab_type": "text"
      },
      "source": [
        "2. 데이터 셋 생성\n"
      ]
    },
    {
      "cell_type": "code",
      "metadata": {
        "id": "4I7i6cdw94Sq",
        "colab_type": "code",
        "colab": {}
      },
      "source": [
        "x_data = [[1,2,1,1,],\n",
        "          [2,1,3,2],\n",
        "          [3,1,3,4],\n",
        "          [4,1,5,5],\n",
        "          [1,7,5,5],\n",
        "          [1,2,5,6],\n",
        "          [1,6,6,6],\n",
        "          [1,7,7,7],\n",
        "          ]\n",
        "\n",
        "y_data = [[0,0,1],\n",
        "          [0,0,1],\n",
        "          [0,0,1],\n",
        "          [0,1,0],\n",
        "          [0,1,0],\n",
        "          [0,1,0],\n",
        "          [1,0,0],\n",
        "          [1,0,0]]"
      ],
      "execution_count": 179,
      "outputs": []
    },
    {
      "cell_type": "code",
      "metadata": {
        "id": "5ClgXSAh-k5I",
        "colab_type": "code",
        "colab": {
          "base_uri": "https://localhost:8080/",
          "height": 54
        },
        "outputId": "c637bb78-3885-43b7-9f11-501cc957dc4f"
      },
      "source": [
        "print(type(x_data)) # (4 * 8 matrix)\n",
        "print(type(y_data)) #(8*3 matrix) #dummy variables, one-hot encoding"
      ],
      "execution_count": 180,
      "outputs": [
        {
          "output_type": "stream",
          "text": [
            "<class 'list'>\n",
            "<class 'list'>\n"
          ],
          "name": "stdout"
        }
      ]
    },
    {
      "cell_type": "markdown",
      "metadata": {
        "id": "5MYQ1qVQ_Yd_",
        "colab_type": "text"
      },
      "source": [
        "3. 플레이스 홀더 생성(Generating Placeholder)"
      ]
    },
    {
      "cell_type": "code",
      "metadata": {
        "id": "UgOmc11u-l4U",
        "colab_type": "code",
        "colab": {}
      },
      "source": [
        "X = tf.placeholder(\"float\", [None, 4])\n",
        "Y= tf.placeholder(\"float\", [None, 3])\n",
        "nb_classes = 3 #분류 대상 개수"
      ],
      "execution_count": 181,
      "outputs": []
    },
    {
      "cell_type": "markdown",
      "metadata": {
        "id": "Zp0rRJvqA6qQ",
        "colab_type": "text"
      },
      "source": [
        "4. 가중치 및 bias 설정(weight, bias) 설정"
      ]
    },
    {
      "cell_type": "code",
      "metadata": {
        "id": "bAdJ1-_m-8vM",
        "colab_type": "code",
        "colab": {}
      },
      "source": [
        "W = tf.Variable(tf.random_normal([4, 3]), name = 'weight')\n",
        "b = tf.Variable(tf.random_normal([nb_classes]),name ='bias')"
      ],
      "execution_count": 182,
      "outputs": []
    },
    {
      "cell_type": "markdown",
      "metadata": {
        "id": "-LxFfHN_gyvt",
        "colab_type": "text"
      },
      "source": [
        "5. 가설(Hypothesis)설정"
      ]
    },
    {
      "cell_type": "code",
      "metadata": {
        "id": "rCW-d9BqDUZn",
        "colab_type": "code",
        "colab": {}
      },
      "source": [
        "hypothesis = tf.nn.softmax(tf.matmul(X,W)+b)"
      ],
      "execution_count": 183,
      "outputs": []
    },
    {
      "cell_type": "markdown",
      "metadata": {
        "id": "Wv0BxB5Xg_EI",
        "colab_type": "text"
      },
      "source": [
        "6. 비용함수(Cost Function) 설정"
      ]
    },
    {
      "cell_type": "code",
      "metadata": {
        "id": "_yUxXmrxCXw3",
        "colab_type": "code",
        "colab": {}
      },
      "source": [
        "cost = tf.reduce_mean(-tf.reduce_sum(Y*tf.log(hypothesis), axis = 1)) #열을 기준으로 계산\n"
      ],
      "execution_count": 184,
      "outputs": []
    },
    {
      "cell_type": "markdown",
      "metadata": {
        "id": "uWA3G7cohkz9",
        "colab_type": "text"
      },
      "source": [
        "7. 경사하강법 적용(Gradient Decents)"
      ]
    },
    {
      "cell_type": "code",
      "metadata": {
        "id": "13s6UuVqCbZ4",
        "colab_type": "code",
        "colab": {}
      },
      "source": [
        "optimizer = tf.train.GradientDescentOptimizer(learning_rate = 0.1).minimize(cost)"
      ],
      "execution_count": 185,
      "outputs": []
    },
    {
      "cell_type": "markdown",
      "metadata": {
        "id": "1F6g1vzTiHa2",
        "colab_type": "text"
      },
      "source": [
        "8. 세션 실행"
      ]
    },
    {
      "cell_type": "code",
      "metadata": {
        "id": "etlZhPkxCd9l",
        "colab_type": "code",
        "colab": {
          "base_uri": "https://localhost:8080/",
          "height": 399
        },
        "outputId": "a8293e2c-f7ee-40e4-90d2-3ceec7e74c40"
      },
      "source": [
        "with tf.Session() as sess:\n",
        "  sess.run(tf.global_variables_initializer())\n",
        "\n",
        "  for step in range(2001):\n",
        "    _, cost_val = sess.run([optimizer, cost], feed_dict = {X:x_data, Y: y_data})\n",
        "    \n",
        "    if step %200 ==0:\n",
        "       print(step, cost_val)\n",
        "  print('X값이 [1, 11, 7, 9] 일 때, Y의 값은?')\n",
        "  a = sess.run(hypothesis, feed_dict={X :[[1,11,7,9]]})\n",
        "  print(a, sess.run(tf.argmax(a,1)))\n",
        "  \n",
        "  print('X값이 [1, 3, 4, 3] 일 때, Y의 값은?')\n",
        "  b = sess.run(hypothesis, feed_dict={X :[[1,3,4,3]]})\n",
        "  print(b, sess.run(tf.argmax(b,1)))\n",
        "\n",
        "  print('X값이 [1, 1, 0, 1] 일 때, Y의 값은?')\n",
        "  c = sess.run(hypothesis, feed_dict={X :[[1,1,0,1]]})\n",
        "  print(c, sess.run(tf.argmax(c,1)))\n",
        "\n",
        "  print('X값이 [1, 11, 7, 9], [1, 3, 4, 3] , [1, 1, 0, 1] 일 때, Y의 값은?')\n",
        "  all = sess.run(hypothesis, feed_dict={X :[[1, 11, 7, 9], [1, 3, 4, 3],[1,1,0,1]]})\n",
        "  print(all, sess.run(tf.argmax(all,1)))\n"
      ],
      "execution_count": 77,
      "outputs": [
        {
          "output_type": "stream",
          "text": [
            "0 15.37867\n",
            "200 0.6412344\n",
            "400 0.53935647\n",
            "600 0.44857335\n",
            "800 0.3594883\n",
            "1000 0.2717909\n",
            "1200 0.22767109\n",
            "1400 0.20732816\n",
            "1600 0.19018152\n",
            "1800 0.175545\n",
            "2000 0.162916\n",
            "X값이 [1, 11, 7, 9] 일 때, Y의 값은?\n",
            "[[3.3966370e-02 9.6602273e-01 1.0956867e-05]] [1]\n",
            "X값이 [1, 3, 4, 3] 일 때, Y의 값은?\n",
            "[[0.6589983  0.298451   0.04255062]] [0]\n",
            "X값이 [1, 1, 0, 1] 일 때, Y의 값은?\n",
            "[[1.7008624e-08 3.9279053e-04 9.9960726e-01]] [2]\n",
            "X값이 [1, 11, 7, 9], [1, 3, 4, 3] , [1, 1, 0, 1] 일 때, Y의 값은?\n",
            "[[3.3966385e-02 9.6602273e-01 1.0956868e-05]\n",
            " [6.5899849e-01 2.9845098e-01 4.2550597e-02]\n",
            " [1.7008624e-08 3.9279056e-04 9.9960726e-01]] [1 0 2]\n"
          ],
          "name": "stdout"
        }
      ]
    },
    {
      "cell_type": "markdown",
      "metadata": {
        "id": "rToOLLZYq_cp",
        "colab_type": "text"
      },
      "source": [
        "파이썬 활용(Scikitlearn)활용"
      ]
    },
    {
      "cell_type": "markdown",
      "metadata": {
        "id": "oP6zrdqS_rTZ",
        "colab_type": "text"
      },
      "source": [
        "1. 패키지 불러오기"
      ]
    },
    {
      "cell_type": "code",
      "metadata": {
        "id": "rCg9LvOmrFnq",
        "colab_type": "code",
        "colab": {}
      },
      "source": [
        "from sklearn.linear_model import LogisticRegression"
      ],
      "execution_count": 186,
      "outputs": []
    },
    {
      "cell_type": "markdown",
      "metadata": {
        "id": "TgMAwaCB_wnJ",
        "colab_type": "text"
      },
      "source": [
        "2. 데이터 생성"
      ]
    },
    {
      "cell_type": "code",
      "metadata": {
        "id": "y1QHukFFrUcE",
        "colab_type": "code",
        "colab": {}
      },
      "source": [
        "x_data = [[1,2,1,1,],\n",
        "          [2,1,3,2],\n",
        "          [3,1,3,4],\n",
        "          [4,1,5,5],\n",
        "          [1,7,5,5],\n",
        "          [1,2,5,6],\n",
        "          [1,6,6,6],\n",
        "          [1,7,7,7],\n",
        "          ]\n",
        "\n",
        "y_data = [[0,0,1],\n",
        "          [0,0,1],\n",
        "          [0,0,1],\n",
        "          [0,1,0],\n",
        "          [0,1,0],\n",
        "          [0,1,0],\n",
        "          [1,0,0],\n",
        "          [1,0,0]]"
      ],
      "execution_count": 234,
      "outputs": []
    },
    {
      "cell_type": "code",
      "metadata": {
        "id": "ZKtoBNfUH9Ac",
        "colab_type": "code",
        "colab": {
          "base_uri": "https://localhost:8080/",
          "height": 54
        },
        "outputId": "3a0805be-f07b-4386-f2c3-26e21f127775"
      },
      "source": [
        "print(type(x_data))\n",
        "print(type(y_data))"
      ],
      "execution_count": 235,
      "outputs": [
        {
          "output_type": "stream",
          "text": [
            "<class 'list'>\n",
            "<class 'list'>\n"
          ],
          "name": "stdout"
        }
      ]
    },
    {
      "cell_type": "markdown",
      "metadata": {
        "id": "tvSEIRdZ_yl0",
        "colab_type": "text"
      },
      "source": [
        "3. 데이터 형태 변환"
      ]
    },
    {
      "cell_type": "code",
      "metadata": {
        "id": "hp9dDuHUAd_l",
        "colab_type": "code",
        "colab": {
          "base_uri": "https://localhost:8080/",
          "height": 54
        },
        "outputId": "6751b928-8f18-4eac-fb8c-015dfd1ed630"
      },
      "source": [
        "y_class = np.argmax(y_data, axis =1)\n",
        "print(y_class)\n",
        "print(type(y_class))"
      ],
      "execution_count": 236,
      "outputs": [
        {
          "output_type": "stream",
          "text": [
            "[2 2 2 1 1 1 0 0]\n",
            "<class 'numpy.ndarray'>\n"
          ],
          "name": "stdout"
        }
      ]
    },
    {
      "cell_type": "markdown",
      "metadata": {
        "id": "DMua-ttyEXrZ",
        "colab_type": "text"
      },
      "source": [
        "4. 데이터 프레임 만들기"
      ]
    },
    {
      "cell_type": "code",
      "metadata": {
        "id": "1kZwOexPxQ_K",
        "colab_type": "code",
        "colab": {}
      },
      "source": [
        "X, Y = pd.DataFrame(x_data), pd.DataFrame(y_class)"
      ],
      "execution_count": 206,
      "outputs": []
    },
    {
      "cell_type": "code",
      "metadata": {
        "id": "ETUeTwEL0xKw",
        "colab_type": "code",
        "colab": {
          "base_uri": "https://localhost:8080/",
          "height": 288
        },
        "outputId": "de90ee41-793a-434a-9d17-258cae19923d"
      },
      "source": [
        "df= pd.merge(X,Y, how= 'outer', left_index=True, right_index=True)\n",
        "df"
      ],
      "execution_count": 210,
      "outputs": [
        {
          "output_type": "execute_result",
          "data": {
            "text/html": [
              "<div>\n",
              "<style scoped>\n",
              "    .dataframe tbody tr th:only-of-type {\n",
              "        vertical-align: middle;\n",
              "    }\n",
              "\n",
              "    .dataframe tbody tr th {\n",
              "        vertical-align: top;\n",
              "    }\n",
              "\n",
              "    .dataframe thead th {\n",
              "        text-align: right;\n",
              "    }\n",
              "</style>\n",
              "<table border=\"1\" class=\"dataframe\">\n",
              "  <thead>\n",
              "    <tr style=\"text-align: right;\">\n",
              "      <th></th>\n",
              "      <th>0_x</th>\n",
              "      <th>1</th>\n",
              "      <th>2</th>\n",
              "      <th>3</th>\n",
              "      <th>0_y</th>\n",
              "    </tr>\n",
              "  </thead>\n",
              "  <tbody>\n",
              "    <tr>\n",
              "      <th>0</th>\n",
              "      <td>1</td>\n",
              "      <td>2</td>\n",
              "      <td>1</td>\n",
              "      <td>1</td>\n",
              "      <td>2</td>\n",
              "    </tr>\n",
              "    <tr>\n",
              "      <th>1</th>\n",
              "      <td>2</td>\n",
              "      <td>1</td>\n",
              "      <td>3</td>\n",
              "      <td>2</td>\n",
              "      <td>2</td>\n",
              "    </tr>\n",
              "    <tr>\n",
              "      <th>2</th>\n",
              "      <td>3</td>\n",
              "      <td>1</td>\n",
              "      <td>3</td>\n",
              "      <td>4</td>\n",
              "      <td>2</td>\n",
              "    </tr>\n",
              "    <tr>\n",
              "      <th>3</th>\n",
              "      <td>4</td>\n",
              "      <td>1</td>\n",
              "      <td>5</td>\n",
              "      <td>5</td>\n",
              "      <td>1</td>\n",
              "    </tr>\n",
              "    <tr>\n",
              "      <th>4</th>\n",
              "      <td>1</td>\n",
              "      <td>7</td>\n",
              "      <td>5</td>\n",
              "      <td>5</td>\n",
              "      <td>1</td>\n",
              "    </tr>\n",
              "    <tr>\n",
              "      <th>5</th>\n",
              "      <td>1</td>\n",
              "      <td>2</td>\n",
              "      <td>5</td>\n",
              "      <td>6</td>\n",
              "      <td>1</td>\n",
              "    </tr>\n",
              "    <tr>\n",
              "      <th>6</th>\n",
              "      <td>1</td>\n",
              "      <td>6</td>\n",
              "      <td>6</td>\n",
              "      <td>6</td>\n",
              "      <td>0</td>\n",
              "    </tr>\n",
              "    <tr>\n",
              "      <th>7</th>\n",
              "      <td>1</td>\n",
              "      <td>7</td>\n",
              "      <td>7</td>\n",
              "      <td>7</td>\n",
              "      <td>0</td>\n",
              "    </tr>\n",
              "  </tbody>\n",
              "</table>\n",
              "</div>"
            ],
            "text/plain": [
              "   0_x  1  2  3  0_y\n",
              "0    1  2  1  1    2\n",
              "1    2  1  3  2    2\n",
              "2    3  1  3  4    2\n",
              "3    4  1  5  5    1\n",
              "4    1  7  5  5    1\n",
              "5    1  2  5  6    1\n",
              "6    1  6  6  6    0\n",
              "7    1  7  7  7    0"
            ]
          },
          "metadata": {
            "tags": []
          },
          "execution_count": 210
        }
      ]
    },
    {
      "cell_type": "markdown",
      "metadata": {
        "id": "4cEyyg_tEait",
        "colab_type": "text"
      },
      "source": [
        "5. 로지스틱 회귀모델 "
      ]
    },
    {
      "cell_type": "code",
      "metadata": {
        "id": "OLysFPLjrKZt",
        "colab_type": "code",
        "colab": {}
      },
      "source": [
        "clf = LogisticRegression(multi_class='multinomial', random_state=42).fit(x_data, y_class) #데이터의 배열 맞춰줘야함"
      ],
      "execution_count": 237,
      "outputs": []
    },
    {
      "cell_type": "code",
      "metadata": {
        "id": "Kh2ighDErX5Z",
        "colab_type": "code",
        "colab": {
          "base_uri": "https://localhost:8080/",
          "height": 72
        },
        "outputId": "ca58034a-931e-456f-d096-518c7ee6902c"
      },
      "source": [
        "print(clf.predict(X.iloc[1:2,]))  #값 예측하기\n",
        "print(df.iloc[1:2,-1])"
      ],
      "execution_count": 212,
      "outputs": [
        {
          "output_type": "stream",
          "text": [
            "[2]\n",
            "1    2\n",
            "Name: 0_y, dtype: int64\n"
          ],
          "name": "stdout"
        }
      ]
    },
    {
      "cell_type": "code",
      "metadata": {
        "id": "n6uIijUd4Ezm",
        "colab_type": "code",
        "colab": {
          "base_uri": "https://localhost:8080/",
          "height": 35
        },
        "outputId": "101d3e34-f553-42e7-c34b-fe82fc30c615"
      },
      "source": [
        "clf.predict_proba(X.iloc[1:2,]) #소프트 맥스 함수 예측 값"
      ],
      "execution_count": 213,
      "outputs": [
        {
          "output_type": "execute_result",
          "data": {
            "text/plain": [
              "array([[2.47837748e-04, 7.25502615e-02, 9.27201901e-01]])"
            ]
          },
          "metadata": {
            "tags": []
          },
          "execution_count": 213
        }
      ]
    },
    {
      "cell_type": "code",
      "metadata": {
        "id": "hZkuwlxZv7kh",
        "colab_type": "code",
        "colab": {
          "base_uri": "https://localhost:8080/",
          "height": 90
        },
        "outputId": "04524ff0-7d9b-4f20-d341-3affceaa7021"
      },
      "source": [
        "print(clf.predict([[110,10,4,5]]))\n",
        "print(clf.predict_proba([[110,10,4,5]]))\n",
        "print(clf.predict([[5,100,2,4]]))\n",
        "print(clf.predict_proba([[5,100,2,4]]))"
      ],
      "execution_count": 230,
      "outputs": [
        {
          "output_type": "stream",
          "text": [
            "[1]\n",
            "[[2.13426078e-09 9.99999432e-01 5.65802510e-07]]\n",
            "[0]\n",
            "[[1.00000000e+00 2.71965528e-15 1.26044199e-27]]\n"
          ],
          "name": "stdout"
        }
      ]
    },
    {
      "cell_type": "markdown",
      "metadata": {
        "id": "vVgkujmwGlOt",
        "colab_type": "text"
      },
      "source": [
        "6. tip- 데이터 형 변환"
      ]
    },
    {
      "cell_type": "code",
      "metadata": {
        "id": "Hm8-4W5grm8Y",
        "colab_type": "code",
        "colab": {
          "base_uri": "https://localhost:8080/",
          "height": 35
        },
        "outputId": "e00b7f1e-d502-4a47-fce3-64a0aaa72030"
      },
      "source": [
        "y_class = np.argmax(y_data, axis =1).reshape(-1,1)\n",
        "y_class = y_class.ravel()\n",
        "type(y_class)"
      ],
      "execution_count": 231,
      "outputs": [
        {
          "output_type": "execute_result",
          "data": {
            "text/plain": [
              "numpy.ndarray"
            ]
          },
          "metadata": {
            "tags": []
          },
          "execution_count": 231
        }
      ]
    },
    {
      "cell_type": "markdown",
      "metadata": {
        "id": "Ou_E2u_I57f1",
        "colab_type": "text"
      },
      "source": [
        "케라스활용\n"
      ]
    },
    {
      "cell_type": "markdown",
      "metadata": {
        "id": "R7y8z2vJGseb",
        "colab_type": "text"
      },
      "source": [
        "1. 패키지 불러오기"
      ]
    },
    {
      "cell_type": "code",
      "metadata": {
        "id": "BqpDUTw15-jZ",
        "colab_type": "code",
        "colab": {}
      },
      "source": [
        "from tensorflow.keras.models import Sequential # 케라스의 Sequential()을 임포트\n",
        "from tensorflow.keras.layers import Dense # 케라스의 Dense()를 임포트\n",
        "from tensorflow.keras import optimizers # 케라스의 옵티마이저를 임포트"
      ],
      "execution_count": 238,
      "outputs": []
    },
    {
      "cell_type": "markdown",
      "metadata": {
        "id": "1GbxjzLDHop_",
        "colab_type": "text"
      },
      "source": [
        "2. 데이터 셋 생성"
      ]
    },
    {
      "cell_type": "code",
      "metadata": {
        "id": "tA2cAhx34Bn-",
        "colab_type": "code",
        "colab": {}
      },
      "source": [
        "x_data = [[1,2,1,1,],\n",
        "          [2,1,3,2],\n",
        "          [3,1,3,4],\n",
        "          [4,1,5,5],\n",
        "          [1,7,5,5],\n",
        "          [1,2,5,6],\n",
        "          [1,6,6,6],\n",
        "          [1,7,7,7],\n",
        "          ]\n",
        "\n",
        "y_data = [[0,0,1],\n",
        "          [0,0,1],\n",
        "          [0,0,1],\n",
        "          [0,1,0],\n",
        "          [0,1,0],\n",
        "          [0,1,0],\n",
        "          [1,0,0],\n",
        "          [1,0,0]]"
      ],
      "execution_count": 239,
      "outputs": []
    },
    {
      "cell_type": "code",
      "metadata": {
        "id": "I5fxF0IlIfLX",
        "colab_type": "code",
        "colab": {
          "base_uri": "https://localhost:8080/",
          "height": 54
        },
        "outputId": "aa9b5ec3-10d2-40d1-9a0c-401977899bed"
      },
      "source": [
        "print(type(x_data))\n",
        "print(type(y_data))"
      ],
      "execution_count": 240,
      "outputs": [
        {
          "output_type": "stream",
          "text": [
            "<class 'list'>\n",
            "<class 'list'>\n"
          ],
          "name": "stdout"
        }
      ]
    },
    {
      "cell_type": "markdown",
      "metadata": {
        "id": "gsLIIgJFIs3G",
        "colab_type": "text"
      },
      "source": [
        "3. 데이터 형 변환"
      ]
    },
    {
      "cell_type": "code",
      "metadata": {
        "id": "6LnYHIzs9Puo",
        "colab_type": "code",
        "colab": {
          "base_uri": "https://localhost:8080/",
          "height": 181
        },
        "outputId": "b9c93df4-ac20-464a-bfd1-8e3caa1dc2d4"
      },
      "source": [
        "x_data = np.array(x_data)\n",
        "print(x_data)\n",
        "print(type(x_data))"
      ],
      "execution_count": 242,
      "outputs": [
        {
          "output_type": "stream",
          "text": [
            "[[1 2 1 1]\n",
            " [2 1 3 2]\n",
            " [3 1 3 4]\n",
            " [4 1 5 5]\n",
            " [1 7 5 5]\n",
            " [1 2 5 6]\n",
            " [1 6 6 6]\n",
            " [1 7 7 7]]\n",
            "<class 'numpy.ndarray'>\n"
          ],
          "name": "stdout"
        }
      ]
    },
    {
      "cell_type": "code",
      "metadata": {
        "id": "aCgLQ2z-Ixk6",
        "colab_type": "code",
        "colab": {
          "base_uri": "https://localhost:8080/",
          "height": 54
        },
        "outputId": "9fce9840-55a0-4c5c-aeec-42aac59ac387"
      },
      "source": [
        "y_class = np.argmax(y_data, axis =1)\n",
        "print(y_class)\n",
        "print(type(y_class))"
      ],
      "execution_count": 243,
      "outputs": [
        {
          "output_type": "stream",
          "text": [
            "[2 2 2 1 1 1 0 0]\n",
            "<class 'numpy.ndarray'>\n"
          ],
          "name": "stdout"
        }
      ]
    },
    {
      "cell_type": "markdown",
      "metadata": {
        "id": "bebQzxWkJHjo",
        "colab_type": "text"
      },
      "source": [
        "4. 케라스 모델 구축"
      ]
    },
    {
      "cell_type": "code",
      "metadata": {
        "id": "dPqF4nvf6BYE",
        "colab_type": "code",
        "colab": {
          "base_uri": "https://localhost:8080/",
          "height": 199
        },
        "outputId": "f450e274-cda6-4dfb-c51b-5544bad6c5d3"
      },
      "source": [
        "model = Sequential()\n",
        "model.add(Dense(3, input_dim =4, activation='softmax'))\n",
        "sgd = optimizers.SGD(learning_rate=0.01)\n",
        "model.compile(loss = 'sparse_categorical_crossentropy', optimizer ='adam', metrics = ['accuracy'])\n",
        "model.summary()"
      ],
      "execution_count": 244,
      "outputs": [
        {
          "output_type": "stream",
          "text": [
            "Model: \"sequential_4\"\n",
            "_________________________________________________________________\n",
            "Layer (type)                 Output Shape              Param #   \n",
            "=================================================================\n",
            "dense_4 (Dense)              (None, 3)                 15        \n",
            "=================================================================\n",
            "Total params: 15\n",
            "Trainable params: 15\n",
            "Non-trainable params: 0\n",
            "_________________________________________________________________\n"
          ],
          "name": "stdout"
        }
      ]
    },
    {
      "cell_type": "code",
      "metadata": {
        "id": "GkQcL63N7p6D",
        "colab_type": "code",
        "colab": {
          "base_uri": "https://localhost:8080/",
          "height": 763
        },
        "outputId": "9fe0f07f-44c4-4696-805a-f4ff66e410b3"
      },
      "source": [
        "history = model.fit(x_data, y_class, batch_size = 32, epochs = 20, validation_split=0.2 )"
      ],
      "execution_count": 247,
      "outputs": [
        {
          "output_type": "stream",
          "text": [
            "Train on 6 samples, validate on 2 samples\n",
            "Epoch 1/20\n",
            "6/6 [==============================] - 0s 837us/sample - loss: 1.3343 - acc: 0.5000 - val_loss: 2.8243 - val_acc: 0.0000e+00\n",
            "Epoch 2/20\n",
            "6/6 [==============================] - 0s 703us/sample - loss: 1.3301 - acc: 0.5000 - val_loss: 2.8413 - val_acc: 0.0000e+00\n",
            "Epoch 3/20\n",
            "6/6 [==============================] - 0s 638us/sample - loss: 1.3259 - acc: 0.5000 - val_loss: 2.8583 - val_acc: 0.0000e+00\n",
            "Epoch 4/20\n",
            "6/6 [==============================] - 0s 599us/sample - loss: 1.3218 - acc: 0.5000 - val_loss: 2.8753 - val_acc: 0.0000e+00\n",
            "Epoch 5/20\n",
            "6/6 [==============================] - 0s 601us/sample - loss: 1.3176 - acc: 0.5000 - val_loss: 2.8925 - val_acc: 0.0000e+00\n",
            "Epoch 6/20\n",
            "6/6 [==============================] - 0s 534us/sample - loss: 1.3135 - acc: 0.5000 - val_loss: 2.9096 - val_acc: 0.0000e+00\n",
            "Epoch 7/20\n",
            "6/6 [==============================] - 0s 614us/sample - loss: 1.3094 - acc: 0.5000 - val_loss: 2.9268 - val_acc: 0.0000e+00\n",
            "Epoch 8/20\n",
            "6/6 [==============================] - 0s 746us/sample - loss: 1.3053 - acc: 0.5000 - val_loss: 2.9441 - val_acc: 0.0000e+00\n",
            "Epoch 9/20\n",
            "6/6 [==============================] - 0s 646us/sample - loss: 1.3012 - acc: 0.5000 - val_loss: 2.9614 - val_acc: 0.0000e+00\n",
            "Epoch 10/20\n",
            "6/6 [==============================] - 0s 567us/sample - loss: 1.2971 - acc: 0.5000 - val_loss: 2.9787 - val_acc: 0.0000e+00\n",
            "Epoch 11/20\n",
            "6/6 [==============================] - 0s 553us/sample - loss: 1.2930 - acc: 0.5000 - val_loss: 2.9961 - val_acc: 0.0000e+00\n",
            "Epoch 12/20\n",
            "6/6 [==============================] - 0s 572us/sample - loss: 1.2890 - acc: 0.5000 - val_loss: 3.0135 - val_acc: 0.0000e+00\n",
            "Epoch 13/20\n",
            "6/6 [==============================] - 0s 501us/sample - loss: 1.2850 - acc: 0.5000 - val_loss: 3.0310 - val_acc: 0.0000e+00\n",
            "Epoch 14/20\n",
            "6/6 [==============================] - 0s 554us/sample - loss: 1.2809 - acc: 0.5000 - val_loss: 3.0485 - val_acc: 0.0000e+00\n",
            "Epoch 15/20\n",
            "6/6 [==============================] - 0s 755us/sample - loss: 1.2769 - acc: 0.5000 - val_loss: 3.0661 - val_acc: 0.0000e+00\n",
            "Epoch 16/20\n",
            "6/6 [==============================] - 0s 809us/sample - loss: 1.2729 - acc: 0.5000 - val_loss: 3.0836 - val_acc: 0.0000e+00\n",
            "Epoch 17/20\n",
            "6/6 [==============================] - 0s 710us/sample - loss: 1.2690 - acc: 0.5000 - val_loss: 3.1013 - val_acc: 0.0000e+00\n",
            "Epoch 18/20\n",
            "6/6 [==============================] - 0s 823us/sample - loss: 1.2650 - acc: 0.5000 - val_loss: 3.1189 - val_acc: 0.0000e+00\n",
            "Epoch 19/20\n",
            "6/6 [==============================] - 0s 800us/sample - loss: 1.2610 - acc: 0.5000 - val_loss: 3.1366 - val_acc: 0.0000e+00\n",
            "Epoch 20/20\n",
            "6/6 [==============================] - 0s 796us/sample - loss: 1.2571 - acc: 0.5000 - val_loss: 3.1543 - val_acc: 0.0000e+00\n"
          ],
          "name": "stdout"
        }
      ]
    },
    {
      "cell_type": "code",
      "metadata": {
        "id": "DmBvVHn78J_I",
        "colab_type": "code",
        "colab": {}
      },
      "source": [
        "model.fit()"
      ],
      "execution_count": null,
      "outputs": []
    }
  ]
}